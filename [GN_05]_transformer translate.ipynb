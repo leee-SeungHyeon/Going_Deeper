{
 "cells": [
  {
   "cell_type": "markdown",
   "id": "19906ac6",
   "metadata": {},
   "source": [
    "# 평가 조건\n",
    "1. 번역기 모델 학습에 필요한 텍스트 데이터 전처리가 잘 이루어졌다.\n",
    "    - 데이터 정제, SentencePiece를 활용한 토큰화 및 데이터셋 구축의 과정이 지시대로 진행되었다.\n",
    "2. Transformer 번역기 모델이 정상적으로 구동된다.\n",
    "    - Transformer 모델의 학습과 추론 과정이 정상적으로 진행되어, 한-영 번역기능이 정상 동작한다.\n",
    "3. 테스트 결과 의미가 통하는 수준의 번역문이 생성되었다.\n",
    "    - 제시된 문장에 대한 그럴듯한 영어 번역문이 생성되며, 시각화된 Attention Map으로 결과를 뒷받침한다."
   ]
  },
  {
   "cell_type": "markdown",
   "id": "8a1e4fb8",
   "metadata": {},
   "source": [
    "# 모듈 임포트"
   ]
  },
  {
   "cell_type": "code",
   "execution_count": 1,
   "id": "20e1ac46",
   "metadata": {},
   "outputs": [
    {
     "data": {
      "text/plain": [
       "'/usr/share/fonts/truetype/nanum/NanumBarunGothic.ttf'"
      ]
     },
     "execution_count": 1,
     "metadata": {},
     "output_type": "execute_result"
    }
   ],
   "source": [
    "import tensorflow as tf\n",
    "\n",
    "import sentencepiece as spm\n",
    "\n",
    "from tqdm import tqdm\n",
    "import numpy as np\n",
    "import pandas as pd\n",
    "import random\n",
    "import time\n",
    "import re\n",
    "import os\n",
    "import io\n",
    "\n",
    "import matplotlib as mpl\n",
    "import matplotlib.pyplot as plt\n",
    "import matplotlib.font_manager as fm\n",
    "\n",
    "%config InlineBackend.figure_format = 'retina'\n",
    " \n",
    "fontpath = '/usr/share/fonts/truetype/nanum/NanumBarunGothic.ttf'\n",
    "font = fm.FontProperties(fname=fontpath, size=9)\n",
    "plt.rc('font', family='NanumBarunGothic') \n",
    "mpl.font_manager.findfont(font)"
   ]
  },
  {
   "cell_type": "markdown",
   "id": "82ffc71d",
   "metadata": {},
   "source": [
    "# 데이터 불러오기"
   ]
  },
  {
   "cell_type": "code",
   "execution_count": 2,
   "id": "1d7e56d3",
   "metadata": {},
   "outputs": [],
   "source": [
    "data_dir = os.getenv('HOME')+'/aiffel/transformer/data'\n",
    "\n",
    "kor_path = data_dir+\"/korean-english-park.train.ko\"\n",
    "eng_path = data_dir+\"/korean-english-park.train.en\""
   ]
  },
  {
   "cell_type": "markdown",
   "id": "846b4287",
   "metadata": {},
   "source": [
    "# 데이터 전처리"
   ]
  },
  {
   "cell_type": "markdown",
   "id": "ae825af0",
   "metadata": {},
   "source": [
    "## 1. 중복 제거 함수"
   ]
  },
  {
   "cell_type": "code",
   "execution_count": 3,
   "id": "1f7f27a9",
   "metadata": {},
   "outputs": [],
   "source": [
    "def clean_corpus(kor_path, eng_path):\n",
    "    with open(kor_path, \"r\") as f: kor = f.read().splitlines()\n",
    "    with open(eng_path, \"r\") as f: eng = f.read().splitlines()\n",
    "        \n",
    "    raw_data = pd.DataFrame({'korea':kor, 'english':eng})\n",
    "    \n",
    "    raw_data.drop_duplicates(inplace = True)\n",
    "    raw_data = raw_data[~raw_data.duplicated(subset='korea')]\n",
    "    raw_data = raw_data[~raw_data.duplicated(subset='english')]\n",
    "    \n",
    "    raw_data = raw_data.reset_index(drop=True)\n",
    "    \n",
    "    print('전체 중복:',sum(raw_data.duplicated()))\n",
    "    print('한국어 중복',sum(raw_data.duplicated(subset='korea')))\n",
    "    print('영어 중복',sum(raw_data.duplicated(subset='english')))\n",
    "    print('-----'*5)\n",
    "    print('중복을 제외한 데이터의 수',len(raw_data))\n",
    "    \n",
    "    return raw_data"
   ]
  },
  {
   "cell_type": "markdown",
   "id": "c95a9e5f",
   "metadata": {},
   "source": [
    "## 2. 단어 정제 함수"
   ]
  },
  {
   "cell_type": "code",
   "execution_count": 4,
   "id": "99184471",
   "metadata": {},
   "outputs": [],
   "source": [
    "def preprocess_sentence(sentence, s_token=False, e_token=False):\n",
    "    sentence = sentence.lower().strip()\n",
    "\n",
    "    sentence = re.sub(r'\\([^)]*\\)', r'', sentence) #괄호로 둘러싸인 부분 제거\n",
    "    sentence = re.sub(r\"([0-9?.!,])\", r\" \\1 \", sentence) #문장 내의 구둣점과 숫자 양 옆에 공백 추가\n",
    "    sentence = re.sub(r'[^a-zA-Z가-힣0-9?.!, ]+', r' ', sentence) #영문 알파벳, 한글, 숫자, 구둣점을 제외한 모든 문자를 제거\n",
    "    sentence = re.sub(r\"['\\n']+\", r\"\", sentence) #개행 문자 제거\n",
    "    sentence = re.sub(r'[\"   \"]+', \" \", sentence) #연속된 공백을 하나의 공백으로 변환\n",
    "\n",
    "    if s_token:\n",
    "        sentence = '<start> ' + sentence\n",
    "\n",
    "    if e_token:\n",
    "        sentence += ' <end>'\n",
    "    \n",
    "    return sentence"
   ]
  },
  {
   "cell_type": "markdown",
   "id": "8324fed0",
   "metadata": {},
   "source": [
    "## 3. sentencepiece 토크나이저 생성"
   ]
  },
  {
   "cell_type": "code",
   "execution_count": 5,
   "id": "b2d75676",
   "metadata": {},
   "outputs": [],
   "source": [
    "ko_temp_file = os.getenv('HOME') + '/aiffel/going_deeper/ko_spm.temp'\n",
    "en_temp_file = os.getenv('HOME') + '/aiffel/going_deeper/en_spm.temp'\n",
    "\n",
    "def generate_tokenizer(corpus,\n",
    "                        model_name,\n",
    "                        vocab_size,\n",
    "                        temp_file,\n",
    "                        lang=None,\n",
    "                        pad_id=0,\n",
    "                        bos_id=1,\n",
    "                        eos_id=2,\n",
    "                        unk_id=3):\n",
    "    \n",
    "    \n",
    "    with open(temp_file, 'w') as f:\n",
    "        for row in corpus:\n",
    "            f.write(str(row) + '\\n')\n",
    "            \n",
    "    spm.SentencePieceTrainer.Train(\n",
    "        '--input={} \\\n",
    "        --model_prefix={} \\\n",
    "        --vocab_size={} \\\n",
    "        --accept_language={}\\\n",
    "        --pad_id={} \\\n",
    "        --bos_id={} \\\n",
    "        --eos_id={} \\\n",
    "        --unk_id={}'.format(temp_file, model_name, vocab_size+4, lang, pad_id, bos_id, eos_id, unk_id)\n",
    ")\n",
    "    \n",
    "    s = spm.SentencePieceProcessor()\n",
    "    s.Load('{}.model'.format(model_name))     \n",
    "\n",
    "    return s"
   ]
  },
  {
   "cell_type": "code",
   "execution_count": 11,
   "id": "c532d61e",
   "metadata": {},
   "outputs": [],
   "source": [
    "def sp_tokenize(model_name, corpus):\n",
    "    \n",
    "    s = spm.SentencePieceProcessor()\n",
    "    s.Load('{}.model'.format(model_name))\n",
    "    \n",
    "    corpus_list = []\n",
    "\n",
    "    for sen in tqdm(corpus):\n",
    "        corpus_list.append(s.EncodeAsIds(sen))\n",
    "        \n",
    "    with open(\"./{}.vocab\".format(model_name), 'r') as f:\n",
    "        vocab = f.readlines()\n",
    "\n",
    "    word_index = {}\n",
    "    index_word = {}\n",
    "\n",
    "    for idx, line in enumerate(vocab):\n",
    "        word = line.split(\"\\t\")[0]\n",
    "\n",
    "        word_index.update({word:idx})\n",
    "        index_word.update({idx:word})\n",
    "\n",
    "\n",
    "    return corpus_list, word_index, index_word"
   ]
  },
  {
   "cell_type": "markdown",
   "id": "4b8c58d7",
   "metadata": {},
   "source": [
    "## 4. 길이 확인"
   ]
  },
  {
   "cell_type": "code",
   "execution_count": 7,
   "id": "dfb76357",
   "metadata": {},
   "outputs": [],
   "source": [
    "def data_lens(data, name):\n",
    "    \n",
    "    print('{} 데이터의 최소 길이 :{}'.format(name, min(len(l) for l in data)))\n",
    "    print('{} 데이터의 최대 길이 :{}'.format(name, max(len(l) for l in data)))\n",
    "    print('{} 데이터의 평균 길이 :{}'.format(name, sum(map(len, data))/len(data)))\n",
    "\n",
    "    plt.hist([len(s) for s in data], bins=50)\n",
    "    plt.xlabel('length of samples')\n",
    "    plt.ylabel('number of samples')\n",
    "    plt.show()"
   ]
  },
  {
   "cell_type": "code",
   "execution_count": 8,
   "id": "9318c607",
   "metadata": {},
   "outputs": [],
   "source": [
    "def below_threshold_len(max_len, nested_list):\n",
    "    count = 0\n",
    "    for sentence in nested_list:\n",
    "        if(len(sentence) <= max_len):\n",
    "            count = count + 1\n",
    "    print('전체 샘플 중 길이가 %s 이하인 샘플의 비율: %s'%(max_len, (count / len(nested_list))*100))"
   ]
  },
  {
   "cell_type": "markdown",
   "id": "b97854e8",
   "metadata": {},
   "source": [
    "-----------------------------------------------------------------"
   ]
  },
  {
   "cell_type": "code",
   "execution_count": 9,
   "id": "1c98c9a5",
   "metadata": {},
   "outputs": [
    {
     "name": "stdout",
     "output_type": "stream",
     "text": [
      "전체 중복: 0\n",
      "한국어 중복 0\n",
      "영어 중복 0\n",
      "-------------------------\n",
      "중복을 제외한 데이터의 수 74849\n"
     ]
    }
   ],
   "source": [
    "raw_data = clean_corpus(kor_path, eng_path)"
   ]
  },
  {
   "cell_type": "code",
   "execution_count": 10,
   "id": "7716c109",
   "metadata": {},
   "outputs": [
    {
     "name": "stderr",
     "output_type": "stream",
     "text": [
      "100%|██████████| 74849/74849 [00:01<00:00, 49299.25it/s]\n",
      "100%|██████████| 74849/74849 [00:01<00:00, 38833.59it/s]"
     ]
    },
    {
     "name": "stdout",
     "output_type": "stream",
     "text": [
      "한국어: 로보트 장치의 연간 판매액은 5 0 억 6 0 억달러로 추산되고 있다 . \n",
      "영어: <start> annual sales of robot units are estimated at 5 billion to 6 billion .  <end>\n"
     ]
    },
    {
     "name": "stderr",
     "output_type": "stream",
     "text": [
      "\n"
     ]
    }
   ],
   "source": [
    "kor_corpus = []\n",
    "eng_corpus = []\n",
    "\n",
    "for sentence in tqdm(raw_data['korea']):\n",
    "    kor_corpus.append(preprocess_sentence(sentence))\n",
    "    \n",
    "for sentence in tqdm(raw_data['english']):\n",
    "    eng_corpus.append(preprocess_sentence(sentence, s_token=True, e_token=True))\n",
    "\n",
    "print(\"한국어:\", kor_corpus[33])   \n",
    "print(\"영어:\", eng_corpus[33])"
   ]
  },
  {
   "cell_type": "code",
   "execution_count": 12,
   "id": "84258235",
   "metadata": {},
   "outputs": [
    {
     "name": "stderr",
     "output_type": "stream",
     "text": [
      "sentencepiece_trainer.cc(177) LOG(INFO) Running command: --input=/aiffel/aiffel/going_deeper/ko_spm.temp         --model_prefix=korea_spm         --vocab_size=25004         --accept_language=ko        --pad_id=0         --bos_id=1         --eos_id=2         --unk_id=3\n",
      "sentencepiece_trainer.cc(77) LOG(INFO) Starts training with : \n",
      "trainer_spec {\n",
      "  input: /aiffel/aiffel/going_deeper/ko_spm.temp\n",
      "  input_format: \n",
      "  model_prefix: korea_spm\n",
      "  model_type: UNIGRAM\n",
      "  vocab_size: 25004\n",
      "  accept_language: ko\n",
      "  self_test_sample_size: 0\n",
      "  character_coverage: 0.9995\n",
      "  input_sentence_size: 0\n",
      "  shuffle_input_sentence: 1\n",
      "  seed_sentencepiece_size: 1000000\n",
      "  shrinking_factor: 0.75\n",
      "  max_sentence_length: 4192\n",
      "  num_threads: 16\n",
      "  num_sub_iterations: 2\n",
      "  max_sentencepiece_length: 16\n",
      "  split_by_unicode_script: 1\n",
      "  split_by_number: 1\n",
      "  split_by_whitespace: 1\n",
      "  split_digits: 0\n",
      "  treat_whitespace_as_suffix: 0\n",
      "  allow_whitespace_only_pieces: 0\n",
      "  required_chars: \n",
      "  byte_fallback: 0\n",
      "  vocabulary_output_piece_score: 1\n",
      "  train_extremely_large_corpus: 0\n",
      "  hard_vocab_limit: 1\n",
      "  use_all_vocab: 0\n",
      "  unk_id: 3\n",
      "  bos_id: 1\n",
      "  eos_id: 2\n",
      "  pad_id: 0\n",
      "  unk_piece: <unk>\n",
      "  bos_piece: <s>\n",
      "  eos_piece: </s>\n",
      "  pad_piece: <pad>\n",
      "  unk_surface:  ⁇ \n",
      "}\n",
      "normalizer_spec {\n",
      "  name: nmt_nfkc\n",
      "  add_dummy_prefix: 1\n",
      "  remove_extra_whitespaces: 1\n",
      "  escape_whitespaces: 1\n",
      "  normalization_rule_tsv: \n",
      "}\n",
      "denormalizer_spec {}\n",
      "trainer_interface.cc(329) LOG(INFO) SentenceIterator is not specified. Using MultiFileSentenceIterator.\n",
      "trainer_interface.cc(178) LOG(INFO) Loading corpus: /aiffel/aiffel/going_deeper/ko_spm.temp\n",
      "trainer_interface.cc(385) LOG(INFO) Loaded all 74812 sentences\n",
      "trainer_interface.cc(400) LOG(INFO) Adding meta_piece: <pad>\n",
      "trainer_interface.cc(400) LOG(INFO) Adding meta_piece: <s>\n",
      "trainer_interface.cc(400) LOG(INFO) Adding meta_piece: </s>\n",
      "trainer_interface.cc(400) LOG(INFO) Adding meta_piece: <unk>\n",
      "trainer_interface.cc(405) LOG(INFO) Normalizing sentences...\n",
      "trainer_interface.cc(466) LOG(INFO) all chars count=5010456\n",
      "trainer_interface.cc(477) LOG(INFO) Done: 99.9501% characters are covered.\n",
      "trainer_interface.cc(487) LOG(INFO) Alphabet size=1192\n",
      "trainer_interface.cc(488) LOG(INFO) Final character coverage=0.999501\n",
      "trainer_interface.cc(520) LOG(INFO) Done! preprocessed 74811 sentences.\n",
      "unigram_model_trainer.cc(139) LOG(INFO) Making suffix array...\n",
      "unigram_model_trainer.cc(143) LOG(INFO) Extracting frequent sub strings...\n",
      "unigram_model_trainer.cc(194) LOG(INFO) Initialized 151964 seed sentencepieces\n",
      "trainer_interface.cc(526) LOG(INFO) Tokenizing input sentences with whitespace: 74811\n",
      "trainer_interface.cc(537) LOG(INFO) Done! 190439\n",
      "unigram_model_trainer.cc(489) LOG(INFO) Using 190439 sentences for EM training\n",
      "unigram_model_trainer.cc(505) LOG(INFO) EM sub_iter=0 size=80290 obj=12.0867 num_tokens=370223 num_tokens/piece=4.61107\n",
      "unigram_model_trainer.cc(505) LOG(INFO) EM sub_iter=1 size=67738 obj=10.9721 num_tokens=371439 num_tokens/piece=5.48347\n",
      "unigram_model_trainer.cc(505) LOG(INFO) EM sub_iter=0 size=50798 obj=10.9685 num_tokens=387944 num_tokens/piece=7.63699\n",
      "unigram_model_trainer.cc(505) LOG(INFO) EM sub_iter=1 size=50786 obj=10.9368 num_tokens=388296 num_tokens/piece=7.64573\n",
      "unigram_model_trainer.cc(505) LOG(INFO) EM sub_iter=0 size=38087 obj=11.0674 num_tokens=411095 num_tokens/piece=10.7936\n",
      "unigram_model_trainer.cc(505) LOG(INFO) EM sub_iter=1 size=38085 obj=11.0366 num_tokens=411107 num_tokens/piece=10.7945\n",
      "unigram_model_trainer.cc(505) LOG(INFO) EM sub_iter=0 size=28563 obj=11.211 num_tokens=435777 num_tokens/piece=15.2567\n",
      "unigram_model_trainer.cc(505) LOG(INFO) EM sub_iter=1 size=28563 obj=11.1734 num_tokens=435771 num_tokens/piece=15.2565\n",
      "unigram_model_trainer.cc(505) LOG(INFO) EM sub_iter=0 size=27504 obj=11.2004 num_tokens=438919 num_tokens/piece=15.9584\n",
      "unigram_model_trainer.cc(505) LOG(INFO) EM sub_iter=1 size=27504 obj=11.1954 num_tokens=438924 num_tokens/piece=15.9586\n",
      "trainer_interface.cc(615) LOG(INFO) Saving model: korea_spm.model\n",
      "trainer_interface.cc(626) LOG(INFO) Saving vocabs: korea_spm.vocab\n",
      "sentencepiece_trainer.cc(177) LOG(INFO) Running command: --input=/aiffel/aiffel/going_deeper/en_spm.temp         --model_prefix=english_spm         --vocab_size=25004         --accept_language=en        --pad_id=0         --bos_id=1         --eos_id=2         --unk_id=3\n",
      "sentencepiece_trainer.cc(77) LOG(INFO) Starts training with : \n",
      "trainer_spec {\n",
      "  input: /aiffel/aiffel/going_deeper/en_spm.temp\n",
      "  input_format: \n",
      "  model_prefix: english_spm\n",
      "  model_type: UNIGRAM\n",
      "  vocab_size: 25004\n",
      "  accept_language: en\n",
      "  self_test_sample_size: 0\n",
      "  character_coverage: 0.9995\n",
      "  input_sentence_size: 0\n",
      "  shuffle_input_sentence: 1\n",
      "  seed_sentencepiece_size: 1000000\n",
      "  shrinking_factor: 0.75\n",
      "  max_sentence_length: 4192\n",
      "  num_threads: 16\n",
      "  num_sub_iterations: 2\n",
      "  max_sentencepiece_length: 16\n",
      "  split_by_unicode_script: 1\n",
      "  split_by_number: 1\n",
      "  split_by_whitespace: 1\n",
      "  split_digits: 0\n",
      "  treat_whitespace_as_suffix: 0\n",
      "  allow_whitespace_only_pieces: 0\n",
      "  required_chars: \n",
      "  byte_fallback: 0\n",
      "  vocabulary_output_piece_score: 1\n",
      "  train_extremely_large_corpus: 0\n",
      "  hard_vocab_limit: 1\n",
      "  use_all_vocab: 0\n",
      "  unk_id: 3\n",
      "  bos_id: 1\n",
      "  eos_id: 2\n",
      "  pad_id: 0\n",
      "  unk_piece: <unk>\n",
      "  bos_piece: <s>\n",
      "  eos_piece: </s>\n",
      "  pad_piece: <pad>\n",
      "  unk_surface:  ⁇ \n",
      "}\n",
      "normalizer_spec {\n",
      "  name: nmt_nfkc\n",
      "  add_dummy_prefix: 1\n",
      "  remove_extra_whitespaces: 1\n",
      "  escape_whitespaces: 1\n",
      "  normalization_rule_tsv: \n",
      "}\n",
      "denormalizer_spec {}\n",
      "trainer_interface.cc(329) LOG(INFO) SentenceIterator is not specified. Using MultiFileSentenceIterator.\n",
      "trainer_interface.cc(178) LOG(INFO) Loading corpus: /aiffel/aiffel/going_deeper/en_spm.temp\n",
      "trainer_interface.cc(385) LOG(INFO) Loaded all 74849 sentences\n",
      "trainer_interface.cc(400) LOG(INFO) Adding meta_piece: <pad>\n",
      "trainer_interface.cc(400) LOG(INFO) Adding meta_piece: <s>\n",
      "trainer_interface.cc(400) LOG(INFO) Adding meta_piece: </s>\n",
      "trainer_interface.cc(400) LOG(INFO) Adding meta_piece: <unk>\n",
      "trainer_interface.cc(405) LOG(INFO) Normalizing sentences...\n",
      "trainer_interface.cc(466) LOG(INFO) all chars count=11376167\n",
      "trainer_interface.cc(477) LOG(INFO) Done: 99.9566% characters are covered.\n",
      "trainer_interface.cc(487) LOG(INFO) Alphabet size=40\n",
      "trainer_interface.cc(488) LOG(INFO) Final character coverage=0.999566\n",
      "trainer_interface.cc(520) LOG(INFO) Done! preprocessed 74849 sentences.\n",
      "unigram_model_trainer.cc(139) LOG(INFO) Making suffix array...\n",
      "unigram_model_trainer.cc(143) LOG(INFO) Extracting frequent sub strings...\n",
      "unigram_model_trainer.cc(194) LOG(INFO) Initialized 78809 seed sentencepieces\n",
      "trainer_interface.cc(526) LOG(INFO) Tokenizing input sentences with whitespace: 74849\n",
      "trainer_interface.cc(537) LOG(INFO) Done! 44277\n",
      "unigram_model_trainer.cc(489) LOG(INFO) Using 44277 sentences for EM training\n",
      "unigram_model_trainer.cc(505) LOG(INFO) EM sub_iter=0 size=33083 obj=11.2983 num_tokens=84276 num_tokens/piece=2.54741\n",
      "unigram_model_trainer.cc(505) LOG(INFO) EM sub_iter=1 size=25191 obj=8.91202 num_tokens=85344 num_tokens/piece=3.38788\n",
      "trainer_interface.cc(615) LOG(INFO) Saving model: english_spm.model\n",
      "trainer_interface.cc(626) LOG(INFO) Saving vocabs: english_spm.vocab\n"
     ]
    }
   ],
   "source": [
    "kor_sentencepiece = generate_tokenizer(kor_corpus, 'korea_spm', 25000, ko_temp_file, lang=\"ko\")\n",
    "eng_sentencepiece = generate_tokenizer(eng_corpus, 'english_spm', 25000, en_temp_file, lang=\"en\")"
   ]
  },
  {
   "cell_type": "code",
   "execution_count": 13,
   "id": "0aebd763",
   "metadata": {},
   "outputs": [
    {
     "data": {
      "text/plain": [
       "True"
      ]
     },
     "execution_count": 13,
     "metadata": {},
     "output_type": "execute_result"
    }
   ],
   "source": [
    "eng_sentencepiece.set_encode_extra_options(\"bos:eos\")"
   ]
  },
  {
   "cell_type": "code",
   "execution_count": 15,
   "id": "00a18e17",
   "metadata": {},
   "outputs": [
    {
     "name": "stderr",
     "output_type": "stream",
     "text": [
      "100%|██████████| 74849/74849 [00:01<00:00, 37744.04it/s]\n",
      "100%|██████████| 74849/74849 [00:03<00:00, 23116.96it/s]\n"
     ]
    }
   ],
   "source": [
    "korea_corpus_list, ko_word_index, ko_index_word = sp_tokenize('korea_spm', kor_corpus)\n",
    "english_corpus_list, en_word_index, en_index_word = sp_tokenize('english_spm', eng_corpus)"
   ]
  },
  {
   "cell_type": "code",
   "execution_count": 16,
   "id": "3c418015",
   "metadata": {},
   "outputs": [
    {
     "data": {
      "text/plain": [
       "[966, 421, 501, 568, 7, 1228, 1685, 8, 1080, 220, 2616, 915, 36, 10122, 410]"
      ]
     },
     "execution_count": 16,
     "metadata": {},
     "output_type": "execute_result"
    }
   ],
   "source": [
    "korea_corpus_list[0]"
   ]
  },
  {
   "cell_type": "code",
   "execution_count": 18,
   "id": "aa0e28bb",
   "metadata": {},
   "outputs": [
    {
     "name": "stdout",
     "output_type": "stream",
     "text": [
      "한국어 데이터의 최소 길이 :0\n",
      "한국어 데이터의 최대 길이 :132\n",
      "한국어 데이터의 평균 길이 :26.47021336290398\n"
     ]
    },
    {
     "data": {
      "image/png": "[encoded data removed]",
      "text/plain": [
       "<Figure size 432x288 with 1 Axes>"
      ]
     },
     "metadata": {
      "image/png": {
       "height": 264,
       "width": 394
      },
      "needs_background": "light"
     },
     "output_type": "display_data"
    }
   ],
   "source": [
    "data_lens(korea_corpus_list, '한국어')"
   ]
  },
  {
   "cell_type": "code",
   "execution_count": 19,
   "id": "f48cb611",
   "metadata": {},
   "outputs": [
    {
     "name": "stdout",
     "output_type": "stream",
     "text": [
      "영어 데이터의 최소 길이 :6\n",
      "영어 데이터의 최대 길이 :142\n",
      "영어 데이터의 평균 길이 :41.61604029445951\n"
     ]
    },
    {
     "data": {
      "image/png": "[encoded data removed]",
      "text/plain": [
       "<Figure size 432x288 with 1 Axes>"
      ]
     },
     "metadata": {
      "image/png": {
       "height": 264,
       "width": 394
      },
      "needs_background": "light"
     },
     "output_type": "display_data"
    }
   ],
   "source": [
    "data_lens(english_corpus_list, '영어')"
   ]
  },
  {
   "cell_type": "code",
   "execution_count": 20,
   "id": "223428d0",
   "metadata": {},
   "outputs": [
    {
     "name": "stdout",
     "output_type": "stream",
     "text": [
      "전체 샘플 중 길이가 50 이하인 샘플의 비율: 97.6151985998477\n"
     ]
    }
   ],
   "source": [
    "max_len = 50\n",
    "below_threshold_len(max_len, korea_corpus_list)"
   ]
  },
  {
   "cell_type": "code",
   "execution_count": 21,
   "id": "076e428c",
   "metadata": {},
   "outputs": [
    {
     "name": "stdout",
     "output_type": "stream",
     "text": [
      "전체 샘플 중 길이가 50 이하인 샘플의 비율: 73.56544509612687\n"
     ]
    }
   ],
   "source": [
    "max_len = 50\n",
    "below_threshold_len(max_len, english_corpus_list)"
   ]
  },
  {
   "cell_type": "code",
   "execution_count": 22,
   "id": "d92e9956",
   "metadata": {},
   "outputs": [],
   "source": [
    "kor_data = tf.keras.preprocessing.sequence.pad_sequences(korea_corpus_list, padding='post', maxlen= max_len)\n",
    "eng_data = tf.keras.preprocessing.sequence.pad_sequences(english_corpus_list, padding='post', maxlen= max_len)"
   ]
  },
  {
   "cell_type": "code",
   "execution_count": 24,
   "id": "d47743ae",
   "metadata": {},
   "outputs": [
    {
     "name": "stdout",
     "output_type": "stream",
     "text": [
      "(74849, 50)\n",
      "(74849, 50)\n"
     ]
    }
   ],
   "source": [
    "print(kor_data.shape)\n",
    "print(eng_data.shape)"
   ]
  },
  {
   "cell_type": "markdown",
   "id": "9bdd9fca",
   "metadata": {},
   "source": [
    "# 모델 설계"
   ]
  },
  {
   "cell_type": "markdown",
   "id": "b63fd797",
   "metadata": {},
   "source": [
    "### positional_encoding"
   ]
  },
  {
   "cell_type": "code",
   "execution_count": 25,
   "id": "9ed0b270",
   "metadata": {},
   "outputs": [],
   "source": [
    "def positional_encoding(pos, d_model):\n",
    "    def cal_angle(position, i):\n",
    "        return position / np.power(10000, int(i) / d_model)\n",
    "\n",
    "    def get_posi_angle_vec(position):\n",
    "        return [cal_angle(position, i) for i in range(d_model)]\n",
    "\n",
    "    sinusoid_table = np.array([get_posi_angle_vec(pos_i) for pos_i in range(pos)])\n",
    "    sinusoid_table[:, 0::2] = np.sin(sinusoid_table[:, 0::2])\n",
    "    sinusoid_table[:, 1::2] = np.cos(sinusoid_table[:, 1::2])\n",
    "    return sinusoid_table"
   ]
  },
  {
   "cell_type": "markdown",
   "id": "91db8fca",
   "metadata": {},
   "source": [
    "### MultiHeadAttention"
   ]
  },
  {
   "cell_type": "code",
   "execution_count": 45,
   "id": "e32757b9",
   "metadata": {},
   "outputs": [],
   "source": [
    "class MultiHeadAttention(tf.keras.layers.Layer):\n",
    "    def __init__(self, d_model, num_heads):\n",
    "        super(MultiHeadAttention, self).__init__()\n",
    "        self.num_heads = num_heads\n",
    "        self.d_model = d_model\n",
    "        \n",
    "        self.depth = d_model // self.num_heads\n",
    "        \n",
    "        self.W_q = tf.keras.layers.Dense(d_model) # Linear Layer\n",
    "        self.W_k = tf.keras.layers.Dense(d_model)\n",
    "        self.W_v = tf.keras.layers.Dense(d_model)\n",
    "        \n",
    "        self.linear = tf.keras.layers.Dense(d_model)\n",
    "\n",
    "    def scaled_dot_product_attention(self, Q, K, V, mask):\n",
    "        d_k = tf.cast(K.shape[-1], tf.float32)\n",
    "\n",
    "        QK = tf.matmul(Q,K, transpose_b = True)\n",
    "        \n",
    "        scaled_qk = QK / tf.math.sqrt(d_k)\n",
    "\n",
    "        if mask is not None: scaled_qk += (mask * -1e9) \n",
    "\n",
    "        attentions = tf.nn.softmax(scaled_qk, axis = -1)\n",
    "        out = tf.matmul(attentions, V)\n",
    "        \n",
    "        \n",
    "        return out, attentions\n",
    "        \n",
    "\n",
    "    def split_heads(self, x):\n",
    "\n",
    "        batch_size = x.shape[0]\n",
    "        split_x = tf.reshape(x, (batch_size, -1, self.num_heads, self.depth))\n",
    "        split_x = tf.transpose(split_x, perm=[0,2,1,3])\n",
    "        \n",
    "        \n",
    "        return split_x\n",
    "\n",
    "    def combine_heads(self, x):\n",
    "        \n",
    "        batch_size = x.shape[0]\n",
    "        combined_x = tf.transpose(x, perm=[0,2,1,3])\n",
    "        combined_x = tf.reshape(combined_x, (batch_size, -1, self.d_model))\n",
    "\n",
    "        return combined_x\n",
    "    \n",
    "\n",
    "    def call(self, Q, K, V, mask):\n",
    "      \n",
    "        WQ = self.W_q(Q)\n",
    "        WK = self.W_k(K)\n",
    "        WV = self.W_v(V)\n",
    "        \n",
    "        WQ_splits = self.split_heads(WQ)\n",
    "        WK_splits = self.split_heads(WK)\n",
    "        WV_splits = self.split_heads(WV)\n",
    "        \n",
    "        out, attention_weights = self.scaled_dot_product_attention(\n",
    "            WQ_splits, WK_splits, WV_splits, mask)\n",
    "        \n",
    "        out = self.combine_heads(out)\n",
    "        out = self.linear(out)\n",
    "\n",
    "        return out, attention_weights"
   ]
  },
  {
   "cell_type": "markdown",
   "id": "fd3778bf",
   "metadata": {},
   "source": [
    "### PoswiseFeedForwardNet"
   ]
  },
  {
   "cell_type": "code",
   "execution_count": 27,
   "id": "b5838421",
   "metadata": {},
   "outputs": [],
   "source": [
    "class PoswiseFeedForwardNet(tf.keras.layers.Layer):\n",
    "    def __init__(self, d_model, d_ff):\n",
    "        super(PoswiseFeedForwardNet, self).__init__()\n",
    "        self.w_1 = tf.keras.layers.Dense(d_ff, activation='relu')\n",
    "        self.w_2 = tf.keras.layers.Dense(d_model)\n",
    "\n",
    "    def call(self, x):\n",
    "        out = self.w_1(x)\n",
    "        out = self.w_2(out)\n",
    "            \n",
    "        return out"
   ]
  },
  {
   "cell_type": "markdown",
   "id": "bc9db41f",
   "metadata": {},
   "source": [
    "### Encoder & Decoder"
   ]
  },
  {
   "cell_type": "code",
   "execution_count": 28,
   "id": "59f723d9",
   "metadata": {},
   "outputs": [],
   "source": [
    "class EncoderLayer(tf.keras.layers.Layer):\n",
    "    def __init__(self, d_model, n_heads, d_ff, dropout):\n",
    "        super(EncoderLayer, self).__init__()\n",
    "\n",
    "        self.enc_self_attn = MultiHeadAttention(d_model, n_heads)\n",
    "        self.ffn = PoswiseFeedForwardNet(d_model, d_ff)\n",
    "\n",
    "        self.norm_1 = tf.keras.layers.LayerNormalization(epsilon=1e-6)\n",
    "        self.norm_2 = tf.keras.layers.LayerNormalization(epsilon=1e-6)\n",
    "\n",
    "        self.dropout = tf.keras.layers.Dropout(dropout)\n",
    "        \n",
    "    def call(self, x, mask):\n",
    "\n",
    "        \"\"\"\n",
    "        Multi-Head Attention\n",
    "        \"\"\"\n",
    "        residual = x\n",
    "        out = self.norm_1(x)\n",
    "        out, enc_attn = self.enc_self_attn(out, out, out, mask)\n",
    "        out = self.dropout(out)\n",
    "        out += residual\n",
    "        \n",
    "        \"\"\"\n",
    "        Position-Wise Feed Forward Network\n",
    "        \"\"\"\n",
    "        residual = out\n",
    "        out = self.norm_2(out)\n",
    "        out = self.ffn(out)\n",
    "        out = self.dropout(out)\n",
    "        out += residual\n",
    "        \n",
    "        return out, enc_attn"
   ]
  },
  {
   "cell_type": "code",
   "execution_count": 29,
   "id": "057c8306",
   "metadata": {},
   "outputs": [],
   "source": [
    "class DecoderLayer(tf.keras.layers.Layer):\n",
    "    def __init__(self, d_model, num_heads, d_ff, dropout):\n",
    "        super(DecoderLayer, self).__init__()\n",
    "\n",
    "        self.dec_self_attn = MultiHeadAttention(d_model, num_heads)\n",
    "        self.enc_dec_attn = MultiHeadAttention(d_model, num_heads)\n",
    "\n",
    "        self.ffn = PoswiseFeedForwardNet(d_model, d_ff)\n",
    "\n",
    "        self.norm_1 = tf.keras.layers.LayerNormalization(epsilon=1e-6)\n",
    "        self.norm_2 = tf.keras.layers.LayerNormalization(epsilon=1e-6)\n",
    "        self.norm_3 = tf.keras.layers.LayerNormalization(epsilon=1e-6)\n",
    "\n",
    "        self.dropout = tf.keras.layers.Dropout(dropout)\n",
    "    \n",
    "    def call(self, x, enc_out, causality_mask, padding_mask):\n",
    "\n",
    "        \"\"\"\n",
    "        Masked Multi-Head Attention\n",
    "        \"\"\"\n",
    "        residual = x\n",
    "        out = self.norm_1(x)\n",
    "        out, dec_attn = self.dec_self_attn(out, out, out, padding_mask)\n",
    "        out = self.dropout(out)\n",
    "        out += residual\n",
    "\n",
    "        \"\"\"\n",
    "        Multi-Head Attention\n",
    "        \"\"\"\n",
    "        residual = out\n",
    "        out = self.norm_2(out)\n",
    "        out, dec_enc_attn = self.enc_dec_attn(out, enc_out, enc_out, causality_mask)\n",
    "        out = self.dropout(out)\n",
    "        out += residual\n",
    "        \n",
    "        \"\"\"\n",
    "        Position-Wise Feed Forward Network\n",
    "        \"\"\"\n",
    "        residual = out\n",
    "        out = self.norm_3(out)\n",
    "        out = self.ffn(out)\n",
    "        out = self.dropout(out)\n",
    "        out += residual\n",
    "\n",
    "        return out, dec_attn, dec_enc_attn"
   ]
  },
  {
   "cell_type": "code",
   "execution_count": 30,
   "id": "a5366a42",
   "metadata": {},
   "outputs": [],
   "source": [
    "class Encoder(tf.keras.Model):\n",
    "    def __init__(self,\n",
    "                 n_layers,\n",
    "                 d_model,\n",
    "                 n_heads,\n",
    "                 d_ff,\n",
    "                 dropout):\n",
    "        super(Encoder, self).__init__()\n",
    "        self.n_layers = n_layers\n",
    "        self.enc_layers = [EncoderLayer(d_model, n_heads, d_ff, dropout) \n",
    "                        for _ in range(n_layers)]\n",
    "        \n",
    "    def call(self, x, mask):\n",
    "        out = x\n",
    "    \n",
    "        enc_attns = list()\n",
    "        for i in range(self.n_layers):\n",
    "            out, enc_attn = self.enc_layers[i](out, mask)\n",
    "            enc_attns.append(enc_attn)\n",
    "        \n",
    "        return out, enc_attns"
   ]
  },
  {
   "cell_type": "code",
   "execution_count": 31,
   "id": "3cb8f259",
   "metadata": {},
   "outputs": [],
   "source": [
    "class Decoder(tf.keras.Model):\n",
    "    def __init__(self,\n",
    "                 n_layers,\n",
    "                 d_model,\n",
    "                 n_heads,\n",
    "                 d_ff,\n",
    "                 dropout):\n",
    "        super(Decoder, self).__init__()\n",
    "        self.n_layers = n_layers\n",
    "        self.dec_layers = [DecoderLayer(d_model, n_heads, d_ff, dropout) \n",
    "                            for _ in range(n_layers)]\n",
    "                            \n",
    "                            \n",
    "    def call(self, x, enc_out, causality_mask, padding_mask):\n",
    "        out = x\n",
    "    \n",
    "        dec_attns = list()\n",
    "        dec_enc_attns = list()\n",
    "        for i in range(self.n_layers):\n",
    "            out, dec_attn, dec_enc_attn = \\\n",
    "            self.dec_layers[i](out, enc_out, causality_mask, padding_mask)\n",
    "\n",
    "            dec_attns.append(dec_attn)\n",
    "            dec_enc_attns.append(dec_enc_attn)\n",
    "\n",
    "        return out, dec_attns, dec_enc_attns"
   ]
  },
  {
   "cell_type": "markdown",
   "id": "3b8756a7",
   "metadata": {},
   "source": [
    "### Transformer"
   ]
  },
  {
   "cell_type": "code",
   "execution_count": 32,
   "id": "63f675c1",
   "metadata": {},
   "outputs": [],
   "source": [
    "class Transformer(tf.keras.Model):\n",
    "    def __init__(self,\n",
    "                 n_layers,\n",
    "                 d_model,\n",
    "                 n_heads,\n",
    "                 d_ff,\n",
    "                 src_vocab_size,\n",
    "                 tgt_vocab_size,\n",
    "                 pos_len,\n",
    "                 dropout=0.2,\n",
    "                 shared=True):\n",
    "        super(Transformer, self).__init__()\n",
    "        self.d_model = tf.cast(d_model, tf.float32)\n",
    "\n",
    "        self.enc_emb = tf.keras.layers.Embedding(src_vocab_size, d_model)\n",
    "        self.dec_emb = tf.keras.layers.Embedding(tgt_vocab_size, d_model)\n",
    "\n",
    "        self.pos_encoding = positional_encoding(pos_len, d_model)\n",
    "        self.dropout = tf.keras.layers.Dropout(dropout)\n",
    "\n",
    "        self.encoder = Encoder(n_layers, d_model, n_heads, d_ff, dropout)\n",
    "        self.decoder = Decoder(n_layers, d_model, n_heads, d_ff, dropout)\n",
    "\n",
    "        self.fc = tf.keras.layers.Dense(tgt_vocab_size)\n",
    "\n",
    "        self.shared = shared\n",
    "\n",
    "        if shared: self.fc.set_weights(tf.transpose(self.dec_emb.weights))\n",
    "\n",
    "\n",
    "    def embedding(self, emb, x):\n",
    "\n",
    "        seq_len = x.shape[1]\n",
    "        out = emb(x)\n",
    "\n",
    "        if self.shared: out *= tf.math.sqrt(self.d_model)\n",
    "\n",
    "        out += self.pos_encoding[np.newaxis, ...][:, :seq_len, :]\n",
    "        out = self.dropout(out)\n",
    "\n",
    "\n",
    "        return out\n",
    "\n",
    "        \n",
    "    def call(self, enc_in, dec_in, enc_mask, causality_mask, dec_mask):\n",
    "        \n",
    "        enc_in = self.embedding(self.enc_emb, enc_in)\n",
    "        dec_in = self.embedding(self.dec_emb, dec_in)\n",
    "\n",
    "        enc_out, enc_attns = self.encoder(enc_in, enc_mask)\n",
    "        \n",
    "        dec_out, dec_attns, dec_enc_attns = \\\n",
    "        self.decoder(dec_in, enc_out, causality_mask, dec_mask)\n",
    "        \n",
    "        logits = self.fc(dec_out)\n",
    "\n",
    "\n",
    "        return logits, enc_attns, dec_attns, dec_enc_attns"
   ]
  },
  {
   "cell_type": "code",
   "execution_count": 33,
   "id": "f3f5d39d",
   "metadata": {},
   "outputs": [],
   "source": [
    "def generate_padding_mask(seq):\n",
    "    seq = tf.cast(tf.math.equal(seq, 0), tf.float32)\n",
    "    return seq[:, tf.newaxis, tf.newaxis, :]\n",
    "\n",
    "def generate_causality_mask(src_len, tgt_len):\n",
    "    mask = 1 - np.cumsum(np.eye(src_len, tgt_len), 0)\n",
    "    return tf.cast(mask, tf.float32)\n",
    "\n",
    "def generate_masks(src, tgt):\n",
    "    enc_mask = generate_padding_mask(src)\n",
    "    dec_mask = generate_padding_mask(tgt)\n",
    "\n",
    "    dec_enc_causality_mask = generate_causality_mask(tgt.shape[1], src.shape[1])\n",
    "    dec_enc_mask = tf.maximum(enc_mask, dec_enc_causality_mask)\n",
    "\n",
    "    dec_causality_mask = generate_causality_mask(tgt.shape[1], tgt.shape[1])\n",
    "    dec_mask = tf.maximum(dec_mask, dec_causality_mask)\n",
    "\n",
    "    return enc_mask, dec_enc_mask, dec_mask"
   ]
  },
  {
   "cell_type": "markdown",
   "id": "9954750e",
   "metadata": {},
   "source": [
    "### 학습 옵티마이저"
   ]
  },
  {
   "cell_type": "code",
   "execution_count": 34,
   "id": "66b517d1",
   "metadata": {},
   "outputs": [],
   "source": [
    "class LearningRateScheduler(tf.keras.optimizers.schedules.LearningRateSchedule):\n",
    "    def __init__(self, d_model, warmup_steps=4000):\n",
    "        super(LearningRateScheduler, self).__init__()\n",
    "        self.d_model = d_model\n",
    "        self.warmup_steps = warmup_steps\n",
    "    \n",
    "    def __call__(self, step):\n",
    "        arg1 = step ** -0.5\n",
    "        arg2 = step * (self.warmup_steps ** -1.5)\n",
    "        \n",
    "        return (self.d_model ** -0.5) * tf.math.minimum(arg1, arg2)"
   ]
  },
  {
   "cell_type": "code",
   "execution_count": 35,
   "id": "2acfdea6",
   "metadata": {},
   "outputs": [],
   "source": [
    "learning_rate = LearningRateScheduler(512)\n",
    "optimizer = tf.keras.optimizers.Adam(learning_rate,\n",
    "                                     beta_1=0.9,\n",
    "                                     beta_2=0.98, \n",
    "                                     epsilon=1e-9)"
   ]
  },
  {
   "cell_type": "code",
   "execution_count": 36,
   "id": "f6166f2f",
   "metadata": {},
   "outputs": [],
   "source": [
    "loss_object = tf.keras.losses.SparseCategoricalCrossentropy(\n",
    "    from_logits=True, reduction='none')\n",
    "\n",
    "def loss_function(real, pred):\n",
    "    mask = tf.math.logical_not(tf.math.equal(real, 0))\n",
    "    loss_ = loss_object(real, pred)\n",
    "\n",
    "    # Masking 되지 않은 입력의 개수로 Scaling하는 과정\n",
    "    mask = tf.cast(mask, dtype=loss_.dtype)\n",
    "    loss_ *= mask\n",
    "\n",
    "    return tf.reduce_sum(loss_)/tf.reduce_sum(mask)"
   ]
  },
  {
   "cell_type": "markdown",
   "id": "c9b72022",
   "metadata": {},
   "source": [
    "### 학습 함수"
   ]
  },
  {
   "cell_type": "code",
   "execution_count": 53,
   "id": "7d5d599e",
   "metadata": {},
   "outputs": [],
   "source": [
    "@tf.function()\n",
    "def train_step(src, tgt, model, optimizer):\n",
    "    gold = tgt[:, 1:]\n",
    "        \n",
    "    enc_mask, dec_enc_mask, dec_mask = generate_masks(src, tgt)\n",
    "\n",
    "    # 계산된 loss에 tf.GradientTape()를 적용해 학습을 진행합니다.\n",
    "    with tf.GradientTape() as tape:\n",
    "        predictions, enc_attns, dec_attns, dec_enc_attns = \\\n",
    "        model(src, tgt, enc_mask, dec_enc_mask, dec_mask)\n",
    "        loss = loss_function(gold, predictions[:, :-1])\n",
    "\n",
    "    gradients = tape.gradient(loss, model.trainable_variables)    \n",
    "    optimizer.apply_gradients(zip(gradients, model.trainable_variables))\n",
    "    \n",
    "    return loss, enc_attns, dec_attns, dec_enc_attns"
   ]
  },
  {
   "cell_type": "markdown",
   "id": "c0263ff5",
   "metadata": {},
   "source": [
    "### 학습 시각화 함수"
   ]
  },
  {
   "cell_type": "code",
   "execution_count": 52,
   "id": "4cb8569a",
   "metadata": {},
   "outputs": [],
   "source": [
    "# Attention 시각화 함수\n",
    "\n",
    "def visualize_attention(src, tgt, enc_attns, dec_attns, dec_enc_attns):\n",
    "    def draw(data, ax, x=\"auto\", y=\"auto\"):\n",
    "        import seaborn\n",
    "        seaborn.heatmap(data, \n",
    "                        square=True,\n",
    "                        vmin=0.0, vmax=1.0, \n",
    "                        cbar=False, ax=ax,\n",
    "                        xticklabels=x,\n",
    "                        yticklabels=y)\n",
    "        \n",
    "    for layer in range(0, 2, 1):\n",
    "        fig, axs = plt.subplots(1, 4, figsize=(20, 10))\n",
    "        print(\"Encoder Layer\", layer + 1)\n",
    "        for h in range(4):\n",
    "            draw(enc_attns[layer][0, h, :len(src), :len(src)], axs[h], src, src)\n",
    "        plt.show()\n",
    "        \n",
    "    for layer in range(0, 2, 1):\n",
    "        fig, axs = plt.subplots(1, 4, figsize=(20, 10))\n",
    "        print(\"Decoder Self Layer\", layer+1)\n",
    "        for h in range(4):\n",
    "            draw(dec_attns[layer][0, h, :len(tgt), :len(tgt)], axs[h], tgt, tgt)\n",
    "        plt.show()\n",
    "\n",
    "        print(\"Decoder Src Layer\", layer+1)\n",
    "        fig, axs = plt.subplots(1, 4, figsize=(20, 10))\n",
    "        for h in range(4):\n",
    "            draw(dec_enc_attns[layer][0, h, :len(tgt), :len(src)], axs[h], src, tgt)\n",
    "        plt.show()\n",
    "        \n",
    "# 번역 생성 함수\n",
    "\n",
    "def evaluate(sentence, model, src_tokenizer, tgt_tokenizer):\n",
    "    sentence = preprocess_sentence(sentence)\n",
    "    \n",
    "    pieces = src_tokenizer.encode_as_pieces(sentence)\n",
    "    tokens = src_tokenizer.encode_as_ids(sentence)\n",
    "\n",
    "    _input = tf.keras.preprocessing.sequence.pad_sequences([tokens],\n",
    "                                                           maxlen=kor_data.shape[-1],\n",
    "                                                           padding='post')\n",
    "    \n",
    "    ids = []\n",
    "    output = tf.expand_dims([tgt_tokenizer.bos_id()], 0)\n",
    "    for i in range(eng_data.shape[-1]):\n",
    "        enc_padding_mask, combined_mask, dec_padding_mask = \\\n",
    "        generate_masks(_input, output)\n",
    "\n",
    "        predictions, enc_attns, dec_attns, dec_enc_attns =\\\n",
    "        model(_input, \n",
    "              output,\n",
    "              enc_padding_mask,\n",
    "              combined_mask,\n",
    "              dec_padding_mask)\n",
    "\n",
    "        predicted_id = \\\n",
    "        tf.argmax(tf.math.softmax(predictions, axis=-1)[0, -1]).numpy().item()\n",
    "\n",
    "        if tgt_tokenizer.eos_id() == predicted_id:\n",
    "            result = tgt_tokenizer.decode_ids(ids)\n",
    "            return pieces, result, enc_attns, dec_attns, dec_enc_attns\n",
    "\n",
    "        ids.append(predicted_id)\n",
    "        output = tf.concat([output, tf.expand_dims([predicted_id], 0)], axis=-1)\n",
    "\n",
    "    result = tgt_tokenizer.decode_ids(ids)\n",
    "\n",
    "    return pieces, result, enc_attns, dec_attns, dec_enc_attns\n",
    "\n",
    "# 번역 생성 및 Attention 시각화 결합\n",
    "\n",
    "def translate(sentence, model, src_tokenizer, tgt_tokenizer, plot_attention=False):\n",
    "    pieces, result, enc_attns, dec_attns, dec_enc_attns = \\\n",
    "    evaluate(sentence, model, src_tokenizer, tgt_tokenizer)\n",
    "    \n",
    "    print('Input: %s' % (sentence))\n",
    "    print('Predicted translation: {}'.format(result))\n",
    "\n",
    "    if plot_attention:\n",
    "        visualize_attention(pieces, result.split(), enc_attns, dec_attns, dec_enc_attns)"
   ]
  },
  {
   "cell_type": "markdown",
   "id": "c816821f",
   "metadata": {},
   "source": [
    "# 모델 훈련"
   ]
  },
  {
   "cell_type": "code",
   "execution_count": 54,
   "id": "0d775af1",
   "metadata": {},
   "outputs": [],
   "source": [
    "num_layers = 4\n",
    "d_model = 256\n",
    "num_heads = 4\n",
    "d_ff = 1024\n",
    "pos_len = max_len\n",
    "vocab_size = 25000\n",
    "drop_rate = 0.2\n",
    "\n",
    "\n",
    "examples = [\n",
    "    \"오바마는 대통령이다.\", \"시민들은 도시 속에 산다.\",\n",
    "    \"커피는 필요 없다.\", \"일곱 명의 사망자가 발생했다.\",\n",
    "    \"가족을 사랑한다.\",\"오늘 날씨는 덥다.\"]\n",
    "\n",
    "transformer = Transformer(num_layers,\n",
    "                    d_model,\n",
    "                    num_heads,\n",
    "                    d_ff,\n",
    "                    vocab_size,\n",
    "                    vocab_size,\n",
    "                    pos_len,\n",
    "                    dropout = drop_rate)"
   ]
  },
  {
   "cell_type": "code",
   "execution_count": 55,
   "id": "473645b4",
   "metadata": {
    "scrolled": false
   },
   "outputs": [
    {
     "name": "stderr",
     "output_type": "stream",
     "text": [
      "Epoch  1: 100%|██████████| 1170/1170 [02:57<00:00,  6.59it/s, Loss 3.9657]\n",
      "Epoch  2: 100%|██████████| 1170/1170 [02:46<00:00,  7.01it/s, Loss 3.1427]\n",
      "Epoch  3: 100%|██████████| 1170/1170 [02:46<00:00,  7.01it/s, Loss 2.7741]\n",
      "Epoch  4: 100%|██████████| 1170/1170 [02:46<00:00,  7.02it/s, Loss 2.4900]\n",
      "Epoch  5: 100%|██████████| 1170/1170 [02:46<00:00,  7.01it/s, Loss 2.2388]\n"
     ]
    },
    {
     "name": "stdout",
     "output_type": "stream",
     "text": [
      "Input: 오바마는 대통령이다.\n",
      "Predicted translation: marks the first time , the president is the president slated to be president , obama s president , the illinois senator said . obama is the president s becoming president , he wrote . <end> <end\n",
      "Input: 시민들은 도시 속에 산다.\n",
      "Predicted translation: city , and the city s largest city , the city s largest city , the city s largest city , has a largest city , the city s largest city in the city . <end> <\n",
      "Input: 커피는 필요 없다.\n",
      "Predicted translation: coffee , no one of coffee , you don t have any coffee , coffee , don t be coffee , coffee , coffee , or coffee , don t be coffee , coffee said . <end> <\n",
      "Input: 일곱 명의 사망자가 발생했다.\n",
      "Predicted translation: was killed in the seven death of 2 0 people , wounded , and wounded , killing at least seven people , wounding  ⁇  , 2 0 0  ⁇  <end> <\n",
      "Input: 가족을 사랑한다.\n",
      "Predicted translation: love , 2 0 0 9 . . . . . . . . . . . . . . . . . <end> <end\n",
      "Input: 오늘 날씨는 덥다.\n",
      "Predicted translation: today , the weather is about today . . . . . . . . . . . . . . . . . <end> <end\n"
     ]
    },
    {
     "name": "stderr",
     "output_type": "stream",
     "text": [
      "Epoch  6: 100%|██████████| 1170/1170 [02:47<00:00,  6.98it/s, Loss 2.0088]\n",
      "Epoch  7: 100%|██████████| 1170/1170 [02:46<00:00,  7.01it/s, Loss 1.7933]\n",
      "Epoch  8: 100%|██████████| 1170/1170 [02:46<00:00,  7.02it/s, Loss 1.5972]\n",
      "Epoch  9: 100%|██████████| 1170/1170 [02:47<00:00,  7.00it/s, Loss 1.4287]\n",
      "Epoch 10: 100%|██████████| 1170/1170 [02:47<00:00,  7.01it/s, Loss 1.2788]\n"
     ]
    },
    {
     "name": "stdout",
     "output_type": "stream",
     "text": [
      "Input: 오바마는 대통령이다.\n",
      "Predicted translation: , obama is a presidential candidate . obama . president obama . president obama is similar to obama , obama said similar to obama . president obama . according to cnn s kyung lah . <end> <end>\n",
      "Input: 시민들은 도시 속에 산다.\n",
      "Predicted translation: s , street storms around the city of street . . . . . . . . s . . . s becoming a big stretch of your city . <end> <\n",
      "Input: 커피는 필요 없다.\n",
      "Predicted translation: s at work . don t be coffee . <end> . <end> . <end> <end> . <end> <end> <end> <end> <end> <end> <end>\n",
      "Input: 일곱 명의 사망자가 발생했다.\n",
      "Predicted translation: ed at the seven deaths of  ⁇  , injured 8  ⁇  others , injuring seven others , injuring seven others , injuring seven others have died in seven . <end> <\n",
      "Input: 가족을 사랑한다.\n",
      "Predicted translation: , a family person in the world , i have been brains with love you . a love brain , i and i d have a love you , d . c . . <end> <\n",
      "Input: 오늘 날씨는 덥다.\n",
      "Predicted translation: s today s weather forecast , but weather is weather seen as hot weather , the weather is heading today to the weather hot , today s weather forecast for the weather today . hung <end> <end\n"
     ]
    },
    {
     "name": "stderr",
     "output_type": "stream",
     "text": [
      "Epoch 11: 100%|██████████| 1170/1170 [02:47<00:00,  6.98it/s, Loss 1.1367]\n",
      "Epoch 12: 100%|██████████| 1170/1170 [02:46<00:00,  7.01it/s, Loss 1.0113]\n",
      "Epoch 13: 100%|██████████| 1170/1170 [02:46<00:00,  7.01it/s, Loss 0.8995]\n",
      "Epoch 14: 100%|██████████| 1170/1170 [02:46<00:00,  7.01it/s, Loss 0.8028]\n",
      "Epoch 15: 100%|██████████| 1170/1170 [02:47<00:00,  7.00it/s, Loss 0.7200]\n"
     ]
    },
    {
     "name": "stdout",
     "output_type": "stream",
     "text": [
      "Input: 오바마는 대통령이다.\n",
      "Predicted translation: is the first time , obama said tuesday at a cnn conference . obama is the president s word of presidential nominee , which is obama s word that would be president obama s president , obama said tuesday . <end> <\n",
      "Input: 시민들은 도시 속에 산다.\n",
      "Predicted translation: deaths on a mountainous city where citizens can grow into the city s main city , are busy amid global sleep , such a city where they slew in a mountain turned city city city . <end> <\n",
      "Input: 커피는 필요 없다.\n",
      "Predicted translation: s at work . at the company , don t be rather than work . don t be , at work , depp says at work . otherwise , your work else <end> <end>\n",
      "Input: 일곱 명의 사망자가 발생했다.\n",
      "Predicted translation: was killed in the seventh of seven others . at least  ⁇  0 people , injuring , others said , among others members of the ⁇  , no officials . <end> <\n",
      "Input: 가족을 사랑한다.\n",
      "Predicted translation: daniel cuba s family and daniele a family finish on job together , a family awaits a love daniele deal , you are loved by a love daniele , illinois , i wonder . <end> <\n",
      "Input: 오늘 날씨는 덥다.\n",
      "Predicted translation: s today , weather forecasts our weather forecasts . i m catching up for up forday , but weathered the weather for sure today , that s thin weather today is rush . <end> <\n"
     ]
    },
    {
     "name": "stderr",
     "output_type": "stream",
     "text": [
      "Epoch 16: 100%|██████████| 1170/1170 [02:47<00:00,  6.97it/s, Loss 0.6478]\n",
      "Epoch 17: 100%|██████████| 1170/1170 [02:46<00:00,  7.01it/s, Loss 0.5890]\n",
      "Epoch 18: 100%|██████████| 1170/1170 [02:46<00:00,  7.01it/s, Loss 0.5383]\n",
      "Epoch 19: 100%|██████████| 1170/1170 [02:47<00:00,  7.00it/s, Loss 0.4924]\n",
      "Epoch 20: 100%|██████████| 1170/1170 [02:47<00:00,  7.00it/s, Loss 0.4567]\n"
     ]
    },
    {
     "name": "stdout",
     "output_type": "stream",
     "text": [
      "Input: 오바마는 대통령이다.\n",
      "Predicted translation: was the first president . obama . obama . cnn . obama . obama . president obama . according to obama , obama s words , where obama is president obama s presidential visit . <end>\n",
      "Input: 시민들은 도시 속에 산다.\n",
      "Predicted translation: deaths there s a turn in . . . . . citizens can be in the city but managednight , ap network ho da turned up there to the city s mountainous urban don . <end>\n",
      "Input: 커피는 필요 없다.\n",
      "Predicted translation: no coffee for you need a coffee isn t necessary . you need no donations . <end> <end> <end> <end> <end> <end> <end> <end> <end> <end>\n",
      "Input: 일곱 명의 사망자가 발생했다.\n",
      "Predicted translation: ed at seven other lives , seven other dead were injured in seven deaths , but seven others were killed in the blast shook cause care sector in the seven deaths seven others seven people . <end> <\n",
      "Input: 가족을 사랑한다.\n",
      "Predicted translation: daniel de love daniel de love daniel , a family and day , i have the family and our family and our family and our family and our family and our family guys never , i own him wonders . <end> on\n",
      "Input: 오늘 날씨는 덥다.\n",
      "Predicted translation: this morning <end> the weather is today . <end> <end> <end> <end> <end> we got today . <end> <end> we allday <end> <end> <end\n"
     ]
    },
    {
     "name": "stderr",
     "output_type": "stream",
     "text": [
      "Epoch 21: 100%|██████████| 1170/1170 [02:48<00:00,  6.96it/s, Loss 0.4229]\n",
      "Epoch 22: 100%|██████████| 1170/1170 [02:47<00:00,  7.00it/s, Loss 0.3948]\n",
      "Epoch 23: 100%|██████████| 1170/1170 [02:47<00:00,  7.00it/s, Loss 0.3683]\n",
      "Epoch 24: 100%|██████████| 1170/1170 [02:47<00:00,  7.00it/s, Loss 0.3456]\n",
      "Epoch 25: 100%|██████████| 1170/1170 [02:46<00:00,  7.01it/s, Loss 0.3314]\n"
     ]
    },
    {
     "name": "stdout",
     "output_type": "stream",
     "text": [
      "Input: 오바마는 대통령이다.\n",
      "Predicted translation: was the first foreign . obama . obama . . . . page , obama said tuesday . obama . obama is the presidential candidate and obama will be presidential candidate . <end> <end>\n",
      "Input: 시민들은 도시 속에 산다.\n",
      "Predicted translation: s legislature , turn yong in town , 1 8 .  ⁇  billion people turned into a big city but standing to sleep up in town city but people they know the city s maine . <end> <\n",
      "Input: 커피는 필요 없다.\n",
      "Predicted translation: is not a coffee for . no matter who don t need coffee . at the cup of coffee requires coffee . at other don t be coffee , at the 6 0 put in reasons . <end> <\n",
      "Input: 일곱 명의 사망자가 발생했다.\n",
      "Predicted translation: ed at seven others , four others were killed in seven others , while seven others were killed in seven others , killing nearly seven others , the officials . <end> ⁇ \n",
      "Input: 가족을 사랑한다.\n",
      "Predicted translation: s 2 0 th front at our world , and 3 0 days . our family s finally killing 3 . maren in front of our family s finally love relationships . <end> <\n",
      "Input: 오늘 날씨는 덥다.\n",
      "Predicted translation: s today , but sending weather today , sending 3 8 th hurricane management , sending today , sending today s weather today . <end> <end>\n"
     ]
    },
    {
     "name": "stderr",
     "output_type": "stream",
     "text": [
      "Epoch 26: 100%|██████████| 1170/1170 [02:47<00:00,  6.97it/s, Loss 0.3106]\n",
      "Epoch 27: 100%|██████████| 1170/1170 [02:47<00:00,  7.00it/s, Loss 0.2968]\n",
      "Epoch 28: 100%|██████████| 1170/1170 [02:47<00:00,  6.99it/s, Loss 0.2834]\n",
      "Epoch 29: 100%|██████████| 1170/1170 [02:47<00:00,  7.00it/s, Loss 0.2729]\n",
      "Epoch 30: 100%|██████████| 1170/1170 [02:47<00:00,  7.00it/s, Loss 0.2605]\n"
     ]
    },
    {
     "name": "stdout",
     "output_type": "stream",
     "text": [
      "Input: 오바마는 대통령이다.\n",
      "Predicted translation: was the only foreign . obama . obama . everyone will be president taking president . obama s words carried president , obama s leading presidential nominating contests , obama . <end>\n",
      "Input: 시민들은 도시 속에 산다.\n",
      "Predicted translation: mountains and pat entertainment is a big turn in a city where citizens can be blew into a main city in the city to the city s san . <end> here 8 fearful water breaking . <end> <end\n",
      "Input: 커피는 필요 없다.\n",
      "Predicted translation: is no medical needed , there is no motion than a coffee for our works . there isn t a work chair for coffee at coffee lists , that don t you have coffee for your health information . <end> <\n",
      "Input: 일곱 명의 사망자가 발생했다.\n",
      "Predicted translation: ed at seven lives in seven other countries , leaving among them members of the fighting . but killing seven others were malve involvement , killing at all behind no injuries , the state <end> state\n",
      "Input: 가족을 사랑한다.\n",
      "Predicted translation: runs . i loved our loved one person , cnn days . i loved our guy s loved , our iran s finally killing 2 3 days in love final . <end> <\n",
      "Input: 오늘 날씨는 덥다.\n",
      "Predicted translation: ed today s weather when weather is headed today , the weather is headed today , he s heading up today , sandra s john jay de s john hurt in retail hearing . <end> <\n"
     ]
    }
   ],
   "source": [
    "BATCH_SIZE = 64\n",
    "EPOCHS = 30\n",
    "\n",
    "for epoch in range(EPOCHS):\n",
    "    total_loss = 0\n",
    "    \n",
    "    idx_list = list(range(0, kor_data.shape[0], BATCH_SIZE))\n",
    "    random.shuffle(idx_list)\n",
    "    t = tqdm(idx_list)\n",
    "\n",
    "    for (batch, idx) in enumerate(t):\n",
    "        batch_loss, enc_attns, dec_attns, dec_enc_attns = \\\n",
    "                    train_step(kor_data[idx:idx+BATCH_SIZE],\n",
    "                                eng_data[idx:idx+BATCH_SIZE],\n",
    "                                transformer,\n",
    "                                optimizer)\n",
    "    \n",
    "        total_loss += batch_loss\n",
    "        \n",
    "        t.set_description_str('Epoch %2d' % (epoch + 1))\n",
    "        t.set_postfix_str('Loss %.4f' % (total_loss.numpy() / (batch + 1)))\n",
    "        \n",
    "    if (epoch+1) % 5 == 0:\n",
    "        for example in examples:\n",
    "            translate(example, transformer, kor_sentencepiece, eng_sentencepiece, plot_attention=False)"
   ]
  },
  {
   "cell_type": "markdown",
   "id": "d25da54a",
   "metadata": {},
   "source": [
    "# 결과 비교\n",
    "\n",
    "| Input            | Transformer+sentencepiece                                                                                                                                                                                 | Seq2Seq+Mecab |\n",
    "| ---------------- | ----------------------------------------------------------------------------------------------------------------------------------------------------------------------------------------------------- | ---------------------- |\n",
    "| 오바마는 대통령이다.      | was the only foreign . obama . obama . everyone will be president taking president . obama s words carried president , obama s leading presidential nominating contests , obama . <end>               | obama is the president . <end> |\n",
    "| 시민들은 도시 속에 산다.   | mountains and pat entertainment is a big turn in a city where citizens can be blew into a main city in the city to the city s san . <end> here 8 fearful water breaking . <end> <end                  | civilians are in cities , hurled high of the city . <end> |\n",
    "| 커피는 필요 없다.       | is no medical needed , there is no motion than a coffee for our works . there isn t a work chair for coffee at coffee lists , that don t you have coffee for your health information . <end> <        | there s no idea of the right now . <end> |\n",
    "| 일곱 명의 사망자가 발생했다. | ed at seven lives in seven other countries , leaving among them members of the fighting . but killing seven others were malve involvement , killing at all behind no injuries , the state <end> state | seven dead was killed . <end> |\n",
    "| 가족을 사랑한다.        | runs . i loved our loved one person , cnn days . i loved our guy s loved , our iran s finally killing 2 3 days in love final . <end> <                                                                | family love love of family . <end> |\n",
    "| 오늘 날씨는 덥다.       | ed today s weather when weather is headed today , the weather is headed today , he s heading up today , sandra s john jay de s john hurt in retail hearing . <end> <                                  | today weather has forced to today <end> |\n",
    "\n",
    "    \n",
    "앞 선 노드의 결과와 비교하였을때, Seq2Seq+Mecab으로 했을때 오히려 번역의 품질이 더 좋았습니다.\n",
    "\n",
    "sentencepiece의 경우 한국어를 제대로 토큰화하지 못한것으로 생각됩니다.\n",
    "\n",
    "추가적으로 Transformer+Mecab을 시도해보고자 합니다."
   ]
  },
  {
   "cell_type": "markdown",
   "id": "830ef97e",
   "metadata": {},
   "source": [
    "# 추가시도 1 : Transformer+Mecab"
   ]
  },
  {
   "cell_type": "code",
   "execution_count": 56,
   "id": "be3cecc2",
   "metadata": {},
   "outputs": [],
   "source": [
    "from konlpy.tag import Mecab\n",
    "\n",
    "def tokenization(corpus, kor = False, num_words=None):\n",
    "    if kor:\n",
    "        mecab = Mecab()\n",
    "        sentence = []\n",
    "        for i in tqdm(corpus):\n",
    "            sentence.append(mecab.morphs(i))\n",
    "        corpus = sentence\n",
    "        \n",
    "    tokenizer = tf.keras.preprocessing.text.Tokenizer(num_words = num_words, filters='',oov_token='<unk>')\n",
    "    \n",
    "    tokenizer.fit_on_texts(corpus)\n",
    "\n",
    "    tensor = tokenizer.texts_to_sequences(corpus)\n",
    "\n",
    "    return tensor, tokenizer\n"
   ]
  },
  {
   "cell_type": "code",
   "execution_count": 70,
   "id": "b3ad04a6",
   "metadata": {},
   "outputs": [
    {
     "name": "stderr",
     "output_type": "stream",
     "text": [
      "100%|██████████| 74849/74849 [00:11<00:00, 6562.64it/s]\n"
     ]
    }
   ],
   "source": [
    "kor_tensor, kor_tokenizer = tokenization(kor_corpus, kor = True, num_words = 25000)\n",
    "eng_tensor, eng_tokenizer = tokenization(eng_corpus, kor = False, num_words = 25000)"
   ]
  },
  {
   "cell_type": "code",
   "execution_count": 71,
   "id": "07c4d486",
   "metadata": {},
   "outputs": [],
   "source": [
    "kor_data = tf.keras.preprocessing.sequence.pad_sequences(kor_tensor, padding='post', maxlen= max_len)\n",
    "eng_data = tf.keras.preprocessing.sequence.pad_sequences(eng_tensor, padding='post', maxlen= max_len)"
   ]
  },
  {
   "cell_type": "code",
   "execution_count": 77,
   "id": "9fbf37b5",
   "metadata": {},
   "outputs": [],
   "source": [
    "# Attention 시각화 함수\n",
    "\n",
    "def visualize_attention(src, tgt, enc_attns, dec_attns, dec_enc_attns):\n",
    "    def draw(data, ax, x=\"auto\", y=\"auto\"):\n",
    "        import seaborn\n",
    "        seaborn.heatmap(data, \n",
    "                        square=True,\n",
    "                        vmin=0.0, vmax=1.0, \n",
    "                        cbar=False, ax=ax,\n",
    "                        xticklabels=x,\n",
    "                        yticklabels=y)\n",
    "        \n",
    "    for layer in range(0, 2, 1):\n",
    "        fig, axs = plt.subplots(1, 4, figsize=(20, 10))\n",
    "        print(\"Encoder Layer\", layer + 1)\n",
    "        for h in range(4):\n",
    "            draw(enc_attns[layer][0, h, :len(src), :len(src)], axs[h], src, src)\n",
    "        plt.show()\n",
    "        \n",
    "    for layer in range(0, 2, 1):\n",
    "        fig, axs = plt.subplots(1, 4, figsize=(20, 10))\n",
    "        print(\"Decoder Self Layer\", layer+1)\n",
    "        for h in range(4):\n",
    "            draw(dec_attns[layer][0, h, :len(tgt), :len(tgt)], axs[h], tgt, tgt)\n",
    "        plt.show()\n",
    "\n",
    "        print(\"Decoder Src Layer\", layer+1)\n",
    "        fig, axs = plt.subplots(1, 4, figsize=(20, 10))\n",
    "        for h in range(4):\n",
    "            draw(dec_enc_attns[layer][0, h, :len(tgt), :len(src)], axs[h], src, tgt)\n",
    "        plt.show()\n",
    "        \n",
    "# 번역 생성 함수\n",
    "\n",
    "def evaluate1(sentence, model, src_tokenizer, tgt_tokenizer):\n",
    "    \n",
    "    sentence = preprocess_sentence(sentence)\n",
    "    \n",
    "    mecab = Mecab()\n",
    "    \n",
    "    sentence = mecab.morphs(sentence)\n",
    "    \n",
    "    pieces = sentence\n",
    "    _input = src_tokenizer.texts_to_sequences([sentence])\n",
    "    \n",
    "    sos_idx = tgt_tokenizer.word_index['<start>']\n",
    "    eos_idx = tgt_tokenizer.word_index['<end>']\n",
    "    \n",
    "    _input = tf.keras.preprocessing.sequence.pad_sequences(_input,\n",
    "                                                           maxlen=kor_data.shape[-1],\n",
    "                                                           padding='post')\n",
    "    \n",
    "    ids = []\n",
    "    output = tf.expand_dims([sos_idx], 0)\n",
    "    \n",
    "    for i in range(eng_data.shape[-1]):\n",
    "        enc_padding_mask, combined_mask, dec_padding_mask = \\\n",
    "        generate_masks(_input, output)\n",
    "\n",
    "        predictions, enc_attns, dec_attns, dec_enc_attns =\\\n",
    "        model(_input, \n",
    "              output,\n",
    "              enc_padding_mask,\n",
    "              combined_mask,\n",
    "              dec_padding_mask)\n",
    "\n",
    "        predicted_id = \\\n",
    "        tf.argmax(tf.math.softmax(predictions, axis=-1)[0, -1]).numpy().item()\n",
    "\n",
    "        if predicted_id == eos_idx:\n",
    "            result = tgt_tokenizer.sequences_to_texts([ids])\n",
    "            return pieces, result, enc_attns, dec_attns, dec_enc_attns\n",
    "\n",
    "        ids.append(predicted_id)\n",
    "        output = tf.concat([output, tf.expand_dims([predicted_id], 0)], axis=-1)\n",
    "\n",
    "    result = tgt_tokenizer.decode_ids(ids)\n",
    "\n",
    "    return pieces, result, enc_attns, dec_attns, dec_enc_attns\n",
    "\n",
    "# 번역 생성 및 Attention 시각화 결합\n",
    "\n",
    "def translate(sentence, model, src_tokenizer, tgt_tokenizer, plot_attention=False):\n",
    "    pieces, result, enc_attns, dec_attns, dec_enc_attns = \\\n",
    "    evaluate1(sentence, model, src_tokenizer, tgt_tokenizer)\n",
    "    \n",
    "    print('Input: %s' % (sentence))\n",
    "    print('Predicted translation: {}'.format(result))\n",
    "\n",
    "#     if plot_attention:\n",
    "#         visualize_attention(pieces, result.split(), enc_attns, dec_attns, dec_enc_attns)"
   ]
  },
  {
   "cell_type": "code",
   "execution_count": 78,
   "id": "8c04e1c2",
   "metadata": {},
   "outputs": [],
   "source": [
    "@tf.function()\n",
    "def train_step(src, tgt, model, optimizer):\n",
    "    gold = tgt[:, 1:]\n",
    "        \n",
    "    enc_mask, dec_enc_mask, dec_mask = generate_masks(src, tgt)\n",
    "\n",
    "    # 계산된 loss에 tf.GradientTape()를 적용해 학습을 진행합니다.\n",
    "    with tf.GradientTape() as tape:\n",
    "        predictions, enc_attns, dec_attns, dec_enc_attns = \\\n",
    "        model(src, tgt, enc_mask, dec_enc_mask, dec_mask)\n",
    "        loss = loss_function(gold, predictions[:, :-1])\n",
    "\n",
    "    gradients = tape.gradient(loss, model.trainable_variables)    \n",
    "    optimizer.apply_gradients(zip(gradients, model.trainable_variables))\n",
    "    \n",
    "    return loss, enc_attns, dec_attns, dec_enc_attns"
   ]
  },
  {
   "cell_type": "code",
   "execution_count": 79,
   "id": "a520a360",
   "metadata": {},
   "outputs": [],
   "source": [
    "num_layers = 4\n",
    "d_model = 256\n",
    "num_heads = 4\n",
    "d_ff = 1024\n",
    "pos_len = max_len\n",
    "vocab_size = 25000\n",
    "drop_rate = 0.2\n",
    "\n",
    "\n",
    "examples = [\n",
    "    \"오바마는 대통령이다.\", \"시민들은 도시 속에 산다.\",\n",
    "    \"커피는 필요 없다.\", \"일곱 명의 사망자가 발생했다.\",\n",
    "    \"가족을 사랑한다.\",\"오늘 날씨는 덥다.\"]\n",
    "\n",
    "transformer = Transformer(num_layers,\n",
    "                    d_model,\n",
    "                    num_heads,\n",
    "                    d_ff,\n",
    "                    vocab_size,\n",
    "                    vocab_size,\n",
    "                    pos_len,\n",
    "                    dropout = drop_rate)"
   ]
  },
  {
   "cell_type": "code",
   "execution_count": 80,
   "id": "d286a1f0",
   "metadata": {},
   "outputs": [
    {
     "name": "stderr",
     "output_type": "stream",
     "text": [
      "Epoch  1: 100%|██████████| 1170/1170 [02:56<00:00,  6.62it/s, Loss 5.6076]\n",
      "Epoch  2: 100%|██████████| 1170/1170 [02:46<00:00,  7.04it/s, Loss 4.7284]\n",
      "Epoch  3: 100%|██████████| 1170/1170 [02:46<00:00,  7.04it/s, Loss 4.3234]\n",
      "Epoch  4: 100%|██████████| 1170/1170 [02:46<00:00,  7.04it/s, Loss 4.0290]\n",
      "Epoch  5: 100%|██████████| 1170/1170 [02:46<00:00,  7.04it/s, Loss 3.7810]\n"
     ]
    },
    {
     "name": "stdout",
     "output_type": "stream",
     "text": [
      "Input: 오바마는 대통령이다.\n",
      "Predicted translation: ['obama is a president .']\n",
      "Input: 시민들은 도시 속에 산다.\n",
      "Predicted translation: ['they are <unk> in cities .']\n",
      "Input: 커피는 필요 없다.\n",
      "Predicted translation: ['coffee is a second place .']\n",
      "Input: 일곱 명의 사망자가 발생했다.\n",
      "Predicted translation: ['seven people were killed in seven seven people .']\n",
      "Input: 가족을 사랑한다.\n",
      "Predicted translation: ['family loved ones .']\n",
      "Input: 오늘 날씨는 덥다.\n",
      "Predicted translation: ['the weather is the weather .']\n"
     ]
    },
    {
     "name": "stderr",
     "output_type": "stream",
     "text": [
      "Epoch  6: 100%|██████████| 1170/1170 [02:46<00:00,  7.02it/s, Loss 3.5571]\n",
      "Epoch  7: 100%|██████████| 1170/1170 [02:46<00:00,  7.04it/s, Loss 3.3401]\n",
      "Epoch  8: 100%|██████████| 1170/1170 [02:46<00:00,  7.04it/s, Loss 3.1291]\n",
      "Epoch  9: 100%|██████████| 1170/1170 [02:46<00:00,  7.04it/s, Loss 2.9242]\n",
      "Epoch 10: 100%|██████████| 1170/1170 [02:46<00:00,  7.04it/s, Loss 2.7266]\n"
     ]
    },
    {
     "name": "stdout",
     "output_type": "stream",
     "text": [
      "Input: 오바마는 대통령이다.\n",
      "Predicted translation: ['obama s president obama has obama s own .']\n",
      "Input: 시민들은 도시 속에 산다.\n",
      "Predicted translation: ['citizens are in cities .']\n",
      "Input: 커피는 필요 없다.\n",
      "Predicted translation: ['it s not a second thing or <unk> .']\n",
      "Input: 일곱 명의 사망자가 발생했다.\n",
      "Predicted translation: ['seven soldiers were killed .']\n",
      "Input: 가족을 사랑한다.\n",
      "Predicted translation: ['family , love in love , love with love .']\n",
      "Input: 오늘 날씨는 덥다.\n",
      "Predicted translation: ['it s the weather <unk> .']\n"
     ]
    },
    {
     "name": "stderr",
     "output_type": "stream",
     "text": [
      "Epoch 11: 100%|██████████| 1170/1170 [02:46<00:00,  7.03it/s, Loss 2.5438]\n",
      "Epoch 12: 100%|██████████| 1170/1170 [02:46<00:00,  7.04it/s, Loss 2.3752]\n",
      "Epoch 13: 100%|██████████| 1170/1170 [02:46<00:00,  7.04it/s, Loss 2.2251]\n",
      "Epoch 14: 100%|██████████| 1170/1170 [02:46<00:00,  7.04it/s, Loss 2.0937]\n",
      "Epoch 16: 100%|██████████| 1170/1170 [02:46<00:00,  7.02it/s, Loss 1.8752]\n",
      "Epoch 17: 100%|██████████| 1170/1170 [02:46<00:00,  7.04it/s, Loss 1.7949]\n",
      "Epoch 18: 100%|██████████| 1170/1170 [02:46<00:00,  7.04it/s, Loss 1.7164]\n",
      "Epoch 19: 100%|██████████| 1170/1170 [02:46<00:00,  7.04it/s, Loss 1.6398]\n",
      "Epoch 20: 100%|██████████| 1170/1170 [02:46<00:00,  7.04it/s, Loss 1.5734]\n"
     ]
    },
    {
     "name": "stdout",
     "output_type": "stream",
     "text": [
      "Input: 오바마는 대통령이다.\n",
      "Predicted translation: ['obama s camp .']\n",
      "Input: 시민들은 도시 속에 산다.\n",
      "Predicted translation: ['citizens show up to one of the city .']\n",
      "Input: 커피는 필요 없다.\n",
      "Predicted translation: ['it shouldn t be a <unk> .']\n",
      "Input: 일곱 명의 사망자가 발생했다.\n",
      "Predicted translation: ['seven soldiers were killed .']\n",
      "Input: 가족을 사랑한다.\n",
      "Predicted translation: ['family love']\n",
      "Input: 오늘 날씨는 덥다.\n",
      "Predicted translation: ['i did it today , it s my life .']\n"
     ]
    },
    {
     "name": "stderr",
     "output_type": "stream",
     "text": [
      "Epoch 21: 100%|██████████| 1170/1170 [02:46<00:00,  7.03it/s, Loss 1.5562]\n",
      "Epoch 22: 100%|██████████| 1170/1170 [02:46<00:00,  7.04it/s, Loss 1.4355]\n",
      "Epoch 23: 100%|██████████| 1170/1170 [02:46<00:00,  7.03it/s, Loss 1.4482]\n",
      "Epoch 24: 100%|██████████| 1170/1170 [02:46<00:00,  7.04it/s, Loss 1.3859]\n",
      "Epoch 25: 100%|██████████| 1170/1170 [02:46<00:00,  7.04it/s, Loss 1.2761]\n"
     ]
    },
    {
     "name": "stdout",
     "output_type": "stream",
     "text": [
      "Input: 오바마는 대통령이다.\n",
      "Predicted translation: ['obama s camp .']\n",
      "Input: 시민들은 도시 속에 산다.\n",
      "Predicted translation: ['citizens are in urban towns and says most of the city government won']\n",
      "Input: 커피는 필요 없다.\n",
      "Predicted translation: ['coffee is not a <unk> .']\n",
      "Input: 일곱 명의 사망자가 발생했다.\n",
      "Predicted translation: ['seven soldiers were killed .']\n",
      "Input: 가족을 사랑한다.\n",
      "Predicted translation: ['at you .']\n",
      "Input: 오늘 날씨는 덥다.\n",
      "Predicted translation: ['it s the day i m like i .']\n"
     ]
    },
    {
     "name": "stderr",
     "output_type": "stream",
     "text": [
      "Epoch 26: 100%|██████████| 1170/1170 [02:46<00:00,  7.03it/s, Loss 1.2123]\n",
      "Epoch 27: 100%|██████████| 1170/1170 [02:46<00:00,  7.04it/s, Loss 1.2523]\n",
      "Epoch 28: 100%|██████████| 1170/1170 [02:46<00:00,  7.03it/s, Loss 1.1189]\n",
      "Epoch 29: 100%|██████████| 1170/1170 [02:46<00:00,  7.03it/s, Loss 1.0853]\n",
      "Epoch 30: 100%|██████████| 1170/1170 [02:46<00:00,  7.04it/s, Loss 1.0208]\n"
     ]
    },
    {
     "name": "stdout",
     "output_type": "stream",
     "text": [
      "Input: 오바마는 대통령이다.\n",
      "Predicted translation: ['obama s campaign would begin either .']\n",
      "Input: 시민들은 도시 속에 산다.\n",
      "Predicted translation: ['citizens show up most of <unk>']\n",
      "Input: 커피는 필요 없다.\n",
      "Predicted translation: ['at least one point , it s no .']\n",
      "Input: 일곱 명의 사망자가 발생했다.\n",
      "Predicted translation: ['seven soldiers were killed sunday .']\n",
      "Input: 가족을 사랑한다.\n",
      "Predicted translation: ['my family love .']\n",
      "Input: 오늘 날씨는 덥다.\n",
      "Predicted translation: ['it s the weather in the city s weather .']\n"
     ]
    }
   ],
   "source": [
    "BATCH_SIZE = 64\n",
    "EPOCHS = 30\n",
    "\n",
    "for epoch in range(EPOCHS):\n",
    "    total_loss = 0\n",
    "    \n",
    "    idx_list = list(range(0, kor_data.shape[0], BATCH_SIZE))\n",
    "    random.shuffle(idx_list)\n",
    "    t = tqdm(idx_list)\n",
    "\n",
    "    for (batch, idx) in enumerate(t):\n",
    "        batch_loss, enc_attns, dec_attns, dec_enc_attns = \\\n",
    "                    train_step(kor_data[idx:idx+BATCH_SIZE],\n",
    "                                eng_data[idx:idx+BATCH_SIZE],\n",
    "                                transformer,\n",
    "                                optimizer)\n",
    "    \n",
    "        total_loss += batch_loss\n",
    "        \n",
    "        t.set_description_str('Epoch %2d' % (epoch + 1))\n",
    "        t.set_postfix_str('Loss %.4f' % (total_loss.numpy() / (batch + 1)))\n",
    "        \n",
    "    if (epoch+1) % 5 == 0:\n",
    "        for example in examples:\n",
    "            translate(example, transformer, kor_tokenizer, eng_tokenizer, plot_attention=False)"
   ]
  },
  {
   "attachments": {
    "image.png": {
     "image/png": "[encoded data removed]"
    }
   },
   "cell_type": "markdown",
   "id": "265c3811",
   "metadata": {},
   "source": [
    "# 결과 비교\n",
    "\n",
    "| Input            | Transformer+sentencepiece                                                                                                                                                                                 | Transformer+Mecab |\n",
    "| ---------------- | ----------------------------------------------------------------------------------------------------------------------------------------------------------------------------------------------------- | ---------------------- |\n",
    "| 오바마는 대통령이다.      | was the only foreign . obama . obama . everyone will be president taking president . obama s words carried president , obama s leading presidential nominating contests , obama . <end>               | obama s campaign would begin either . |\n",
    "| 시민들은 도시 속에 산다.   | mountains and pat entertainment is a big turn in a city where citizens can be blew into a main city in the city to the city s san . <end> here 8 fearful water breaking . <end> <end                  | citizens show up most of <unk> |\n",
    "| 커피는 필요 없다.       | is no medical needed , there is no motion than a coffee for our works . there isn t a work chair for coffee at coffee lists , that don t you have coffee for your health information . <end> <        | at least one point , it s no . |\n",
    "| 일곱 명의 사망자가 발생했다. | ed at seven lives in seven other countries , leaving among them members of the fighting . but killing seven others were malve involvement , killing at all behind no injuries , the state <end> state | seven soldiers were killed sunday . |\n",
    "| 가족을 사랑한다.        | runs . i loved our loved one person , cnn days . i loved our guy s loved , our iran s finally killing 2 3 days in love final . <end> <                                                                | my family love . |\n",
    "| 오늘 날씨는 덥다.       | ed today s weather when weather is headed today , the weather is headed today , he s heading up today , sandra s john jay de s john hurt in retail hearing . <end> <                                  | it s the weather in the city s weather .|\n",
    "\n",
    "\n",
    "sentencepiece로 토크나이저를 만들었을때보다, Mecab을 이용한것이 더 자연스러운 번역을 했다고 생각합니다.\n",
    "\n",
    "또한 현재 30epoch로 실험을 하였는데, 오히려 적은 epoch일때, 더 좋은 결과들이 나온것을 알 수 있었습니다.\n",
    "![image.png](attachment:image.png)\n",
    "\n",
    "따라서 이번에는 epoch 수를 줄이고, 하이퍼 파라미터의 수를 조정하여 다시 한번 시도해보겠습니다."
   ]
  },
  {
   "cell_type": "markdown",
   "id": "083a39fa",
   "metadata": {},
   "source": [
    "# 추가 시도 2 : 에포크 수를 줄이고, 하이퍼 파라미터 변경"
   ]
  },
  {
   "cell_type": "code",
   "execution_count": 84,
   "id": "fb435faf",
   "metadata": {},
   "outputs": [],
   "source": [
    "@tf.function()\n",
    "def train_step(src, tgt, model, optimizer):\n",
    "    gold = tgt[:, 1:]\n",
    "        \n",
    "    enc_mask, dec_enc_mask, dec_mask = generate_masks(src, tgt)\n",
    "\n",
    "    # 계산된 loss에 tf.GradientTape()를 적용해 학습을 진행합니다.\n",
    "    with tf.GradientTape() as tape:\n",
    "        predictions, enc_attns, dec_attns, dec_enc_attns = \\\n",
    "        model(src, tgt, enc_mask, dec_enc_mask, dec_mask)\n",
    "        loss = loss_function(gold, predictions[:, :-1])\n",
    "\n",
    "    gradients = tape.gradient(loss, model.trainable_variables)    \n",
    "    optimizer.apply_gradients(zip(gradients, model.trainable_variables))\n",
    "    \n",
    "    return loss, enc_attns, dec_attns, dec_enc_attns"
   ]
  },
  {
   "cell_type": "code",
   "execution_count": 85,
   "id": "d323a8b6",
   "metadata": {},
   "outputs": [],
   "source": [
    "num_layers = 2\n",
    "d_model = 256\n",
    "num_heads = 8\n",
    "d_ff = 2048\n",
    "pos_len = max_len\n",
    "vocab_size = 25000\n",
    "drop_rate = 0.2\n",
    "\n",
    "\n",
    "examples = [\n",
    "    \"오바마는 대통령이다.\", \"시민들은 도시 속에 산다.\",\n",
    "    \"커피는 필요 없다.\", \"일곱 명의 사망자가 발생했다.\",\n",
    "    \"가족을 사랑한다.\",\"오늘 날씨는 덥다.\"]\n",
    "\n",
    "transformer = Transformer(num_layers,\n",
    "                    d_model,\n",
    "                    num_heads,\n",
    "                    d_ff,\n",
    "                    vocab_size,\n",
    "                    vocab_size,\n",
    "                    pos_len,\n",
    "                    dropout = drop_rate)"
   ]
  },
  {
   "cell_type": "code",
   "execution_count": 86,
   "id": "952b264c",
   "metadata": {},
   "outputs": [
    {
     "name": "stderr",
     "output_type": "stream",
     "text": [
      "Epoch  1: 100%|██████████| 1170/1170 [02:26<00:00,  7.98it/s, Loss 5.7432]\n",
      "Epoch  2: 100%|██████████| 1170/1170 [02:21<00:00,  8.25it/s, Loss 4.8960]\n",
      "Epoch  3: 100%|██████████| 1170/1170 [02:22<00:00,  8.23it/s, Loss 4.5176]\n",
      "Epoch  4: 100%|██████████| 1170/1170 [02:22<00:00,  8.22it/s, Loss 4.2498]\n",
      "Epoch  5: 100%|██████████| 1170/1170 [02:22<00:00,  8.22it/s, Loss 4.0320]\n"
     ]
    },
    {
     "name": "stdout",
     "output_type": "stream",
     "text": [
      "Input: 오바마는 대통령이다.\n",
      "Predicted translation: ['obama is the president .']\n",
      "Input: 시민들은 도시 속에 산다.\n",
      "Predicted translation: ['the city of the city s city .']\n",
      "Input: 커피는 필요 없다.\n",
      "Predicted translation: ['coffee is not a good .']\n",
      "Input: 일곱 명의 사망자가 발생했다.\n",
      "Predicted translation: ['the dead were killed .']\n",
      "Input: 가족을 사랑한다.\n",
      "Predicted translation: ['family family love']\n",
      "Input: 오늘 날씨는 덥다.\n",
      "Predicted translation: ['the weather is the weather .']\n"
     ]
    }
   ],
   "source": [
    "BATCH_SIZE = 64\n",
    "EPOCHS = 5\n",
    "\n",
    "for epoch in range(EPOCHS):\n",
    "    total_loss = 0\n",
    "    \n",
    "    idx_list = list(range(0, kor_data.shape[0], BATCH_SIZE))\n",
    "    random.shuffle(idx_list)\n",
    "    t = tqdm(idx_list)\n",
    "\n",
    "    for (batch, idx) in enumerate(t):\n",
    "        batch_loss, enc_attns, dec_attns, dec_enc_attns = \\\n",
    "                    train_step(kor_data[idx:idx+BATCH_SIZE],\n",
    "                                eng_data[idx:idx+BATCH_SIZE],\n",
    "                                transformer,\n",
    "                                optimizer)\n",
    "    \n",
    "        total_loss += batch_loss\n",
    "        \n",
    "        t.set_description_str('Epoch %2d' % (epoch + 1))\n",
    "        t.set_postfix_str('Loss %.4f' % (total_loss.numpy() / (batch + 1)))\n",
    "        \n",
    "    if (epoch+1) % 5 == 0:\n",
    "        for example in examples:\n",
    "            translate(example, transformer, kor_tokenizer, eng_tokenizer, plot_attention=False)"
   ]
  },
  {
   "cell_type": "markdown",
   "id": "427df5ba",
   "metadata": {},
   "source": [
    "# 결과 비교\n",
    "\n",
    "| Parameter  |      Model1     |      Model2     |\n",
    "| ---------- | --------------- | --------------- |\n",
    "| num_layers | 4               | 2               |\n",
    "| d_model    | 256             | 256             |\n",
    "| num_heads  | 4               | 8               |\n",
    "| d_ff       | 1024            | 2048            |\n",
    "| pos_len    | max_len         | max_len         |\n",
    "| vocab_size | 25000           | 25000           |\n",
    "| drop_rate  | 0.2             | 0.2             |\n",
    "| BATCH_SIZE | 64              | 64              |\n",
    "| EPOCHS     | 30              | 5               |\n",
    "\n",
    "\n",
    "\n",
    "| Input            |   Seq2Seq+Mecab |             Transformer Model1                   |             Transformer Model2           |\n",
    "| ---------------- | ------------------ |---------------------- | ----------------------------- |\n",
    "| 오바마는 대통령이다.      | obama is the president . <end> |obama s campaign would begin either .    | obama is the president .      |\n",
    "| 시민들은 도시 속에 산다.   | civilians are in cities , hurled high of the city . <end> |citizens show up most of <unk>           | the city of the city s city . |\n",
    "| 커피는 필요 없다.       |there s no idea of the right now . <end> | at least one point , it s no .           | coffee is not a good .        |\n",
    "| 일곱 명의 사망자가 발생했다. | seven dead was killed . <end> |seven soldiers were killed sunday .      | the dead were killed .        |\n",
    "| 가족을 사랑한다.        |family love love of family . <end> | my family love .                         | family family love            |\n",
    "| 오늘 날씨는 덥다.       | today weather has forced to today <end> |it s the weather in the city s weather . | the weather is the weather .  |\n",
    "    \n",
    "num_layers, num_heads, EPOCHS의 수만 바꿔서 실험을 해보았습니다.\n",
    "    \n",
    "앞서 예상한대로 오히려 적은 에포크일때, 좋은 번역의 성능을 보여줬습니다. 첫번째 문장인 '오바마는 대통령이다.'는 올바르게 번역한 것을 볼 수 있습니다. 또한, 'city', 'coffee', 'family' 등 주요 단어들을 제대로 번역한 것을 확인 할 수 있었습니다. \n",
    "    \n",
    "또한 Seq2Seq+Mecab의 성능도 좋았습니다. 이것은 한국어에서는 sentencepiece와 같은 토크나이저보다는 mecab과 같은 한국어의 특성에 맞는 토크나이저의 성능이 더 좋다는 것을 알 수 있습니다."
   ]
  },
  {
   "cell_type": "markdown",
   "id": "e70cb3a0",
   "metadata": {},
   "source": [
    "# 전체 회고\n",
    "- 트랜스포머는 정말 어려운것 같습니다.\n",
    "- 이번 노드에서는 설명도 잘해주었지만, 트랜스포머를 제대로 알아야 이후에 나올 모델들을 제대로 이해할 수 있기에 많은 시간을 투자하였습니다.\n",
    "- 개인적으로는 아직 많이 부족하다고 생각이 되며, 트랜스포머의 개념과 코드적인 이해를 위해 좀 더 시간을 할애해야 할 것으로 생각됩니다.\n",
    "\n",
    "- 한국어는 조사라는 개념이 있기 때문에 sentencepiece같은 토크나이저보다는 mecab과 같은 한국어의 특성이 반영된 토크나이저를 쓰는것이 더 좋다고 생각이 됩니다.\n",
    "- 이번 노드에서는 vocab_size를 고정하고 실험을 하였는데, 늘렸을때의 성능도 체크해보고 싶습니다.\n",
    "- 하이퍼 파라미터를 조정한다면, 훨씬 더 품질이 좋은 번역이 나올 것으로 생각됩니다."
   ]
  },
  {
   "cell_type": "markdown",
   "id": "8e63c8d1",
   "metadata": {},
   "source": [
    "# 참고 자료\n",
    "- 이전 노드\n",
    "- https://wikidocs.net/31379\n",
    "- https://velog.io/@nawnoes/Transformer%EB%A1%9C-%ED%95%9C%EA%B5%AD%EC%96%B4-%EC%98%81%EC%96%B4-%EB%B2%88%EC%97%AD-%EB%AA%A8%EB%8D%B8-%EB%A7%8C%EB%93%A4%EA%B8%B0\n",
    "- https://wikidocs.net/166832\n",
    "- https://ariz1623.tistory.com/304 "
   ]
  }
 ],
 "metadata": {
  "kernelspec": {
   "display_name": "Python 3 (ipykernel)",
   "language": "python",
   "name": "python3"
  },
  "language_info": {
   "codemirror_mode": {
    "name": "ipython",
    "version": 3
   },
   "file_extension": ".py",
   "mimetype": "text/x-python",
   "name": "python",
   "nbconvert_exporter": "python",
   "pygments_lexer": "ipython3",
   "version": "3.9.7"
  }
 },
 "nbformat": 4,
 "nbformat_minor": 5
}
