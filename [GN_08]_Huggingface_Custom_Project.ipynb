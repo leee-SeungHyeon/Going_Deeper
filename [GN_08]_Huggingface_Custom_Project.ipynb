{
 "cells": [
  {
   "cell_type": "markdown",
   "id": "8107d398",
   "metadata": {},
   "source": [
    "# 평가 조건\n",
    "1. 모델과 데이터를 정상적으로 불러오고, 작동하는 것을 확인하였다.\n",
    "    - klue/bert-base를 pretrained weight 없이 불러와 토큰화된 NSMC 데이터셋을 입력하여 훈련시킬 때, 모델이 정상적으로 작동하는 것을 확인하였다.\n",
    "2. Preprocessing을 개선하고, fine-tuning을 통해 모델의 성능을 개선시켰다.\n",
    "    - Validation accuracy를 90% 이상으로 개선하였다.\n",
    "3. 모델 학습에 Bucketing을 성공적으로 적용하고, 그 결과를 비교분석하였다.\n",
    "    - Bucketing task을 수행하여 fine-tuning 시 연산 속도와 모델 성능 간의 trade-off 관계가 발생하는지 여부를 확인하고, 분석한 결과를 제시하였다."
   ]
  },
  {
   "cell_type": "markdown",
   "id": "6d59f181",
   "metadata": {},
   "source": [
    "# 모듈 임포트"
   ]
  },
  {
   "cell_type": "code",
   "execution_count": 66,
   "id": "717edf60",
   "metadata": {},
   "outputs": [
    {
     "name": "stdout",
     "output_type": "stream",
     "text": [
      "[PhysicalDevice(name='/physical_device:GPU:0', device_type='GPU')]\n",
      "/device:GPU:0\n"
     ]
    }
   ],
   "source": [
    "import os\n",
    "import numpy as np\n",
    "import pandas as pd\n",
    "import random\n",
    "from sklearn.model_selection import train_test_split\n",
    "\n",
    "from transformers import DataCollatorWithPadding\n",
    "import tensorflow as tf\n",
    "from collections import Counter\n",
    "import transformers\n",
    "from datasets import load_dataset\n",
    "from datasets import load_metric\n",
    "from transformers import AutoTokenizer, AutoModelForSequenceClassification, Trainer, TrainingArguments\n",
    "\n",
    "\n",
    "import matplotlib.pyplot as plt\n",
    "\n",
    "random_seed = 42\n",
    "random.seed(random_seed)\n",
    "np.random.seed(random_seed)\n",
    "tf.random.set_seed(random_seed)\n",
    "\n",
    "print(tf.config.list_physical_devices('GPU'))\n",
    "print(tf.test.gpu_device_name())"
   ]
  },
  {
   "cell_type": "markdown",
   "id": "4257e932",
   "metadata": {},
   "source": [
    "# 1. NSMC 데이터 불러오기"
   ]
  },
  {
   "cell_type": "code",
   "execution_count": 67,
   "id": "dbbd7341",
   "metadata": {},
   "outputs": [
    {
     "name": "stderr",
     "output_type": "stream",
     "text": [
      "Using custom data configuration default\n",
      "Reusing dataset nsmc (/aiffel/.cache/huggingface/datasets/nsmc/default/1.1.0/bfd4729bf1a67114e5267e6916b9e4807010aeb238e4a3c2b95fbfa3a014b5f3)\n"
     ]
    },
    {
     "data": {
      "application/vnd.jupyter.widget-view+json": {
       "model_id": "1b74468d25e24129bd4d8ab45a6d0062",
       "version_major": 2,
       "version_minor": 0
      },
      "text/plain": [
       "  0%|          | 0/2 [00:00<?, ?it/s]"
      ]
     },
     "metadata": {},
     "output_type": "display_data"
    }
   ],
   "source": [
    "row_dataset = load_dataset('nsmc')"
   ]
  },
  {
   "cell_type": "code",
   "execution_count": 68,
   "id": "6c62d833",
   "metadata": {},
   "outputs": [
    {
     "data": {
      "text/plain": [
       "DatasetDict({\n",
       "    train: Dataset({\n",
       "        features: ['id', 'document', 'label'],\n",
       "        num_rows: 150000\n",
       "    })\n",
       "    test: Dataset({\n",
       "        features: ['id', 'document', 'label'],\n",
       "        num_rows: 50000\n",
       "    })\n",
       "})"
      ]
     },
     "execution_count": 68,
     "metadata": {},
     "output_type": "execute_result"
    }
   ],
   "source": [
    "row_dataset"
   ]
  },
  {
   "cell_type": "markdown",
   "id": "37e82268",
   "metadata": {},
   "source": [
    "데이터는 총 200000만개로 train 15만개, test 5만개이며, id, document, label로 이루어져 있습니다."
   ]
  },
  {
   "cell_type": "markdown",
   "id": "611ed31b",
   "metadata": {},
   "source": [
    "## 데이터 확인하기"
   ]
  },
  {
   "cell_type": "code",
   "execution_count": 4,
   "id": "df140470",
   "metadata": {},
   "outputs": [
    {
     "name": "stdout",
     "output_type": "stream",
     "text": [
      "id : 9976970\n",
      "document : 아 더빙.. 진짜 짜증나네요 목소리\n",
      "label : 0\n",
      "\n",
      "\n",
      "id : 3819312\n",
      "document : 흠...포스터보고 초딩영화줄....오버연기조차 가볍지 않구나\n",
      "label : 1\n",
      "\n",
      "\n",
      "id : 10265843\n",
      "document : 너무재밓었다그래서보는것을추천한다\n",
      "label : 0\n",
      "\n",
      "\n",
      "id : 9045019\n",
      "document : 교도소 이야기구먼 ..솔직히 재미는 없다..평점 조정\n",
      "label : 0\n",
      "\n",
      "\n",
      "id : 6483659\n",
      "document : 사이몬페그의 익살스런 연기가 돋보였던 영화!스파이더맨에서 늙어보이기만 했던 커스틴 던스트가 너무나도 이뻐보였다\n",
      "label : 1\n",
      "\n",
      "\n"
     ]
    }
   ],
   "source": [
    "train = row_dataset['train']\n",
    "cols = train.column_names\n",
    "\n",
    "for i in range(5):\n",
    "    for col in cols:\n",
    "        print(col, \":\", train[col][i])\n",
    "    print('\\n')"
   ]
  },
  {
   "cell_type": "markdown",
   "id": "b8cf879c",
   "metadata": {},
   "source": [
    "## 데이터 길이 확인"
   ]
  },
  {
   "cell_type": "code",
   "execution_count": 5,
   "id": "d758a599",
   "metadata": {},
   "outputs": [
    {
     "name": "stdout",
     "output_type": "stream",
     "text": [
      "리뷰의 최소 길이 :0\n",
      "리뷰의 최대 길이 :146\n",
      "리뷰의 평균 길이 :35.20335333333333\n"
     ]
    },
    {
     "data": {
      "image/png": "[encoded data removed]",
      "text/plain": [
       "<Figure size 432x288 with 1 Axes>"
      ]
     },
     "metadata": {
      "needs_background": "light"
     },
     "output_type": "display_data"
    }
   ],
   "source": [
    "print('리뷰의 최소 길이 :{}'.format(min(len(l) for l in train['document'])))\n",
    "print('리뷰의 최대 길이 :{}'.format(max(len(l) for l in train['document'])))\n",
    "print('리뷰의 평균 길이 :{}'.format(sum(map(len, train['document']))/len(train['document'])))\n",
    "\n",
    "plt.hist([len(s) for s in train['document']], bins=50)\n",
    "plt.xlabel('length of samples')\n",
    "plt.ylabel('number of samples')\n",
    "plt.show()"
   ]
  },
  {
   "cell_type": "code",
   "execution_count": 6,
   "id": "4b2467a9",
   "metadata": {
    "scrolled": true
   },
   "outputs": [
    {
     "name": "stdout",
     "output_type": "stream",
     "text": [
      "25857\n",
      "55737\n",
      "110014\n",
      "126782\n",
      "140721\n"
     ]
    }
   ],
   "source": [
    "for l, v in enumerate(train['document']):\n",
    "    if len(v) == 0:\n",
    "        print(l)"
   ]
  },
  {
   "cell_type": "code",
   "execution_count": 7,
   "id": "e2e5bef0",
   "metadata": {},
   "outputs": [
    {
     "data": {
      "text/plain": [
       "''"
      ]
     },
     "execution_count": 7,
     "metadata": {},
     "output_type": "execute_result"
    }
   ],
   "source": [
    "train['document'][25857]"
   ]
  },
  {
   "cell_type": "markdown",
   "id": "96378cc1",
   "metadata": {},
   "source": [
    "길이가 0인 데이터는 아무것도 없는 데이터인것을 확인하였습니다.\n",
    "\n",
    "해당 데이터는 추후 전처리에서 제거해주도록 하겠습니다."
   ]
  },
  {
   "cell_type": "markdown",
   "id": "3287b96f",
   "metadata": {},
   "source": [
    "## 타겟 데이터 확인"
   ]
  },
  {
   "cell_type": "code",
   "execution_count": 8,
   "id": "e474e566",
   "metadata": {},
   "outputs": [
    {
     "name": "stdout",
     "output_type": "stream",
     "text": [
      "dict_values([75173, 74827])\n"
     ]
    }
   ],
   "source": [
    "result = Counter(train['label']).values()\n",
    "print(result)"
   ]
  },
  {
   "cell_type": "markdown",
   "id": "e4c45fb7",
   "metadata": {},
   "source": [
    "0(부정)인 데이터가 75,173개, 1(긍정)인 데이터가 74,827개가 있으므로 밸런스한 데이터인것을 확인할 수 있습니다."
   ]
  },
  {
   "cell_type": "markdown",
   "id": "f18b1139",
   "metadata": {},
   "source": [
    "# 2. huggingface에서 model 및 tokenizer 불러오기\n",
    "huggingface에서 사전학습된 모델을 불러옵니다.\n",
    "\n",
    "저는 klue/bert 모델과 klue/roberta 모델을 불러와서 두 모델의 성능을 비교해보도록 하겠습니다."
   ]
  },
  {
   "cell_type": "code",
   "execution_count": 9,
   "id": "e1017e90",
   "metadata": {},
   "outputs": [
    {
     "name": "stderr",
     "output_type": "stream",
     "text": [
      "Some weights of the model checkpoint at klue/bert-base were not used when initializing BertForSequenceClassification: ['cls.predictions.transform.dense.bias', 'cls.predictions.decoder.weight', 'cls.predictions.bias', 'cls.predictions.transform.LayerNorm.weight', 'cls.seq_relationship.weight', 'cls.predictions.transform.dense.weight', 'cls.predictions.decoder.bias', 'cls.seq_relationship.bias', 'cls.predictions.transform.LayerNorm.bias']\n",
      "- This IS expected if you are initializing BertForSequenceClassification from the checkpoint of a model trained on another task or with another architecture (e.g. initializing a BertForSequenceClassification model from a BertForPreTraining model).\n",
      "- This IS NOT expected if you are initializing BertForSequenceClassification from the checkpoint of a model that you expect to be exactly identical (initializing a BertForSequenceClassification model from a BertForSequenceClassification model).\n",
      "Some weights of BertForSequenceClassification were not initialized from the model checkpoint at klue/bert-base and are newly initialized: ['classifier.weight', 'classifier.bias']\n",
      "You should probably TRAIN this model on a down-stream task to be able to use it for predictions and inference.\n"
     ]
    }
   ],
   "source": [
    "bert_tokenizer = AutoTokenizer.from_pretrained('klue/bert-base')\n",
    "bert_model = AutoModelForSequenceClassification.from_pretrained('klue/bert-base', num_labels = 2)"
   ]
  },
  {
   "cell_type": "code",
   "execution_count": 69,
   "id": "355d9b22",
   "metadata": {},
   "outputs": [
    {
     "name": "stderr",
     "output_type": "stream",
     "text": [
      "loading file https://huggingface.co/klue/roberta-base/resolve/main/vocab.txt from cache at /aiffel/.cache/huggingface/transformers/e8441a174492958462b6b16b6db8f1e7253cd149ca779522cadd812d55091b89.d1b86bed49516351c7bb29b19d7e7be2ab53b931bcb1f9b2aacfb71f2124d25a\n",
      "loading file https://huggingface.co/klue/roberta-base/resolve/main/tokenizer.json from cache at /aiffel/.cache/huggingface/transformers/233a5b2c17873a8477b62dd92a02092a9937759e924a5f22b111becebb8aba5e.44c30ade4958fcfd446e66025e10a5b380cdd0bbe9b3fb7a794f357e7f0f34c2\n",
      "loading file https://huggingface.co/klue/roberta-base/resolve/main/added_tokens.json from cache at None\n",
      "loading file https://huggingface.co/klue/roberta-base/resolve/main/special_tokens_map.json from cache at /aiffel/.cache/huggingface/transformers/9d0c87e44b00acfbfbae931b2e4068eb6311a0c3e71e23e5400bdf57cab4bfbf.70c17d6e4d492c8f24f5bb97ab56c7f272e947112c6faf9dd846da42ba13eb23\n",
      "loading file https://huggingface.co/klue/roberta-base/resolve/main/tokenizer_config.json from cache at /aiffel/.cache/huggingface/transformers/9a9f77abeddd1bbd8de28608e78dd3604287ad91abd4796cd25ad936715b7640.5b0ba083b234382bb4c99ee0c9f4fca4cadaa053dd17c32dabfe0de2f629af1f\n",
      "loading configuration file https://huggingface.co/klue/roberta-base/resolve/main/config.json from cache at /aiffel/.cache/huggingface/transformers/a96469ca2a238496d435a0e9e202f261119c146a0326444b6d68ae1adc35e04f.85b0b02ba2a483f3adb8a60ab70dbd875768fcd5e6cdb21a593c6e02fdffac3a\n",
      "Model config RobertaConfig {\n",
      "  \"architectures\": [\n",
      "    \"RobertaForMaskedLM\"\n",
      "  ],\n",
      "  \"attention_probs_dropout_prob\": 0.1,\n",
      "  \"bos_token_id\": 0,\n",
      "  \"classifier_dropout\": null,\n",
      "  \"eos_token_id\": 2,\n",
      "  \"gradient_checkpointing\": false,\n",
      "  \"hidden_act\": \"gelu\",\n",
      "  \"hidden_dropout_prob\": 0.1,\n",
      "  \"hidden_size\": 768,\n",
      "  \"initializer_range\": 0.02,\n",
      "  \"intermediate_size\": 3072,\n",
      "  \"layer_norm_eps\": 1e-05,\n",
      "  \"max_position_embeddings\": 514,\n",
      "  \"model_type\": \"roberta\",\n",
      "  \"num_attention_heads\": 12,\n",
      "  \"num_hidden_layers\": 12,\n",
      "  \"pad_token_id\": 1,\n",
      "  \"position_embedding_type\": \"absolute\",\n",
      "  \"tokenizer_class\": \"BertTokenizer\",\n",
      "  \"transformers_version\": \"4.11.3\",\n",
      "  \"type_vocab_size\": 1,\n",
      "  \"use_cache\": true,\n",
      "  \"vocab_size\": 32000\n",
      "}\n",
      "\n",
      "loading weights file https://huggingface.co/klue/roberta-base/resolve/main/pytorch_model.bin from cache at /aiffel/.cache/huggingface/transformers/b204e0dc0a3b8fd45b35e7fcefd97c5f839b86c14aea510f1eb38fb8469e23d8.57d3cd0dfa80e5a249a776870dc87b6da993900685a271086750174009115320\n",
      "Some weights of the model checkpoint at klue/roberta-base were not used when initializing RobertaForSequenceClassification: ['lm_head.decoder.weight', 'lm_head.bias', 'lm_head.dense.bias', 'lm_head.layer_norm.bias', 'lm_head.decoder.bias', 'lm_head.dense.weight', 'lm_head.layer_norm.weight']\n",
      "- This IS expected if you are initializing RobertaForSequenceClassification from the checkpoint of a model trained on another task or with another architecture (e.g. initializing a BertForSequenceClassification model from a BertForPreTraining model).\n",
      "- This IS NOT expected if you are initializing RobertaForSequenceClassification from the checkpoint of a model that you expect to be exactly identical (initializing a BertForSequenceClassification model from a BertForSequenceClassification model).\n",
      "Some weights of RobertaForSequenceClassification were not initialized from the model checkpoint at klue/roberta-base and are newly initialized: ['classifier.dense.weight', 'classifier.out_proj.bias', 'classifier.out_proj.weight', 'classifier.dense.bias']\n",
      "You should probably TRAIN this model on a down-stream task to be able to use it for predictions and inference.\n"
     ]
    }
   ],
   "source": [
    "roberta_tokenizer = AutoTokenizer.from_pretrained('klue/roberta-base')\n",
    "roberta_model = AutoModelForSequenceClassification.from_pretrained('klue/roberta-base', num_labels = 2)"
   ]
  },
  {
   "cell_type": "markdown",
   "id": "589ce0a8",
   "metadata": {},
   "source": [
    "# 3. 데이터 전처리\n",
    "길이가 0인 데이터를 제거해주도록 하겠습니다."
   ]
  },
  {
   "cell_type": "code",
   "execution_count": 59,
   "id": "3115534b",
   "metadata": {},
   "outputs": [
    {
     "name": "stderr",
     "output_type": "stream",
     "text": [
      "Loading cached processed dataset at /aiffel/.cache/huggingface/datasets/nsmc/default/1.1.0/bfd4729bf1a67114e5267e6916b9e4807010aeb238e4a3c2b95fbfa3a014b5f3/cache-b626d26578c9f24a.arrow\n",
      "Loading cached processed dataset at /aiffel/.cache/huggingface/datasets/nsmc/default/1.1.0/bfd4729bf1a67114e5267e6916b9e4807010aeb238e4a3c2b95fbfa3a014b5f3/cache-f1144a1c5e8f9fce.arrow\n"
     ]
    },
    {
     "data": {
      "text/plain": [
       "DatasetDict({\n",
       "    train: Dataset({\n",
       "        features: ['id', 'document', 'label'],\n",
       "        num_rows: 149995\n",
       "    })\n",
       "    test: Dataset({\n",
       "        features: ['id', 'document', 'label'],\n",
       "        num_rows: 49997\n",
       "    })\n",
       "})"
      ]
     },
     "execution_count": 59,
     "metadata": {},
     "output_type": "execute_result"
    }
   ],
   "source": [
    "row_dataset = row_dataset.filter(lambda x: len(x['document']) > 0)\n",
    "row_dataset"
   ]
  },
  {
   "cell_type": "markdown",
   "id": "7b951a13",
   "metadata": {},
   "source": [
    "최종 train data는 149,995개 / test data는 49,997개 입니다.\n",
    "\n",
    "다만 해당 데이터를 모두 사용하면 학습과 추론에 상당한 시간이 걸리기 때문에 train 50,000개 / test 10,000개를 추출하여 사용하도록 하겠습니다."
   ]
  },
  {
   "cell_type": "code",
   "execution_count": 12,
   "id": "829c4488",
   "metadata": {},
   "outputs": [
    {
     "data": {
      "application/vnd.jupyter.widget-view+json": {
       "model_id": "fdc9cebf5fa7440baa3d6f4c0fd64aa0",
       "version_major": 2,
       "version_minor": 0
      },
      "text/plain": [
       "  0%|          | 0/150 [00:00<?, ?ba/s]"
      ]
     },
     "metadata": {},
     "output_type": "display_data"
    },
    {
     "data": {
      "application/vnd.jupyter.widget-view+json": {
       "model_id": "b7694f48d5af4c32a9ebce6083228692",
       "version_major": 2,
       "version_minor": 0
      },
      "text/plain": [
       "  0%|          | 0/50 [00:00<?, ?ba/s]"
      ]
     },
     "metadata": {},
     "output_type": "display_data"
    }
   ],
   "source": [
    "def bert_transform(data):\n",
    "    return bert_tokenizer(\n",
    "        data['document'],\n",
    "        truncation = True,\n",
    "        padding = 'max_length',\n",
    "        return_token_type_ids = False,\n",
    "        )\n",
    "\n",
    "bert_row_dataset = row_dataset.map(bert_transform, batched=True)"
   ]
  },
  {
   "cell_type": "code",
   "execution_count": 48,
   "id": "5be36220",
   "metadata": {},
   "outputs": [
    {
     "name": "stderr",
     "output_type": "stream",
     "text": [
      "Loading cached processed dataset at /aiffel/.cache/huggingface/datasets/nsmc/default/1.1.0/bfd4729bf1a67114e5267e6916b9e4807010aeb238e4a3c2b95fbfa3a014b5f3/cache-f84ed4a324e82307.arrow\n"
     ]
    },
    {
     "data": {
      "application/vnd.jupyter.widget-view+json": {
       "model_id": "920916af5eff4c2b8c68cc5e1149b8f1",
       "version_major": 2,
       "version_minor": 0
      },
      "text/plain": [
       "  0%|          | 0/50 [00:00<?, ?ba/s]"
      ]
     },
     "metadata": {},
     "output_type": "display_data"
    }
   ],
   "source": [
    "def roberta_transform(data):\n",
    "    return roberta_tokenizer(\n",
    "        data['document'],\n",
    "        truncation = True,\n",
    "        padding = 'max_length',\n",
    "        return_token_type_ids = False,\n",
    "        )\n",
    "\n",
    "roberta_row_dataset = row_dataset.map(roberta_transform, batched=True)"
   ]
  },
  {
   "cell_type": "code",
   "execution_count": 14,
   "id": "f137a51b",
   "metadata": {},
   "outputs": [],
   "source": [
    "bert_train_dataset = bert_row_dataset['train'].shuffle(random_seed).select(range(50000))\n",
    "bert_test_dataset = bert_row_dataset['test'].shuffle(random_seed).select(range(10000))"
   ]
  },
  {
   "cell_type": "code",
   "execution_count": 15,
   "id": "1610e3ba",
   "metadata": {},
   "outputs": [],
   "source": [
    "bert_train_dataset, bert_val_dataset= bert_train_dataset.train_test_split(test_size=0.2).values()"
   ]
  },
  {
   "cell_type": "code",
   "execution_count": 16,
   "id": "dcd18171",
   "metadata": {},
   "outputs": [
    {
     "data": {
      "text/plain": [
       "Dataset({\n",
       "    features: ['attention_mask', 'document', 'id', 'input_ids', 'label'],\n",
       "    num_rows: 10000\n",
       "})"
      ]
     },
     "execution_count": 16,
     "metadata": {},
     "output_type": "execute_result"
    }
   ],
   "source": [
    "bert_val_dataset"
   ]
  },
  {
   "cell_type": "code",
   "execution_count": 17,
   "id": "998c2969",
   "metadata": {},
   "outputs": [],
   "source": [
    "roberta_train_dataset = roberta_row_dataset['train'].shuffle(random_seed).select(range(50000))\n",
    "roberta_test_dataset = roberta_row_dataset['test'].shuffle(random_seed).select(range(10000))"
   ]
  },
  {
   "cell_type": "code",
   "execution_count": 18,
   "id": "23c1e49f",
   "metadata": {},
   "outputs": [],
   "source": [
    "roberta_train_dataset, roberta_val_dataset= roberta_train_dataset.train_test_split(test_size=0.2).values()"
   ]
  },
  {
   "cell_type": "code",
   "execution_count": 19,
   "id": "810d6f33",
   "metadata": {},
   "outputs": [
    {
     "data": {
      "text/plain": [
       "Dataset({\n",
       "    features: ['attention_mask', 'document', 'id', 'input_ids', 'label'],\n",
       "    num_rows: 10000\n",
       "})"
      ]
     },
     "execution_count": 19,
     "metadata": {},
     "output_type": "execute_result"
    }
   ],
   "source": [
    "roberta_val_dataset"
   ]
  },
  {
   "cell_type": "markdown",
   "id": "681f0b31",
   "metadata": {},
   "source": [
    "# 4. model 학습"
   ]
  },
  {
   "cell_type": "code",
   "execution_count": 20,
   "id": "faaf3f37",
   "metadata": {},
   "outputs": [],
   "source": [
    "output_dir = os.getenv('HOME')+'/aiffel/going_deeper/model'\n",
    "\n",
    "training_arguments = TrainingArguments(\n",
    "    output_dir,                                         # output이 저장될 경로\n",
    "    evaluation_strategy=\"epoch\",           #evaluation하는 빈도\n",
    "    learning_rate = 2e-5,                         #learning_rate\n",
    "    per_device_train_batch_size = 8,   # 각 device 당 batch size\n",
    "    per_device_eval_batch_size = 8,    # evaluation 시에 batch size\n",
    "    num_train_epochs = 3,                     # train 시킬 총 epochs\n",
    "    weight_decay = 0.01,                        # weight decay\n",
    ")"
   ]
  },
  {
   "cell_type": "code",
   "execution_count": 21,
   "id": "0d92d324",
   "metadata": {},
   "outputs": [],
   "source": [
    "metric = load_metric('accuracy')\n",
    "\n",
    "def compute_metrics(eval_pred):\n",
    "    logits, labels = eval_pred\n",
    "    predictions = np.argmax(logits, axis=-1)\n",
    "    return metric.compute(predictions=predictions, references=labels)"
   ]
  },
  {
   "cell_type": "code",
   "execution_count": 22,
   "id": "b9cf2425",
   "metadata": {},
   "outputs": [
    {
     "data": {
      "text/plain": [
       "Metric(name: \"accuracy\", features: {'predictions': Value(dtype='int32', id=None), 'references': Value(dtype='int32', id=None)}, usage: \"\"\"\n",
       "Args:\n",
       "    predictions: Predicted labels, as returned by a model.\n",
       "    references: Ground truth labels.\n",
       "    normalize: If False, return the number of correctly classified samples.\n",
       "        Otherwise, return the fraction of correctly classified samples.\n",
       "    sample_weight: Sample weights.\n",
       "Returns:\n",
       "    accuracy: Accuracy score.\n",
       "Examples:\n",
       "\n",
       "    >>> accuracy_metric = datasets.load_metric(\"accuracy\")\n",
       "    >>> results = accuracy_metric.compute(references=[0, 1], predictions=[0, 1])\n",
       "    >>> print(results)\n",
       "    {'accuracy': 1.0}\n",
       "\"\"\", stored examples: 0)"
      ]
     },
     "execution_count": 22,
     "metadata": {},
     "output_type": "execute_result"
    }
   ],
   "source": [
    "metric"
   ]
  },
  {
   "cell_type": "markdown",
   "id": "b372c348",
   "metadata": {},
   "source": [
    "## 4-1. bert model 학습"
   ]
  },
  {
   "cell_type": "code",
   "execution_count": 23,
   "id": "37602dca",
   "metadata": {},
   "outputs": [
    {
     "name": "stderr",
     "output_type": "stream",
     "text": [
      "The following columns in the training set  don't have a corresponding argument in `BertForSequenceClassification.forward` and have been ignored: document, id.\n",
      "***** Running training *****\n",
      "  Num examples = 40000\n",
      "  Num Epochs = 3\n",
      "  Instantaneous batch size per device = 8\n",
      "  Total train batch size (w. parallel, distributed & accumulation) = 8\n",
      "  Gradient Accumulation steps = 1\n",
      "  Total optimization steps = 15000\n"
     ]
    },
    {
     "data": {
      "text/html": [
       "\n",
       "    <div>\n",
       "      \n",
       "      <progress value='15000' max='15000' style='width:300px; height:20px; vertical-align: middle;'></progress>\n",
       "      [15000/15000 3:40:18, Epoch 3/3]\n",
       "    </div>\n",
       "    <table border=\"1\" class=\"dataframe\">\n",
       "  <thead>\n",
       "    <tr style=\"text-align: left;\">\n",
       "      <th>Epoch</th>\n",
       "      <th>Training Loss</th>\n",
       "      <th>Validation Loss</th>\n",
       "      <th>Accuracy</th>\n",
       "    </tr>\n",
       "  </thead>\n",
       "  <tbody>\n",
       "    <tr>\n",
       "      <td>1</td>\n",
       "      <td>0.333900</td>\n",
       "      <td>0.325958</td>\n",
       "      <td>0.886500</td>\n",
       "    </tr>\n",
       "    <tr>\n",
       "      <td>2</td>\n",
       "      <td>0.233400</td>\n",
       "      <td>0.398353</td>\n",
       "      <td>0.890800</td>\n",
       "    </tr>\n",
       "    <tr>\n",
       "      <td>3</td>\n",
       "      <td>0.128100</td>\n",
       "      <td>0.545082</td>\n",
       "      <td>0.889300</td>\n",
       "    </tr>\n",
       "  </tbody>\n",
       "</table><p>"
      ],
      "text/plain": [
       "<IPython.core.display.HTML object>"
      ]
     },
     "metadata": {},
     "output_type": "display_data"
    },
    {
     "name": "stderr",
     "output_type": "stream",
     "text": [
      "Saving model checkpoint to /aiffel/aiffel/going_deeper/model/checkpoint-500\n",
      "Configuration saved in /aiffel/aiffel/going_deeper/model/checkpoint-500/config.json\n",
      "Model weights saved in /aiffel/aiffel/going_deeper/model/checkpoint-500/pytorch_model.bin\n",
      "Saving model checkpoint to /aiffel/aiffel/going_deeper/model/checkpoint-1000\n",
      "Configuration saved in /aiffel/aiffel/going_deeper/model/checkpoint-1000/config.json\n",
      "Model weights saved in /aiffel/aiffel/going_deeper/model/checkpoint-1000/pytorch_model.bin\n",
      "Saving model checkpoint to /aiffel/aiffel/going_deeper/model/checkpoint-1500\n",
      "Configuration saved in /aiffel/aiffel/going_deeper/model/checkpoint-1500/config.json\n",
      "Model weights saved in /aiffel/aiffel/going_deeper/model/checkpoint-1500/pytorch_model.bin\n",
      "Saving model checkpoint to /aiffel/aiffel/going_deeper/model/checkpoint-2000\n",
      "Configuration saved in /aiffel/aiffel/going_deeper/model/checkpoint-2000/config.json\n",
      "Model weights saved in /aiffel/aiffel/going_deeper/model/checkpoint-2000/pytorch_model.bin\n",
      "Saving model checkpoint to /aiffel/aiffel/going_deeper/model/checkpoint-2500\n",
      "Configuration saved in /aiffel/aiffel/going_deeper/model/checkpoint-2500/config.json\n",
      "Model weights saved in /aiffel/aiffel/going_deeper/model/checkpoint-2500/pytorch_model.bin\n",
      "Saving model checkpoint to /aiffel/aiffel/going_deeper/model/checkpoint-3000\n",
      "Configuration saved in /aiffel/aiffel/going_deeper/model/checkpoint-3000/config.json\n",
      "Model weights saved in /aiffel/aiffel/going_deeper/model/checkpoint-3000/pytorch_model.bin\n",
      "Saving model checkpoint to /aiffel/aiffel/going_deeper/model/checkpoint-3500\n",
      "Configuration saved in /aiffel/aiffel/going_deeper/model/checkpoint-3500/config.json\n",
      "Model weights saved in /aiffel/aiffel/going_deeper/model/checkpoint-3500/pytorch_model.bin\n",
      "Saving model checkpoint to /aiffel/aiffel/going_deeper/model/checkpoint-4000\n",
      "Configuration saved in /aiffel/aiffel/going_deeper/model/checkpoint-4000/config.json\n",
      "Model weights saved in /aiffel/aiffel/going_deeper/model/checkpoint-4000/pytorch_model.bin\n",
      "Saving model checkpoint to /aiffel/aiffel/going_deeper/model/checkpoint-4500\n",
      "Configuration saved in /aiffel/aiffel/going_deeper/model/checkpoint-4500/config.json\n",
      "Model weights saved in /aiffel/aiffel/going_deeper/model/checkpoint-4500/pytorch_model.bin\n",
      "Saving model checkpoint to /aiffel/aiffel/going_deeper/model/checkpoint-5000\n",
      "Configuration saved in /aiffel/aiffel/going_deeper/model/checkpoint-5000/config.json\n",
      "Model weights saved in /aiffel/aiffel/going_deeper/model/checkpoint-5000/pytorch_model.bin\n",
      "The following columns in the evaluation set  don't have a corresponding argument in `BertForSequenceClassification.forward` and have been ignored: document, id.\n",
      "***** Running Evaluation *****\n",
      "  Num examples = 10000\n",
      "  Batch size = 8\n",
      "Saving model checkpoint to /aiffel/aiffel/going_deeper/model/checkpoint-5500\n",
      "Configuration saved in /aiffel/aiffel/going_deeper/model/checkpoint-5500/config.json\n",
      "Model weights saved in /aiffel/aiffel/going_deeper/model/checkpoint-5500/pytorch_model.bin\n",
      "Saving model checkpoint to /aiffel/aiffel/going_deeper/model/checkpoint-6000\n",
      "Configuration saved in /aiffel/aiffel/going_deeper/model/checkpoint-6000/config.json\n",
      "Model weights saved in /aiffel/aiffel/going_deeper/model/checkpoint-6000/pytorch_model.bin\n",
      "Saving model checkpoint to /aiffel/aiffel/going_deeper/model/checkpoint-6500\n",
      "Configuration saved in /aiffel/aiffel/going_deeper/model/checkpoint-6500/config.json\n",
      "Model weights saved in /aiffel/aiffel/going_deeper/model/checkpoint-6500/pytorch_model.bin\n",
      "Saving model checkpoint to /aiffel/aiffel/going_deeper/model/checkpoint-7000\n",
      "Configuration saved in /aiffel/aiffel/going_deeper/model/checkpoint-7000/config.json\n",
      "Model weights saved in /aiffel/aiffel/going_deeper/model/checkpoint-7000/pytorch_model.bin\n",
      "Saving model checkpoint to /aiffel/aiffel/going_deeper/model/checkpoint-7500\n",
      "Configuration saved in /aiffel/aiffel/going_deeper/model/checkpoint-7500/config.json\n",
      "Model weights saved in /aiffel/aiffel/going_deeper/model/checkpoint-7500/pytorch_model.bin\n",
      "Saving model checkpoint to /aiffel/aiffel/going_deeper/model/checkpoint-8000\n",
      "Configuration saved in /aiffel/aiffel/going_deeper/model/checkpoint-8000/config.json\n",
      "Model weights saved in /aiffel/aiffel/going_deeper/model/checkpoint-8000/pytorch_model.bin\n",
      "Saving model checkpoint to /aiffel/aiffel/going_deeper/model/checkpoint-8500\n",
      "Configuration saved in /aiffel/aiffel/going_deeper/model/checkpoint-8500/config.json\n",
      "Model weights saved in /aiffel/aiffel/going_deeper/model/checkpoint-8500/pytorch_model.bin\n",
      "Saving model checkpoint to /aiffel/aiffel/going_deeper/model/checkpoint-9000\n",
      "Configuration saved in /aiffel/aiffel/going_deeper/model/checkpoint-9000/config.json\n",
      "Model weights saved in /aiffel/aiffel/going_deeper/model/checkpoint-9000/pytorch_model.bin\n",
      "Saving model checkpoint to /aiffel/aiffel/going_deeper/model/checkpoint-9500\n",
      "Configuration saved in /aiffel/aiffel/going_deeper/model/checkpoint-9500/config.json\n",
      "Model weights saved in /aiffel/aiffel/going_deeper/model/checkpoint-9500/pytorch_model.bin\n",
      "Saving model checkpoint to /aiffel/aiffel/going_deeper/model/checkpoint-10000\n",
      "Configuration saved in /aiffel/aiffel/going_deeper/model/checkpoint-10000/config.json\n",
      "Model weights saved in /aiffel/aiffel/going_deeper/model/checkpoint-10000/pytorch_model.bin\n",
      "The following columns in the evaluation set  don't have a corresponding argument in `BertForSequenceClassification.forward` and have been ignored: document, id.\n",
      "***** Running Evaluation *****\n",
      "  Num examples = 10000\n",
      "  Batch size = 8\n",
      "Saving model checkpoint to /aiffel/aiffel/going_deeper/model/checkpoint-10500\n",
      "Configuration saved in /aiffel/aiffel/going_deeper/model/checkpoint-10500/config.json\n",
      "Model weights saved in /aiffel/aiffel/going_deeper/model/checkpoint-10500/pytorch_model.bin\n",
      "Saving model checkpoint to /aiffel/aiffel/going_deeper/model/checkpoint-11000\n",
      "Configuration saved in /aiffel/aiffel/going_deeper/model/checkpoint-11000/config.json\n",
      "Model weights saved in /aiffel/aiffel/going_deeper/model/checkpoint-11000/pytorch_model.bin\n",
      "Saving model checkpoint to /aiffel/aiffel/going_deeper/model/checkpoint-11500\n",
      "Configuration saved in /aiffel/aiffel/going_deeper/model/checkpoint-11500/config.json\n",
      "Model weights saved in /aiffel/aiffel/going_deeper/model/checkpoint-11500/pytorch_model.bin\n",
      "Saving model checkpoint to /aiffel/aiffel/going_deeper/model/checkpoint-12000\n",
      "Configuration saved in /aiffel/aiffel/going_deeper/model/checkpoint-12000/config.json\n",
      "Model weights saved in /aiffel/aiffel/going_deeper/model/checkpoint-12000/pytorch_model.bin\n",
      "Saving model checkpoint to /aiffel/aiffel/going_deeper/model/checkpoint-12500\n",
      "Configuration saved in /aiffel/aiffel/going_deeper/model/checkpoint-12500/config.json\n",
      "Model weights saved in /aiffel/aiffel/going_deeper/model/checkpoint-12500/pytorch_model.bin\n",
      "Saving model checkpoint to /aiffel/aiffel/going_deeper/model/checkpoint-13000\n",
      "Configuration saved in /aiffel/aiffel/going_deeper/model/checkpoint-13000/config.json\n",
      "Model weights saved in /aiffel/aiffel/going_deeper/model/checkpoint-13000/pytorch_model.bin\n",
      "Saving model checkpoint to /aiffel/aiffel/going_deeper/model/checkpoint-13500\n",
      "Configuration saved in /aiffel/aiffel/going_deeper/model/checkpoint-13500/config.json\n",
      "Model weights saved in /aiffel/aiffel/going_deeper/model/checkpoint-13500/pytorch_model.bin\n",
      "Saving model checkpoint to /aiffel/aiffel/going_deeper/model/checkpoint-14000\n",
      "Configuration saved in /aiffel/aiffel/going_deeper/model/checkpoint-14000/config.json\n",
      "Model weights saved in /aiffel/aiffel/going_deeper/model/checkpoint-14000/pytorch_model.bin\n",
      "Saving model checkpoint to /aiffel/aiffel/going_deeper/model/checkpoint-14500\n",
      "Configuration saved in /aiffel/aiffel/going_deeper/model/checkpoint-14500/config.json\n",
      "Model weights saved in /aiffel/aiffel/going_deeper/model/checkpoint-14500/pytorch_model.bin\n",
      "Saving model checkpoint to /aiffel/aiffel/going_deeper/model/checkpoint-15000\n",
      "Configuration saved in /aiffel/aiffel/going_deeper/model/checkpoint-15000/config.json\n",
      "Model weights saved in /aiffel/aiffel/going_deeper/model/checkpoint-15000/pytorch_model.bin\n",
      "The following columns in the evaluation set  don't have a corresponding argument in `BertForSequenceClassification.forward` and have been ignored: document, id.\n"
     ]
    },
    {
     "name": "stderr",
     "output_type": "stream",
     "text": [
      "***** Running Evaluation *****\n",
      "  Num examples = 10000\n",
      "  Batch size = 8\n",
      "\n",
      "\n",
      "Training completed. Do not forget to share your model on huggingface.co/models =)\n",
      "\n",
      "\n"
     ]
    },
    {
     "data": {
      "text/plain": [
       "TrainOutput(global_step=15000, training_loss=0.24248295389811197, metrics={'train_runtime': 13219.5427, 'train_samples_per_second': 9.077, 'train_steps_per_second': 1.135, 'total_flos': 3.15733266432e+16, 'train_loss': 0.24248295389811197, 'epoch': 3.0})"
      ]
     },
     "execution_count": 23,
     "metadata": {},
     "output_type": "execute_result"
    }
   ],
   "source": [
    "bert_trainer = Trainer(\n",
    "    model=bert_model,           # 학습시킬 model\n",
    "    args=training_arguments,           # TrainingArguments을 통해 설정한 arguments\n",
    "    train_dataset=bert_train_dataset,    # training dataset\n",
    "    eval_dataset=bert_val_dataset,       # evaluation dataset\n",
    "    compute_metrics=compute_metrics,\n",
    ")\n",
    "\n",
    "bert_trainer.train()"
   ]
  },
  {
   "cell_type": "code",
   "execution_count": 24,
   "id": "5d23d29f",
   "metadata": {},
   "outputs": [
    {
     "name": "stderr",
     "output_type": "stream",
     "text": [
      "The following columns in the evaluation set  don't have a corresponding argument in `BertForSequenceClassification.forward` and have been ignored: document, id.\n",
      "***** Running Evaluation *****\n",
      "  Num examples = 10000\n",
      "  Batch size = 8\n"
     ]
    },
    {
     "data": {
      "text/html": [
       "\n",
       "    <div>\n",
       "      \n",
       "      <progress value='1250' max='1250' style='width:300px; height:20px; vertical-align: middle;'></progress>\n",
       "      [1250/1250 06:28]\n",
       "    </div>\n",
       "    "
      ],
      "text/plain": [
       "<IPython.core.display.HTML object>"
      ]
     },
     "metadata": {},
     "output_type": "display_data"
    },
    {
     "data": {
      "text/plain": [
       "{'eval_loss': 0.5151875019073486,\n",
       " 'eval_accuracy': 0.8946,\n",
       " 'eval_runtime': 389.0046,\n",
       " 'eval_samples_per_second': 25.707,\n",
       " 'eval_steps_per_second': 3.213,\n",
       " 'epoch': 3.0}"
      ]
     },
     "execution_count": 24,
     "metadata": {},
     "output_type": "execute_result"
    }
   ],
   "source": [
    "bert_trainer.evaluate(bert_test_dataset)"
   ]
  },
  {
   "cell_type": "markdown",
   "id": "746206c6",
   "metadata": {},
   "source": [
    "## 4-2. roberta 학습"
   ]
  },
  {
   "cell_type": "code",
   "execution_count": 25,
   "id": "886d02fa",
   "metadata": {},
   "outputs": [
    {
     "name": "stderr",
     "output_type": "stream",
     "text": [
      "The following columns in the training set  don't have a corresponding argument in `RobertaForSequenceClassification.forward` and have been ignored: document, id.\n",
      "***** Running training *****\n",
      "  Num examples = 40000\n",
      "  Num Epochs = 3\n",
      "  Instantaneous batch size per device = 8\n",
      "  Total train batch size (w. parallel, distributed & accumulation) = 8\n",
      "  Gradient Accumulation steps = 1\n",
      "  Total optimization steps = 15000\n"
     ]
    },
    {
     "data": {
      "text/html": [
       "\n",
       "    <div>\n",
       "      \n",
       "      <progress value='15000' max='15000' style='width:300px; height:20px; vertical-align: middle;'></progress>\n",
       "      [15000/15000 3:46:14, Epoch 3/3]\n",
       "    </div>\n",
       "    <table border=\"1\" class=\"dataframe\">\n",
       "  <thead>\n",
       "    <tr style=\"text-align: left;\">\n",
       "      <th>Epoch</th>\n",
       "      <th>Training Loss</th>\n",
       "      <th>Validation Loss</th>\n",
       "      <th>Accuracy</th>\n",
       "    </tr>\n",
       "  </thead>\n",
       "  <tbody>\n",
       "    <tr>\n",
       "      <td>1</td>\n",
       "      <td>0.336500</td>\n",
       "      <td>0.290169</td>\n",
       "      <td>0.886900</td>\n",
       "    </tr>\n",
       "    <tr>\n",
       "      <td>2</td>\n",
       "      <td>0.264600</td>\n",
       "      <td>0.394025</td>\n",
       "      <td>0.892700</td>\n",
       "    </tr>\n",
       "    <tr>\n",
       "      <td>3</td>\n",
       "      <td>0.182900</td>\n",
       "      <td>0.457633</td>\n",
       "      <td>0.895600</td>\n",
       "    </tr>\n",
       "  </tbody>\n",
       "</table><p>"
      ],
      "text/plain": [
       "<IPython.core.display.HTML object>"
      ]
     },
     "metadata": {},
     "output_type": "display_data"
    },
    {
     "name": "stderr",
     "output_type": "stream",
     "text": [
      "Saving model checkpoint to /aiffel/aiffel/going_deeper/model/checkpoint-500\n",
      "Configuration saved in /aiffel/aiffel/going_deeper/model/checkpoint-500/config.json\n",
      "Model weights saved in /aiffel/aiffel/going_deeper/model/checkpoint-500/pytorch_model.bin\n",
      "Saving model checkpoint to /aiffel/aiffel/going_deeper/model/checkpoint-1000\n",
      "Configuration saved in /aiffel/aiffel/going_deeper/model/checkpoint-1000/config.json\n",
      "Model weights saved in /aiffel/aiffel/going_deeper/model/checkpoint-1000/pytorch_model.bin\n",
      "Saving model checkpoint to /aiffel/aiffel/going_deeper/model/checkpoint-1500\n",
      "Configuration saved in /aiffel/aiffel/going_deeper/model/checkpoint-1500/config.json\n",
      "Model weights saved in /aiffel/aiffel/going_deeper/model/checkpoint-1500/pytorch_model.bin\n",
      "Saving model checkpoint to /aiffel/aiffel/going_deeper/model/checkpoint-2000\n",
      "Configuration saved in /aiffel/aiffel/going_deeper/model/checkpoint-2000/config.json\n",
      "Model weights saved in /aiffel/aiffel/going_deeper/model/checkpoint-2000/pytorch_model.bin\n",
      "Saving model checkpoint to /aiffel/aiffel/going_deeper/model/checkpoint-2500\n",
      "Configuration saved in /aiffel/aiffel/going_deeper/model/checkpoint-2500/config.json\n",
      "Model weights saved in /aiffel/aiffel/going_deeper/model/checkpoint-2500/pytorch_model.bin\n",
      "Saving model checkpoint to /aiffel/aiffel/going_deeper/model/checkpoint-3000\n",
      "Configuration saved in /aiffel/aiffel/going_deeper/model/checkpoint-3000/config.json\n",
      "Model weights saved in /aiffel/aiffel/going_deeper/model/checkpoint-3000/pytorch_model.bin\n",
      "Saving model checkpoint to /aiffel/aiffel/going_deeper/model/checkpoint-3500\n",
      "Configuration saved in /aiffel/aiffel/going_deeper/model/checkpoint-3500/config.json\n",
      "Model weights saved in /aiffel/aiffel/going_deeper/model/checkpoint-3500/pytorch_model.bin\n",
      "Saving model checkpoint to /aiffel/aiffel/going_deeper/model/checkpoint-4000\n",
      "Configuration saved in /aiffel/aiffel/going_deeper/model/checkpoint-4000/config.json\n",
      "Model weights saved in /aiffel/aiffel/going_deeper/model/checkpoint-4000/pytorch_model.bin\n",
      "Saving model checkpoint to /aiffel/aiffel/going_deeper/model/checkpoint-4500\n",
      "Configuration saved in /aiffel/aiffel/going_deeper/model/checkpoint-4500/config.json\n",
      "Model weights saved in /aiffel/aiffel/going_deeper/model/checkpoint-4500/pytorch_model.bin\n",
      "Saving model checkpoint to /aiffel/aiffel/going_deeper/model/checkpoint-5000\n",
      "Configuration saved in /aiffel/aiffel/going_deeper/model/checkpoint-5000/config.json\n",
      "Model weights saved in /aiffel/aiffel/going_deeper/model/checkpoint-5000/pytorch_model.bin\n",
      "The following columns in the evaluation set  don't have a corresponding argument in `RobertaForSequenceClassification.forward` and have been ignored: document, id.\n",
      "***** Running Evaluation *****\n",
      "  Num examples = 10000\n",
      "  Batch size = 8\n",
      "Saving model checkpoint to /aiffel/aiffel/going_deeper/model/checkpoint-5500\n",
      "Configuration saved in /aiffel/aiffel/going_deeper/model/checkpoint-5500/config.json\n",
      "Model weights saved in /aiffel/aiffel/going_deeper/model/checkpoint-5500/pytorch_model.bin\n",
      "Saving model checkpoint to /aiffel/aiffel/going_deeper/model/checkpoint-6000\n",
      "Configuration saved in /aiffel/aiffel/going_deeper/model/checkpoint-6000/config.json\n",
      "Model weights saved in /aiffel/aiffel/going_deeper/model/checkpoint-6000/pytorch_model.bin\n",
      "Saving model checkpoint to /aiffel/aiffel/going_deeper/model/checkpoint-6500\n",
      "Configuration saved in /aiffel/aiffel/going_deeper/model/checkpoint-6500/config.json\n",
      "Model weights saved in /aiffel/aiffel/going_deeper/model/checkpoint-6500/pytorch_model.bin\n",
      "Saving model checkpoint to /aiffel/aiffel/going_deeper/model/checkpoint-7000\n",
      "Configuration saved in /aiffel/aiffel/going_deeper/model/checkpoint-7000/config.json\n",
      "Model weights saved in /aiffel/aiffel/going_deeper/model/checkpoint-7000/pytorch_model.bin\n",
      "Saving model checkpoint to /aiffel/aiffel/going_deeper/model/checkpoint-7500\n",
      "Configuration saved in /aiffel/aiffel/going_deeper/model/checkpoint-7500/config.json\n",
      "Model weights saved in /aiffel/aiffel/going_deeper/model/checkpoint-7500/pytorch_model.bin\n",
      "Saving model checkpoint to /aiffel/aiffel/going_deeper/model/checkpoint-8000\n",
      "Configuration saved in /aiffel/aiffel/going_deeper/model/checkpoint-8000/config.json\n",
      "Model weights saved in /aiffel/aiffel/going_deeper/model/checkpoint-8000/pytorch_model.bin\n",
      "Saving model checkpoint to /aiffel/aiffel/going_deeper/model/checkpoint-8500\n",
      "Configuration saved in /aiffel/aiffel/going_deeper/model/checkpoint-8500/config.json\n",
      "Model weights saved in /aiffel/aiffel/going_deeper/model/checkpoint-8500/pytorch_model.bin\n",
      "Saving model checkpoint to /aiffel/aiffel/going_deeper/model/checkpoint-9000\n",
      "Configuration saved in /aiffel/aiffel/going_deeper/model/checkpoint-9000/config.json\n",
      "Model weights saved in /aiffel/aiffel/going_deeper/model/checkpoint-9000/pytorch_model.bin\n",
      "Saving model checkpoint to /aiffel/aiffel/going_deeper/model/checkpoint-9500\n",
      "Configuration saved in /aiffel/aiffel/going_deeper/model/checkpoint-9500/config.json\n",
      "Model weights saved in /aiffel/aiffel/going_deeper/model/checkpoint-9500/pytorch_model.bin\n",
      "Saving model checkpoint to /aiffel/aiffel/going_deeper/model/checkpoint-10000\n",
      "Configuration saved in /aiffel/aiffel/going_deeper/model/checkpoint-10000/config.json\n",
      "Model weights saved in /aiffel/aiffel/going_deeper/model/checkpoint-10000/pytorch_model.bin\n",
      "The following columns in the evaluation set  don't have a corresponding argument in `RobertaForSequenceClassification.forward` and have been ignored: document, id.\n",
      "***** Running Evaluation *****\n",
      "  Num examples = 10000\n",
      "  Batch size = 8\n",
      "Saving model checkpoint to /aiffel/aiffel/going_deeper/model/checkpoint-10500\n",
      "Configuration saved in /aiffel/aiffel/going_deeper/model/checkpoint-10500/config.json\n",
      "Model weights saved in /aiffel/aiffel/going_deeper/model/checkpoint-10500/pytorch_model.bin\n",
      "Saving model checkpoint to /aiffel/aiffel/going_deeper/model/checkpoint-11000\n",
      "Configuration saved in /aiffel/aiffel/going_deeper/model/checkpoint-11000/config.json\n",
      "Model weights saved in /aiffel/aiffel/going_deeper/model/checkpoint-11000/pytorch_model.bin\n",
      "Saving model checkpoint to /aiffel/aiffel/going_deeper/model/checkpoint-11500\n",
      "Configuration saved in /aiffel/aiffel/going_deeper/model/checkpoint-11500/config.json\n",
      "Model weights saved in /aiffel/aiffel/going_deeper/model/checkpoint-11500/pytorch_model.bin\n",
      "Saving model checkpoint to /aiffel/aiffel/going_deeper/model/checkpoint-12000\n",
      "Configuration saved in /aiffel/aiffel/going_deeper/model/checkpoint-12000/config.json\n",
      "Model weights saved in /aiffel/aiffel/going_deeper/model/checkpoint-12000/pytorch_model.bin\n",
      "Saving model checkpoint to /aiffel/aiffel/going_deeper/model/checkpoint-12500\n",
      "Configuration saved in /aiffel/aiffel/going_deeper/model/checkpoint-12500/config.json\n",
      "Model weights saved in /aiffel/aiffel/going_deeper/model/checkpoint-12500/pytorch_model.bin\n",
      "Saving model checkpoint to /aiffel/aiffel/going_deeper/model/checkpoint-13000\n",
      "Configuration saved in /aiffel/aiffel/going_deeper/model/checkpoint-13000/config.json\n",
      "Model weights saved in /aiffel/aiffel/going_deeper/model/checkpoint-13000/pytorch_model.bin\n",
      "Saving model checkpoint to /aiffel/aiffel/going_deeper/model/checkpoint-13500\n",
      "Configuration saved in /aiffel/aiffel/going_deeper/model/checkpoint-13500/config.json\n",
      "Model weights saved in /aiffel/aiffel/going_deeper/model/checkpoint-13500/pytorch_model.bin\n",
      "Saving model checkpoint to /aiffel/aiffel/going_deeper/model/checkpoint-14000\n",
      "Configuration saved in /aiffel/aiffel/going_deeper/model/checkpoint-14000/config.json\n",
      "Model weights saved in /aiffel/aiffel/going_deeper/model/checkpoint-14000/pytorch_model.bin\n",
      "Saving model checkpoint to /aiffel/aiffel/going_deeper/model/checkpoint-14500\n",
      "Configuration saved in /aiffel/aiffel/going_deeper/model/checkpoint-14500/config.json\n",
      "Model weights saved in /aiffel/aiffel/going_deeper/model/checkpoint-14500/pytorch_model.bin\n",
      "Saving model checkpoint to /aiffel/aiffel/going_deeper/model/checkpoint-15000\n",
      "Configuration saved in /aiffel/aiffel/going_deeper/model/checkpoint-15000/config.json\n",
      "Model weights saved in /aiffel/aiffel/going_deeper/model/checkpoint-15000/pytorch_model.bin\n",
      "The following columns in the evaluation set  don't have a corresponding argument in `RobertaForSequenceClassification.forward` and have been ignored: document, id.\n"
     ]
    },
    {
     "name": "stderr",
     "output_type": "stream",
     "text": [
      "***** Running Evaluation *****\n",
      "  Num examples = 10000\n",
      "  Batch size = 8\n",
      "\n",
      "\n",
      "Training completed. Do not forget to share your model on huggingface.co/models =)\n",
      "\n",
      "\n"
     ]
    },
    {
     "data": {
      "text/plain": [
       "TrainOutput(global_step=15000, training_loss=0.275982410176595, metrics={'train_runtime': 13575.9804, 'train_samples_per_second': 8.839, 'train_steps_per_second': 1.105, 'total_flos': 3.15733266432e+16, 'train_loss': 0.275982410176595, 'epoch': 3.0})"
      ]
     },
     "execution_count": 25,
     "metadata": {},
     "output_type": "execute_result"
    }
   ],
   "source": [
    "roberta_trainer = Trainer(\n",
    "    model=roberta_model,           # 학습시킬 model\n",
    "    args=training_arguments,           # TrainingArguments을 통해 설정한 arguments\n",
    "    train_dataset=roberta_train_dataset,    # training dataset\n",
    "    eval_dataset=roberta_val_dataset,       # evaluation dataset\n",
    "    compute_metrics=compute_metrics,\n",
    ")\n",
    "\n",
    "roberta_trainer.train()"
   ]
  },
  {
   "cell_type": "code",
   "execution_count": 26,
   "id": "9975aae8",
   "metadata": {},
   "outputs": [
    {
     "name": "stderr",
     "output_type": "stream",
     "text": [
      "The following columns in the evaluation set  don't have a corresponding argument in `RobertaForSequenceClassification.forward` and have been ignored: document, id.\n",
      "***** Running Evaluation *****\n",
      "  Num examples = 10000\n",
      "  Batch size = 8\n"
     ]
    },
    {
     "data": {
      "text/html": [
       "\n",
       "    <div>\n",
       "      \n",
       "      <progress value='1250' max='1250' style='width:300px; height:20px; vertical-align: middle;'></progress>\n",
       "      [1250/1250 06:21]\n",
       "    </div>\n",
       "    "
      ],
      "text/plain": [
       "<IPython.core.display.HTML object>"
      ]
     },
     "metadata": {},
     "output_type": "display_data"
    },
    {
     "data": {
      "text/plain": [
       "{'eval_loss': 0.44005903601646423,\n",
       " 'eval_accuracy': 0.8983,\n",
       " 'eval_runtime': 382.0675,\n",
       " 'eval_samples_per_second': 26.173,\n",
       " 'eval_steps_per_second': 3.272,\n",
       " 'epoch': 3.0}"
      ]
     },
     "execution_count": 26,
     "metadata": {},
     "output_type": "execute_result"
    }
   ],
   "source": [
    "roberta_trainer.evaluate(roberta_test_dataset)"
   ]
  },
  {
   "cell_type": "markdown",
   "id": "cb5eb2b6",
   "metadata": {},
   "source": [
    "## 4-3. 추가적인 성능 향상 시도\n",
    "BERT모델과 ROBERTA 모델 중 ROBERTA의 성능이 더 좋아 해당 모델을 이용하여 추가적인 성능 향상 시도를 해보겠습니다.\n",
    "1. data_collator 추가 \n",
    "2. 파라미터 변경 및 추가\n",
    "    - warmup_ratio 변수 추가\n",
    "    - group_by_length 변수 추가"
   ]
  },
  {
   "cell_type": "code",
   "execution_count": 65,
   "id": "f4f3afc3",
   "metadata": {},
   "outputs": [
    {
     "name": "stdout",
     "output_type": "stream",
     "text": [
      "Once deleted, variables cannot be recovered. Proceed (y/[n])? y\n"
     ]
    }
   ],
   "source": [
    "%reset"
   ]
  },
  {
   "cell_type": "code",
   "execution_count": 70,
   "id": "4360e7d1",
   "metadata": {},
   "outputs": [
    {
     "data": {
      "application/vnd.jupyter.widget-view+json": {
       "model_id": "8bba3a15b5d543158235df00eb816792",
       "version_major": 2,
       "version_minor": 0
      },
      "text/plain": [
       "  0%|          | 0/150 [00:00<?, ?ba/s]"
      ]
     },
     "metadata": {},
     "output_type": "display_data"
    },
    {
     "data": {
      "application/vnd.jupyter.widget-view+json": {
       "model_id": "33be45544da1473b8bc71ce8f17b59d0",
       "version_major": 2,
       "version_minor": 0
      },
      "text/plain": [
       "  0%|          | 0/50 [00:00<?, ?ba/s]"
      ]
     },
     "metadata": {},
     "output_type": "display_data"
    }
   ],
   "source": [
    "def roberta_transform(data):\n",
    "    return roberta_tokenizer(\n",
    "        data['document'],\n",
    "        truncation = True,\n",
    "        padding = 'max_length',\n",
    "        return_token_type_ids = False,\n",
    "        )\n",
    "\n",
    "roberta_row_dataset = row_dataset.map(roberta_transform, batched=True)"
   ]
  },
  {
   "cell_type": "code",
   "execution_count": 71,
   "id": "ef3e26b2",
   "metadata": {},
   "outputs": [],
   "source": [
    "roberta_train_dataset = roberta_row_dataset['train'].shuffle(random_seed).select(range(50000))\n",
    "roberta_test_dataset = roberta_row_dataset['test'].shuffle(random_seed).select(range(10000))\n",
    "\n",
    "roberta_train_dataset, roberta_val_dataset= roberta_train_dataset.train_test_split(test_size=0.2).values()"
   ]
  },
  {
   "cell_type": "code",
   "execution_count": 72,
   "id": "0b127da5",
   "metadata": {},
   "outputs": [
    {
     "name": "stderr",
     "output_type": "stream",
     "text": [
      "PyTorch: setting up devices\n",
      "The default value for the training argument `--report_to` will change in v5 (from all installed integrations to none). In v5, you will need to use `--report_to all` to get the same behavior as now. You should start updating your code and make this info disappear :-).\n"
     ]
    }
   ],
   "source": [
    "output_dir = os.getenv('HOME')+'/aiffel/going_deeper/model'\n",
    "\n",
    "data_collator = DataCollatorWithPadding(tokenizer=roberta_tokenizer)\n",
    "\n",
    "training_arguments = TrainingArguments(\n",
    "    output_dir,                                         # output이 저장될 경로\n",
    "    evaluation_strategy=\"epoch\",           #evaluation하는 빈도\n",
    "    learning_rate = 2e-5,                         #learning_rate\n",
    "    per_device_train_batch_size = 8,   # 각 device 당 batch size\n",
    "    per_device_eval_batch_size = 8,    # evaluation 시에 batch size\n",
    "    num_train_epochs = 3,                     # train 시킬 총 epochs\n",
    "    weight_decay = 0.01,                        # weight decay\n",
    "    warmup_ratio = 0.1,\n",
    "    group_by_length = True\n",
    ")"
   ]
  },
  {
   "cell_type": "code",
   "execution_count": 73,
   "id": "c571aecf",
   "metadata": {},
   "outputs": [],
   "source": [
    "def compute_metrics(pred):\n",
    "    labels = pred.label_ids\n",
    "    preds = pred.predictions.argmax(-1)\n",
    "\n",
    "    m1 = load_metric('accuracy')\n",
    "    m2 = load_metric('f1')\n",
    "\n",
    "    acc = m1.compute(predictions=preds, references=labels)['accuracy']\n",
    "    f1 = m2.compute(predictions=preds, references=labels)['f1']\n",
    "\n",
    "    return {'accuracy':acc, 'f1':f1}"
   ]
  },
  {
   "cell_type": "code",
   "execution_count": 74,
   "id": "31de7337",
   "metadata": {},
   "outputs": [
    {
     "name": "stderr",
     "output_type": "stream",
     "text": [
      "The following columns in the training set  don't have a corresponding argument in `RobertaForSequenceClassification.forward` and have been ignored: document, id.\n",
      "***** Running training *****\n",
      "  Num examples = 40000\n",
      "  Num Epochs = 3\n",
      "  Instantaneous batch size per device = 8\n",
      "  Total train batch size (w. parallel, distributed & accumulation) = 8\n",
      "  Gradient Accumulation steps = 1\n",
      "  Total optimization steps = 15000\n"
     ]
    },
    {
     "data": {
      "text/html": [
       "\n",
       "    <div>\n",
       "      \n",
       "      <progress value='15000' max='15000' style='width:300px; height:20px; vertical-align: middle;'></progress>\n",
       "      [15000/15000 3:41:48, Epoch 3/3]\n",
       "    </div>\n",
       "    <table border=\"1\" class=\"dataframe\">\n",
       "  <thead>\n",
       "    <tr style=\"text-align: left;\">\n",
       "      <th>Epoch</th>\n",
       "      <th>Training Loss</th>\n",
       "      <th>Validation Loss</th>\n",
       "      <th>Accuracy</th>\n",
       "      <th>F1</th>\n",
       "    </tr>\n",
       "  </thead>\n",
       "  <tbody>\n",
       "    <tr>\n",
       "      <td>1</td>\n",
       "      <td>0.339500</td>\n",
       "      <td>0.348361</td>\n",
       "      <td>0.885100</td>\n",
       "      <td>0.879975</td>\n",
       "    </tr>\n",
       "    <tr>\n",
       "      <td>2</td>\n",
       "      <td>0.291200</td>\n",
       "      <td>0.396007</td>\n",
       "      <td>0.893800</td>\n",
       "      <td>0.893651</td>\n",
       "    </tr>\n",
       "    <tr>\n",
       "      <td>3</td>\n",
       "      <td>0.180300</td>\n",
       "      <td>0.458208</td>\n",
       "      <td>0.896300</td>\n",
       "      <td>0.896290</td>\n",
       "    </tr>\n",
       "  </tbody>\n",
       "</table><p>"
      ],
      "text/plain": [
       "<IPython.core.display.HTML object>"
      ]
     },
     "metadata": {},
     "output_type": "display_data"
    },
    {
     "name": "stderr",
     "output_type": "stream",
     "text": [
      "Saving model checkpoint to /aiffel/aiffel/going_deeper/model/checkpoint-500\n",
      "Configuration saved in /aiffel/aiffel/going_deeper/model/checkpoint-500/config.json\n",
      "Model weights saved in /aiffel/aiffel/going_deeper/model/checkpoint-500/pytorch_model.bin\n",
      "Saving model checkpoint to /aiffel/aiffel/going_deeper/model/checkpoint-1000\n",
      "Configuration saved in /aiffel/aiffel/going_deeper/model/checkpoint-1000/config.json\n",
      "Model weights saved in /aiffel/aiffel/going_deeper/model/checkpoint-1000/pytorch_model.bin\n",
      "Saving model checkpoint to /aiffel/aiffel/going_deeper/model/checkpoint-1500\n",
      "Configuration saved in /aiffel/aiffel/going_deeper/model/checkpoint-1500/config.json\n",
      "Model weights saved in /aiffel/aiffel/going_deeper/model/checkpoint-1500/pytorch_model.bin\n",
      "Saving model checkpoint to /aiffel/aiffel/going_deeper/model/checkpoint-2000\n",
      "Configuration saved in /aiffel/aiffel/going_deeper/model/checkpoint-2000/config.json\n",
      "Model weights saved in /aiffel/aiffel/going_deeper/model/checkpoint-2000/pytorch_model.bin\n",
      "Saving model checkpoint to /aiffel/aiffel/going_deeper/model/checkpoint-2500\n",
      "Configuration saved in /aiffel/aiffel/going_deeper/model/checkpoint-2500/config.json\n",
      "Model weights saved in /aiffel/aiffel/going_deeper/model/checkpoint-2500/pytorch_model.bin\n",
      "Saving model checkpoint to /aiffel/aiffel/going_deeper/model/checkpoint-3000\n",
      "Configuration saved in /aiffel/aiffel/going_deeper/model/checkpoint-3000/config.json\n",
      "Model weights saved in /aiffel/aiffel/going_deeper/model/checkpoint-3000/pytorch_model.bin\n",
      "Saving model checkpoint to /aiffel/aiffel/going_deeper/model/checkpoint-3500\n",
      "Configuration saved in /aiffel/aiffel/going_deeper/model/checkpoint-3500/config.json\n",
      "Model weights saved in /aiffel/aiffel/going_deeper/model/checkpoint-3500/pytorch_model.bin\n",
      "Saving model checkpoint to /aiffel/aiffel/going_deeper/model/checkpoint-4000\n",
      "Configuration saved in /aiffel/aiffel/going_deeper/model/checkpoint-4000/config.json\n",
      "Model weights saved in /aiffel/aiffel/going_deeper/model/checkpoint-4000/pytorch_model.bin\n",
      "Saving model checkpoint to /aiffel/aiffel/going_deeper/model/checkpoint-4500\n",
      "Configuration saved in /aiffel/aiffel/going_deeper/model/checkpoint-4500/config.json\n",
      "Model weights saved in /aiffel/aiffel/going_deeper/model/checkpoint-4500/pytorch_model.bin\n",
      "Saving model checkpoint to /aiffel/aiffel/going_deeper/model/checkpoint-5000\n",
      "Configuration saved in /aiffel/aiffel/going_deeper/model/checkpoint-5000/config.json\n",
      "Model weights saved in /aiffel/aiffel/going_deeper/model/checkpoint-5000/pytorch_model.bin\n",
      "The following columns in the evaluation set  don't have a corresponding argument in `RobertaForSequenceClassification.forward` and have been ignored: document, id.\n",
      "***** Running Evaluation *****\n",
      "  Num examples = 10000\n",
      "  Batch size = 8\n",
      "Saving model checkpoint to /aiffel/aiffel/going_deeper/model/checkpoint-5500\n",
      "Configuration saved in /aiffel/aiffel/going_deeper/model/checkpoint-5500/config.json\n",
      "Model weights saved in /aiffel/aiffel/going_deeper/model/checkpoint-5500/pytorch_model.bin\n",
      "Saving model checkpoint to /aiffel/aiffel/going_deeper/model/checkpoint-6000\n",
      "Configuration saved in /aiffel/aiffel/going_deeper/model/checkpoint-6000/config.json\n",
      "Model weights saved in /aiffel/aiffel/going_deeper/model/checkpoint-6000/pytorch_model.bin\n",
      "Saving model checkpoint to /aiffel/aiffel/going_deeper/model/checkpoint-6500\n",
      "Configuration saved in /aiffel/aiffel/going_deeper/model/checkpoint-6500/config.json\n",
      "Model weights saved in /aiffel/aiffel/going_deeper/model/checkpoint-6500/pytorch_model.bin\n",
      "Saving model checkpoint to /aiffel/aiffel/going_deeper/model/checkpoint-7000\n",
      "Configuration saved in /aiffel/aiffel/going_deeper/model/checkpoint-7000/config.json\n",
      "Model weights saved in /aiffel/aiffel/going_deeper/model/checkpoint-7000/pytorch_model.bin\n",
      "Saving model checkpoint to /aiffel/aiffel/going_deeper/model/checkpoint-7500\n",
      "Configuration saved in /aiffel/aiffel/going_deeper/model/checkpoint-7500/config.json\n",
      "Model weights saved in /aiffel/aiffel/going_deeper/model/checkpoint-7500/pytorch_model.bin\n",
      "Saving model checkpoint to /aiffel/aiffel/going_deeper/model/checkpoint-8000\n",
      "Configuration saved in /aiffel/aiffel/going_deeper/model/checkpoint-8000/config.json\n",
      "Model weights saved in /aiffel/aiffel/going_deeper/model/checkpoint-8000/pytorch_model.bin\n",
      "Saving model checkpoint to /aiffel/aiffel/going_deeper/model/checkpoint-8500\n",
      "Configuration saved in /aiffel/aiffel/going_deeper/model/checkpoint-8500/config.json\n",
      "Model weights saved in /aiffel/aiffel/going_deeper/model/checkpoint-8500/pytorch_model.bin\n",
      "Saving model checkpoint to /aiffel/aiffel/going_deeper/model/checkpoint-9000\n",
      "Configuration saved in /aiffel/aiffel/going_deeper/model/checkpoint-9000/config.json\n",
      "Model weights saved in /aiffel/aiffel/going_deeper/model/checkpoint-9000/pytorch_model.bin\n",
      "Saving model checkpoint to /aiffel/aiffel/going_deeper/model/checkpoint-9500\n",
      "Configuration saved in /aiffel/aiffel/going_deeper/model/checkpoint-9500/config.json\n",
      "Model weights saved in /aiffel/aiffel/going_deeper/model/checkpoint-9500/pytorch_model.bin\n",
      "Saving model checkpoint to /aiffel/aiffel/going_deeper/model/checkpoint-10000\n",
      "Configuration saved in /aiffel/aiffel/going_deeper/model/checkpoint-10000/config.json\n",
      "Model weights saved in /aiffel/aiffel/going_deeper/model/checkpoint-10000/pytorch_model.bin\n",
      "The following columns in the evaluation set  don't have a corresponding argument in `RobertaForSequenceClassification.forward` and have been ignored: document, id.\n",
      "***** Running Evaluation *****\n",
      "  Num examples = 10000\n",
      "  Batch size = 8\n",
      "Saving model checkpoint to /aiffel/aiffel/going_deeper/model/checkpoint-10500\n",
      "Configuration saved in /aiffel/aiffel/going_deeper/model/checkpoint-10500/config.json\n",
      "Model weights saved in /aiffel/aiffel/going_deeper/model/checkpoint-10500/pytorch_model.bin\n",
      "Saving model checkpoint to /aiffel/aiffel/going_deeper/model/checkpoint-11000\n",
      "Configuration saved in /aiffel/aiffel/going_deeper/model/checkpoint-11000/config.json\n",
      "Model weights saved in /aiffel/aiffel/going_deeper/model/checkpoint-11000/pytorch_model.bin\n",
      "Saving model checkpoint to /aiffel/aiffel/going_deeper/model/checkpoint-11500\n",
      "Configuration saved in /aiffel/aiffel/going_deeper/model/checkpoint-11500/config.json\n",
      "Model weights saved in /aiffel/aiffel/going_deeper/model/checkpoint-11500/pytorch_model.bin\n",
      "Saving model checkpoint to /aiffel/aiffel/going_deeper/model/checkpoint-12000\n",
      "Configuration saved in /aiffel/aiffel/going_deeper/model/checkpoint-12000/config.json\n",
      "Model weights saved in /aiffel/aiffel/going_deeper/model/checkpoint-12000/pytorch_model.bin\n",
      "Saving model checkpoint to /aiffel/aiffel/going_deeper/model/checkpoint-12500\n",
      "Configuration saved in /aiffel/aiffel/going_deeper/model/checkpoint-12500/config.json\n",
      "Model weights saved in /aiffel/aiffel/going_deeper/model/checkpoint-12500/pytorch_model.bin\n",
      "Saving model checkpoint to /aiffel/aiffel/going_deeper/model/checkpoint-13000\n",
      "Configuration saved in /aiffel/aiffel/going_deeper/model/checkpoint-13000/config.json\n",
      "Model weights saved in /aiffel/aiffel/going_deeper/model/checkpoint-13000/pytorch_model.bin\n",
      "Saving model checkpoint to /aiffel/aiffel/going_deeper/model/checkpoint-13500\n",
      "Configuration saved in /aiffel/aiffel/going_deeper/model/checkpoint-13500/config.json\n",
      "Model weights saved in /aiffel/aiffel/going_deeper/model/checkpoint-13500/pytorch_model.bin\n",
      "Saving model checkpoint to /aiffel/aiffel/going_deeper/model/checkpoint-14000\n",
      "Configuration saved in /aiffel/aiffel/going_deeper/model/checkpoint-14000/config.json\n",
      "Model weights saved in /aiffel/aiffel/going_deeper/model/checkpoint-14000/pytorch_model.bin\n",
      "Saving model checkpoint to /aiffel/aiffel/going_deeper/model/checkpoint-14500\n",
      "Configuration saved in /aiffel/aiffel/going_deeper/model/checkpoint-14500/config.json\n",
      "Model weights saved in /aiffel/aiffel/going_deeper/model/checkpoint-14500/pytorch_model.bin\n",
      "Saving model checkpoint to /aiffel/aiffel/going_deeper/model/checkpoint-15000\n",
      "Configuration saved in /aiffel/aiffel/going_deeper/model/checkpoint-15000/config.json\n",
      "Model weights saved in /aiffel/aiffel/going_deeper/model/checkpoint-15000/pytorch_model.bin\n",
      "The following columns in the evaluation set  don't have a corresponding argument in `RobertaForSequenceClassification.forward` and have been ignored: document, id.\n"
     ]
    },
    {
     "name": "stderr",
     "output_type": "stream",
     "text": [
      "***** Running Evaluation *****\n",
      "  Num examples = 10000\n",
      "  Batch size = 8\n",
      "\n",
      "\n",
      "Training completed. Do not forget to share your model on huggingface.co/models =)\n",
      "\n",
      "\n"
     ]
    },
    {
     "data": {
      "text/plain": [
       "TrainOutput(global_step=15000, training_loss=0.2873779469807943, metrics={'train_runtime': 13309.4524, 'train_samples_per_second': 9.016, 'train_steps_per_second': 1.127, 'total_flos': 3.15733266432e+16, 'train_loss': 0.2873779469807943, 'epoch': 3.0})"
      ]
     },
     "execution_count": 74,
     "metadata": {},
     "output_type": "execute_result"
    }
   ],
   "source": [
    "roberta_trainer = Trainer(\n",
    "    model=roberta_model,           # 학습시킬 model\n",
    "    args=training_arguments,           # TrainingArguments을 통해 설정한 arguments\n",
    "    train_dataset=roberta_train_dataset,    # training dataset\n",
    "    eval_dataset=roberta_val_dataset,       # evaluation dataset\n",
    "    data_collator = data_collator,\n",
    "    compute_metrics=compute_metrics,\n",
    ")\n",
    "\n",
    "roberta_trainer.train()"
   ]
  },
  {
   "cell_type": "code",
   "execution_count": 75,
   "id": "2b674ba9",
   "metadata": {},
   "outputs": [
    {
     "name": "stderr",
     "output_type": "stream",
     "text": [
      "The following columns in the evaluation set  don't have a corresponding argument in `RobertaForSequenceClassification.forward` and have been ignored: document, id.\n",
      "***** Running Evaluation *****\n",
      "  Num examples = 10000\n",
      "  Batch size = 8\n"
     ]
    },
    {
     "data": {
      "text/html": [
       "\n",
       "    <div>\n",
       "      \n",
       "      <progress value='1250' max='1250' style='width:300px; height:20px; vertical-align: middle;'></progress>\n",
       "      [1250/1250 05:38]\n",
       "    </div>\n",
       "    "
      ],
      "text/plain": [
       "<IPython.core.display.HTML object>"
      ]
     },
     "metadata": {},
     "output_type": "display_data"
    },
    {
     "data": {
      "text/plain": [
       "{'eval_loss': 0.42159461975097656,\n",
       " 'eval_accuracy': 0.9017,\n",
       " 'eval_f1': 0.9029902299417744,\n",
       " 'eval_runtime': 340.9479,\n",
       " 'eval_samples_per_second': 29.33,\n",
       " 'eval_steps_per_second': 3.666,\n",
       " 'epoch': 3.0}"
      ]
     },
     "execution_count": 75,
     "metadata": {},
     "output_type": "execute_result"
    }
   ],
   "source": [
    "roberta_trainer.evaluate(roberta_test_dataset)"
   ]
  },
  {
   "cell_type": "markdown",
   "id": "d6564938",
   "metadata": {},
   "source": [
    "# 5. 결과 비교\n",
    "|  model  |data_collator|group_by_length|   time   |val accuracy|val F1-Score|test accuracy|test F1-Score|\n",
    "|---------|-------------|---------------|----------|------------|------------|-------------|-------------|\n",
    "|   BERT  |      x      |       x       | 3:40:18  |    88.93   |      -     |    89.46    |      -      |\n",
    "|RoBERTa_1|      x      |       x       | 3:46:14  |    89.56   |      -     |    89.83    |      -      |\n",
    "|RoBERTa_2|      o      |       o       | 3:41:48  |    89.63   |   89.63    | __90.17__  |__90.30__   |\n",
    "\n",
    "Hugging Face를 이용하여 BERT, RoBERTa 모델과 토크나이저를 불러와 NSMC 데이터를 학습하고 해당 모델의 성능을 비교하였습니다. BERT와 RoBERTa는 동일한 파라미터를 통하여 실험을 하였으며, RoBERTa의 성능이 BERT보다 좋다는 것을 확인하였습니다. 그 후 RoBERTa를 이용하여 추가적인 성능향상을 시도하였습니다. data_collator와 group_by_length 변수를 활용하였는데, 해당 변수를 사용하였을때 시간을 줄어들고, 성능은 약간 개선되는 것을 확인할 수 있었습니다. data_collator와 group_by_length 데이터들 간의 길이를 이용하여 데이터를 모델에 효율적으로 제공하는 역할을 하기 때문에 성능과 속도 측면에서 개선된것으로 생각됩니다. 또한 모든 데이터를 사용하여 실험을 했다면, 성능은 더 올랐을것으로 생각됩니다.\n",
    "\n",
    "group_by_length\n",
    "- 데이터 배치를 길이에 따라 자동으로 그룹화하여 데이터 로딩 및 배치 생성 과정에서 각 배치의 텍스트 시퀀스 길이가 유사한 데이터끼리 그룹으로 묶이도록 하는 기능을 담당\n",
    "\n",
    "장점\n",
    "1. 메모리 효율성: 텍스트 시퀀스의 길이가 다양한 경우, 길이가 유사한 데이터끼리 배치를 구성하면 메모리를 더 효율적으로 사용할 수 있습니다. 길이가 유사한 데이터끼리 배치를 구성하면 각 배치의 패딩이 최소화되어 메모리 사용량이 줄어들고, 학습 속도가 향상될 수 있습니다.\n",
    "\n",
    "2. 학습 효율성: 길이가 유사한 데이터끼리 배치를 구성하면 학습 속도가 향상될 수 있습니다. 각 배치의 텍스트 시퀀스 길이가 유사하면 GPU에서 병렬로 연산을 수행하는 데 효율적이며, 데이터 로딩과 배치 생성 시간이 줄어들어 전체 학습 시간을 단축시킬 수 있습니다.\n",
    "\n",
    "3. 학습 안정성: 길이가 크게 다른 데이터를 섞어서 배치를 구성하면 학습이 불안정해질 수 있습니다. 길이가 다른 데이터를 함께 배치로 구성하면 작은 시퀀스가 긴 시퀀스에 의해 연산이 지연될 수 있고, 학습이 불균형하게 진행될 수 있습니다. 이에 반해 길이가 유사한 데이터끼리 배치를 구성하면 학습이 안정적으로 진행될 가능성이 높아집니다.\n",
    "\n",
    "\n",
    "Data Collator\n",
    "- Data Collator는 데이터셋에서 가져온 샘플들을 그룹화하고 전처리하는 기능을 담당\n",
    "\n",
    "장점\n",
    "1. 배치 처리: Data Collator는 데이터셋으로부터 미니배치(mini-batch)를 생성하는 역할을 합니다. 데이터를 모델에 효율적으로 공급하기 위해 여러 샘플을 하나의 배치로 묶어주는 작업을 담당합니다. 이를 통해 GPU 또는 TPU와 같은 가속화 장치를 최대한 활용하여 병렬 처리를 수행할 수 있습니다.\n",
    "\n",
    "2. 패딩 처리: Data Collator는 데이터셋의 시퀀스를 패딩하여 일괄적인 길이로 맞춰줍니다. 시퀀스 길이가 다른 데이터를 배치로 처리하려면 길이가 가장 큰 시퀀스에 맞춰서 패딩을 추가해야 합니다. Data Collator는 이러한 패딩 작업을 자동으로 처리하여 배치 내 모든 시퀀스의 길이를 동일하게 맞출 수 있습니다.\n",
    "\n",
    "3. 특수 토큰 추가: Data Collator는 특수 토큰(예: 문장 시작, 문장 종료, 패딩)을 시퀀스에 추가하는 작업을 수행합니다. 이러한 특수 토큰은 모델에게 문장 구조를 인식하고 처리하는 데 도움을 줍니다.\n",
    "\n",
    "4. 사용자 정의 처리: Data Collator를 사용하면 사용자가 원하는 대로 데이터를 처리할 수 있습니다. 예를 들어, 어휘 사전을 기반으로 정수 인코딩을 수행하거나, 토큰화된 데이터를 인코딩할 때 사용자가 추가적인 전처리를 수행할 수 있습니다.\n",
    "\n",
    "Data Collator의 이점은 데이터를 효율적으로 처리하고 모델 학습에 필요한 데이터 배치를 생성하는 데 있습니다. 이를 통해 학습 과정의 속도와 안정성을 향상시킬 수 있고, 모델의 성능을 개선할 수 있습니다."
   ]
  },
  {
   "cell_type": "markdown",
   "id": "6444c53d",
   "metadata": {},
   "source": [
    "# 전체 회고\n",
    "- 허깅페이스를 오랜만에 다뤄본것 같아 재밌었습니다.\n",
    "- exploration 당시에도 해당 데이터를 이용하여 딥러닝으로 test set 기준 accuracy 85%를 넘었지만, 이번 과제에서는 사전학습 모델을 이용하여 90%를 넘었습니다.\n",
    "- 사전학습 모델의 강력함을 다시 한번 느낀 계기가 되었습니다. \n",
    "- 아이펠톤이라고 생각하고 이것저것 많이 찾아보고 시도해보고자 하였습니다.\n",
    "- 하지만 학습을 시키는데 시간이 많이 걸려서 여러가지 실험을 많이 못해본것이 아쉽습니다.\n",
    "- 그동안 진행했던 과제들을 다시 한번 살펴보면서 아이펠톤을 준비해야겠다는 생각이 많이 들었습니다.\n",
    "- 잘 준비해서 앞으로 있을 과제를 잘 마무리하고 싶습니다."
   ]
  },
  {
   "cell_type": "markdown",
   "id": "d586eb31",
   "metadata": {},
   "source": [
    "# 참고자료"
   ]
  },
  {
   "cell_type": "markdown",
   "id": "344d66d6",
   "metadata": {},
   "source": [
    "- https://huggingface.co/klue/bert-base\n",
    "- https://huggingface.co/klue/roberta-base\n",
    "- 이전 노드"
   ]
  }
 ],
 "metadata": {
  "kernelspec": {
   "display_name": "Python 3 (ipykernel)",
   "language": "python",
   "name": "python3"
  },
  "language_info": {
   "codemirror_mode": {
    "name": "ipython",
    "version": 3
   },
   "file_extension": ".py",
   "mimetype": "text/x-python",
   "name": "python",
   "nbconvert_exporter": "python",
   "pygments_lexer": "ipython3",
   "version": "3.9.7"
  }
 },
 "nbformat": 4,
 "nbformat_minor": 5
}
