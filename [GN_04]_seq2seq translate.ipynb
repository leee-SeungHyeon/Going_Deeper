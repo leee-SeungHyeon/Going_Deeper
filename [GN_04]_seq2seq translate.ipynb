{
 "cells": [
  {
   "cell_type": "markdown",
   "id": "a7767b5d",
   "metadata": {},
   "source": [
    "# 평가 기준\n",
    "1. 번역기 모델 학습에 필요한 텍스트 데이터 전처리가 한국어 포함하여 잘 이루어졌다.\n",
    "    - 구두점, 대소문자, 띄어쓰기, 한글 형태소분석 등 번역기 모델에 요구되는 전처리가 정상적으로 진행되었다.\n",
    "2. Attentional Seq2seq 모델이 정상적으로 구동된다.\n",
    "    - seq2seq 모델 훈련 과정에서 training loss가 안정적으로 떨어지면서 학습이 진행됨이 확인되었다.\n",
    "3. 테스트 결과 의미가 통하는 수준의 번역문이 생성되었다.\n",
    "    - 테스트용 디코더 모델이 정상적으로 만들어져서, 정답과 어느 정도 유사한 영어 번역이 진행됨을 확인하였다"
   ]
  },
  {
   "cell_type": "markdown",
   "id": "ddabd079",
   "metadata": {},
   "source": [
    "# 모듈 임포트"
   ]
  },
  {
   "cell_type": "code",
   "execution_count": 50,
   "id": "d1a3a304",
   "metadata": {},
   "outputs": [
    {
     "data": {
      "text/plain": [
       "'/usr/share/fonts/truetype/nanum/NanumBarunGothic.ttf'"
      ]
     },
     "execution_count": 50,
     "metadata": {},
     "output_type": "execute_result"
    }
   ],
   "source": [
    "import matplotlib as mpl\n",
    "import matplotlib.pyplot as plt\n",
    "import matplotlib.font_manager as fm\n",
    "import tensorflow as tf\n",
    "import numpy as np\n",
    "import pandas as pd\n",
    "\n",
    "from konlpy.tag import Mecab\n",
    "from sklearn.model_selection import train_test_split\n",
    "\n",
    "import matplotlib.ticker as ticker\n",
    "\n",
    "from tqdm import tqdm\n",
    "import random\n",
    "import time\n",
    "import re\n",
    "import os\n",
    "import io\n",
    "\n",
    "%config InlineBackend.figure_format = 'retina'\n",
    " \n",
    "\n",
    "fontpath = '/usr/share/fonts/truetype/nanum/NanumBarunGothic.ttf'\n",
    "font = fm.FontProperties(fname=fontpath, size=9)\n",
    "plt.rc('font', family='NanumBarunGothic') \n",
    "mpl.font_manager.findfont(font)"
   ]
  },
  {
   "cell_type": "markdown",
   "id": "d3e29aac",
   "metadata": {},
   "source": [
    "# 데이터 불러오기"
   ]
  },
  {
   "cell_type": "code",
   "execution_count": 51,
   "id": "7b2c369d",
   "metadata": {},
   "outputs": [],
   "source": [
    "kor_path = os.getenv('HOME')+'/aiffel/going_deeper/korean-english-park.train.ko'\n",
    "eng_path = os.getenv('HOME')+'/aiffel/going_deeper/korean-english-park.train.en'"
   ]
  },
  {
   "cell_type": "code",
   "execution_count": 52,
   "id": "ce417c75",
   "metadata": {},
   "outputs": [],
   "source": [
    "with open(kor_path, \"r\") as f:\n",
    "    raw_ko = f.read().splitlines()\n",
    "            \n",
    "with open(eng_path, \"r\") as f:\n",
    "    raw_en = f.read().splitlines()"
   ]
  },
  {
   "cell_type": "code",
   "execution_count": 53,
   "id": "2101a321",
   "metadata": {},
   "outputs": [
    {
     "name": "stdout",
     "output_type": "stream",
     "text": [
      "Data Size: 94123\n",
      "Example:\n",
      ">> 개인용 컴퓨터 사용의 상당 부분은 \"이것보다 뛰어날 수 있느냐?\"\n",
      ">> 북한의 핵무기 계획을 포기하도록 하려는 압력이 거세지고 있는 가운데, 일본과 북한의 외교관들이 외교 관계를 정상화하려는 회담을 재개했다.\n",
      ">> \"경호 로보트가 침입자나 화재를 탐지하기 위해서 개인적으로, 그리고 전문적으로 사용되고 있습니다.\"\n",
      ">> 수자원부 당국은 논란이 되고 있고, 막대한 비용이 드는 이 사업에 대해 내년에 건설을 시작할 계획이다.\n",
      ">> 또한 근력 운동은 활발하게 걷는 것이나 최소한 20분 동안 뛰는 것과 같은 유산소 활동에서 얻는 운동 효과를 심장과 폐에 주지 않기 때문에, 연구학자들은 근력 운동이 심장에 큰 영향을 미치는지 여부에 대해 논쟁을 해왔다.\n"
     ]
    }
   ],
   "source": [
    "print(\"Data Size:\", len(raw_ko))\n",
    "print(\"Example:\")\n",
    "\n",
    "for sen in raw_ko[0:100][::20]: print(\">>\", sen)"
   ]
  },
  {
   "cell_type": "code",
   "execution_count": 54,
   "id": "2fb0dad7",
   "metadata": {},
   "outputs": [
    {
     "name": "stdout",
     "output_type": "stream",
     "text": [
      "Data Size: 94123\n",
      "Example:\n",
      ">> Much of personal computing is about \"can you top this?\"\n",
      ">> Amid mounting pressure on North Korea to abandon its nuclear weapons program Japanese and North Korean diplomats have resumed talks on normalizing diplomatic relations.\n",
      ">> “Guard robots are used privately and professionally to detect intruders or fire,” Karlsson said.\n",
      ">> Authorities from the Water Resources Ministry plan to begin construction next year on the controversial and hugely expensive project.\n",
      ">> Researchers also have debated whether weight-training has a big impact on the heart, since it does not give the heart and lungs the kind of workout they get from aerobic activities such as brisk walking or running for at least 20 minutes.\n"
     ]
    }
   ],
   "source": [
    "print(\"Data Size:\", len(raw_en))\n",
    "print(\"Example:\")\n",
    "\n",
    "for sen in raw_en[0:100][::20]: print(\">>\", sen)"
   ]
  },
  {
   "cell_type": "markdown",
   "id": "bf55f6f9",
   "metadata": {},
   "source": [
    "# 데이터 전처리하기"
   ]
  },
  {
   "cell_type": "code",
   "execution_count": 55,
   "id": "453bc440",
   "metadata": {},
   "outputs": [
    {
     "data": {
      "text/html": [
       "<div>\n",
       "<style scoped>\n",
       "    .dataframe tbody tr th:only-of-type {\n",
       "        vertical-align: middle;\n",
       "    }\n",
       "\n",
       "    .dataframe tbody tr th {\n",
       "        vertical-align: top;\n",
       "    }\n",
       "\n",
       "    .dataframe thead th {\n",
       "        text-align: right;\n",
       "    }\n",
       "</style>\n",
       "<table border=\"1\" class=\"dataframe\">\n",
       "  <thead>\n",
       "    <tr style=\"text-align: right;\">\n",
       "      <th></th>\n",
       "      <th>korea</th>\n",
       "      <th>english</th>\n",
       "    </tr>\n",
       "  </thead>\n",
       "  <tbody>\n",
       "    <tr>\n",
       "      <th>0</th>\n",
       "      <td>개인용 컴퓨터 사용의 상당 부분은 \"이것보다 뛰어날 수 있느냐?\"</td>\n",
       "      <td>Much of personal computing is about \"can you t...</td>\n",
       "    </tr>\n",
       "    <tr>\n",
       "      <th>1</th>\n",
       "      <td>모든 광마우스와 마찬가지 로 이 광마우스도 책상 위에 놓는 마우스 패드를 필요로 하...</td>\n",
       "      <td>so a mention a few weeks ago about a rechargea...</td>\n",
       "    </tr>\n",
       "    <tr>\n",
       "      <th>2</th>\n",
       "      <td>그러나 이것은 또한 책상도 필요로 하지 않는다.</td>\n",
       "      <td>Like all optical mice, But it also doesn't nee...</td>\n",
       "    </tr>\n",
       "    <tr>\n",
       "      <th>3</th>\n",
       "      <td>79.95달러하는 이 최첨단 무선 광마우스는 허공에서 팔목, 팔, 그외에 어떤 부분...</td>\n",
       "      <td>uses gyroscopic sensors to control the cursor ...</td>\n",
       "    </tr>\n",
       "    <tr>\n",
       "      <th>4</th>\n",
       "      <td>정보 관리들은 동남 아시아에서의 선박들에 대한 많은 (테러) 계획들이 실패로 돌아갔...</td>\n",
       "      <td>Intelligence officials have revealed a spate o...</td>\n",
       "    </tr>\n",
       "  </tbody>\n",
       "</table>\n",
       "</div>"
      ],
      "text/plain": [
       "                                               korea  \\\n",
       "0               개인용 컴퓨터 사용의 상당 부분은 \"이것보다 뛰어날 수 있느냐?\"   \n",
       "1  모든 광마우스와 마찬가지 로 이 광마우스도 책상 위에 놓는 마우스 패드를 필요로 하...   \n",
       "2                         그러나 이것은 또한 책상도 필요로 하지 않는다.   \n",
       "3  79.95달러하는 이 최첨단 무선 광마우스는 허공에서 팔목, 팔, 그외에 어떤 부분...   \n",
       "4  정보 관리들은 동남 아시아에서의 선박들에 대한 많은 (테러) 계획들이 실패로 돌아갔...   \n",
       "\n",
       "                                             english  \n",
       "0  Much of personal computing is about \"can you t...  \n",
       "1  so a mention a few weeks ago about a rechargea...  \n",
       "2  Like all optical mice, But it also doesn't nee...  \n",
       "3  uses gyroscopic sensors to control the cursor ...  \n",
       "4  Intelligence officials have revealed a spate o...  "
      ]
     },
     "execution_count": 55,
     "metadata": {},
     "output_type": "execute_result"
    }
   ],
   "source": [
    "raw_data = pd.DataFrame({'korea':raw_ko, 'english':raw_en})\n",
    "raw_data.head()"
   ]
  },
  {
   "cell_type": "markdown",
   "id": "b3d09490",
   "metadata": {},
   "source": [
    "## 1. 중복 제거"
   ]
  },
  {
   "cell_type": "code",
   "execution_count": 56,
   "id": "061ca162",
   "metadata": {},
   "outputs": [
    {
     "name": "stdout",
     "output_type": "stream",
     "text": [
      "94123\n"
     ]
    }
   ],
   "source": [
    "print(len(raw_data))"
   ]
  },
  {
   "cell_type": "code",
   "execution_count": 57,
   "id": "8cdadebc",
   "metadata": {},
   "outputs": [
    {
     "data": {
      "text/plain": [
       "15155"
      ]
     },
     "execution_count": 57,
     "metadata": {},
     "output_type": "execute_result"
    }
   ],
   "source": [
    "sum(raw_data.duplicated())"
   ]
  },
  {
   "cell_type": "markdown",
   "id": "19e71a78",
   "metadata": {},
   "source": [
    "두개의 열에 공통으로 중복된 데이터 15,155개가 있는것을 확인하였습니다."
   ]
  },
  {
   "cell_type": "code",
   "execution_count": 58,
   "id": "6d4c3bdd",
   "metadata": {},
   "outputs": [
    {
     "name": "stdout",
     "output_type": "stream",
     "text": [
      "78968\n"
     ]
    }
   ],
   "source": [
    "raw_data.drop_duplicates(inplace = True)\n",
    "print(len(raw_data))"
   ]
  },
  {
   "cell_type": "code",
   "execution_count": 59,
   "id": "9c21bce0",
   "metadata": {},
   "outputs": [
    {
     "data": {
      "text/plain": [
       "0"
      ]
     },
     "execution_count": 59,
     "metadata": {},
     "output_type": "execute_result"
    }
   ],
   "source": [
    "sum(raw_data.duplicated())"
   ]
  },
  {
   "cell_type": "markdown",
   "id": "9dfaf66e",
   "metadata": {},
   "source": [
    "중복된 데이터를 제거하여 주었습니다.\n",
    "\n",
    "이제는 각 열에 중복된 데이터가 있는지 확인해주도록 하겠습니다."
   ]
  },
  {
   "cell_type": "code",
   "execution_count": 60,
   "id": "78bac7fb",
   "metadata": {},
   "outputs": [
    {
     "data": {
      "text/plain": [
       "1377"
      ]
     },
     "execution_count": 60,
     "metadata": {},
     "output_type": "execute_result"
    }
   ],
   "source": [
    "sum(raw_data.duplicated(subset='korea'))"
   ]
  },
  {
   "cell_type": "code",
   "execution_count": 61,
   "id": "4b608d71",
   "metadata": {},
   "outputs": [
    {
     "data": {
      "text/plain": [
       "3370"
      ]
     },
     "execution_count": 61,
     "metadata": {},
     "output_type": "execute_result"
    }
   ],
   "source": [
    "sum(raw_data.duplicated(subset='english'))"
   ]
  },
  {
   "cell_type": "markdown",
   "id": "95e966ee",
   "metadata": {},
   "source": [
    "한국어에는 1377개, 영어는 3370개가 중복이 있는것을 확인하였습니다.\n",
    "\n",
    "해당 데이터가 무엇인지 확인해보겠습니다.\n"
   ]
  },
  {
   "cell_type": "code",
   "execution_count": 62,
   "id": "22d24ffd",
   "metadata": {},
   "outputs": [
    {
     "data": {
      "text/html": [
       "<div>\n",
       "<style scoped>\n",
       "    .dataframe tbody tr th:only-of-type {\n",
       "        vertical-align: middle;\n",
       "    }\n",
       "\n",
       "    .dataframe tbody tr th {\n",
       "        vertical-align: top;\n",
       "    }\n",
       "\n",
       "    .dataframe thead th {\n",
       "        text-align: right;\n",
       "    }\n",
       "</style>\n",
       "<table border=\"1\" class=\"dataframe\">\n",
       "  <thead>\n",
       "    <tr style=\"text-align: right;\">\n",
       "      <th></th>\n",
       "      <th>korea</th>\n",
       "      <th>english</th>\n",
       "    </tr>\n",
       "  </thead>\n",
       "  <tbody>\n",
       "    <tr>\n",
       "      <th>30</th>\n",
       "      <td>어휘 :</td>\n",
       "      <td>Postal Service - whose postmaster told a Senat...</td>\n",
       "    </tr>\n",
       "    <tr>\n",
       "      <th>282</th>\n",
       "      <td>어휘 :</td>\n",
       "      <td>the United States will take every measure agai...</td>\n",
       "    </tr>\n",
       "    <tr>\n",
       "      <th>1456</th>\n",
       "      <td>어휘 :</td>\n",
       "      <td>aid groups set up freshwater tanks to provide ...</td>\n",
       "    </tr>\n",
       "    <tr>\n",
       "      <th>2226</th>\n",
       "      <td>어휘 :</td>\n",
       "      <td>communications with the tiny $4.5 million DASH...</td>\n",
       "    </tr>\n",
       "    <tr>\n",
       "      <th>3003</th>\n",
       "      <td>어휘 :</td>\n",
       "      <td>The upper end of that range would put SG344 on...</td>\n",
       "    </tr>\n",
       "    <tr>\n",
       "      <th>...</th>\n",
       "      <td>...</td>\n",
       "      <td>...</td>\n",
       "    </tr>\n",
       "    <tr>\n",
       "      <th>93891</th>\n",
       "      <td>원문 &amp; 독해설명 인쇄</td>\n",
       "      <td>The per-pack cigarette tax goes from 39 cents ...</td>\n",
       "    </tr>\n",
       "    <tr>\n",
       "      <th>94024</th>\n",
       "      <td>TOEIC 독해</td>\n",
       "      <td>The vote is expected late today.</td>\n",
       "    </tr>\n",
       "    <tr>\n",
       "      <th>94050</th>\n",
       "      <td>Bush hails ´major shift´ in Iraq 부시, 이라크에 ‘중대한...</td>\n",
       "      <td>Thousands of Burmese risk the trip to Thailand...</td>\n",
       "    </tr>\n",
       "    <tr>\n",
       "      <th>94093</th>\n",
       "      <td>AP 라디오 뉴스입니다.</td>\n",
       "      <td>a national average $2.42 a gallon.</td>\n",
       "    </tr>\n",
       "    <tr>\n",
       "      <th>94098</th>\n",
       "      <td>저장된 검색어가 없습니다.</td>\n",
       "      <td>a national average $2.42 a gallon.</td>\n",
       "    </tr>\n",
       "  </tbody>\n",
       "</table>\n",
       "<p>1377 rows × 2 columns</p>\n",
       "</div>"
      ],
      "text/plain": [
       "                                                   korea  \\\n",
       "30                                                  어휘 :   \n",
       "282                                                 어휘 :   \n",
       "1456                                                어휘 :   \n",
       "2226                                                어휘 :   \n",
       "3003                                                어휘 :   \n",
       "...                                                  ...   \n",
       "93891                                       원문 & 독해설명 인쇄   \n",
       "94024                                           TOEIC 독해   \n",
       "94050  Bush hails ´major shift´ in Iraq 부시, 이라크에 ‘중대한...   \n",
       "94093                                      AP 라디오 뉴스입니다.   \n",
       "94098                                     저장된 검색어가 없습니다.   \n",
       "\n",
       "                                                 english  \n",
       "30     Postal Service - whose postmaster told a Senat...  \n",
       "282    the United States will take every measure agai...  \n",
       "1456   aid groups set up freshwater tanks to provide ...  \n",
       "2226   communications with the tiny $4.5 million DASH...  \n",
       "3003   The upper end of that range would put SG344 on...  \n",
       "...                                                  ...  \n",
       "93891  The per-pack cigarette tax goes from 39 cents ...  \n",
       "94024                   The vote is expected late today.  \n",
       "94050  Thousands of Burmese risk the trip to Thailand...  \n",
       "94093                 a national average $2.42 a gallon.  \n",
       "94098                 a national average $2.42 a gallon.  \n",
       "\n",
       "[1377 rows x 2 columns]"
      ]
     },
     "execution_count": 62,
     "metadata": {},
     "output_type": "execute_result"
    }
   ],
   "source": [
    "raw_data[raw_data.duplicated(subset='korea')]"
   ]
  },
  {
   "cell_type": "code",
   "execution_count": 63,
   "id": "5535f9db",
   "metadata": {},
   "outputs": [
    {
     "data": {
      "text/html": [
       "<div>\n",
       "<style scoped>\n",
       "    .dataframe tbody tr th:only-of-type {\n",
       "        vertical-align: middle;\n",
       "    }\n",
       "\n",
       "    .dataframe tbody tr th {\n",
       "        vertical-align: top;\n",
       "    }\n",
       "\n",
       "    .dataframe thead th {\n",
       "        text-align: right;\n",
       "    }\n",
       "</style>\n",
       "<table border=\"1\" class=\"dataframe\">\n",
       "  <thead>\n",
       "    <tr style=\"text-align: right;\">\n",
       "      <th></th>\n",
       "      <th>korea</th>\n",
       "      <th>english</th>\n",
       "    </tr>\n",
       "  </thead>\n",
       "  <tbody>\n",
       "    <tr>\n",
       "      <th>7218</th>\n",
       "      <td>신화통신은 중국 당국의 말을 인용, 이번 폭우가 앞으로 10일간 더 쏟아져 언색호 ...</td>\n",
       "      <td>Authorities said that torrential rains are exp...</td>\n",
       "    </tr>\n",
       "    <tr>\n",
       "      <th>7219</th>\n",
       "      <td>지난달 2일 리히터 규모 7.9의 대지진으로 이해 아직까지 피해 복구가 진행 중인 ...</td>\n",
       "      <td>The flood has hit nine provinces the hardest &amp;...</td>\n",
       "    </tr>\n",
       "    <tr>\n",
       "      <th>8713</th>\n",
       "      <td>미얀마 정부는 총 사망자가 7만8000명이라고 밝힌바 있다.</td>\n",
       "      <td>Myanmar's government has put the death toll at...</td>\n",
       "    </tr>\n",
       "    <tr>\n",
       "      <th>8805</th>\n",
       "      <td>‘공포의 7분’이라 불리는 피닉스호의 착륙 과정이 이와 유사한 임무에서 실수를 목격...</td>\n",
       "      <td>The landing dubbed the \"seven minutes of terro...</td>\n",
       "    </tr>\n",
       "    <tr>\n",
       "      <th>8807</th>\n",
       "      <td>이번 임무를 통제하는 미국 캘리포니아주 패사디나에 위치한 NASA 제트 추진 연구소...</td>\n",
       "      <td>In mission control at NASA's Jet Propulsion La...</td>\n",
       "    </tr>\n",
       "    <tr>\n",
       "      <th>...</th>\n",
       "      <td>...</td>\n",
       "      <td>...</td>\n",
       "    </tr>\n",
       "    <tr>\n",
       "      <th>94094</th>\n",
       "      <td>E-1 선거 하루 전, 일반적으로 D-1으로 말하지만 Election 하루 전날을 ...</td>\n",
       "      <td>It's E-1, just one more day until Election Day...</td>\n",
       "    </tr>\n",
       "    <tr>\n",
       "      <th>94095</th>\n",
       "      <td>outperform (성능을) 능가하다, 여기서는 전세를 뒤집다는 의미.</td>\n",
       "      <td>A drive-by rally just concluded here in Tampa,...</td>\n",
       "    </tr>\n",
       "    <tr>\n",
       "      <th>94096</th>\n",
       "      <td>Barry Goldwater 베리 골드워터, 애리조나에서</td>\n",
       "      <td>He sounded confident in Cleveland yesterday.</td>\n",
       "    </tr>\n",
       "    <tr>\n",
       "      <th>94097</th>\n",
       "      <td>26.2 Miles Through the Streets of New York 이 보...</td>\n",
       "      <td>But our Mark Smith reports the Democrat is try...</td>\n",
       "    </tr>\n",
       "    <tr>\n",
       "      <th>94098</th>\n",
       "      <td>저장된 검색어가 없습니다.</td>\n",
       "      <td>a national average $2.42 a gallon.</td>\n",
       "    </tr>\n",
       "  </tbody>\n",
       "</table>\n",
       "<p>3370 rows × 2 columns</p>\n",
       "</div>"
      ],
      "text/plain": [
       "                                                   korea  \\\n",
       "7218   신화통신은 중국 당국의 말을 인용, 이번 폭우가 앞으로 10일간 더 쏟아져 언색호 ...   \n",
       "7219   지난달 2일 리히터 규모 7.9의 대지진으로 이해 아직까지 피해 복구가 진행 중인 ...   \n",
       "8713                   미얀마 정부는 총 사망자가 7만8000명이라고 밝힌바 있다.   \n",
       "8805   ‘공포의 7분’이라 불리는 피닉스호의 착륙 과정이 이와 유사한 임무에서 실수를 목격...   \n",
       "8807   이번 임무를 통제하는 미국 캘리포니아주 패사디나에 위치한 NASA 제트 추진 연구소...   \n",
       "...                                                  ...   \n",
       "94094  E-1 선거 하루 전, 일반적으로 D-1으로 말하지만 Election 하루 전날을 ...   \n",
       "94095           outperform (성능을) 능가하다, 여기서는 전세를 뒤집다는 의미.   \n",
       "94096                    Barry Goldwater 베리 골드워터, 애리조나에서   \n",
       "94097  26.2 Miles Through the Streets of New York 이 보...   \n",
       "94098                                     저장된 검색어가 없습니다.   \n",
       "\n",
       "                                                 english  \n",
       "7218   Authorities said that torrential rains are exp...  \n",
       "7219   The flood has hit nine provinces the hardest &...  \n",
       "8713   Myanmar's government has put the death toll at...  \n",
       "8805   The landing dubbed the \"seven minutes of terro...  \n",
       "8807   In mission control at NASA's Jet Propulsion La...  \n",
       "...                                                  ...  \n",
       "94094  It's E-1, just one more day until Election Day...  \n",
       "94095  A drive-by rally just concluded here in Tampa,...  \n",
       "94096       He sounded confident in Cleveland yesterday.  \n",
       "94097  But our Mark Smith reports the Democrat is try...  \n",
       "94098                 a national average $2.42 a gallon.  \n",
       "\n",
       "[3370 rows x 2 columns]"
      ]
     },
     "execution_count": 63,
     "metadata": {},
     "output_type": "execute_result"
    }
   ],
   "source": [
    "raw_data[raw_data.duplicated(subset='english')]"
   ]
  },
  {
   "cell_type": "markdown",
   "id": "276a8c2b",
   "metadata": {},
   "source": [
    "한국어에는 '어휘 :'라는 단어가 중복이 되지만, 영어 번역은 다 다르게 되어 있는것을 확인할 수 있습니다.\n",
    "\n",
    "또한 영어의 경우 'a national average $2.42 a gallon.'라는 중복된 내용이 존재하는데, 이 문장을 해석을 하면 '전국 펴균 갤런당 2달러 42센트'입니다. 하지만 한국어는 'AP 라디오 뉴스입니다.', '저장된 검색어가 없습니다.'로 잘못된 번역으로 데이터가 입력되어 있습니다.\n",
    "\n",
    "해당 데이터들은 모델 훈련시 노이즈가 될 수 있기 때문에 과감하게 제거해주도록 하겠습니다.\n"
   ]
  },
  {
   "cell_type": "code",
   "execution_count": 64,
   "id": "d7d232af",
   "metadata": {},
   "outputs": [],
   "source": [
    "raw_data = raw_data[~raw_data.duplicated(subset='korea')]"
   ]
  },
  {
   "cell_type": "code",
   "execution_count": 65,
   "id": "5cf57770",
   "metadata": {},
   "outputs": [],
   "source": [
    "raw_data = raw_data[~raw_data.duplicated(subset='english')]"
   ]
  },
  {
   "cell_type": "code",
   "execution_count": 66,
   "id": "181d0f61",
   "metadata": {},
   "outputs": [
    {
     "data": {
      "text/plain": [
       "0"
      ]
     },
     "execution_count": 66,
     "metadata": {},
     "output_type": "execute_result"
    }
   ],
   "source": [
    "sum(raw_data.duplicated())"
   ]
  },
  {
   "cell_type": "code",
   "execution_count": 67,
   "id": "d130ff7f",
   "metadata": {},
   "outputs": [
    {
     "data": {
      "text/plain": [
       "0"
      ]
     },
     "execution_count": 67,
     "metadata": {},
     "output_type": "execute_result"
    }
   ],
   "source": [
    "sum(raw_data.duplicated(subset='korea'))"
   ]
  },
  {
   "cell_type": "code",
   "execution_count": 68,
   "id": "c6b7e48a",
   "metadata": {},
   "outputs": [
    {
     "data": {
      "text/plain": [
       "0"
      ]
     },
     "execution_count": 68,
     "metadata": {},
     "output_type": "execute_result"
    }
   ],
   "source": [
    "sum(raw_data.duplicated(subset='english'))"
   ]
  },
  {
   "cell_type": "code",
   "execution_count": 69,
   "id": "6ca899c4",
   "metadata": {},
   "outputs": [
    {
     "data": {
      "text/html": [
       "<div>\n",
       "<style scoped>\n",
       "    .dataframe tbody tr th:only-of-type {\n",
       "        vertical-align: middle;\n",
       "    }\n",
       "\n",
       "    .dataframe tbody tr th {\n",
       "        vertical-align: top;\n",
       "    }\n",
       "\n",
       "    .dataframe thead th {\n",
       "        text-align: right;\n",
       "    }\n",
       "</style>\n",
       "<table border=\"1\" class=\"dataframe\">\n",
       "  <thead>\n",
       "    <tr style=\"text-align: right;\">\n",
       "      <th></th>\n",
       "      <th>korea</th>\n",
       "      <th>english</th>\n",
       "    </tr>\n",
       "  </thead>\n",
       "  <tbody>\n",
       "    <tr>\n",
       "      <th>0</th>\n",
       "      <td>개인용 컴퓨터 사용의 상당 부분은 \"이것보다 뛰어날 수 있느냐?\"</td>\n",
       "      <td>Much of personal computing is about \"can you t...</td>\n",
       "    </tr>\n",
       "    <tr>\n",
       "      <th>1</th>\n",
       "      <td>모든 광마우스와 마찬가지 로 이 광마우스도 책상 위에 놓는 마우스 패드를 필요로 하...</td>\n",
       "      <td>so a mention a few weeks ago about a rechargea...</td>\n",
       "    </tr>\n",
       "    <tr>\n",
       "      <th>2</th>\n",
       "      <td>그러나 이것은 또한 책상도 필요로 하지 않는다.</td>\n",
       "      <td>Like all optical mice, But it also doesn't nee...</td>\n",
       "    </tr>\n",
       "    <tr>\n",
       "      <th>3</th>\n",
       "      <td>79.95달러하는 이 최첨단 무선 광마우스는 허공에서 팔목, 팔, 그외에 어떤 부분...</td>\n",
       "      <td>uses gyroscopic sensors to control the cursor ...</td>\n",
       "    </tr>\n",
       "    <tr>\n",
       "      <th>4</th>\n",
       "      <td>정보 관리들은 동남 아시아에서의 선박들에 대한 많은 (테러) 계획들이 실패로 돌아갔...</td>\n",
       "      <td>Intelligence officials have revealed a spate o...</td>\n",
       "    </tr>\n",
       "    <tr>\n",
       "      <th>...</th>\n",
       "      <td>...</td>\n",
       "      <td>...</td>\n",
       "    </tr>\n",
       "    <tr>\n",
       "      <th>74844</th>\n",
       "      <td>“우리는 3월 8일 김승연 회장과 그의 아들이 보복폭행에 가담한 혐의를 찾기 위해 ...</td>\n",
       "      <td>””We are hoping to seize material evidence to ...</td>\n",
       "    </tr>\n",
       "    <tr>\n",
       "      <th>74845</th>\n",
       "      <td>월요일 술집 종업원 6명은 김회장과 아들에게 폭행을 당했음을 진술했다고 경찰은 말했다.</td>\n",
       "      <td>” On Monday, police secured statements from si...</td>\n",
       "    </tr>\n",
       "    <tr>\n",
       "      <th>74846</th>\n",
       "      <td>그러나 불충분한 증거 확보로 수사에 어려움이 있다.</td>\n",
       "      <td>But the lack of material evidence is making it...</td>\n",
       "    </tr>\n",
       "    <tr>\n",
       "      <th>74847</th>\n",
       "      <td>김회장과 그의 아들은 보복폭행 혐의를 강력히 부인하고 있다.</td>\n",
       "      <td>Kim and his son both deny the allegations.</td>\n",
       "    </tr>\n",
       "    <tr>\n",
       "      <th>74848</th>\n",
       "      <td>경찰은 김회장의 집무실에서 추가 증거를 찾은 이후 가능한 한 오늘 김회장과 아들을 ...</td>\n",
       "      <td>Police are planning to seek arrest warrants fo...</td>\n",
       "    </tr>\n",
       "  </tbody>\n",
       "</table>\n",
       "<p>74849 rows × 2 columns</p>\n",
       "</div>"
      ],
      "text/plain": [
       "                                                   korea  \\\n",
       "0                   개인용 컴퓨터 사용의 상당 부분은 \"이것보다 뛰어날 수 있느냐?\"   \n",
       "1      모든 광마우스와 마찬가지 로 이 광마우스도 책상 위에 놓는 마우스 패드를 필요로 하...   \n",
       "2                             그러나 이것은 또한 책상도 필요로 하지 않는다.   \n",
       "3      79.95달러하는 이 최첨단 무선 광마우스는 허공에서 팔목, 팔, 그외에 어떤 부분...   \n",
       "4      정보 관리들은 동남 아시아에서의 선박들에 대한 많은 (테러) 계획들이 실패로 돌아갔...   \n",
       "...                                                  ...   \n",
       "74844  “우리는 3월 8일 김승연 회장과 그의 아들이 보복폭행에 가담한 혐의를 찾기 위해 ...   \n",
       "74845   월요일 술집 종업원 6명은 김회장과 아들에게 폭행을 당했음을 진술했다고 경찰은 말했다.   \n",
       "74846                       그러나 불충분한 증거 확보로 수사에 어려움이 있다.   \n",
       "74847                  김회장과 그의 아들은 보복폭행 혐의를 강력히 부인하고 있다.   \n",
       "74848  경찰은 김회장의 집무실에서 추가 증거를 찾은 이후 가능한 한 오늘 김회장과 아들을 ...   \n",
       "\n",
       "                                                 english  \n",
       "0      Much of personal computing is about \"can you t...  \n",
       "1      so a mention a few weeks ago about a rechargea...  \n",
       "2      Like all optical mice, But it also doesn't nee...  \n",
       "3      uses gyroscopic sensors to control the cursor ...  \n",
       "4      Intelligence officials have revealed a spate o...  \n",
       "...                                                  ...  \n",
       "74844  ””We are hoping to seize material evidence to ...  \n",
       "74845  ” On Monday, police secured statements from si...  \n",
       "74846  But the lack of material evidence is making it...  \n",
       "74847         Kim and his son both deny the allegations.  \n",
       "74848  Police are planning to seek arrest warrants fo...  \n",
       "\n",
       "[74849 rows x 2 columns]"
      ]
     },
     "execution_count": 69,
     "metadata": {},
     "output_type": "execute_result"
    }
   ],
   "source": [
    "raw_data = raw_data.reset_index(drop=True)\n",
    "raw_data"
   ]
  },
  {
   "cell_type": "markdown",
   "id": "8b600da6",
   "metadata": {},
   "source": [
    "## 2. 단어 정제"
   ]
  },
  {
   "cell_type": "code",
   "execution_count": 21,
   "id": "59b4df74",
   "metadata": {},
   "outputs": [],
   "source": [
    "def preprocess_sentence(sentence, s_token=False, e_token=False):\n",
    "    sentence = sentence.lower().strip()\n",
    "\n",
    "    sentence = re.sub(r\"([?\\\"\\')(.!,])\", r\" \\1 \", sentence)\n",
    "    sentence = re.sub(r'[\" \"]+', \" \", sentence)\n",
    "    sentence = re.sub(r\"[^a-zA-Z가-힣0-9?'')(.!,]+\", \" \", sentence)\n",
    "\n",
    "    sentence = sentence.strip()\n",
    "\n",
    "    if s_token:\n",
    "        sentence = '<start> ' + sentence\n",
    "\n",
    "    if e_token:\n",
    "        sentence += ' <end>'\n",
    "    \n",
    "    return sentence"
   ]
  },
  {
   "cell_type": "code",
   "execution_count": 22,
   "id": "99a49431",
   "metadata": {},
   "outputs": [
    {
     "name": "stderr",
     "output_type": "stream",
     "text": [
      "100%|██████████| 74849/74849 [00:01<00:00, 54073.80it/s]\n",
      "100%|██████████| 74849/74849 [00:01<00:00, 40591.73it/s]"
     ]
    },
    {
     "name": "stdout",
     "output_type": "stream",
     "text": [
      "한국어: 하지만 점점 더 많은 연인들이 웹사이트에 완벽한 축배의 말을 대신 써주도록 의뢰함으로써 그러한 실패로부터 자신들을 보호하고 있다 .\n",
      "영어: <start> it ' s a wedding couple ' s nightmare , but a growing number of love birds are shielding themselves by having web sites ghostwrite the perfect toast . <end>\n"
     ]
    },
    {
     "name": "stderr",
     "output_type": "stream",
     "text": [
      "\n"
     ]
    }
   ],
   "source": [
    "kor_corpus = []\n",
    "eng_corpus = []\n",
    "\n",
    "for sentence in tqdm(raw_data['korea']):\n",
    "    kor_corpus.append(preprocess_sentence(sentence))\n",
    "    \n",
    "for sentence in tqdm(raw_data['english']):\n",
    "    eng_corpus.append(preprocess_sentence(sentence, s_token=True, e_token=True))\n",
    "\n",
    "print(\"한국어:\", kor_corpus[50])   \n",
    "print(\"영어:\", eng_corpus[50])"
   ]
  },
  {
   "cell_type": "markdown",
   "id": "60380c16",
   "metadata": {},
   "source": [
    "## 3. 토큰화"
   ]
  },
  {
   "cell_type": "code",
   "execution_count": 23,
   "id": "80401859",
   "metadata": {},
   "outputs": [],
   "source": [
    "def tokenization(corpus, kor = False, num_words=None):\n",
    "    if kor:\n",
    "        mecab = Mecab()\n",
    "        sentence = []\n",
    "        for i in tqdm(corpus):\n",
    "            sentence.append(mecab.morphs(i))\n",
    "        corpus = sentence\n",
    "        \n",
    "    tokenizer = tf.keras.preprocessing.text.Tokenizer(num_words = num_words, filters=' ', char_level=False)\n",
    "    \n",
    "    tokenizer.fit_on_texts(corpus)\n",
    "\n",
    "    tensor = tokenizer.texts_to_sequences(corpus)\n",
    "\n",
    "    return tensor, tokenizer"
   ]
  },
  {
   "cell_type": "code",
   "execution_count": 24,
   "id": "f3ea473c",
   "metadata": {},
   "outputs": [
    {
     "name": "stderr",
     "output_type": "stream",
     "text": [
      "100%|██████████| 74849/74849 [00:11<00:00, 6620.65it/s]\n"
     ]
    }
   ],
   "source": [
    "kor_tensor, kor_tokenizer = tokenization(kor_corpus, kor = True, num_words = 20000)\n",
    "eng_tensor, eng_tokenizer = tokenization(eng_corpus, kor = False, num_words = 20000)"
   ]
  },
  {
   "cell_type": "code",
   "execution_count": 25,
   "id": "f4fca4c3",
   "metadata": {},
   "outputs": [],
   "source": [
    "def data_lens(data, name):\n",
    "    \n",
    "    print('{} 데이터의 최소 길이 :{}'.format(name, min(len(l) for l in data)))\n",
    "    print('{} 데이터의 최대 길이 :{}'.format(name, max(len(l) for l in data)))\n",
    "    print('{} 데이터의 평균 길이 :{}'.format(name, sum(map(len, data))/len(data)))\n",
    "\n",
    "    plt.hist([len(s) for s in data], bins=50)\n",
    "    plt.xlabel('length of samples')\n",
    "    plt.ylabel('number of samples')\n",
    "    plt.show()"
   ]
  },
  {
   "cell_type": "code",
   "execution_count": 26,
   "id": "4da409cf",
   "metadata": {},
   "outputs": [
    {
     "name": "stdout",
     "output_type": "stream",
     "text": [
      "한국어 데이터의 최소 길이 :0\n",
      "한국어 데이터의 최대 길이 :127\n",
      "한국어 데이터의 평균 길이 :29.95420112493153\n"
     ]
    },
    {
     "data": {
      "image/png": "[encoded data removed]",
      "text/plain": [
       "<Figure size 432x288 with 1 Axes>"
      ]
     },
     "metadata": {
      "image/png": {
       "height": 265,
       "width": 394
      },
      "needs_background": "light"
     },
     "output_type": "display_data"
    }
   ],
   "source": [
    "data_lens(kor_tensor, '한국어')"
   ]
  },
  {
   "cell_type": "code",
   "execution_count": 27,
   "id": "080948ab",
   "metadata": {},
   "outputs": [
    {
     "name": "stdout",
     "output_type": "stream",
     "text": [
      "영어 데이터의 최소 길이 :2\n",
      "영어 데이터의 최대 길이 :103\n",
      "영어 데이터의 평균 길이 :27.42158211866558\n"
     ]
    },
    {
     "data": {
      "image/png": "[encoded data removed]",
      "text/plain": [
       "<Figure size 432x288 with 1 Axes>"
      ]
     },
     "metadata": {
      "image/png": {
       "height": 264,
       "width": 394
      },
      "needs_background": "light"
     },
     "output_type": "display_data"
    }
   ],
   "source": [
    "data_lens(eng_tensor, '영어')"
   ]
  },
  {
   "cell_type": "code",
   "execution_count": 28,
   "id": "06f9b092",
   "metadata": {},
   "outputs": [],
   "source": [
    "def below_threshold_len(max_len, nested_list):\n",
    "    count = 0\n",
    "    for sentence in nested_list:\n",
    "        if(len(sentence) <= max_len):\n",
    "            count = count + 1\n",
    "    print('전체 샘플 중 길이가 %s 이하인 샘플의 비율: %s'%(max_len, (count / len(nested_list))*100))"
   ]
  },
  {
   "cell_type": "code",
   "execution_count": 29,
   "id": "e67999b5",
   "metadata": {},
   "outputs": [
    {
     "name": "stdout",
     "output_type": "stream",
     "text": [
      "전체 샘플 중 길이가 45 이하인 샘플의 비율: 89.69658913278734\n"
     ]
    }
   ],
   "source": [
    "max_len = 45\n",
    "below_threshold_len(max_len, kor_tensor)"
   ]
  },
  {
   "cell_type": "code",
   "execution_count": 30,
   "id": "efd17e9f",
   "metadata": {},
   "outputs": [
    {
     "name": "stdout",
     "output_type": "stream",
     "text": [
      "전체 샘플 중 길이가 45 이하인 샘플의 비율: 93.67526620262127\n"
     ]
    }
   ],
   "source": [
    "max_len = 45\n",
    "below_threshold_len(max_len, eng_tensor)"
   ]
  },
  {
   "cell_type": "code",
   "execution_count": 31,
   "id": "f7587ca8",
   "metadata": {},
   "outputs": [],
   "source": [
    "kor_data = tf.keras.preprocessing.sequence.pad_sequences(kor_tensor, padding='post', maxlen= max_len)\n",
    "eng_data = tf.keras.preprocessing.sequence.pad_sequences(eng_tensor, padding='post', maxlen= max_len)"
   ]
  },
  {
   "cell_type": "code",
   "execution_count": 32,
   "id": "3e2c4900",
   "metadata": {},
   "outputs": [
    {
     "name": "stdout",
     "output_type": "stream",
     "text": [
      "(74849, 45)\n",
      "(74849, 45)\n"
     ]
    }
   ],
   "source": [
    "print(np.shape(kor_data))\n",
    "print(np.shape(eng_data))"
   ]
  },
  {
   "cell_type": "code",
   "execution_count": 33,
   "id": "64370b19",
   "metadata": {},
   "outputs": [
    {
     "name": "stdout",
     "output_type": "stream",
     "text": [
      "(63621, 45)\n",
      "(11228, 45)\n",
      "(63621, 45)\n",
      "(11228, 45)\n"
     ]
    }
   ],
   "source": [
    "kor_train, kor_val, eng_train, eng_val = train_test_split(kor_data, eng_data, test_size=0.15)\n",
    "\n",
    "print(np.shape(kor_train))\n",
    "print(np.shape(kor_val))\n",
    "print(np.shape(eng_train))\n",
    "print(np.shape(eng_val))"
   ]
  },
  {
   "cell_type": "markdown",
   "id": "1899c853",
   "metadata": {},
   "source": [
    "# 모델 설계"
   ]
  },
  {
   "cell_type": "code",
   "execution_count": 46,
   "id": "0c22ef28",
   "metadata": {},
   "outputs": [],
   "source": [
    "batch_size = 32\n",
    "vocab_size = 20000\n",
    "embedding_dim = 128\n",
    "units = 128\n",
    "epochs = 30\n",
    "learning_rate = 1e-5"
   ]
  },
  {
   "cell_type": "code",
   "execution_count": 35,
   "id": "0af117f6",
   "metadata": {},
   "outputs": [],
   "source": [
    "class BahdanauAttention(tf.keras.layers.Layer):\n",
    "    def __init__(self, units):\n",
    "        super(BahdanauAttention, self).__init__()\n",
    "        self.w_dec = tf.keras.layers.Dense(units)\n",
    "        self.w_enc = tf.keras.layers.Dense(units)\n",
    "        self.w_com = tf.keras.layers.Dense(1)\n",
    "    \n",
    "    def call(self, h_enc, h_dec):\n",
    "        h_enc = self.w_enc(h_enc)\n",
    "        h_dec = tf.expand_dims(h_dec, 1)\n",
    "        h_dec = self.w_dec(h_dec)\n",
    "\n",
    "        score = self.w_com(tf.nn.tanh(h_dec + h_enc))\n",
    "        \n",
    "        attn = tf.nn.softmax(score, axis=1)\n",
    "\n",
    "        context_vec = attn * h_enc\n",
    "        context_vec = tf.reduce_sum(context_vec, axis=1)\n",
    "\n",
    "        return context_vec, attn"
   ]
  },
  {
   "cell_type": "code",
   "execution_count": 36,
   "id": "bc124844",
   "metadata": {},
   "outputs": [],
   "source": [
    "class Encoder(tf.keras.Model):\n",
    "    def __init__(self, vocab_size, embedding_dim, enc_units):\n",
    "        super(Encoder, self).__init__()\n",
    "        \n",
    "        self.enc_units = enc_units\n",
    "        self.embedding = tf.keras.layers.Embedding(vocab_size, embedding_dim, mask_zero=True)\n",
    "        self.gru = tf.keras.layers.GRU(enc_units,return_sequences=True)\n",
    "        self.dropout = tf.keras.layers.Dropout(0.25)\n",
    "        self.normalization = tf.keras.layers.LayerNormalization()\n",
    "        \n",
    "    def call(self, x):\n",
    "        out = self.embedding(x)\n",
    "        out = self.gru(out)\n",
    "        out = self.dropout(out)\n",
    "        out = self.normalization(out)\n",
    "        \n",
    "        return out"
   ]
  },
  {
   "cell_type": "code",
   "execution_count": 40,
   "id": "7cbfde45",
   "metadata": {},
   "outputs": [],
   "source": [
    "class Decoder(tf.keras.Model):\n",
    "    def __init__(self, vocab_size, embedding_dim, dec_units):\n",
    "        super(Decoder, self).__init__()\n",
    "        self.dec_units = dec_units\n",
    "        self.embedding = tf.keras.layers.Embedding(vocab_size, embedding_dim)\n",
    "        self.gru = tf.keras.layers.GRU(dec_units,\n",
    "                                       return_sequences=True,\n",
    "                                       return_state=True)\n",
    "        self.dropout = tf.keras.layers.Dropout(0.25)\n",
    "        self.normalization = tf.keras.layers.LayerNormalization()\n",
    "        self.fc = tf.keras.layers.Dense(vocab_size)\n",
    "        self.attention = BahdanauAttention(self.dec_units)\n",
    "\n",
    "    def call(self, x, h_dec, enc_out):\n",
    "        context_vec, attn = self.attention(enc_out, h_dec)\n",
    "\n",
    "        out = self.embedding(x)\n",
    "        out = tf.concat([tf.expand_dims(context_vec, 1), out], axis=-1)\n",
    "        \n",
    "        out, h_dec = self.gru(out)\n",
    "        out = self.dropout(out)\n",
    "        out = self.normalization(out)\n",
    "        out = tf.reshape(out, (-1, out.shape[2]))\n",
    "        out = self.fc(out)\n",
    "\n",
    "        return out, h_dec, attn"
   ]
  },
  {
   "cell_type": "markdown",
   "id": "ee281d53",
   "metadata": {},
   "source": [
    "# 모델 훈련"
   ]
  },
  {
   "cell_type": "code",
   "execution_count": 41,
   "id": "0b7ed788",
   "metadata": {},
   "outputs": [],
   "source": [
    "encoder = Encoder(vocab_size, embedding_dim, units)\n",
    "decoder = Decoder(vocab_size, embedding_dim, units)"
   ]
  },
  {
   "cell_type": "code",
   "execution_count": 42,
   "id": "1cbae18b",
   "metadata": {},
   "outputs": [],
   "source": [
    "optimizer = tf.keras.optimizers.Adam(learning_rate = learning_rate)\n",
    "loss_object = tf.keras.losses.SparseCategoricalCrossentropy(\n",
    "    from_logits=True, reduction='none')\n",
    "\n",
    "def loss_function(real, pred):\n",
    "    mask = tf.math.logical_not(tf.math.equal(real, 0))\n",
    "    loss = loss_object(real, pred)\n",
    "    \n",
    "    mask = tf.cast(mask, dtype=loss.dtype)\n",
    "    loss *= mask\n",
    "    \n",
    "    return tf.reduce_mean(loss)"
   ]
  },
  {
   "cell_type": "code",
   "execution_count": 43,
   "id": "e2256b62",
   "metadata": {},
   "outputs": [],
   "source": [
    "@tf.function\n",
    "def train_step(src, tgt, encoder, decoder, optimizer, dec_tok):\n",
    "    bsz = src.shape[0]\n",
    "    loss = 0\n",
    "\n",
    "    with tf.GradientTape() as tape:\n",
    "        enc_out = encoder(src)\n",
    "        h_dec = enc_out[:, -1]\n",
    "        \n",
    "        dec_src = tf.expand_dims([dec_tok.word_index['<start>']] * bsz, 1)\n",
    "\n",
    "        for t in range(1, tgt.shape[1]):\n",
    "            pred, h_dec, _ = decoder(dec_src, h_dec, enc_out)\n",
    "\n",
    "            loss += loss_function(tgt[:, t], pred)\n",
    "            dec_src = tf.expand_dims(tgt[:, t], 1)\n",
    "        \n",
    "    batch_loss = (loss / int(tgt.shape[1]))\n",
    "\n",
    "    variables = encoder.trainable_variables + decoder.trainable_variables\n",
    "    gradients = tape.gradient(loss, variables)\n",
    "    optimizer.apply_gradients(zip(gradients, variables))\n",
    "    \n",
    "    return batch_loss"
   ]
  },
  {
   "cell_type": "code",
   "execution_count": 45,
   "id": "b528114c",
   "metadata": {},
   "outputs": [],
   "source": [
    "@tf.function\n",
    "def eval_step(src, tgt, encoder, decoder, dec_tok):\n",
    "    bsz = src.shape[0]\n",
    "    loss = 0\n",
    "\n",
    "    enc_out = encoder(src)\n",
    "\n",
    "    h_dec = enc_out[:, -1]\n",
    "    \n",
    "    dec_src = tf.expand_dims([dec_tok.word_index['<start>']] * bsz, 1)\n",
    "\n",
    "    for t in range(1, tgt.shape[1]):\n",
    "        pred, h_dec, _ = decoder(dec_src, h_dec, enc_out)\n",
    "\n",
    "        loss += loss_function(tgt[:, t], pred)\n",
    "        dec_src = tf.expand_dims(tgt[:, t], 1)\n",
    "        \n",
    "    batch_loss = (loss / int(tgt.shape[1]))\n",
    "    \n",
    "    return batch_loss"
   ]
  },
  {
   "cell_type": "code",
   "execution_count": 47,
   "id": "c583a158",
   "metadata": {},
   "outputs": [
    {
     "name": "stderr",
     "output_type": "stream",
     "text": [
      "Epoch  1: 100%|██████████| 1989/1989 [03:46<00:00,  8.79it/s, Loss 4.4181]\n",
      "Test Epoch  1: 100%|██████████| 351/351 [00:47<00:00,  7.44it/s, Test Loss 4.0843]\n",
      "Epoch  2: 100%|██████████| 1989/1989 [03:12<00:00, 10.35it/s, Loss 3.9635]\n",
      "Test Epoch  2: 100%|██████████| 351/351 [00:16<00:00, 21.39it/s, Test Loss 3.9157]\n",
      "Epoch  3: 100%|██████████| 1989/1989 [03:13<00:00, 10.29it/s, Loss 3.8563]\n",
      "Test Epoch  3: 100%|██████████| 351/351 [00:16<00:00, 21.07it/s, Test Loss 3.8062]\n",
      "Epoch  4: 100%|██████████| 1989/1989 [03:12<00:00, 10.33it/s, Loss 3.7458]\n",
      "Test Epoch  4: 100%|██████████| 351/351 [00:16<00:00, 21.83it/s, Test Loss 3.7061]\n",
      "Epoch  5: 100%|██████████| 1989/1989 [03:13<00:00, 10.27it/s, Loss 3.6589]\n",
      "Test Epoch  5: 100%|██████████| 351/351 [00:16<00:00, 21.84it/s, Test Loss 3.6362]\n",
      "Epoch  6: 100%|██████████| 1989/1989 [03:12<00:00, 10.33it/s, Loss 3.5949]\n",
      "Test Epoch  6: 100%|██████████| 351/351 [00:16<00:00, 21.62it/s, Test Loss 3.5814]\n",
      "Epoch  7: 100%|██████████| 1989/1989 [03:11<00:00, 10.37it/s, Loss 3.5404]\n",
      "Test Epoch  7: 100%|██████████| 351/351 [00:16<00:00, 21.84it/s, Test Loss 3.5333]\n",
      "Epoch  8: 100%|██████████| 1989/1989 [03:11<00:00, 10.39it/s, Loss 3.4908]\n",
      "Test Epoch  8: 100%|██████████| 351/351 [00:16<00:00, 21.83it/s, Test Loss 3.4885]\n",
      "Epoch  9: 100%|██████████| 1989/1989 [03:10<00:00, 10.47it/s, Loss 3.4451]\n",
      "Test Epoch  9: 100%|██████████| 351/351 [00:16<00:00, 21.93it/s, Test Loss 3.4489]\n",
      "Epoch 10: 100%|██████████| 1989/1989 [03:11<00:00, 10.38it/s, Loss 3.4036]\n",
      "Test Epoch 10: 100%|██████████| 351/351 [00:16<00:00, 21.68it/s, Test Loss 3.4126]\n",
      "Epoch 11: 100%|██████████| 1989/1989 [03:12<00:00, 10.31it/s, Loss 3.3655]\n",
      "Test Epoch 11: 100%|██████████| 351/351 [00:17<00:00, 20.64it/s, Test Loss 3.3793]\n",
      "Epoch 12: 100%|██████████| 1989/1989 [03:12<00:00, 10.33it/s, Loss 3.3302]\n",
      "Test Epoch 12: 100%|██████████| 351/351 [00:16<00:00, 21.72it/s, Test Loss 3.3496]\n",
      "Epoch 13: 100%|██████████| 1989/1989 [03:16<00:00, 10.12it/s, Loss 3.2972]\n",
      "Test Epoch 13: 100%|██████████| 351/351 [00:16<00:00, 21.00it/s, Test Loss 3.3206]\n",
      "Epoch 14: 100%|██████████| 1989/1989 [03:12<00:00, 10.33it/s, Loss 3.2661]\n",
      "Test Epoch 14: 100%|██████████| 351/351 [00:16<00:00, 21.59it/s, Test Loss 3.2943]\n",
      "Epoch 15: 100%|██████████| 1989/1989 [03:12<00:00, 10.36it/s, Loss 3.2366]\n",
      "Test Epoch 15: 100%|██████████| 351/351 [00:16<00:00, 21.46it/s, Test Loss 3.2693]\n",
      "Epoch 16: 100%|██████████| 1989/1989 [03:10<00:00, 10.42it/s, Loss 3.2084]\n",
      "Test Epoch 16: 100%|██████████| 351/351 [00:16<00:00, 21.84it/s, Test Loss 3.2460]\n",
      "Epoch 17: 100%|██████████| 1989/1989 [03:11<00:00, 10.41it/s, Loss 3.1814]\n",
      "Test Epoch 17: 100%|██████████| 351/351 [00:16<00:00, 21.74it/s, Test Loss 3.2240]\n",
      "Epoch 18: 100%|██████████| 1989/1989 [03:09<00:00, 10.49it/s, Loss 3.1557]\n",
      "Test Epoch 18: 100%|██████████| 351/351 [00:16<00:00, 21.91it/s, Test Loss 3.2033]\n",
      "Epoch 19: 100%|██████████| 1989/1989 [03:11<00:00, 10.39it/s, Loss 3.1309]\n",
      "Test Epoch 19: 100%|██████████| 351/351 [00:15<00:00, 22.02it/s, Test Loss 3.1824]\n",
      "Epoch 20: 100%|██████████| 1989/1989 [03:12<00:00, 10.34it/s, Loss 3.1072]\n",
      "Test Epoch 20: 100%|██████████| 351/351 [00:16<00:00, 21.62it/s, Test Loss 3.1632]\n",
      "Epoch 21: 100%|██████████| 1989/1989 [03:12<00:00, 10.34it/s, Loss 3.0844]\n",
      "Test Epoch 21: 100%|██████████| 351/351 [00:16<00:00, 21.30it/s, Test Loss 3.1453]\n",
      "Epoch 22: 100%|██████████| 1989/1989 [03:13<00:00, 10.26it/s, Loss 3.0624]\n",
      "Test Epoch 22: 100%|██████████| 351/351 [00:16<00:00, 21.75it/s, Test Loss 3.1286]\n",
      "Epoch 23: 100%|██████████| 1989/1989 [03:12<00:00, 10.31it/s, Loss 3.0411]\n",
      "Test Epoch 23: 100%|██████████| 351/351 [00:16<00:00, 21.69it/s, Test Loss 3.1113]\n",
      "Epoch 24: 100%|██████████| 1989/1989 [03:10<00:00, 10.43it/s, Loss 3.0205]\n",
      "Test Epoch 24: 100%|██████████| 351/351 [00:16<00:00, 21.90it/s, Test Loss 3.0960]\n",
      "Epoch 25: 100%|██████████| 1989/1989 [03:10<00:00, 10.43it/s, Loss 3.0006]\n",
      "Test Epoch 25: 100%|██████████| 351/351 [00:16<00:00, 21.54it/s, Test Loss 3.0804]\n",
      "Epoch 26: 100%|██████████| 1989/1989 [03:10<00:00, 10.47it/s, Loss 2.9812]\n",
      "Test Epoch 26: 100%|██████████| 351/351 [00:15<00:00, 22.12it/s, Test Loss 3.0654]\n",
      "Epoch 27: 100%|██████████| 1989/1989 [03:10<00:00, 10.44it/s, Loss 2.9623]\n",
      "Test Epoch 27: 100%|██████████| 351/351 [00:16<00:00, 21.64it/s, Test Loss 3.0513]\n",
      "Epoch 28: 100%|██████████| 1989/1989 [03:10<00:00, 10.42it/s, Loss 2.9440]\n",
      "Test Epoch 28: 100%|██████████| 351/351 [00:16<00:00, 21.83it/s, Test Loss 3.0378]\n",
      "Epoch 29: 100%|██████████| 1989/1989 [03:10<00:00, 10.46it/s, Loss 2.9262]\n",
      "Test Epoch 29: 100%|██████████| 351/351 [00:16<00:00, 21.61it/s, Test Loss 3.0252]\n",
      "Epoch 30: 100%|██████████| 1989/1989 [03:10<00:00, 10.43it/s, Loss 2.9088]\n",
      "Test Epoch 30: 100%|██████████| 351/351 [00:16<00:00, 21.71it/s, Test Loss 3.0123]\n"
     ]
    }
   ],
   "source": [
    "for epoch in range(epochs):\n",
    "    total_loss = 0\n",
    "    \n",
    "    idx_list = list(range(0, kor_train.shape[0], batch_size))\n",
    "    random.shuffle(idx_list)\n",
    "    t = tqdm(idx_list)\n",
    "\n",
    "    for (batch, idx) in enumerate(t):\n",
    "        batch_loss = train_step(kor_train[idx:idx+batch_size],\n",
    "                                eng_train[idx:idx+batch_size],\n",
    "                                encoder,\n",
    "                                decoder,\n",
    "                                optimizer,\n",
    "                                eng_tokenizer)\n",
    "    \n",
    "        total_loss += batch_loss\n",
    "        \n",
    "        t.set_description_str('Epoch %2d' % (epoch + 1))\n",
    "        t.set_postfix_str('Loss %.4f' % (total_loss.numpy() / (batch + 1)))\n",
    "    \n",
    "    test_loss = 0\n",
    "    \n",
    "    idx_list = list(range(0, kor_val.shape[0], batch_size))\n",
    "    random.shuffle(idx_list)\n",
    "    t = tqdm(idx_list)\n",
    "\n",
    "    for (test_batch, idx) in enumerate(t):\n",
    "        test_batch_loss = eval_step(kor_val[idx:idx+batch_size],\n",
    "                                    eng_val[idx:idx+batch_size],\n",
    "                                    encoder,\n",
    "                                    decoder,\n",
    "                                    eng_tokenizer)\n",
    "    \n",
    "        test_loss += test_batch_loss\n",
    "\n",
    "        t.set_description_str('Test Epoch %2d' % (epoch + 1))\n",
    "        t.set_postfix_str('Test Loss %.4f' % (test_loss.numpy() / (test_batch + 1)))"
   ]
  },
  {
   "cell_type": "markdown",
   "id": "2e951916",
   "metadata": {},
   "source": [
    "# 평가"
   ]
  },
  {
   "cell_type": "code",
   "execution_count": 68,
   "id": "d8fa6c13",
   "metadata": {},
   "outputs": [],
   "source": [
    "def evaluate(sentence, encoder, decoder):\n",
    "    attention = np.zeros((eng_train.shape[-1], kor_train.shape[-1]))\n",
    "   \n",
    "    sentence = preprocess_sentence(sentence)\n",
    "    inputs = kor_tokenizer.texts_to_sequences([sentence.split()])\n",
    "    inputs = tf.keras.preprocessing.sequence.pad_sequences(inputs,\n",
    "                                                           maxlen=kor_train.shape[-1],\n",
    "                                                           padding='post')\n",
    "\n",
    "    result = ''\n",
    "\n",
    "    enc_out = encoder(inputs)\n",
    "\n",
    "    dec_hidden = enc_out[:, -1]\n",
    "    dec_input = tf.expand_dims([eng_tokenizer.word_index['<start>']], 0)\n",
    "\n",
    "    for t in range(eng_train.shape[-1]):\n",
    "        predictions, dec_hidden, attention_weights = decoder(dec_input,\n",
    "                                                             dec_hidden,\n",
    "                                                             enc_out)\n",
    "\n",
    "        attention_weights = tf.reshape(attention_weights, (-1, ))\n",
    "        attention[t] = attention_weights.numpy()\n",
    "\n",
    "        predicted_id = \\\n",
    "        tf.argmax(tf.math.softmax(predictions, axis=-1)[0]).numpy()\n",
    "\n",
    "        result += eng_tokenizer.index_word[predicted_id] + ' '\n",
    "\n",
    "        if eng_tokenizer.index_word[predicted_id] == '<end>':\n",
    "            return result, sentence, attention\n",
    "\n",
    "        dec_input = tf.expand_dims([predicted_id], 0)\n",
    "\n",
    "    return result, sentence, attention\n",
    "\n",
    "\n",
    "def plot_attention(attention, sentence, predicted_sentence):\n",
    "    fig = plt.figure(figsize=(10,10))\n",
    "    ax = fig.add_subplot(1, 1, 1)\n",
    "    ax.matshow(attention, cmap='viridis')\n",
    "\n",
    "    fontdict = {'fontsize': 14}\n",
    "\n",
    "    ax.set_xticklabels([''] + sentence, fontdict=fontdict, rotation=90)\n",
    "    ax.set_yticklabels([''] + predicted_sentence, fontdict=fontdict)\n",
    "\n",
    "    ax.xaxis.set_major_locator(ticker.MultipleLocator(1))\n",
    "    ax.yaxis.set_major_locator(ticker.MultipleLocator(1))\n",
    "\n",
    "    plt.show()\n",
    "\n",
    "\n",
    "def translate(sentence, encoder, decoder):\n",
    "    result, sentence, attention = evaluate(sentence, encoder, decoder)\n",
    "\n",
    "    print('Input: %s' % (sentence))\n",
    "    print('Predicted translation: {}'.format(result))\n",
    "    \n",
    "    attention = attention[:len(result.split()), :len(sentence.split())]\n",
    "    plot_attention(attention, sentence.split(), result.split(' '))"
   ]
  },
  {
   "cell_type": "markdown",
   "id": "347c2695",
   "metadata": {},
   "source": [
    "# 1차 결과"
   ]
  },
  {
   "cell_type": "code",
   "execution_count": 69,
   "id": "af1fa1da",
   "metadata": {},
   "outputs": [
    {
     "name": "stdout",
     "output_type": "stream",
     "text": [
      "Input: 내일 시간 있어 ?\n",
      "Predicted translation: the ? <end> \n"
     ]
    },
    {
     "name": "stderr",
     "output_type": "stream",
     "text": [
      "/tmp/ipykernel_213/299875125.py:45: UserWarning: FixedFormatter should only be used together with FixedLocator\n",
      "  ax.set_xticklabels([''] + sentence, fontdict=fontdict, rotation=90)\n",
      "/tmp/ipykernel_213/299875125.py:46: UserWarning: FixedFormatter should only be used together with FixedLocator\n",
      "  ax.set_yticklabels([''] + predicted_sentence, fontdict=fontdict)\n"
     ]
    },
    {
     "data": {
      "image/png": "[encoded data removed]",
      "text/plain": [
       "<Figure size 720x720 with 1 Axes>"
      ]
     },
     "metadata": {
      "image/png": {
       "height": 468,
       "width": 616
      },
      "needs_background": "light"
     },
     "output_type": "display_data"
    }
   ],
   "source": [
    "translate(\"내일 시간 있어?\", encoder, decoder)"
   ]
  },
  {
   "cell_type": "code",
   "execution_count": 62,
   "id": "870f788e",
   "metadata": {},
   "outputs": [
    {
     "name": "stdout",
     "output_type": "stream",
     "text": [
      "Input: 영화 보러 갈래 ?\n",
      "Predicted translation: the ? <end> \n"
     ]
    },
    {
     "name": "stderr",
     "output_type": "stream",
     "text": [
      "/tmp/ipykernel_213/1366975352.py:45: UserWarning: FixedFormatter should only be used together with FixedLocator\n",
      "  ax.set_xticklabels([''] + sentence, fontdict=fontdict, rotation=90)\n",
      "/tmp/ipykernel_213/1366975352.py:46: UserWarning: FixedFormatter should only be used together with FixedLocator\n",
      "  ax.set_yticklabels([''] + predicted_sentence, fontdict=fontdict)\n"
     ]
    },
    {
     "data": {
      "image/png": "[encoded data removed]",
      "text/plain": [
       "<Figure size 720x720 with 1 Axes>"
      ]
     },
     "metadata": {
      "image/png": {
       "height": 468,
       "width": 616
      },
      "needs_background": "light"
     },
     "output_type": "display_data"
    }
   ],
   "source": [
    "translate(\"영화 보러 갈래?\", encoder, decoder)"
   ]
  },
  {
   "cell_type": "markdown",
   "id": "3c3f3075",
   "metadata": {},
   "source": [
    "## 결과 요약\n",
    "하이퍼 파라미터\n",
    "- batch_size = 32\n",
    "- vocab_size = 20000\n",
    "- embedding_dim = 128\n",
    "- units = 128\n",
    "- epochs = 30\n",
    "- learning_rate = 1e-5\n",
    "- train 63621 / val 11228\n",
    "- max_len = 45\n",
    "\n",
    "결과를 확인했을때, 번역이 제대로 안된것을 확인할 수 있었습니다.\n",
    "\n",
    "- 생각하는 이유:\n",
    "1. 단어 정제시 뉴스 기사 데이터이다 보니 괄호와 '와 같은 따옴표 등을 전처리 하지 않은것이 성능에 안좋은 영향을 끼쳤다고 생각합니다.\n",
    "2. 훈련 데이터의 갯수도 적었다고 생각합니다.\n",
    "3. 단어 사전의 경우 2만개로 설정하였는데, 해당 수도 작았다고 생각이 됩니다.\n",
    "\n",
    "- 이번에는 단어 정제 함수를 수정하고 train데이터의 크기와 사전의 크기도 늘려서 다시 시도해보겠습니다."
   ]
  },
  {
   "cell_type": "markdown",
   "id": "6e949922",
   "metadata": {},
   "source": [
    "----------------------------------------"
   ]
  },
  {
   "cell_type": "markdown",
   "id": "62273dc2",
   "metadata": {},
   "source": [
    "# 2차 시도"
   ]
  },
  {
   "cell_type": "markdown",
   "id": "49bd31a7",
   "metadata": {},
   "source": [
    "# 전처리 수정"
   ]
  },
  {
   "cell_type": "code",
   "execution_count": 70,
   "id": "8ce44d0f",
   "metadata": {},
   "outputs": [],
   "source": [
    "def preprocess_sentence2(sentence, s_token=False, e_token=False):\n",
    "    sentence = sentence.lower().strip()\n",
    "\n",
    "    sentence = re.sub(r'\\([^)]*\\)', r'', sentence) #괄호로 둘러싸인 부분 제거\n",
    "    sentence = re.sub(r\"([0-9?.!,])\", r\" \\1 \", sentence) #문장 내의 구두점을 공백과 함께 분리\n",
    "    sentence = re.sub(r'[^a-zA-Z가-힣0-9?.!, ]+', r' ', sentence) #영문 알파벳, 한글, 숫자, 구두점을 제외한 모든 문자를 제거\n",
    "    sentence = re.sub(r\"['\\n']+\", r\"\", sentence) #개행 문자 제거\n",
    "    sentence = re.sub(r'[\"   \"]+', \" \", sentence) #연속된 공백을 하나의 공백으로 변환\n",
    "\n",
    "    if s_token:\n",
    "        sentence = '<start> ' + sentence\n",
    "\n",
    "    if e_token:\n",
    "        sentence += ' <end>'\n",
    "    \n",
    "    return sentence"
   ]
  },
  {
   "cell_type": "code",
   "execution_count": 71,
   "id": "5e5bf799",
   "metadata": {},
   "outputs": [
    {
     "name": "stderr",
     "output_type": "stream",
     "text": [
      "100%|██████████| 74849/74849 [00:01<00:00, 54098.34it/s]\n",
      "100%|██████████| 74849/74849 [00:01<00:00, 45382.79it/s]"
     ]
    },
    {
     "name": "stdout",
     "output_type": "stream",
     "text": [
      "한국어: 하지만 점점 더 많은 연인들이 웹사이트에 완벽한 축배의 말을 대신 써주도록 의뢰함으로써 그러한 실패로부터 자신들을 보호하고 있다 . \n",
      "영어: <start> it s a wedding couple s nightmare , but a growing number of love birds are shielding themselves by having web sites ghostwrite the perfect toast .  <end>\n"
     ]
    },
    {
     "name": "stderr",
     "output_type": "stream",
     "text": [
      "\n"
     ]
    }
   ],
   "source": [
    "kor_corpus = []\n",
    "eng_corpus = []\n",
    "\n",
    "for sentence in tqdm(raw_data['korea']):\n",
    "    kor_corpus.append(preprocess_sentence2(sentence))\n",
    "    \n",
    "for sentence in tqdm(raw_data['english']):\n",
    "    eng_corpus.append(preprocess_sentence2(sentence, s_token=True, e_token=True))\n",
    "\n",
    "print(\"한국어:\", kor_corpus[50])   \n",
    "print(\"영어:\", eng_corpus[50])"
   ]
  },
  {
   "cell_type": "code",
   "execution_count": 72,
   "id": "f8dfa8d1",
   "metadata": {},
   "outputs": [],
   "source": [
    "def tokenization2(corpus, kor = False, num_words=None):\n",
    "    if kor:\n",
    "        mecab = Mecab()\n",
    "        sentence = []\n",
    "        for i in tqdm(corpus):\n",
    "            sentence.append(mecab.morphs(i))\n",
    "        corpus = sentence\n",
    "        \n",
    "    tokenizer = tf.keras.preprocessing.text.Tokenizer(num_words = num_words, filters='',oov_token='<unk>')\n",
    "    \n",
    "    tokenizer.fit_on_texts(corpus)\n",
    "\n",
    "    tensor = tokenizer.texts_to_sequences(corpus)\n",
    "\n",
    "    return tensor, tokenizer"
   ]
  },
  {
   "cell_type": "code",
   "execution_count": 73,
   "id": "64b62f9b",
   "metadata": {},
   "outputs": [
    {
     "name": "stderr",
     "output_type": "stream",
     "text": [
      "100%|██████████| 74849/74849 [00:10<00:00, 7117.08it/s]\n"
     ]
    }
   ],
   "source": [
    "kor_tensor, kor_tokenizer = tokenization2(kor_corpus, kor = True, num_words = 33000)\n",
    "eng_tensor, eng_tokenizer = tokenization2(eng_corpus, kor = False, num_words = 33000)"
   ]
  },
  {
   "cell_type": "code",
   "execution_count": 76,
   "id": "a83865bd",
   "metadata": {},
   "outputs": [],
   "source": [
    "max_len = 45\n",
    "\n",
    "kor_data = tf.keras.preprocessing.sequence.pad_sequences(kor_tensor, padding='post', maxlen= max_len)\n",
    "eng_data = tf.keras.preprocessing.sequence.pad_sequences(eng_tensor, padding='post', maxlen= max_len)"
   ]
  },
  {
   "cell_type": "code",
   "execution_count": 77,
   "id": "7324dba8",
   "metadata": {},
   "outputs": [
    {
     "name": "stdout",
     "output_type": "stream",
     "text": [
      "(74849, 45)\n",
      "(74849, 45)\n"
     ]
    }
   ],
   "source": [
    "print(np.shape(kor_data))\n",
    "print(np.shape(eng_data))"
   ]
  },
  {
   "cell_type": "markdown",
   "id": "5455b430",
   "metadata": {},
   "source": [
    "# 모델 설계"
   ]
  },
  {
   "cell_type": "code",
   "execution_count": 82,
   "id": "041596a9",
   "metadata": {},
   "outputs": [],
   "source": [
    "batch_size = 64\n",
    "vocab_size = 33000\n",
    "embedding_dim = 256\n",
    "units = 256\n",
    "epochs = 30\n",
    "learning_rate = 3e-5"
   ]
  },
  {
   "cell_type": "code",
   "execution_count": 79,
   "id": "a44f59a3",
   "metadata": {},
   "outputs": [],
   "source": [
    "class BahdanauAttention(tf.keras.layers.Layer):\n",
    "    def __init__(self, units):\n",
    "        super(BahdanauAttention, self).__init__()\n",
    "        self.w_dec = tf.keras.layers.Dense(units)\n",
    "        self.w_enc = tf.keras.layers.Dense(units)\n",
    "        self.w_com = tf.keras.layers.Dense(1)\n",
    "    \n",
    "    def call(self, h_enc, h_dec):\n",
    "        h_enc = self.w_enc(h_enc)\n",
    "        h_dec = tf.expand_dims(h_dec, 1)\n",
    "        h_dec = self.w_dec(h_dec)\n",
    "\n",
    "        score = self.w_com(tf.nn.tanh(h_dec + h_enc))\n",
    "        \n",
    "        attn = tf.nn.softmax(score, axis=1)\n",
    "\n",
    "        context_vec = attn * h_enc\n",
    "        context_vec = tf.reduce_sum(context_vec, axis=1)\n",
    "\n",
    "        return context_vec, attn"
   ]
  },
  {
   "cell_type": "code",
   "execution_count": 80,
   "id": "03bf229d",
   "metadata": {},
   "outputs": [],
   "source": [
    "class Encoder(tf.keras.Model):\n",
    "    def __init__(self, vocab_size, embedding_dim, enc_units):\n",
    "        super(Encoder, self).__init__()\n",
    "        \n",
    "        self.enc_units = enc_units\n",
    "        self.embedding = tf.keras.layers.Embedding(vocab_size, embedding_dim, mask_zero=True)\n",
    "        self.gru = tf.keras.layers.GRU(enc_units,return_sequences=True)\n",
    "        self.dropout = tf.keras.layers.Dropout(0.25)\n",
    "        self.normalization = tf.keras.layers.LayerNormalization()\n",
    "        \n",
    "    def call(self, x):\n",
    "        out = self.embedding(x)\n",
    "        out = self.gru(out)\n",
    "        out = self.dropout(out)\n",
    "        out = self.normalization(out)\n",
    "        \n",
    "        return out"
   ]
  },
  {
   "cell_type": "code",
   "execution_count": 81,
   "id": "f52116c2",
   "metadata": {},
   "outputs": [],
   "source": [
    "class Decoder(tf.keras.Model):\n",
    "    def __init__(self, vocab_size, embedding_dim, dec_units):\n",
    "        super(Decoder, self).__init__()\n",
    "        self.dec_units = dec_units\n",
    "        self.embedding = tf.keras.layers.Embedding(vocab_size, embedding_dim)\n",
    "        self.gru = tf.keras.layers.GRU(dec_units,\n",
    "                                       return_sequences=True,\n",
    "                                       return_state=True)\n",
    "        self.dropout = tf.keras.layers.Dropout(0.25)\n",
    "        self.normalization = tf.keras.layers.LayerNormalization()\n",
    "        self.fc = tf.keras.layers.Dense(vocab_size)\n",
    "        self.attention = BahdanauAttention(self.dec_units)\n",
    "\n",
    "    def call(self, x, h_dec, enc_out):\n",
    "        context_vec, attn = self.attention(enc_out, h_dec)\n",
    "\n",
    "        out = self.embedding(x)\n",
    "        out = tf.concat([tf.expand_dims(context_vec, 1), out], axis=-1)\n",
    "        \n",
    "        out, h_dec = self.gru(out)\n",
    "        out = self.dropout(out)\n",
    "        out = self.normalization(out)\n",
    "        out = tf.reshape(out, (-1, out.shape[2]))\n",
    "        out = self.fc(out)\n",
    "\n",
    "        return out, h_dec, attn"
   ]
  },
  {
   "cell_type": "markdown",
   "id": "fd6a316f",
   "metadata": {},
   "source": [
    "# 훈련"
   ]
  },
  {
   "cell_type": "code",
   "execution_count": 83,
   "id": "9e53caf3",
   "metadata": {},
   "outputs": [],
   "source": [
    "encoder = Encoder(vocab_size, embedding_dim, units)\n",
    "decoder = Decoder(vocab_size, embedding_dim, units)"
   ]
  },
  {
   "cell_type": "code",
   "execution_count": 84,
   "id": "da04ccac",
   "metadata": {},
   "outputs": [],
   "source": [
    "optimizer = tf.keras.optimizers.Adam(learning_rate = learning_rate)\n",
    "loss_object = tf.keras.losses.SparseCategoricalCrossentropy(\n",
    "    from_logits=True, reduction='none')\n",
    "\n",
    "def loss_function(real, pred):\n",
    "    mask = tf.math.logical_not(tf.math.equal(real, 0))\n",
    "    loss = loss_object(real, pred)\n",
    "    \n",
    "    mask = tf.cast(mask, dtype=loss.dtype)\n",
    "    loss *= mask\n",
    "    \n",
    "    return tf.reduce_mean(loss)"
   ]
  },
  {
   "cell_type": "code",
   "execution_count": 111,
   "id": "5b8ae351",
   "metadata": {},
   "outputs": [],
   "source": [
    "@tf.function\n",
    "def train_step(src, tgt, encoder, decoder, optimizer, dec_tok):\n",
    "    bsz = src.shape[0]\n",
    "    loss = 0\n",
    "\n",
    "    with tf.GradientTape() as tape:\n",
    "        enc_out = encoder(src)\n",
    "        h_dec = enc_out[:, -1]\n",
    "        \n",
    "        dec_src = tf.expand_dims([dec_tok.word_index['<start>']] * bsz, 1)\n",
    "\n",
    "        for t in range(1, tgt.shape[1]):\n",
    "            pred, h_dec, _ = decoder(dec_src, h_dec, enc_out)\n",
    "\n",
    "            loss += loss_function(tgt[:, t], pred)\n",
    "            dec_src = tf.expand_dims(tgt[:, t], 1)\n",
    "        \n",
    "    batch_loss = (loss / int(tgt.shape[1]))\n",
    "\n",
    "    variables = encoder.trainable_variables + decoder.trainable_variables\n",
    "    gradients = tape.gradient(loss, variables)\n",
    "    optimizer.apply_gradients(zip(gradients, variables))\n",
    "    \n",
    "    return batch_loss"
   ]
  },
  {
   "cell_type": "code",
   "execution_count": 112,
   "id": "a6c041dc",
   "metadata": {},
   "outputs": [],
   "source": [
    "def evaluate(sentence, encoder, decoder):\n",
    "    attention = np.zeros((eng_data.shape[-1], kor_data.shape[-1]))\n",
    "    mecab = Mecab()\n",
    "    sentence = mecab.morphs(sentence)\n",
    "    sentence = preprocess_sentence2(sentence)\n",
    "    inputs = kor_tokenizer.texts_to_sequences([sentence])\n",
    "    inputs = tf.keras.preprocessing.sequence.pad_sequences(inputs,\n",
    "                                                           maxlen=kor_data.shape[-1],\n",
    "                                                           padding='post')\n",
    "\n",
    "    result = ''\n",
    "\n",
    "    enc_out = encoder(inputs)\n",
    "\n",
    "    dec_hidden = enc_out[:, -1]\n",
    "    dec_input = tf.expand_dims([eng_tokenizer.word_index['<start>']], 0)\n",
    "\n",
    "    for t in range(eng_data.shape[-1]):\n",
    "        predictions, dec_hidden, attention_weights = decoder(dec_input,\n",
    "                                                             dec_hidden,\n",
    "                                                             enc_out)\n",
    "\n",
    "        attention_weights = tf.reshape(attention_weights, (-1, ))\n",
    "        attention[t] = attention_weights.numpy()\n",
    "\n",
    "        predicted_id = \\\n",
    "        tf.argmax(tf.math.softmax(predictions, axis=-1)[0]).numpy()\n",
    "\n",
    "        result += eng_tokenizer.index_word[predicted_id] + ' '\n",
    "\n",
    "        if eng_tokenizer.index_word[predicted_id] == '<end>':\n",
    "            return result, sentence, attention\n",
    "\n",
    "        dec_input = tf.expand_dims([predicted_id], 0)\n",
    "\n",
    "    return result, sentence, attention\n",
    "\n",
    "\n",
    "def plot_attention(attention, sentence, predicted_sentence):\n",
    "    fig = plt.figure(figsize=(10,10))\n",
    "    ax = fig.add_subplot(1, 1, 1)\n",
    "    ax.matshow(attention, cmap='viridis')\n",
    "\n",
    "    fontdict = {'fontsize': 14}\n",
    "\n",
    "    ax.set_xticklabels([''] + sentence, fontdict=fontdict, rotation=90)\n",
    "    ax.set_yticklabels([''] + predicted_sentence, fontdict=fontdict)\n",
    "\n",
    "    ax.xaxis.set_major_locator(ticker.MultipleLocator(1))\n",
    "    ax.yaxis.set_major_locator(ticker.MultipleLocator(1))\n",
    "\n",
    "    plt.show()\n",
    "\n",
    "def translate(sentence, encoder, decoder):\n",
    "    result, sentence, attention = evaluate(sentence, encoder, decoder)\n",
    "\n",
    "    print('Input: %s' % (sentence))\n",
    "    print('Predicted translation: {}'.format(result))\n",
    "    \n",
    "#     attention = attention[:len(result.split()), :len(sentence.split())]\n",
    "#     plot_attention(attention, sentence.split(), result.split(' '))"
   ]
  },
  {
   "cell_type": "code",
   "execution_count": 88,
   "id": "71726ba7",
   "metadata": {},
   "outputs": [
    {
     "name": "stderr",
     "output_type": "stream",
     "text": [
      "Epoch  1: 100%|██████████| 1170/1170 [04:22<00:00,  4.46it/s, Loss 4.4298]\n",
      "Epoch  2: 100%|██████████| 1170/1170 [03:03<00:00,  6.38it/s, Loss 3.8465]\n",
      "Epoch  3: 100%|██████████| 1170/1170 [03:05<00:00,  6.31it/s, Loss 3.6149]\n",
      "Epoch  4: 100%|██████████| 1170/1170 [03:05<00:00,  6.31it/s, Loss 3.4489]\n",
      "Epoch  5: 100%|██████████| 1170/1170 [03:05<00:00,  6.30it/s, Loss 3.3249]\n",
      "Epoch  6: 100%|██████████| 1170/1170 [03:05<00:00,  6.30it/s, Loss 3.2250]\n",
      "Epoch  7: 100%|██████████| 1170/1170 [03:05<00:00,  6.30it/s, Loss 3.1393]\n",
      "Epoch  8: 100%|██████████| 1170/1170 [03:05<00:00,  6.29it/s, Loss 3.0633]\n",
      "Epoch  9: 100%|██████████| 1170/1170 [03:06<00:00,  6.29it/s, Loss 2.9943]\n",
      "Epoch 10: 100%|██████████| 1170/1170 [03:05<00:00,  6.30it/s, Loss 2.9309]\n",
      "Epoch 11: 100%|██████████| 1170/1170 [03:05<00:00,  6.30it/s, Loss 2.8720]\n",
      "Epoch 12: 100%|██████████| 1170/1170 [03:05<00:00,  6.30it/s, Loss 2.8170]\n",
      "Epoch 13: 100%|██████████| 1170/1170 [03:05<00:00,  6.30it/s, Loss 2.7652]\n",
      "Epoch 14: 100%|██████████| 1170/1170 [03:05<00:00,  6.29it/s, Loss 2.7162]\n",
      "Epoch 15: 100%|██████████| 1170/1170 [03:05<00:00,  6.30it/s, Loss 2.6695]\n",
      "Epoch 16: 100%|██████████| 1170/1170 [03:05<00:00,  6.30it/s, Loss 2.6251]\n",
      "Epoch 17: 100%|██████████| 1170/1170 [03:05<00:00,  6.29it/s, Loss 2.5825]\n",
      "Epoch 18: 100%|██████████| 1170/1170 [03:05<00:00,  6.29it/s, Loss 2.5414]\n",
      "Epoch 19: 100%|██████████| 1170/1170 [03:06<00:00,  6.29it/s, Loss 2.5020]\n",
      "Epoch 20: 100%|██████████| 1170/1170 [03:05<00:00,  6.29it/s, Loss 2.4637]\n",
      "Epoch 21: 100%|██████████| 1170/1170 [03:05<00:00,  6.29it/s, Loss 2.4268]\n",
      "Epoch 22: 100%|██████████| 1170/1170 [03:05<00:00,  6.30it/s, Loss 2.3908]\n",
      "Epoch 23: 100%|██████████| 1170/1170 [03:06<00:00,  6.29it/s, Loss 2.3559]\n",
      "Epoch 24: 100%|██████████| 1170/1170 [03:06<00:00,  6.29it/s, Loss 2.3218]\n",
      "Epoch 25: 100%|██████████| 1170/1170 [03:06<00:00,  6.29it/s, Loss 2.2887]\n",
      "Epoch 26: 100%|██████████| 1170/1170 [03:05<00:00,  6.29it/s, Loss 2.2563]\n",
      "Epoch 27: 100%|██████████| 1170/1170 [03:05<00:00,  6.29it/s, Loss 2.2246]\n",
      "Epoch 28: 100%|██████████| 1170/1170 [03:06<00:00,  6.29it/s, Loss 2.1938]\n",
      "Epoch 29: 100%|██████████| 1170/1170 [03:05<00:00,  6.29it/s, Loss 2.1634]\n",
      "Epoch 30: 100%|██████████| 1170/1170 [03:06<00:00,  6.29it/s, Loss 2.1337]\n"
     ]
    }
   ],
   "source": [
    "for epoch in range(epochs):\n",
    "    total_loss = 0\n",
    "    \n",
    "    idx_list = list(range(0, kor_data.shape[0], batch_size))\n",
    "    random.shuffle(idx_list)\n",
    "    t = tqdm(idx_list)\n",
    "\n",
    "    for (batch, idx) in enumerate(t):\n",
    "        batch_loss = train_step(kor_data[idx:idx+batch_size],\n",
    "                                eng_data[idx:idx+batch_size],\n",
    "                                encoder,\n",
    "                                decoder,\n",
    "                                optimizer,\n",
    "                                eng_tokenizer)\n",
    "    \n",
    "        total_loss += batch_loss\n",
    "        \n",
    "        t.set_description_str('Epoch %2d' % (epoch + 1))\n",
    "        t.set_postfix_str('Loss %.4f' % (total_loss.numpy() / (batch + 1)))"
   ]
  },
  {
   "cell_type": "markdown",
   "id": "7872eafc",
   "metadata": {},
   "source": [
    "# 2차 결과"
   ]
  },
  {
   "cell_type": "code",
   "execution_count": 99,
   "id": "88ba7463",
   "metadata": {},
   "outputs": [
    {
     "name": "stdout",
     "output_type": "stream",
     "text": [
      "Input: ['오바마', '는', '대통령', '이', '다', '.']\n",
      "Predicted translation: obama is the president elect barack obama is the president elect barack obama is the president elect barack obama is the president elect barack obama is the president elect barack obama is the president elect barack obama is the president elect barack obama is the \n"
     ]
    }
   ],
   "source": [
    "translate(\"오바마는 대통령이다.\", encoder, decoder)"
   ]
  },
  {
   "cell_type": "code",
   "execution_count": 100,
   "id": "4d44a396",
   "metadata": {},
   "outputs": [
    {
     "name": "stdout",
     "output_type": "stream",
     "text": [
      "Input: ['시민', '들', '은', '도시', '속', '에', '산다', '.']\n",
      "Predicted translation: they are in cities . <end> \n"
     ]
    }
   ],
   "source": [
    "translate(\"시민들은 도시 속에 산다.\", encoder, decoder)"
   ]
  },
  {
   "cell_type": "code",
   "execution_count": 101,
   "id": "a43b43a3",
   "metadata": {},
   "outputs": [
    {
     "name": "stdout",
     "output_type": "stream",
     "text": [
      "Input: ['커피', '는', '필요', '없', '다', '.']\n",
      "Predicted translation: coffee is no longer . <end> \n"
     ]
    }
   ],
   "source": [
    "translate(\"커피는 필요 없다.\", encoder, decoder)"
   ]
  },
  {
   "cell_type": "code",
   "execution_count": 102,
   "id": "3e98c419",
   "metadata": {},
   "outputs": [
    {
     "name": "stdout",
     "output_type": "stream",
     "text": [
      "Input: ['일곱', '명', '의', '사망자', '가', '발생', '했', '다', '.']\n",
      "Predicted translation: seven seven deaths were killed seven seven deaths were killed seven seven deaths were killed seven seven deaths were killed seven seven deaths were killed seven seven deaths were killed seven seven deaths were killed seven seven deaths were killed seven seven deaths were killed \n"
     ]
    }
   ],
   "source": [
    "translate(\"일곱 명의 사망자가 발생했다.\", encoder, decoder)"
   ]
  },
  {
   "cell_type": "markdown",
   "id": "d82a74cf",
   "metadata": {},
   "source": [
    "## 결과 요약\n",
    "하이퍼 파라미터\n",
    "- batch_size = 64\n",
    "- vocab_size = 33000\n",
    "- embedding_dim = 256\n",
    "- units = 256\n",
    "- epochs = 30\n",
    "- learning_rate = 3e-5\n",
    "- train 74849\n",
    "- max_len = 45\n",
    "- 단어 정제 함수 수정\n",
    "- tokenization 함수 수정\n",
    "- evaluate 함수 수정\n",
    "\n",
    "첫번째보다는 loss값이 많이 떨어졌습니다.\n",
    "\n",
    "좋은 결과는 아니지만 어느정도의 번역은 해낸것으로 생각됩니다. 첫 모델에서는 evaluate 당시 한글이기때문에 mecab을 이용한 토큰화 과정을 넣어주지 않았는데, 두번째 모델에서는 직접 input으로 받는 질문을 토큰화를 시켜 넣었더니 성능을 낸것으로 확인됩니다. \n",
    "\n",
    "이번에는 단어장 수와 learning_rate를 수정하여 시도해보도록 하겠습니다."
   ]
  },
  {
   "cell_type": "markdown",
   "id": "dd815fb5",
   "metadata": {},
   "source": [
    "------------------------------------------"
   ]
  },
  {
   "cell_type": "markdown",
   "id": "3cdd32d4",
   "metadata": {},
   "source": [
    "# 3차 시도"
   ]
  },
  {
   "cell_type": "code",
   "execution_count": 103,
   "id": "0f968e4b",
   "metadata": {},
   "outputs": [],
   "source": [
    "def tokenization2(corpus, kor = False, num_words=None):\n",
    "    if kor:\n",
    "        mecab = Mecab()\n",
    "        sentence = []\n",
    "        for i in tqdm(corpus):\n",
    "            sentence.append(mecab.morphs(i))\n",
    "        corpus = sentence\n",
    "        \n",
    "    tokenizer = tf.keras.preprocessing.text.Tokenizer(num_words = num_words, filters='',oov_token='<unk>')\n",
    "    \n",
    "    tokenizer.fit_on_texts(corpus)\n",
    "\n",
    "    tensor = tokenizer.texts_to_sequences(corpus)\n",
    "\n",
    "    return tensor, tokenizer"
   ]
  },
  {
   "cell_type": "code",
   "execution_count": 105,
   "id": "9004c9bf",
   "metadata": {},
   "outputs": [
    {
     "name": "stderr",
     "output_type": "stream",
     "text": [
      "100%|██████████| 74849/74849 [00:10<00:00, 7030.57it/s]\n"
     ]
    }
   ],
   "source": [
    "kor_tensor, kor_tokenizer = tokenization2(kor_corpus, kor = True, num_words = 25000)\n",
    "eng_tensor, eng_tokenizer = tokenization2(eng_corpus, kor = False, num_words = 25000)"
   ]
  },
  {
   "cell_type": "code",
   "execution_count": 106,
   "id": "1b0cf662",
   "metadata": {},
   "outputs": [],
   "source": [
    "max_len = 45\n",
    "\n",
    "kor_data = tf.keras.preprocessing.sequence.pad_sequences(kor_tensor, padding='post', maxlen= max_len)\n",
    "eng_data = tf.keras.preprocessing.sequence.pad_sequences(eng_tensor, padding='post', maxlen= max_len)"
   ]
  },
  {
   "cell_type": "markdown",
   "id": "ee4bcfe4",
   "metadata": {},
   "source": [
    "# 하이퍼 파라미터 수정"
   ]
  },
  {
   "cell_type": "code",
   "execution_count": 107,
   "id": "4e181e93",
   "metadata": {},
   "outputs": [],
   "source": [
    "batch_size = 64\n",
    "vocab_size = 25000\n",
    "embedding_dim = 256\n",
    "units = 256\n",
    "epochs = 30\n",
    "learning_rate = 1e-3"
   ]
  },
  {
   "cell_type": "code",
   "execution_count": 108,
   "id": "1ded67d2",
   "metadata": {},
   "outputs": [],
   "source": [
    "encoder = Encoder(vocab_size, embedding_dim, units)\n",
    "decoder = Decoder(vocab_size, embedding_dim, units)"
   ]
  },
  {
   "cell_type": "code",
   "execution_count": 109,
   "id": "9a818cf5",
   "metadata": {},
   "outputs": [],
   "source": [
    "optimizer = tf.keras.optimizers.Adam(learning_rate = learning_rate)\n",
    "loss_object = tf.keras.losses.SparseCategoricalCrossentropy(\n",
    "    from_logits=True, reduction='none')\n",
    "\n",
    "def loss_function(real, pred):\n",
    "    mask = tf.math.logical_not(tf.math.equal(real, 0))\n",
    "    loss = loss_object(real, pred)\n",
    "    \n",
    "    mask = tf.cast(mask, dtype=loss.dtype)\n",
    "    loss *= mask\n",
    "    \n",
    "    return tf.reduce_mean(loss)"
   ]
  },
  {
   "cell_type": "code",
   "execution_count": 113,
   "id": "67a7dba3",
   "metadata": {},
   "outputs": [
    {
     "name": "stderr",
     "output_type": "stream",
     "text": [
      "Epoch  1: 100%|██████████| 1170/1170 [03:58<00:00,  4.91it/s, Loss 3.2073] \n",
      "Epoch  2: 100%|██████████| 1170/1170 [02:40<00:00,  7.27it/s, Loss 2.5569]\n",
      "Epoch  3: 100%|██████████| 1170/1170 [02:42<00:00,  7.21it/s, Loss 2.2262]\n",
      "Epoch  4: 100%|██████████| 1170/1170 [02:42<00:00,  7.20it/s, Loss 1.9907]\n",
      "Epoch  5: 100%|██████████| 1170/1170 [02:42<00:00,  7.20it/s, Loss 1.8090]\n",
      "Epoch  6: 100%|██████████| 1170/1170 [02:42<00:00,  7.20it/s, Loss 1.6678]\n",
      "Epoch  7: 100%|██████████| 1170/1170 [02:42<00:00,  7.20it/s, Loss 1.5508]\n",
      "Epoch  8: 100%|██████████| 1170/1170 [02:42<00:00,  7.20it/s, Loss 1.4503]\n",
      "Epoch  9: 100%|██████████| 1170/1170 [02:42<00:00,  7.19it/s, Loss 1.3606]\n",
      "Epoch 10: 100%|██████████| 1170/1170 [02:42<00:00,  7.19it/s, Loss 1.2809]\n",
      "Epoch 11: 100%|██████████| 1170/1170 [02:42<00:00,  7.20it/s, Loss 1.2089]\n",
      "Epoch 12: 100%|██████████| 1170/1170 [02:42<00:00,  7.20it/s, Loss 1.1435]\n",
      "Epoch 13: 100%|██████████| 1170/1170 [02:42<00:00,  7.20it/s, Loss 1.0835]\n",
      "Epoch 14: 100%|██████████| 1170/1170 [02:42<00:00,  7.18it/s, Loss 1.0292]\n",
      "Epoch 15: 100%|██████████| 1170/1170 [02:43<00:00,  7.17it/s, Loss 0.9788]\n",
      "Epoch 16: 100%|██████████| 1170/1170 [02:43<00:00,  7.17it/s, Loss 0.9347]\n",
      "Epoch 17: 100%|██████████| 1170/1170 [02:42<00:00,  7.18it/s, Loss 0.8915]\n",
      "Epoch 18: 100%|██████████| 1170/1170 [02:42<00:00,  7.19it/s, Loss 0.8516]\n",
      "Epoch 19: 100%|██████████| 1170/1170 [02:42<00:00,  7.19it/s, Loss 0.8159]\n",
      "Epoch 20: 100%|██████████| 1170/1170 [02:42<00:00,  7.19it/s, Loss 0.7816]\n",
      "Epoch 21: 100%|██████████| 1170/1170 [02:42<00:00,  7.19it/s, Loss 0.7511]\n",
      "Epoch 22: 100%|██████████| 1170/1170 [02:42<00:00,  7.20it/s, Loss 0.7207]\n",
      "Epoch 23: 100%|██████████| 1170/1170 [02:42<00:00,  7.20it/s, Loss 0.6939]\n",
      "Epoch 24: 100%|██████████| 1170/1170 [02:42<00:00,  7.19it/s, Loss 0.6698]\n",
      "Epoch 25: 100%|██████████| 1170/1170 [02:42<00:00,  7.19it/s, Loss 0.6448]\n",
      "Epoch 26: 100%|██████████| 1170/1170 [02:42<00:00,  7.18it/s, Loss 0.6218]\n",
      "Epoch 27: 100%|██████████| 1170/1170 [02:42<00:00,  7.19it/s, Loss 0.6010]\n",
      "Epoch 28: 100%|██████████| 1170/1170 [02:42<00:00,  7.19it/s, Loss 0.5819]\n",
      "Epoch 29: 100%|██████████| 1170/1170 [02:42<00:00,  7.20it/s, Loss 0.5625]\n",
      "Epoch 30: 100%|██████████| 1170/1170 [02:42<00:00,  7.19it/s, Loss 0.5456]\n"
     ]
    }
   ],
   "source": [
    "for epoch in range(epochs):\n",
    "    total_loss = 0\n",
    "    \n",
    "    idx_list = list(range(0, kor_data.shape[0], batch_size))\n",
    "    random.shuffle(idx_list)\n",
    "    t = tqdm(idx_list)\n",
    "\n",
    "    for (batch, idx) in enumerate(t):\n",
    "        batch_loss = train_step(kor_data[idx:idx+batch_size],\n",
    "                                eng_data[idx:idx+batch_size],\n",
    "                                encoder,\n",
    "                                decoder,\n",
    "                                optimizer,\n",
    "                                eng_tokenizer)\n",
    "    \n",
    "        total_loss += batch_loss\n",
    "        \n",
    "        t.set_description_str('Epoch %2d' % (epoch + 1))\n",
    "        t.set_postfix_str('Loss %.4f' % (total_loss.numpy() / (batch + 1)))"
   ]
  },
  {
   "cell_type": "code",
   "execution_count": 116,
   "id": "d64d103d",
   "metadata": {},
   "outputs": [],
   "source": [
    "def evaluate(sentence, encoder, decoder):\n",
    "    attention = np.zeros((eng_data.shape[-1], kor_data.shape[-1]))\n",
    "    mecab = Mecab()\n",
    "    sentence = mecab.morphs(sentence)\n",
    "    inputs = kor_tokenizer.texts_to_sequences([sentence])\n",
    "    inputs = tf.keras.preprocessing.sequence.pad_sequences(inputs,\n",
    "                                                           maxlen=kor_data.shape[-1],\n",
    "                                                           padding='post')\n",
    "\n",
    "    result = ''\n",
    "\n",
    "    enc_out = encoder(inputs)\n",
    "\n",
    "    dec_hidden = enc_out[:, -1]\n",
    "    dec_input = tf.expand_dims([eng_tokenizer.word_index['<start>']], 0)\n",
    "\n",
    "    for t in range(eng_data.shape[-1]):\n",
    "        predictions, dec_hidden, attention_weights = decoder(dec_input,\n",
    "                                                             dec_hidden,\n",
    "                                                             enc_out)\n",
    "\n",
    "        attention_weights = tf.reshape(attention_weights, (-1, ))\n",
    "        attention[t] = attention_weights.numpy()\n",
    "\n",
    "        predicted_id = \\\n",
    "        tf.argmax(tf.math.softmax(predictions, axis=-1)[0]).numpy()\n",
    "\n",
    "        result += eng_tokenizer.index_word[predicted_id] + ' '\n",
    "\n",
    "        if eng_tokenizer.index_word[predicted_id] == '<end>':\n",
    "            return result, sentence, attention\n",
    "\n",
    "        dec_input = tf.expand_dims([predicted_id], 0)\n",
    "\n",
    "    return result, sentence, attention\n",
    "\n",
    "\n",
    "def plot_attention(attention, sentence, predicted_sentence):\n",
    "    fig = plt.figure(figsize=(10,10))\n",
    "    ax = fig.add_subplot(1, 1, 1)\n",
    "    ax.matshow(attention, cmap='viridis')\n",
    "\n",
    "    fontdict = {'fontsize': 14}\n",
    "\n",
    "    ax.set_xticklabels([''] + sentence, fontdict=fontdict, rotation=90)\n",
    "    ax.set_yticklabels([''] + predicted_sentence, fontdict=fontdict)\n",
    "\n",
    "    ax.xaxis.set_major_locator(ticker.MultipleLocator(1))\n",
    "    ax.yaxis.set_major_locator(ticker.MultipleLocator(1))\n",
    "\n",
    "    plt.show()\n",
    "\n",
    "def translate(sentence, encoder, decoder):\n",
    "    result, sentence, attention = evaluate(sentence, encoder, decoder)\n",
    "\n",
    "    print('Input: %s' % (sentence))\n",
    "    print('Predicted translation: {}'.format(result))\n",
    "    \n",
    "#     attention = attention[:len(result.split()), :len(sentence.split())]\n",
    "#     plot_attention(attention, sentence.split(), result.split(' '))"
   ]
  },
  {
   "cell_type": "markdown",
   "id": "5b2ec257",
   "metadata": {},
   "source": [
    "# 3차 결과"
   ]
  },
  {
   "cell_type": "code",
   "execution_count": 117,
   "id": "99bce7b0",
   "metadata": {},
   "outputs": [
    {
     "name": "stdout",
     "output_type": "stream",
     "text": [
      "Input: ['오바마', '는', '대통령', '이', '다', '.']\n",
      "Predicted translation: obama is the president . <end> \n"
     ]
    }
   ],
   "source": [
    "translate(\"오바마는 대통령이다.\", encoder, decoder)"
   ]
  },
  {
   "cell_type": "code",
   "execution_count": 121,
   "id": "98965577",
   "metadata": {},
   "outputs": [
    {
     "name": "stdout",
     "output_type": "stream",
     "text": [
      "Input: ['시민', '들', '은', '도시', '속', '에', '산다', '.']\n",
      "Predicted translation: civilians are in cities , hurled high of the city . <end> \n"
     ]
    }
   ],
   "source": [
    "translate(\"시민들은 도시 속에 산다.\", encoder, decoder)"
   ]
  },
  {
   "cell_type": "code",
   "execution_count": 119,
   "id": "d95693d0",
   "metadata": {},
   "outputs": [
    {
     "name": "stdout",
     "output_type": "stream",
     "text": [
      "Input: ['커피', '는', '필요', '없', '다', '.']\n",
      "Predicted translation: there s no idea of the right now . <end> \n"
     ]
    }
   ],
   "source": [
    "translate(\"커피는 필요 없다.\", encoder, decoder)"
   ]
  },
  {
   "cell_type": "code",
   "execution_count": 120,
   "id": "1adbd68d",
   "metadata": {},
   "outputs": [
    {
     "name": "stdout",
     "output_type": "stream",
     "text": [
      "Input: ['일곱', '명', '의', '사망자', '가', '발생', '했', '다', '.']\n",
      "Predicted translation: seven dead was killed . <end> \n"
     ]
    }
   ],
   "source": [
    "translate(\"일곱 명의 사망자가 발생했다.\", encoder, decoder)"
   ]
  },
  {
   "cell_type": "code",
   "execution_count": 133,
   "id": "2ee7c33b",
   "metadata": {},
   "outputs": [
    {
     "name": "stdout",
     "output_type": "stream",
     "text": [
      "Input: ['가족', '을', '사랑', '한다', '.']\n",
      "Predicted translation: family love love of family . <end> \n"
     ]
    }
   ],
   "source": [
    "translate(\"가족을 사랑한다.\", encoder, decoder)"
   ]
  },
  {
   "cell_type": "code",
   "execution_count": 135,
   "id": "6cad1aee",
   "metadata": {},
   "outputs": [
    {
     "name": "stdout",
     "output_type": "stream",
     "text": [
      "Input: ['오늘', '날씨', '는', '덥', '다', '.']\n",
      "Predicted translation: today weather has forced to today <end> \n"
     ]
    }
   ],
   "source": [
    "translate(\"오늘 날씨는 덥다.\", encoder, decoder)"
   ]
  },
  {
   "cell_type": "code",
   "execution_count": 136,
   "id": "3dd29ddf",
   "metadata": {},
   "outputs": [
    {
     "name": "stdout",
     "output_type": "stream",
     "text": [
      "Input: ['트럼프', '는', '대통령', '이', '다', '.']\n",
      "Predicted translation: although donald trump is a statement . <end> \n"
     ]
    }
   ],
   "source": [
    "translate(\"트럼프는 대통령이다.\", encoder, decoder)"
   ]
  },
  {
   "attachments": {
    "image-2.png": {
     "image/png": "[encoded data removed]"
    },
    "image.png": {
     "image/png": "[encoded data removed]"
    }
   },
   "cell_type": "markdown",
   "id": "1641edf8",
   "metadata": {},
   "source": [
    "# 결과 정리\n",
    "![image.png](attachment:image.png)\n",
    "![image-2.png](attachment:image-2.png)\n",
    "\n",
    "- 오바마는 대통령이다. 라는 문장은 정확하게 번역을 했습니다.\n",
    "- 완벽한 번역은 아니지만 그래도 일곱명, 사망자, 시민 등 주요 단어들은 제대로 번역한것을 볼 수 있었습니다."
   ]
  },
  {
   "cell_type": "markdown",
   "id": "15409463",
   "metadata": {},
   "source": [
    "# 전체 회고\n",
    "- 첫 시도 당시 결과가 안나와 많이 당황했던것 같습니다.\n",
    "- 하지만 evaluate에서 input으로 예문을 받는데 거기서 mecab이 적용안된것을 보고 2번째부터 적용하였습니다.\n",
    "- 훈련 데이터도 늘리고, vocab 사이즈도 늘렸더니 어느정도의 결과는 도출되었지만, 같은 문장들이 반복되는것을 확인하였습니다.\n",
    "- 그래서 이번에는 단어 사이즈를 줄이고, learning_rate를 조금 늘렸더니 제대로 된 번역을 한 문장을 얻을 수 있었습니다.\n",
    "- 단어장이 많으면 단어를 더 잘 뽑아내겠지라고 생각했지만, 오히려 적은 단어장에서 좋은 번역을 해냈습니다. 단어장이 많다고 무조건 좋은 것은 아니란것을 확인하였습니다.\n",
    "- 만약 데이터가 더 많았다면 다양한 양질의 데이터를 학습하여 번역의 품질이 높았을 것으로 생각됩니다.\n",
    "\n",
    "\n",
    "- Luong Attention까지 적용해보고 Bahdanau Attention과의 결과를 비교해보면 좋을것으로 생각됩니다.\n",
    "- 또한 번역에서는 양방향 모델의 성능이 더 좋은것으로 알려져 있는데, bi-GRU를 시도해보려고 했지만, 실패하였습니다.\n",
    "- 다음번에는 양방향 모델을 이용한 번역을 공부해보면 좋을것으로 생각됩니다."
   ]
  },
  {
   "cell_type": "markdown",
   "id": "498221bd",
   "metadata": {},
   "source": [
    "# 참고 자료\n",
    "- 이전 노드\n",
    "- https://wikidocs.net/78138\n",
    "- https://wiserloner.tistory.com/1316\n",
    "- https://wikidocs.net/21698"
   ]
  }
 ],
 "metadata": {
  "kernelspec": {
   "display_name": "Python 3 (ipykernel)",
   "language": "python",
   "name": "python3"
  },
  "language_info": {
   "codemirror_mode": {
    "name": "ipython",
    "version": 3
   },
   "file_extension": ".py",
   "mimetype": "text/x-python",
   "name": "python",
   "nbconvert_exporter": "python",
   "pygments_lexer": "ipython3",
   "version": "3.9.7"
  }
 },
 "nbformat": 4,
 "nbformat_minor": 5
}
