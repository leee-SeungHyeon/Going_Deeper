{
 "cells": [
  {
   "cell_type": "markdown",
   "id": "604d1e4f",
   "metadata": {},
   "source": [
    "# 프로젝트 : 네이버 영화리뷰 감정 분석 문제에 SentencePiece 적용해 보기\n",
    "\n",
    "한국어로 된 corpus를 다루어야 하므로 주로 KoNLPy에서 제공하는 형태소 분석기를 사용하여 텍스트를 전처리해서 RNN 모델을 분류기로 사용해보기\n",
    "\n",
    "1. 네이버 영화리뷰 감정 분석 코퍼스에 SentencePiece를 적용시킨 모델 학습하기\n",
    "2. 학습된 모델로 sp_tokenize() 메소드 구현하기\n",
    "3. 구현된 토크나이저를 적용하여 네이버 영화리뷰 감정 분석 모델을 재학습하기\n",
    "4. KoNLPy 형태소 분석기를 사용한 모델과 성능 비교하기\n",
    "5. SentencePiece 모델의 model_type, vocab_size 등을 변경해 가면서 성능 개선 여부 확인하기"
   ]
  },
  {
   "cell_type": "markdown",
   "id": "ebefbe2c",
   "metadata": {},
   "source": [
    "# 평가조건\n",
    "1. SentencePiece를 이용하여 모델을 만들기까지의 과정이 정상적으로 진행되었는가?\n",
    "    - 코퍼스 분석, 전처리, SentencePiece 적용, 토크나이저 구현 및 동작이 빠짐없이 진행되었는가?\n",
    "2. SentencePiece를 통해 만든 Tokenizer가 자연어처리 모델과 결합하여 동작하는가?\n",
    "    - SentencePiece 토크나이저가 적용된 Text Classifier 모델이 정상적으로 수렴하여 80% 이상의 test accuracy가 확인되었다.\n",
    "3. SentencePiece의 성능을 다각도로 비교분석하였는가?\n",
    "    - SentencePiece 토크나이저를 활용했을 때의 성능을 다른 토크나이저 혹은 SentencePiece의 다른 옵션의 경우와 비교하여 분석을 체계적으로 진행하였다."
   ]
  },
  {
   "cell_type": "markdown",
   "id": "5fb1eb83",
   "metadata": {},
   "source": [
    "# 1. 모듈 임포트"
   ]
  },
  {
   "cell_type": "code",
   "execution_count": 34,
   "id": "50d25972",
   "metadata": {},
   "outputs": [],
   "source": [
    "import tensorflow as tf\n",
    "import numpy as np\n",
    "import matplotlib.pyplot as plt\n",
    "import sentencepiece as spm\n",
    "import urllib.request\n",
    "from tqdm import tqdm\n",
    "import pandas as pd\n",
    "import os\n",
    "import re\n",
    "from konlpy.tag import Mecab, Okt\n",
    "from tensorflow import keras\n",
    "from tensorflow.keras import layers\n",
    "from tensorflow.keras.layers import Embedding, LSTM, Dense, Dropout\n",
    "from tensorflow.keras.callbacks import EarlyStopping\n",
    "import warnings\n",
    "warnings.filterwarnings('ignore')\n",
    "\n",
    "%matplotlib inline\n",
    "\n",
    "tf.random.set_seed(1234)\n",
    "np.random.seed(1234)"
   ]
  },
  {
   "cell_type": "markdown",
   "id": "20aa85c5",
   "metadata": {},
   "source": [
    "# 2. 데이터 불러오기"
   ]
  },
  {
   "cell_type": "code",
   "execution_count": 2,
   "id": "3936eac1",
   "metadata": {},
   "outputs": [
    {
     "data": {
      "text/plain": [
       "('ratings_test.txt', <http.client.HTTPMessage at 0x7f4620555d90>)"
      ]
     },
     "execution_count": 2,
     "metadata": {},
     "output_type": "execute_result"
    }
   ],
   "source": [
    "urllib.request.urlretrieve(\"https://raw.githubusercontent.com/e9t/nsmc/master/ratings_train.txt\", filename=\"ratings_train.txt\")\n",
    "urllib.request.urlretrieve(\"https://raw.githubusercontent.com/e9t/nsmc/master/ratings_test.txt\", filename=\"ratings_test.txt\")"
   ]
  },
  {
   "cell_type": "code",
   "execution_count": 3,
   "id": "190b469f",
   "metadata": {},
   "outputs": [],
   "source": [
    "path_to_file = os.getenv('HOME')+'/aiffel/going deeper'\n",
    "\n",
    "train_data = pd.read_table(path_to_file + '/ratings_train.txt')\n",
    "test_data = pd.read_table(path_to_file + '/ratings_test.txt')"
   ]
  },
  {
   "cell_type": "code",
   "execution_count": 4,
   "id": "7182177b",
   "metadata": {},
   "outputs": [
    {
     "data": {
      "text/html": [
       "<div>\n",
       "<style scoped>\n",
       "    .dataframe tbody tr th:only-of-type {\n",
       "        vertical-align: middle;\n",
       "    }\n",
       "\n",
       "    .dataframe tbody tr th {\n",
       "        vertical-align: top;\n",
       "    }\n",
       "\n",
       "    .dataframe thead th {\n",
       "        text-align: right;\n",
       "    }\n",
       "</style>\n",
       "<table border=\"1\" class=\"dataframe\">\n",
       "  <thead>\n",
       "    <tr style=\"text-align: right;\">\n",
       "      <th></th>\n",
       "      <th>id</th>\n",
       "      <th>document</th>\n",
       "      <th>label</th>\n",
       "    </tr>\n",
       "  </thead>\n",
       "  <tbody>\n",
       "    <tr>\n",
       "      <th>0</th>\n",
       "      <td>9976970</td>\n",
       "      <td>아 더빙.. 진짜 짜증나네요 목소리</td>\n",
       "      <td>0</td>\n",
       "    </tr>\n",
       "    <tr>\n",
       "      <th>1</th>\n",
       "      <td>3819312</td>\n",
       "      <td>흠...포스터보고 초딩영화줄....오버연기조차 가볍지 않구나</td>\n",
       "      <td>1</td>\n",
       "    </tr>\n",
       "    <tr>\n",
       "      <th>2</th>\n",
       "      <td>10265843</td>\n",
       "      <td>너무재밓었다그래서보는것을추천한다</td>\n",
       "      <td>0</td>\n",
       "    </tr>\n",
       "    <tr>\n",
       "      <th>3</th>\n",
       "      <td>9045019</td>\n",
       "      <td>교도소 이야기구먼 ..솔직히 재미는 없다..평점 조정</td>\n",
       "      <td>0</td>\n",
       "    </tr>\n",
       "    <tr>\n",
       "      <th>4</th>\n",
       "      <td>6483659</td>\n",
       "      <td>사이몬페그의 익살스런 연기가 돋보였던 영화!스파이더맨에서 늙어보이기만 했던 커스틴 ...</td>\n",
       "      <td>1</td>\n",
       "    </tr>\n",
       "  </tbody>\n",
       "</table>\n",
       "</div>"
      ],
      "text/plain": [
       "         id                                           document  label\n",
       "0   9976970                                아 더빙.. 진짜 짜증나네요 목소리      0\n",
       "1   3819312                  흠...포스터보고 초딩영화줄....오버연기조차 가볍지 않구나      1\n",
       "2  10265843                                  너무재밓었다그래서보는것을추천한다      0\n",
       "3   9045019                      교도소 이야기구먼 ..솔직히 재미는 없다..평점 조정      0\n",
       "4   6483659  사이몬페그의 익살스런 연기가 돋보였던 영화!스파이더맨에서 늙어보이기만 했던 커스틴 ...      1"
      ]
     },
     "metadata": {},
     "output_type": "display_data"
    },
    {
     "data": {
      "text/html": [
       "<div>\n",
       "<style scoped>\n",
       "    .dataframe tbody tr th:only-of-type {\n",
       "        vertical-align: middle;\n",
       "    }\n",
       "\n",
       "    .dataframe tbody tr th {\n",
       "        vertical-align: top;\n",
       "    }\n",
       "\n",
       "    .dataframe thead th {\n",
       "        text-align: right;\n",
       "    }\n",
       "</style>\n",
       "<table border=\"1\" class=\"dataframe\">\n",
       "  <thead>\n",
       "    <tr style=\"text-align: right;\">\n",
       "      <th></th>\n",
       "      <th>id</th>\n",
       "      <th>document</th>\n",
       "      <th>label</th>\n",
       "    </tr>\n",
       "  </thead>\n",
       "  <tbody>\n",
       "    <tr>\n",
       "      <th>0</th>\n",
       "      <td>6270596</td>\n",
       "      <td>굳 ㅋ</td>\n",
       "      <td>1</td>\n",
       "    </tr>\n",
       "    <tr>\n",
       "      <th>1</th>\n",
       "      <td>9274899</td>\n",
       "      <td>GDNTOPCLASSINTHECLUB</td>\n",
       "      <td>0</td>\n",
       "    </tr>\n",
       "    <tr>\n",
       "      <th>2</th>\n",
       "      <td>8544678</td>\n",
       "      <td>뭐야 이 평점들은.... 나쁘진 않지만 10점 짜리는 더더욱 아니잖아</td>\n",
       "      <td>0</td>\n",
       "    </tr>\n",
       "    <tr>\n",
       "      <th>3</th>\n",
       "      <td>6825595</td>\n",
       "      <td>지루하지는 않은데 완전 막장임... 돈주고 보기에는....</td>\n",
       "      <td>0</td>\n",
       "    </tr>\n",
       "    <tr>\n",
       "      <th>4</th>\n",
       "      <td>6723715</td>\n",
       "      <td>3D만 아니었어도 별 다섯 개 줬을텐데.. 왜 3D로 나와서 제 심기를 불편하게 하죠??</td>\n",
       "      <td>0</td>\n",
       "    </tr>\n",
       "  </tbody>\n",
       "</table>\n",
       "</div>"
      ],
      "text/plain": [
       "        id                                           document  label\n",
       "0  6270596                                                굳 ㅋ      1\n",
       "1  9274899                               GDNTOPCLASSINTHECLUB      0\n",
       "2  8544678             뭐야 이 평점들은.... 나쁘진 않지만 10점 짜리는 더더욱 아니잖아      0\n",
       "3  6825595                   지루하지는 않은데 완전 막장임... 돈주고 보기에는....      0\n",
       "4  6723715  3D만 아니었어도 별 다섯 개 줬을텐데.. 왜 3D로 나와서 제 심기를 불편하게 하죠??      0"
      ]
     },
     "metadata": {},
     "output_type": "display_data"
    },
    {
     "name": "stdout",
     "output_type": "stream",
     "text": [
      "train_data 길이:150000\n",
      "test_data 길이:50000\n"
     ]
    }
   ],
   "source": [
    "display(train_data.head())\n",
    "display(test_data.head())\n",
    "\n",
    "print('train_data 길이:{}'.format(len(train_data)))\n",
    "print('test_data 길이:{}'.format(len(test_data)))"
   ]
  },
  {
   "cell_type": "code",
   "execution_count": 5,
   "id": "cbbec76c",
   "metadata": {},
   "outputs": [
    {
     "data": {
      "text/html": [
       "<div>\n",
       "<style scoped>\n",
       "    .dataframe tbody tr th:only-of-type {\n",
       "        vertical-align: middle;\n",
       "    }\n",
       "\n",
       "    .dataframe tbody tr th {\n",
       "        vertical-align: top;\n",
       "    }\n",
       "\n",
       "    .dataframe thead th {\n",
       "        text-align: right;\n",
       "    }\n",
       "</style>\n",
       "<table border=\"1\" class=\"dataframe\">\n",
       "  <thead>\n",
       "    <tr style=\"text-align: right;\">\n",
       "      <th></th>\n",
       "      <th>document</th>\n",
       "      <th>label</th>\n",
       "    </tr>\n",
       "  </thead>\n",
       "  <tbody>\n",
       "    <tr>\n",
       "      <th>0</th>\n",
       "      <td>아 더빙.. 진짜 짜증나네요 목소리</td>\n",
       "      <td>0</td>\n",
       "    </tr>\n",
       "    <tr>\n",
       "      <th>1</th>\n",
       "      <td>흠...포스터보고 초딩영화줄....오버연기조차 가볍지 않구나</td>\n",
       "      <td>1</td>\n",
       "    </tr>\n",
       "    <tr>\n",
       "      <th>2</th>\n",
       "      <td>너무재밓었다그래서보는것을추천한다</td>\n",
       "      <td>0</td>\n",
       "    </tr>\n",
       "    <tr>\n",
       "      <th>3</th>\n",
       "      <td>교도소 이야기구먼 ..솔직히 재미는 없다..평점 조정</td>\n",
       "      <td>0</td>\n",
       "    </tr>\n",
       "    <tr>\n",
       "      <th>4</th>\n",
       "      <td>사이몬페그의 익살스런 연기가 돋보였던 영화!스파이더맨에서 늙어보이기만 했던 커스틴 ...</td>\n",
       "      <td>1</td>\n",
       "    </tr>\n",
       "  </tbody>\n",
       "</table>\n",
       "</div>"
      ],
      "text/plain": [
       "                                            document  label\n",
       "0                                아 더빙.. 진짜 짜증나네요 목소리      0\n",
       "1                  흠...포스터보고 초딩영화줄....오버연기조차 가볍지 않구나      1\n",
       "2                                  너무재밓었다그래서보는것을추천한다      0\n",
       "3                      교도소 이야기구먼 ..솔직히 재미는 없다..평점 조정      0\n",
       "4  사이몬페그의 익살스런 연기가 돋보였던 영화!스파이더맨에서 늙어보이기만 했던 커스틴 ...      1"
      ]
     },
     "metadata": {},
     "output_type": "display_data"
    },
    {
     "data": {
      "text/html": [
       "<div>\n",
       "<style scoped>\n",
       "    .dataframe tbody tr th:only-of-type {\n",
       "        vertical-align: middle;\n",
       "    }\n",
       "\n",
       "    .dataframe tbody tr th {\n",
       "        vertical-align: top;\n",
       "    }\n",
       "\n",
       "    .dataframe thead th {\n",
       "        text-align: right;\n",
       "    }\n",
       "</style>\n",
       "<table border=\"1\" class=\"dataframe\">\n",
       "  <thead>\n",
       "    <tr style=\"text-align: right;\">\n",
       "      <th></th>\n",
       "      <th>document</th>\n",
       "      <th>label</th>\n",
       "    </tr>\n",
       "  </thead>\n",
       "  <tbody>\n",
       "    <tr>\n",
       "      <th>0</th>\n",
       "      <td>굳 ㅋ</td>\n",
       "      <td>1</td>\n",
       "    </tr>\n",
       "    <tr>\n",
       "      <th>1</th>\n",
       "      <td>GDNTOPCLASSINTHECLUB</td>\n",
       "      <td>0</td>\n",
       "    </tr>\n",
       "    <tr>\n",
       "      <th>2</th>\n",
       "      <td>뭐야 이 평점들은.... 나쁘진 않지만 10점 짜리는 더더욱 아니잖아</td>\n",
       "      <td>0</td>\n",
       "    </tr>\n",
       "    <tr>\n",
       "      <th>3</th>\n",
       "      <td>지루하지는 않은데 완전 막장임... 돈주고 보기에는....</td>\n",
       "      <td>0</td>\n",
       "    </tr>\n",
       "    <tr>\n",
       "      <th>4</th>\n",
       "      <td>3D만 아니었어도 별 다섯 개 줬을텐데.. 왜 3D로 나와서 제 심기를 불편하게 하죠??</td>\n",
       "      <td>0</td>\n",
       "    </tr>\n",
       "  </tbody>\n",
       "</table>\n",
       "</div>"
      ],
      "text/plain": [
       "                                            document  label\n",
       "0                                                굳 ㅋ      1\n",
       "1                               GDNTOPCLASSINTHECLUB      0\n",
       "2             뭐야 이 평점들은.... 나쁘진 않지만 10점 짜리는 더더욱 아니잖아      0\n",
       "3                   지루하지는 않은데 완전 막장임... 돈주고 보기에는....      0\n",
       "4  3D만 아니었어도 별 다섯 개 줬을텐데.. 왜 3D로 나와서 제 심기를 불편하게 하죠??      0"
      ]
     },
     "metadata": {},
     "output_type": "display_data"
    }
   ],
   "source": [
    "train_data1 = train_data[['document','label']]\n",
    "test_data1 = test_data[['document','label']]\n",
    "\n",
    "display(train_data1.head())\n",
    "display(test_data1.head())"
   ]
  },
  {
   "cell_type": "markdown",
   "id": "67b01c0c",
   "metadata": {},
   "source": [
    "# 3. 데이터 전처리하기\n",
    "중복, 결측치, 텍스트에 대한 전처리 등을 수행하였습니다."
   ]
  },
  {
   "cell_type": "markdown",
   "id": "c06a7671",
   "metadata": {},
   "source": [
    "## 3-1. 중복 제거"
   ]
  },
  {
   "cell_type": "code",
   "execution_count": 6,
   "id": "96e11ced",
   "metadata": {},
   "outputs": [
    {
     "name": "stdout",
     "output_type": "stream",
     "text": [
      "train 데이터 수: 146183\n",
      "test 데이터 수: 49158\n"
     ]
    }
   ],
   "source": [
    "train_data1.drop_duplicates(subset=['document'], inplace = True)\n",
    "test_data1.drop_duplicates(subset=['document'], inplace = True)\n",
    "print('train 데이터 수:',len(train_data1))\n",
    "print('test 데이터 수:',len(test_data1))"
   ]
  },
  {
   "cell_type": "markdown",
   "id": "e0731fd9",
   "metadata": {},
   "source": [
    "## 3-2. 결측치 제거"
   ]
  },
  {
   "cell_type": "code",
   "execution_count": 7,
   "id": "04335dd8",
   "metadata": {},
   "outputs": [
    {
     "name": "stdout",
     "output_type": "stream",
     "text": [
      "train 데이터 수: 146182\n",
      "test 데이터 수: 49157\n"
     ]
    }
   ],
   "source": [
    "train = train_data1.dropna(how = 'any') # Null 값이 존재하는 행 제거\n",
    "test = test_data1.dropna(how = 'any') # Null 값이 존재하는 행 제거\n",
    "print('train 데이터 수:',len(train))\n",
    "print('test 데이터 수:',len(test))"
   ]
  },
  {
   "cell_type": "markdown",
   "id": "e8822769",
   "metadata": {},
   "source": [
    "## 3-3. 데이터 셔플링"
   ]
  },
  {
   "cell_type": "code",
   "execution_count": 8,
   "id": "64ebaaa2",
   "metadata": {},
   "outputs": [],
   "source": [
    "data = pd.concat([train, test], axis=0)"
   ]
  },
  {
   "cell_type": "code",
   "execution_count": 9,
   "id": "19dc945a",
   "metadata": {},
   "outputs": [],
   "source": [
    "indices = np.arange(data.shape[0])\n",
    "np.random.shuffle(indices)\n",
    "\n",
    "shuffled_data = data.iloc[indices]"
   ]
  },
  {
   "cell_type": "code",
   "execution_count": 10,
   "id": "bdfa50bc",
   "metadata": {},
   "outputs": [
    {
     "name": "stdout",
     "output_type": "stream",
     "text": [
      "train 데이터 수: 146182\n",
      "test 데이터 수: 49157\n"
     ]
    }
   ],
   "source": [
    "train1, test1 = shuffled_data[:len(train)], shuffled_data[len(train):]\n",
    "\n",
    "train1.reset_index(inplace=True, drop=True)\n",
    "test1.reset_index(inplace=True, drop=True)\n",
    "\n",
    "print('train 데이터 수:', len(train1))\n",
    "print('test 데이터 수:', len(test1))"
   ]
  },
  {
   "cell_type": "markdown",
   "id": "a75c24dd",
   "metadata": {},
   "source": [
    "## 3-4. 텍스트 전처리\n",
    "- 한글, 영어, 숫자, 구둣점을 제외한 나머지는 제거해주는 전처리를 진행하였습니다."
   ]
  },
  {
   "cell_type": "code",
   "execution_count": 11,
   "id": "6b8c748e",
   "metadata": {},
   "outputs": [],
   "source": [
    "# 텍스트 전처리\n",
    "def preprocess_text(data):\n",
    "    new_sentence = []\n",
    "    \n",
    "    for sentence in data['document']:\n",
    "        # 한글, 영어, 숫자, 구둣점을 제외한 모든 문자 제거\n",
    "        text = re.sub('[^ㄱ-ㅎㅏ-ㅣ가-힣a-zA-Z0-9\\s\\.,!?]', '', sentence)\n",
    "        new_sentence.append(text)\n",
    "        \n",
    "    return new_sentence"
   ]
  },
  {
   "cell_type": "code",
   "execution_count": 12,
   "id": "b92cf65a",
   "metadata": {},
   "outputs": [],
   "source": [
    "train1['document'] = preprocess_text(train1)\n",
    "test1['document'] = preprocess_text(test1)"
   ]
  },
  {
   "cell_type": "markdown",
   "id": "61631510",
   "metadata": {},
   "source": [
    "## 3-5. 데이터 길이 확인\n",
    "- 문장의 길이를 확인하기 위한 함수를 구현하였습니다."
   ]
  },
  {
   "cell_type": "code",
   "execution_count": 13,
   "id": "2e676111",
   "metadata": {},
   "outputs": [],
   "source": [
    "def data_len(data):\n",
    "\n",
    "    min_len = 999\n",
    "    max_len = 0\n",
    "    sum_len = 0\n",
    "\n",
    "    print(\"Data Size:\", len(data))\n",
    "\n",
    "    for sen in data['document']:\n",
    "        length = len(sen)\n",
    "        if min_len > length: min_len = length\n",
    "        if max_len < length: max_len = length\n",
    "        sum_len += length\n",
    "\n",
    "    print(\"문장의 최단 길이:\", min_len)\n",
    "    print(\"문장의 최장 길이:\", max_len)\n",
    "    print(\"문장의 평균 길이:\", sum_len // len(data))\n",
    "\n",
    "    sentence_length = np.zeros((max_len), dtype=int)\n",
    "\n",
    "    for sen in data['document']:\n",
    "        sentence_length[len(sen)-1] += 1\n",
    "\n",
    "    plt.bar(range(max_len), sentence_length, width=1.0)\n",
    "    plt.title(\"Sentence Length Distribution\")\n",
    "    plt.show()"
   ]
  },
  {
   "cell_type": "code",
   "execution_count": 14,
   "id": "c8575a21",
   "metadata": {},
   "outputs": [
    {
     "name": "stdout",
     "output_type": "stream",
     "text": [
      "Data Size: 146182\n",
      "문장의 최단 길이: 0\n",
      "문장의 최장 길이: 140\n",
      "문장의 평균 길이: 35\n"
     ]
    },
    {
     "data": {
      "image/png": "[encoded data removed]",
      "text/plain": [
       "<Figure size 432x288 with 1 Axes>"
      ]
     },
     "metadata": {
      "needs_background": "light"
     },
     "output_type": "display_data"
    }
   ],
   "source": [
    "data_len(train1)"
   ]
  },
  {
   "cell_type": "code",
   "execution_count": 15,
   "id": "455d97bc",
   "metadata": {},
   "outputs": [
    {
     "name": "stdout",
     "output_type": "stream",
     "text": [
      "Data Size: 49157\n",
      "문장의 최단 길이: 0\n",
      "문장의 최장 길이: 140\n",
      "문장의 평균 길이: 35\n"
     ]
    },
    {
     "data": {
      "image/png": "[encoded data removed]",
      "text/plain": [
       "<Figure size 432x288 with 1 Axes>"
      ]
     },
     "metadata": {
      "needs_background": "light"
     },
     "output_type": "display_data"
    }
   ],
   "source": [
    "data_len(test1)"
   ]
  },
  {
   "cell_type": "markdown",
   "id": "42a4cbb5",
   "metadata": {},
   "source": [
    "전처리된 텍스트의 길이를 확인하였는데, train과 test 모두 동일하게 나왔습니다."
   ]
  },
  {
   "cell_type": "code",
   "execution_count": 16,
   "id": "7881a982",
   "metadata": {},
   "outputs": [],
   "source": [
    "def below_threshold_len(max_len, nested_list):\n",
    "    count = 0\n",
    "    for sentence in nested_list:\n",
    "        if(len(sentence) <= max_len):\n",
    "            count = count + 1\n",
    "    print('전체 샘플 중 길이가 %s 이하인 샘플의 비율: %s'%(max_len, (count / len(nested_list))*100))"
   ]
  },
  {
   "cell_type": "code",
   "execution_count": 17,
   "id": "b3d32785",
   "metadata": {},
   "outputs": [
    {
     "name": "stdout",
     "output_type": "stream",
     "text": [
      "전체 샘플 중 길이가 80 이하인 샘플의 비율: 90.9879465324048\n"
     ]
    }
   ],
   "source": [
    "below_threshold_len(80, train1['document'])"
   ]
  },
  {
   "cell_type": "code",
   "execution_count": 18,
   "id": "c08f7711",
   "metadata": {},
   "outputs": [
    {
     "name": "stdout",
     "output_type": "stream",
     "text": [
      "전체 샘플 중 길이가 80 이하인 샘플의 비율: 90.91685822975364\n"
     ]
    }
   ],
   "source": [
    "below_threshold_len(80, test1['document'])"
   ]
  },
  {
   "cell_type": "markdown",
   "id": "a26aa448",
   "metadata": {},
   "source": [
    "train, test 모두 길이를 80 기준으로 전체 샘플에서 약 91%를 차지하는 것을 알 수 있습니다.\n",
    "\n",
    "길이가 80 이상인 데이터들은 없애는 작업을 진행하겠습니다."
   ]
  },
  {
   "cell_type": "code",
   "execution_count": 20,
   "id": "e9bbb80f",
   "metadata": {},
   "outputs": [
    {
     "name": "stdout",
     "output_type": "stream",
     "text": [
      "전처리 전 train 데이터 수: 146182\n",
      "전처리 전 test 데이터 수: 49157\n",
      "-----------------------------------\n",
      "전처리 후 train 데이터 수: 133008\n",
      "전처리 후test 데이터 수: 44692\n"
     ]
    }
   ],
   "source": [
    "train11 = train1[train1['document'].apply(lambda x : len(x) <= 80)]\n",
    "test11 = test1[test1['document'].apply(lambda x : len(x) <= 80)]\n",
    "\n",
    "print('전처리 전 train 데이터 수:', len(train1))\n",
    "print('전처리 전 test 데이터 수:', len(test1))\n",
    "print('-------'*5)\n",
    "print('전처리 후 train 데이터 수:', len(train11))\n",
    "print('전처리 후test 데이터 수:', len(test11))"
   ]
  },
  {
   "cell_type": "markdown",
   "id": "559eb0b7",
   "metadata": {},
   "source": [
    "# 4. SentencePiece 모델 학습\n",
    "인터넷 서칭을 통해 필요한 파라미터들을 추가로 넣어주었습니다.\n",
    "\n",
    "하지만 BPE 타입으로 실행하였을때 시간이 상당히 오래 걸려 모델과 vocab 생성을 진행하지 못하였습니다.\n",
    "\n",
    "따라서 unigram 모델로 vocab_size(15000,30000)를 다르게 한 2가지 모델을 생성하였습니다."
   ]
  },
  {
   "cell_type": "code",
   "execution_count": 21,
   "id": "64bb1e52",
   "metadata": {},
   "outputs": [
    {
     "name": "stderr",
     "output_type": "stream",
     "text": [
      "sentencepiece_trainer.cc(177) LOG(INFO) Running command: --input=/aiffel/aiffel/sp_tokenizer/data/korean-english-park.train.ko.temp     --model_prefix=sentence_uni15     --max_sentence_length=999999     --vocab_size=15004     --pad_id=0     --bos_id=1     --eos_id=2     --unk_id=3     --train_extremely_large_corpus=True\n",
      "sentencepiece_trainer.cc(77) LOG(INFO) Starts training with : \n",
      "trainer_spec {\n",
      "  input: /aiffel/aiffel/sp_tokenizer/data/korean-english-park.train.ko.temp\n",
      "  input_format: \n",
      "  model_prefix: sentence_uni15\n",
      "  model_type: UNIGRAM\n",
      "  vocab_size: 15004\n",
      "  self_test_sample_size: 0\n",
      "  character_coverage: 0.9995\n",
      "  input_sentence_size: 0\n",
      "  shuffle_input_sentence: 1\n",
      "  seed_sentencepiece_size: 1000000\n",
      "  shrinking_factor: 0.75\n",
      "  max_sentence_length: 999999\n",
      "  num_threads: 16\n",
      "  num_sub_iterations: 2\n",
      "  max_sentencepiece_length: 16\n",
      "  split_by_unicode_script: 1\n",
      "  split_by_number: 1\n",
      "  split_by_whitespace: 1\n",
      "  split_digits: 0\n",
      "  treat_whitespace_as_suffix: 0\n",
      "  allow_whitespace_only_pieces: 0\n",
      "  required_chars: \n",
      "  byte_fallback: 0\n",
      "  vocabulary_output_piece_score: 1\n",
      "  train_extremely_large_corpus: 1\n",
      "  hard_vocab_limit: 1\n",
      "  use_all_vocab: 0\n",
      "  unk_id: 3\n",
      "  bos_id: 1\n",
      "  eos_id: 2\n",
      "  pad_id: 0\n",
      "  unk_piece: <unk>\n",
      "  bos_piece: <s>\n",
      "  eos_piece: </s>\n",
      "  pad_piece: <pad>\n",
      "  unk_surface:  ⁇ \n",
      "}\n",
      "normalizer_spec {\n",
      "  name: nmt_nfkc\n",
      "  add_dummy_prefix: 1\n",
      "  remove_extra_whitespaces: 1\n",
      "  escape_whitespaces: 1\n",
      "  normalization_rule_tsv: \n",
      "}\n",
      "denormalizer_spec {}\n",
      "trainer_interface.cc(329) LOG(INFO) SentenceIterator is not specified. Using MultiFileSentenceIterator.\n",
      "trainer_interface.cc(178) LOG(INFO) Loading corpus: /aiffel/aiffel/sp_tokenizer/data/korean-english-park.train.ko.temp\n",
      "trainer_interface.cc(385) LOG(INFO) Loaded all 132961 sentences\n",
      "trainer_interface.cc(400) LOG(INFO) Adding meta_piece: <pad>\n",
      "trainer_interface.cc(400) LOG(INFO) Adding meta_piece: <s>\n",
      "trainer_interface.cc(400) LOG(INFO) Adding meta_piece: </s>\n",
      "trainer_interface.cc(400) LOG(INFO) Adding meta_piece: <unk>\n",
      "trainer_interface.cc(405) LOG(INFO) Normalizing sentences...\n",
      "trainer_interface.cc(466) LOG(INFO) all chars count=3848663\n",
      "trainer_interface.cc(477) LOG(INFO) Done: 99.9502% characters are covered.\n",
      "trainer_interface.cc(487) LOG(INFO) Alphabet size=1600\n",
      "trainer_interface.cc(488) LOG(INFO) Final character coverage=0.999502\n",
      "trainer_interface.cc(520) LOG(INFO) Done! preprocessed 132959 sentences.\n",
      "unigram_model_trainer.cc(139) LOG(INFO) Making suffix array...\n",
      "unigram_model_trainer.cc(143) LOG(INFO) Extracting frequent sub strings...\n",
      "unigram_model_trainer.cc(194) LOG(INFO) Initialized 233337 seed sentencepieces\n",
      "trainer_interface.cc(526) LOG(INFO) Tokenizing input sentences with whitespace: 132959\n",
      "trainer_interface.cc(537) LOG(INFO) Done! 261468\n",
      "unigram_model_trainer.cc(489) LOG(INFO) Using 261468 sentences for EM training\n",
      "unigram_model_trainer.cc(505) LOG(INFO) EM sub_iter=0 size=119906 obj=15.1116 num_tokens=605344 num_tokens/piece=5.04849\n",
      "unigram_model_trainer.cc(505) LOG(INFO) EM sub_iter=1 size=111133 obj=14.0648 num_tokens=609100 num_tokens/piece=5.48082\n",
      "unigram_model_trainer.cc(505) LOG(INFO) EM sub_iter=0 size=83308 obj=14.1799 num_tokens=636345 num_tokens/piece=7.63846\n",
      "unigram_model_trainer.cc(505) LOG(INFO) EM sub_iter=1 size=83185 obj=14.1207 num_tokens=636722 num_tokens/piece=7.65429\n",
      "unigram_model_trainer.cc(505) LOG(INFO) EM sub_iter=0 size=62386 obj=14.3754 num_tokens=670856 num_tokens/piece=10.7533\n",
      "unigram_model_trainer.cc(505) LOG(INFO) EM sub_iter=1 size=62376 obj=14.3094 num_tokens=670993 num_tokens/piece=10.7572\n",
      "unigram_model_trainer.cc(505) LOG(INFO) EM sub_iter=0 size=46782 obj=14.5868 num_tokens=703610 num_tokens/piece=15.0402\n",
      "unigram_model_trainer.cc(505) LOG(INFO) EM sub_iter=1 size=46782 obj=14.5204 num_tokens=703614 num_tokens/piece=15.0403\n",
      "unigram_model_trainer.cc(505) LOG(INFO) EM sub_iter=0 size=35086 obj=14.8386 num_tokens=738619 num_tokens/piece=21.0517\n",
      "unigram_model_trainer.cc(505) LOG(INFO) EM sub_iter=1 size=35086 obj=14.7702 num_tokens=738651 num_tokens/piece=21.0526\n",
      "unigram_model_trainer.cc(505) LOG(INFO) EM sub_iter=0 size=26314 obj=15.1215 num_tokens=774837 num_tokens/piece=29.4458\n",
      "unigram_model_trainer.cc(505) LOG(INFO) EM sub_iter=1 size=26314 obj=15.0506 num_tokens=774849 num_tokens/piece=29.4463\n",
      "unigram_model_trainer.cc(505) LOG(INFO) EM sub_iter=0 size=19735 obj=15.4321 num_tokens=811737 num_tokens/piece=41.1318\n",
      "unigram_model_trainer.cc(505) LOG(INFO) EM sub_iter=1 size=19735 obj=15.3547 num_tokens=811741 num_tokens/piece=41.132\n",
      "unigram_model_trainer.cc(505) LOG(INFO) EM sub_iter=0 size=16504 obj=15.6003 num_tokens=835310 num_tokens/piece=50.6126\n",
      "unigram_model_trainer.cc(505) LOG(INFO) EM sub_iter=1 size=16504 obj=15.5502 num_tokens=835309 num_tokens/piece=50.6125\n",
      "trainer_interface.cc(615) LOG(INFO) Saving model: sentence_uni15.model\n",
      "trainer_interface.cc(626) LOG(INFO) Saving vocabs: sentence_uni15.vocab\n",
      "sentencepiece_trainer.cc(177) LOG(INFO) Running command: --input=/aiffel/aiffel/sp_tokenizer/data/korean-english-park.train.ko.temp     --model_prefix=sentence_uni30     --max_sentence_length=999999     --vocab_size=30004     --pad_id=0     --bos_id=1     --eos_id=2     --unk_id=3     --train_extremely_large_corpus=True\n",
      "sentencepiece_trainer.cc(77) LOG(INFO) Starts training with : \n",
      "trainer_spec {\n",
      "  input: /aiffel/aiffel/sp_tokenizer/data/korean-english-park.train.ko.temp\n",
      "  input_format: \n",
      "  model_prefix: sentence_uni30\n",
      "  model_type: UNIGRAM\n",
      "  vocab_size: 30004\n",
      "  self_test_sample_size: 0\n",
      "  character_coverage: 0.9995\n",
      "  input_sentence_size: 0\n",
      "  shuffle_input_sentence: 1\n",
      "  seed_sentencepiece_size: 1000000\n",
      "  shrinking_factor: 0.75\n",
      "  max_sentence_length: 999999\n",
      "  num_threads: 16\n",
      "  num_sub_iterations: 2\n",
      "  max_sentencepiece_length: 16\n",
      "  split_by_unicode_script: 1\n",
      "  split_by_number: 1\n",
      "  split_by_whitespace: 1\n",
      "  split_digits: 0\n",
      "  treat_whitespace_as_suffix: 0\n",
      "  allow_whitespace_only_pieces: 0\n",
      "  required_chars: \n",
      "  byte_fallback: 0\n",
      "  vocabulary_output_piece_score: 1\n",
      "  train_extremely_large_corpus: 1\n",
      "  hard_vocab_limit: 1\n",
      "  use_all_vocab: 0\n",
      "  unk_id: 3\n",
      "  bos_id: 1\n",
      "  eos_id: 2\n",
      "  pad_id: 0\n",
      "  unk_piece: <unk>\n",
      "  bos_piece: <s>\n",
      "  eos_piece: </s>\n",
      "  pad_piece: <pad>\n",
      "  unk_surface:  ⁇ \n",
      "}\n",
      "normalizer_spec {\n",
      "  name: nmt_nfkc\n",
      "  add_dummy_prefix: 1\n",
      "  remove_extra_whitespaces: 1\n",
      "  escape_whitespaces: 1\n",
      "  normalization_rule_tsv: \n",
      "}\n",
      "denormalizer_spec {}\n",
      "trainer_interface.cc(329) LOG(INFO) SentenceIterator is not specified. Using MultiFileSentenceIterator.\n",
      "trainer_interface.cc(178) LOG(INFO) Loading corpus: /aiffel/aiffel/sp_tokenizer/data/korean-english-park.train.ko.temp\n",
      "trainer_interface.cc(385) LOG(INFO) Loaded all 132961 sentences\n",
      "trainer_interface.cc(400) LOG(INFO) Adding meta_piece: <pad>\n",
      "trainer_interface.cc(400) LOG(INFO) Adding meta_piece: <s>\n",
      "trainer_interface.cc(400) LOG(INFO) Adding meta_piece: </s>\n",
      "trainer_interface.cc(400) LOG(INFO) Adding meta_piece: <unk>\n",
      "trainer_interface.cc(405) LOG(INFO) Normalizing sentences...\n",
      "trainer_interface.cc(466) LOG(INFO) all chars count=3848663\n",
      "trainer_interface.cc(477) LOG(INFO) Done: 99.9502% characters are covered.\n",
      "trainer_interface.cc(487) LOG(INFO) Alphabet size=1600\n",
      "trainer_interface.cc(488) LOG(INFO) Final character coverage=0.999502\n",
      "trainer_interface.cc(520) LOG(INFO) Done! preprocessed 132959 sentences.\n",
      "unigram_model_trainer.cc(139) LOG(INFO) Making suffix array...\n",
      "unigram_model_trainer.cc(143) LOG(INFO) Extracting frequent sub strings...\n",
      "unigram_model_trainer.cc(194) LOG(INFO) Initialized 233337 seed sentencepieces\n",
      "trainer_interface.cc(526) LOG(INFO) Tokenizing input sentences with whitespace: 132959\n",
      "trainer_interface.cc(537) LOG(INFO) Done! 261468\n",
      "unigram_model_trainer.cc(489) LOG(INFO) Using 261468 sentences for EM training\n",
      "unigram_model_trainer.cc(505) LOG(INFO) EM sub_iter=0 size=119906 obj=15.1116 num_tokens=605344 num_tokens/piece=5.04849\n",
      "unigram_model_trainer.cc(505) LOG(INFO) EM sub_iter=1 size=111133 obj=14.0648 num_tokens=609100 num_tokens/piece=5.48082\n",
      "unigram_model_trainer.cc(505) LOG(INFO) EM sub_iter=0 size=83308 obj=14.1799 num_tokens=636345 num_tokens/piece=7.63846\n",
      "unigram_model_trainer.cc(505) LOG(INFO) EM sub_iter=1 size=83185 obj=14.1207 num_tokens=636722 num_tokens/piece=7.65429\n",
      "unigram_model_trainer.cc(505) LOG(INFO) EM sub_iter=0 size=62386 obj=14.3754 num_tokens=670856 num_tokens/piece=10.7533\n",
      "unigram_model_trainer.cc(505) LOG(INFO) EM sub_iter=1 size=62376 obj=14.3094 num_tokens=670993 num_tokens/piece=10.7572\n",
      "unigram_model_trainer.cc(505) LOG(INFO) EM sub_iter=0 size=46782 obj=14.5868 num_tokens=703610 num_tokens/piece=15.0402\n",
      "unigram_model_trainer.cc(505) LOG(INFO) EM sub_iter=1 size=46782 obj=14.5204 num_tokens=703614 num_tokens/piece=15.0403\n",
      "unigram_model_trainer.cc(505) LOG(INFO) EM sub_iter=0 size=35086 obj=14.8386 num_tokens=738619 num_tokens/piece=21.0517\n",
      "unigram_model_trainer.cc(505) LOG(INFO) EM sub_iter=1 size=35086 obj=14.7702 num_tokens=738651 num_tokens/piece=21.0526\n",
      "unigram_model_trainer.cc(505) LOG(INFO) EM sub_iter=0 size=33004 obj=14.8382 num_tokens=745999 num_tokens/piece=22.6033\n",
      "unigram_model_trainer.cc(505) LOG(INFO) EM sub_iter=1 size=33004 obj=14.8245 num_tokens=746005 num_tokens/piece=22.6035\n",
      "trainer_interface.cc(615) LOG(INFO) Saving model: sentence_uni30.model\n",
      "trainer_interface.cc(626) LOG(INFO) Saving vocabs: sentence_uni30.vocab\n"
     ]
    },
    {
     "name": "stdout",
     "output_type": "stream",
     "text": [
      "-rw-r--r-- 1 root root 517274 May 24 12:16 sentence_uni15.model\n",
      "-rw-r--r-- 1 root root 292959 May 24 12:16 sentence_uni15.vocab\n",
      "-rw-r--r-- 1 root root 828566 May 24 12:16 sentence_uni30.model\n",
      "-rw-r--r-- 1 root root 618008 May 24 12:16 sentence_uni30.vocab\n"
     ]
    }
   ],
   "source": [
    "temp_file = os.getenv('HOME') + '/aiffel/sp_tokenizer/data/korean-english-park.train.ko.temp'\n",
    "vocab_size = 30000\n",
    "max_len = 999999\n",
    "pad_id = 0\n",
    "bos_id = 1\n",
    "eos_id = 2\n",
    "unk_id = 3\n",
    "train_large_corpus = True\n",
    "\n",
    "with open(temp_file, 'w') as f:\n",
    "    for row in train11['document']:\n",
    "        f.write(str(row) + '\\n')\n",
    "\n",
    "spm.SentencePieceTrainer.Train(\n",
    "    '--input={} \\\n",
    "    --model_prefix=sentence_uni15 \\\n",
    "    --max_sentence_length={} \\\n",
    "    --vocab_size={} \\\n",
    "    --pad_id={} \\\n",
    "    --bos_id={} \\\n",
    "    --eos_id={} \\\n",
    "    --unk_id={} \\\n",
    "    --train_extremely_large_corpus={}'.format(temp_file, max_len, vocab_size-15000+4, pad_id, bos_id, eos_id, unk_id, train_large_corpus)\n",
    ")\n",
    "\n",
    "spm.SentencePieceTrainer.Train(\n",
    "    '--input={} \\\n",
    "    --model_prefix=sentence_uni30 \\\n",
    "    --max_sentence_length={} \\\n",
    "    --vocab_size={} \\\n",
    "    --pad_id={} \\\n",
    "    --bos_id={} \\\n",
    "    --eos_id={} \\\n",
    "    --unk_id={} \\\n",
    "    --train_extremely_large_corpus={}'.format(temp_file, max_len, vocab_size+4, pad_id, bos_id, eos_id, unk_id, train_large_corpus)\n",
    ")\n",
    "\n",
    "# spm.SentencePieceTrainer.Train(\n",
    "#     '--input={} \\\n",
    "#     --model_prefix=sentence_bpe15 \\\n",
    "#     --model_type=bpe \\\n",
    "#     --max_sentence_length={} \\\n",
    "#     --vocab_size={} \\\n",
    "#     --pad_id={} \\\n",
    "#     --bos_id={} \\\n",
    "#     --eos_id={} \\\n",
    "#     --unk_id={} \\\n",
    "#     --train_extremely_large_corpus={}'.format(temp_file, max_len, vocab_size-10000+4, pad_id, bos_id, eos_id, unk_id, train_large_corpus)\n",
    "# )\n",
    "\n",
    "# spm.SentencePieceTrainer.Train(\n",
    "#     '--input={} \\\n",
    "#     --model_prefix=sentence_bpe25 \\\n",
    "#     --model_type=bpe \\\n",
    "#     --max_sentence_length={} \\\n",
    "#     --vocab_size={} \\\n",
    "#     --pad_id={} \\\n",
    "#     --bos_id={} \\\n",
    "#     --eos_id={} \\\n",
    "#     --unk_id={} \\\n",
    "#     --train_extremely_large_corpus={}'.format(temp_file, max_len, vocab_size+4, pad_id, bos_id, eos_id, unk_id, train_large_corpus)\n",
    "# )\n",
    "\n",
    "!ls -l sentence_uni15*\n",
    "!ls -l sentence_uni30*\n",
    "# !ls -l sentence_bpe15*\n",
    "# !ls -l sentence_bpe25*"
   ]
  },
  {
   "cell_type": "markdown",
   "id": "1ab24f49",
   "metadata": {},
   "source": [
    "sentencepiece 모델이 잘 만들어졌는지를 확인할 수 있는 함수를 작성하였습니다."
   ]
  },
  {
   "cell_type": "code",
   "execution_count": 22,
   "id": "cd42ef6c",
   "metadata": {},
   "outputs": [],
   "source": [
    "def sentencepiece_check(model, text):\n",
    "    s = spm.SentencePieceProcessor()\n",
    "    s.Load(model)\n",
    "    print(model)\n",
    "    # SentencePiece를 활용한 sentence -> encoding\n",
    "    tokensIDs = s.EncodeAsIds(text)\n",
    "    print(tokensIDs)\n",
    "    \n",
    "    # SentencePiece를 활용한 sentence -> encoded pieces\n",
    "    print(s.SampleEncodeAsPieces(text,1, 0.0))\n",
    "    \n",
    "    # SentencePiece를 활용한 encoding -> sentence 복원\n",
    "    print(s.DecodeIds(tokensIDs))\n",
    "    print('\\n')"
   ]
  },
  {
   "cell_type": "code",
   "execution_count": 23,
   "id": "0da8f748",
   "metadata": {},
   "outputs": [
    {
     "name": "stdout",
     "output_type": "stream",
     "text": [
      "sentence_uni15.model\n",
      "[77, 3563, 20, 9, 824, 678, 672]\n",
      "['▁내', '이름', '은', '이', '승', '현', '이야']\n",
      "내이름은이승현이야\n",
      "\n",
      "\n",
      "sentence_uni30.model\n",
      "[68, 2937, 20, 11, 1821, 985, 642]\n",
      "['▁내', '이름', '은', '이', '승', '현', '이야']\n",
      "내이름은이승현이야\n",
      "\n",
      "\n"
     ]
    }
   ],
   "source": [
    "sentencepiece_check('sentence_uni15.model', '내이름은이승현이야')\n",
    "sentencepiece_check('sentence_uni30.model', '내이름은이승현이야')"
   ]
  },
  {
   "cell_type": "markdown",
   "id": "aec15fcd",
   "metadata": {},
   "source": [
    "두가지 모델 모두 잘 만들어진것을 확인할 수 있습니다."
   ]
  },
  {
   "cell_type": "markdown",
   "id": "90dd603e",
   "metadata": {},
   "source": [
    "# 5. Tokenizer 만들기\n",
    "- 위에서 만들어진 sentencepiece 모델을 바탕으로 토크나이저를 만들어주는 함수를 구현하겠습니다.\n",
    "- 리뷰의 길이가 80이상인 데이터는 제외하고, vocab, 패딩 등을 해주었습니다."
   ]
  },
  {
   "cell_type": "code",
   "execution_count": 24,
   "id": "b685d44e",
   "metadata": {},
   "outputs": [],
   "source": [
    "def sp_tokenize(model_name, vocab, train, test):\n",
    "    \n",
    "    s = spm.SentencePieceProcessor()\n",
    "    s.Load(model_name)\n",
    "    \n",
    "    train_list = []\n",
    "    test_list = []\n",
    "\n",
    "    for sen in train['document']:\n",
    "        train_list.append(s.EncodeAsIds(sen))\n",
    "        \n",
    "    for sen in test['document']:\n",
    "        test_list.append(s.EncodeAsIds(sen))\n",
    "\n",
    "    with open(\"./{}\".format(vocab), 'r') as f:\n",
    "        vocab = f.readlines()\n",
    "\n",
    "    word_index = {}\n",
    "    index_word = {}\n",
    "\n",
    "    for idx, line in enumerate(vocab):\n",
    "        word = line.split(\"\\t\")[0]\n",
    "\n",
    "        word_index.update({word:idx})\n",
    "        index_word.update({idx:word})\n",
    "\n",
    "    train_tensor = tf.keras.preprocessing.sequence.pad_sequences(train_list, maxlen=80, padding='pre')\n",
    "    test_tensor = tf.keras.preprocessing.sequence.pad_sequences(test_list, maxlen=80, padding='pre')\n",
    "    \n",
    "    train_label = np.array(train['label'])\n",
    "    test_label = np.array(test['label'])\n",
    "\n",
    "    return train_tensor, train_label, test_tensor, test_label, word_index, index_word"
   ]
  },
  {
   "cell_type": "code",
   "execution_count": 25,
   "id": "a5ffdc46",
   "metadata": {},
   "outputs": [],
   "source": [
    "train15, train_label15, test15, test_label15, uni15_word_index, uni15_index_word = sp_tokenize('sentence_uni15.model', 'sentence_uni15.vocab',train11, test11)\n",
    "train30, train_label30, test30, test_label30, uni30_word_index, uni30_index_word = sp_tokenize('sentence_uni30.model', 'sentence_uni30.vocab',train11, test11)"
   ]
  },
  {
   "cell_type": "markdown",
   "id": "5b7aa353",
   "metadata": {},
   "source": [
    "# 6. 데이터 split\n",
    "- 학습을 위하여 validation 데이터를 만들어주도록 하겠습니다."
   ]
  },
  {
   "cell_type": "code",
   "execution_count": 27,
   "id": "4106dfcd",
   "metadata": {},
   "outputs": [
    {
     "name": "stdout",
     "output_type": "stream",
     "text": [
      "(106406, 80)\n",
      "(106406,)\n",
      "(26602, 80)\n",
      "(26602,)\n"
     ]
    }
   ],
   "source": [
    "from sklearn.model_selection import train_test_split\n",
    "\n",
    "x_train15, x_val15, y_train15, y_val15 = train_test_split(train15,\n",
    "                                                  train_label15,\n",
    "                                                  test_size=0.2,\n",
    "                                                  shuffle=True,\n",
    "                                                  stratify=train_label15,\n",
    "                                                  random_state=1234)\n",
    "\n",
    "x_train30, x_val30, y_train30, y_val30 = train_test_split(train30,\n",
    "                                                  train_label30,\n",
    "                                                  test_size=0.2,\n",
    "                                                  shuffle=True,\n",
    "                                                  stratify=train_label30,\n",
    "                                                  random_state=1234)\n",
    "\n",
    "print(x_train15.shape)\n",
    "print(y_train15.shape)\n",
    "print(x_val15.shape)\n",
    "print(y_val15.shape)"
   ]
  },
  {
   "cell_type": "markdown",
   "id": "ac00adc6",
   "metadata": {},
   "source": [
    "# 7. 모델 구성하기\n",
    "- 지난 exploration_08 당시 성능이 가장 좋았던 BiLSTM을 활용하여 보겠습니다."
   ]
  },
  {
   "cell_type": "code",
   "execution_count": 30,
   "id": "d8539241",
   "metadata": {},
   "outputs": [],
   "source": [
    "vocab_size = len(uni15_word_index)  # 어휘 사전의 크기입니다\n",
    "word_vector_dim = 64  # 단어 하나를 표현하는 임베딩 벡터의 차원수입니다. \n",
    "batch_size = 256\n",
    "dropout_rate = 0.2"
   ]
  },
  {
   "cell_type": "code",
   "execution_count": 31,
   "id": "cb445a47",
   "metadata": {},
   "outputs": [],
   "source": [
    "class BiLSTModel(tf.keras.Model):\n",
    "    def __init__(self, vocab_size, word_vector_dim, dropout_rate):\n",
    "        super(BiLSTModel, self).__init__()\n",
    "        self.embedding = tf.keras.layers.Embedding(vocab_size, word_vector_dim)\n",
    "        self.bilstm = tf.keras.layers.Bidirectional(tf.keras.layers.LSTM(128))\n",
    "        self.dropout = tf.keras.layers.Dropout(dropout_rate)\n",
    "        self.dense1 = tf.keras.layers.Dense(8, activation='relu')\n",
    "        self.dense2 = tf.keras.layers.Dense(1, activation='sigmoid')\n",
    "\n",
    "    def call(self, inputs, training=False):\n",
    "        x = self.embedding(inputs)\n",
    "        x = self.bilstm(x)\n",
    "        x = self.dropout(x, training=training)\n",
    "        x = self.dense1(x)\n",
    "        outputs = self.dense2(x)\n",
    "        \n",
    "        return outputs\n",
    "\n",
    "# 모델 생성\n",
    "bilstm_model = BiLSTModel(vocab_size, word_vector_dim, dropout_rate)"
   ]
  },
  {
   "cell_type": "markdown",
   "id": "a6db1204",
   "metadata": {},
   "source": [
    "# 8. 모델 훈련 및 평가\n",
    "\n",
    "## 8-1. vocab 15000개 모델 훈련 및 평가"
   ]
  },
  {
   "cell_type": "code",
   "execution_count": 36,
   "id": "d82a0e16",
   "metadata": {},
   "outputs": [
    {
     "name": "stdout",
     "output_type": "stream",
     "text": [
      "Epoch 1/10\n",
      "416/416 [==============================] - 13s 20ms/step - loss: 0.4364 - accuracy: 0.7896 - val_loss: 0.3691 - val_accuracy: 0.8387\n",
      "Epoch 2/10\n",
      "416/416 [==============================] - 8s 18ms/step - loss: 0.3042 - accuracy: 0.8721 - val_loss: 0.3446 - val_accuracy: 0.8486\n",
      "Epoch 3/10\n",
      "416/416 [==============================] - 8s 18ms/step - loss: 0.2632 - accuracy: 0.8924 - val_loss: 0.3517 - val_accuracy: 0.8477\n",
      "Epoch 4/10\n",
      "416/416 [==============================] - 8s 18ms/step - loss: 0.2207 - accuracy: 0.9124 - val_loss: 0.3744 - val_accuracy: 0.8433\n",
      "Restoring model weights from the end of the best epoch.\n",
      "Epoch 00004: early stopping\n"
     ]
    }
   ],
   "source": [
    "# 모델 빌드\n",
    "bilstm_model.build(input_shape=(None, 80)) #input_text의 길이를 넣음\n",
    "                   \n",
    "# 모델 컴파일\n",
    "bilstm_model.compile(optimizer='adam', loss='binary_crossentropy', metrics=['accuracy'])\n",
    "                   \n",
    "es = EarlyStopping(monitor='val_loss', patience=2, verbose=1, restore_best_weights=True)\n",
    "                   \n",
    "epochs=10\n",
    "\n",
    "bilstm_model15_history = bilstm_model.fit(x_train15,\n",
    "                                        y_train15,\n",
    "                                        epochs=epochs,\n",
    "                                        batch_size=batch_size,\n",
    "                                        validation_data=(x_val15, y_val15),\n",
    "                                        verbose=1,\n",
    "                                        callbacks=[es])"
   ]
  },
  {
   "cell_type": "code",
   "execution_count": 52,
   "id": "222d2bd1",
   "metadata": {},
   "outputs": [],
   "source": [
    "def model_history(model):\n",
    "    model_history_dict = model.history\n",
    "\n",
    "    acc = model_history_dict['accuracy']\n",
    "    val_acc = model_history_dict['val_accuracy']\n",
    "    loss = model_history_dict['loss']\n",
    "    val_loss = model_history_dict['val_loss']\n",
    "\n",
    "    epochs = range(1, len(acc) + 1)\n",
    "\n",
    "    plt.plot(epochs, loss, 'r', label='Training loss')\n",
    "    plt.plot(epochs, val_loss, 'b', label='Validation loss')\n",
    "    plt.plot(epochs, acc, 'ro', label='Training acc')\n",
    "    plt.plot(epochs, val_acc, 'bo', label='Validation acc')\n",
    "    plt.title('{}'.format(model))\n",
    "    plt.xlabel('Epochs')\n",
    "    plt.ylabel('Loss')\n",
    "    plt.legend()\n",
    "\n",
    "    plt.show()"
   ]
  },
  {
   "cell_type": "code",
   "execution_count": 53,
   "id": "0af5f54e",
   "metadata": {},
   "outputs": [
    {
     "data": {
      "image/png": "[encoded data removed]",
      "text/plain": [
       "<Figure size 432x288 with 1 Axes>"
      ]
     },
     "metadata": {
      "needs_background": "light"
     },
     "output_type": "display_data"
    }
   ],
   "source": [
    "model_history(bilstm_model15_history)"
   ]
  },
  {
   "cell_type": "code",
   "execution_count": 39,
   "id": "6b8f5744",
   "metadata": {},
   "outputs": [
    {
     "name": "stdout",
     "output_type": "stream",
     "text": [
      "1397/1397 - 6s - loss: 0.3444 - accuracy: 0.8512\n"
     ]
    }
   ],
   "source": [
    "bilstm15_results = bilstm_model.evaluate(test15,test_label15, verbose=2)"
   ]
  },
  {
   "cell_type": "markdown",
   "id": "bfefcbdf",
   "metadata": {},
   "source": [
    "## 8-2. vocab 30000개 모델 훈련 및 평가"
   ]
  },
  {
   "cell_type": "code",
   "execution_count": 40,
   "id": "52b6cd57",
   "metadata": {},
   "outputs": [],
   "source": [
    "vocab_size = len(uni30_word_index)  # 어휘 사전의 크기입니다\n",
    "word_vector_dim = 64  # 단어 하나를 표현하는 임베딩 벡터의 차원수입니다. \n",
    "batch_size = 256\n",
    "dropout_rate = 0.2"
   ]
  },
  {
   "cell_type": "code",
   "execution_count": 41,
   "id": "a008319a",
   "metadata": {},
   "outputs": [],
   "source": [
    "bilstm_model30 = BiLSTModel(vocab_size, word_vector_dim, dropout_rate)"
   ]
  },
  {
   "cell_type": "code",
   "execution_count": 42,
   "id": "303ae8e1",
   "metadata": {},
   "outputs": [
    {
     "name": "stdout",
     "output_type": "stream",
     "text": [
      "Epoch 1/10\n",
      "416/416 [==============================] - 11s 20ms/step - loss: 0.4510 - accuracy: 0.7812 - val_loss: 0.3648 - val_accuracy: 0.8399\n",
      "Epoch 2/10\n",
      "416/416 [==============================] - 8s 19ms/step - loss: 0.2831 - accuracy: 0.8852 - val_loss: 0.3533 - val_accuracy: 0.8497\n",
      "Epoch 3/10\n",
      "416/416 [==============================] - 8s 19ms/step - loss: 0.2256 - accuracy: 0.9116 - val_loss: 0.3740 - val_accuracy: 0.8462\n",
      "Epoch 4/10\n",
      "416/416 [==============================] - 8s 19ms/step - loss: 0.1744 - accuracy: 0.9342 - val_loss: 0.4122 - val_accuracy: 0.8420\n",
      "Restoring model weights from the end of the best epoch.\n",
      "Epoch 00004: early stopping\n"
     ]
    }
   ],
   "source": [
    "# 모델 빌드\n",
    "bilstm_model30.build(input_shape=(None, 80))\n",
    "                   \n",
    "# 모델 컴파일\n",
    "bilstm_model30.compile(optimizer='adam', loss='binary_crossentropy', metrics=['accuracy'])\n",
    "                   \n",
    "es = EarlyStopping(monitor='val_loss', patience=2, verbose=1, restore_best_weights=True)\n",
    "                   \n",
    "epochs=10\n",
    "\n",
    "bilstm_model30_history = bilstm_model30.fit(x_train30,\n",
    "                                        y_train30,\n",
    "                                        epochs=epochs,\n",
    "                                        batch_size=batch_size,\n",
    "                                        validation_data=(x_val30, y_val30),\n",
    "                                        verbose=1,\n",
    "                                        callbacks=[es])"
   ]
  },
  {
   "cell_type": "code",
   "execution_count": 54,
   "id": "3d2bfccf",
   "metadata": {},
   "outputs": [
    {
     "data": {
      "image/png": "[encoded data removed]",
      "text/plain": [
       "<Figure size 432x288 with 1 Axes>"
      ]
     },
     "metadata": {
      "needs_background": "light"
     },
     "output_type": "display_data"
    }
   ],
   "source": [
    "model_history(bilstm_model30_history)"
   ]
  },
  {
   "cell_type": "code",
   "execution_count": 45,
   "id": "70f60a58",
   "metadata": {},
   "outputs": [
    {
     "name": "stdout",
     "output_type": "stream",
     "text": [
      "1397/1397 - 6s - loss: 0.3547 - accuracy: 0.8497\n"
     ]
    }
   ],
   "source": [
    "bilstm30_results = bilstm_model30.evaluate(test30,test_label30, verbose=2)"
   ]
  },
  {
   "cell_type": "markdown",
   "id": "0d7c6f56",
   "metadata": {},
   "source": [
    "# 9. 한국어 토크나이저 적용해보기\n",
    "- konlpy중에서도 mecab과 okt를 사용하여 모델을 평가해보도록 하겠습니다.\n",
    "## 9-1. Mecab 적용해보기"
   ]
  },
  {
   "cell_type": "code",
   "execution_count": 78,
   "id": "69bcdc31",
   "metadata": {},
   "outputs": [],
   "source": [
    "def konlpy_tokenizer(konlpy, train, test):\n",
    "    \n",
    "    ko_token = konlpy()\n",
    "    \n",
    "    train_list = []\n",
    "    test_list = []\n",
    "    \n",
    "    for sentence in tqdm(train['document']):\n",
    "        train_list.append(ko_token.morphs(sentence))\n",
    "        \n",
    "    for sentence in tqdm(test['document']):\n",
    "        test_list.append(ko_token.morphs(sentence))\n",
    "\n",
    "    tokenizer = tf.keras.preprocessing.text.Tokenizer(char_level=True, num_words=30000,filters='')\n",
    "    tokenizer.fit_on_texts(train_list)\n",
    "\n",
    "    train_data = tokenizer.texts_to_sequences(train_list)\n",
    "    test_data = tokenizer.texts_to_sequences(test_list)\n",
    "    \n",
    "    train_data = tf.keras.preprocessing.sequence.pad_sequences(train_data, padding='pre')\n",
    "    test_data = tf.keras.preprocessing.sequence.pad_sequences(test_data, padding='pre')\n",
    "\n",
    "    train_label = np.array(train['label'])\n",
    "    test_label = np.array(test['label'])\n",
    "\n",
    "    return train_data, train_label, test_data, test_label, tokenizer"
   ]
  },
  {
   "cell_type": "code",
   "execution_count": 79,
   "id": "ed75b3fe",
   "metadata": {},
   "outputs": [
    {
     "name": "stderr",
     "output_type": "stream",
     "text": [
      "100%|██████████| 133008/133008 [00:09<00:00, 14440.20it/s]\n",
      "100%|██████████| 44692/44692 [00:02<00:00, 15283.88it/s]\n"
     ]
    }
   ],
   "source": [
    "train_data, train_label, test_data, test_label, mecab_tokenizer = konlpy_tokenizer(Mecab, train11, test11)"
   ]
  },
  {
   "cell_type": "code",
   "execution_count": 80,
   "id": "0acc9465",
   "metadata": {},
   "outputs": [],
   "source": [
    "mecab_x_train, mecab_x_val, mecab_y_train, mecab_y_val = train_test_split(train_data,\n",
    "                                                                          train_label,\n",
    "                                                                          test_size=0.2,\n",
    "                                                                          shuffle=True,\n",
    "                                                                          stratify=train_label,\n",
    "                                                                          random_state=1234)"
   ]
  },
  {
   "cell_type": "code",
   "execution_count": 81,
   "id": "1284f277",
   "metadata": {},
   "outputs": [],
   "source": [
    "vocab_size = len(mecab_tokenizer.word_index)  # 어휘 사전의 크기입니다\n",
    "word_vector_dim = 64  # 단어 하나를 표현하는 임베딩 벡터의 차원수입니다. \n",
    "batch_size = 256\n",
    "dropout_rate = 0.2"
   ]
  },
  {
   "cell_type": "code",
   "execution_count": 82,
   "id": "b693ddcb",
   "metadata": {},
   "outputs": [],
   "source": [
    "mecab_model = BiLSTModel(vocab_size, word_vector_dim, dropout_rate)"
   ]
  },
  {
   "cell_type": "code",
   "execution_count": 83,
   "id": "1c92a6da",
   "metadata": {},
   "outputs": [
    {
     "name": "stdout",
     "output_type": "stream",
     "text": [
      "Epoch 1/10\n",
      "416/416 [==============================] - 9s 16ms/step - loss: 0.4087 - accuracy: 0.8110 - val_loss: 0.3516 - val_accuracy: 0.8468\n",
      "Epoch 2/10\n",
      "416/416 [==============================] - 6s 14ms/step - loss: 0.3030 - accuracy: 0.8748 - val_loss: 0.3469 - val_accuracy: 0.8469\n",
      "Epoch 3/10\n",
      "416/416 [==============================] - 6s 14ms/step - loss: 0.2525 - accuracy: 0.8990 - val_loss: 0.3540 - val_accuracy: 0.8523\n",
      "Epoch 4/10\n",
      "416/416 [==============================] - 6s 14ms/step - loss: 0.2113 - accuracy: 0.9185 - val_loss: 0.3559 - val_accuracy: 0.8506\n",
      "Restoring model weights from the end of the best epoch.\n",
      "Epoch 00004: early stopping\n"
     ]
    }
   ],
   "source": [
    "# 모델 빌드\n",
    "mecab_model.build(input_shape=(None, 80))\n",
    "                   \n",
    "# 모델 컴파일\n",
    "mecab_model.compile(optimizer='adam', loss='binary_crossentropy', metrics=['accuracy'])\n",
    "                   \n",
    "es = EarlyStopping(monitor='val_loss', patience=2, verbose=1, restore_best_weights=True)\n",
    "                   \n",
    "epochs=10\n",
    "\n",
    "mecab_model_history = mecab_model.fit(mecab_x_train,\n",
    "                                        mecab_y_train,\n",
    "                                        epochs=epochs,\n",
    "                                        batch_size=batch_size,\n",
    "                                        validation_data=(mecab_x_val, mecab_y_val),\n",
    "                                        verbose=1,\n",
    "                                        callbacks=[es])"
   ]
  },
  {
   "cell_type": "code",
   "execution_count": 84,
   "id": "a854ed03",
   "metadata": {},
   "outputs": [
    {
     "data": {
      "image/png": "[encoded data removed]",
      "text/plain": [
       "<Figure size 432x288 with 1 Axes>"
      ]
     },
     "metadata": {
      "needs_background": "light"
     },
     "output_type": "display_data"
    }
   ],
   "source": [
    "model_history(mecab_model_history)"
   ]
  },
  {
   "cell_type": "code",
   "execution_count": 85,
   "id": "740f9333",
   "metadata": {},
   "outputs": [
    {
     "name": "stdout",
     "output_type": "stream",
     "text": [
      "1397/1397 - 6s - loss: 0.3466 - accuracy: 0.8484\n"
     ]
    }
   ],
   "source": [
    "mecab_model_results = mecab_model.evaluate(test_data,test_label, verbose=2)"
   ]
  },
  {
   "cell_type": "markdown",
   "id": "bc547e66",
   "metadata": {},
   "source": [
    "## 9-2. Okt 적용해보기"
   ]
  },
  {
   "cell_type": "code",
   "execution_count": 86,
   "id": "05bf4901",
   "metadata": {},
   "outputs": [
    {
     "name": "stderr",
     "output_type": "stream",
     "text": [
      "100%|██████████| 133008/133008 [03:23<00:00, 652.66it/s]\n",
      "100%|██████████| 44692/44692 [01:07<00:00, 660.90it/s]\n"
     ]
    }
   ],
   "source": [
    "train_data, train_label, test_data, test_label, okt_tokenizer = konlpy_tokenizer(Okt, train11, test11)"
   ]
  },
  {
   "cell_type": "code",
   "execution_count": 87,
   "id": "e2dcb358",
   "metadata": {},
   "outputs": [],
   "source": [
    "okt_x_train, okt_x_val, okt_y_train, okt_y_val = train_test_split(train_data,\n",
    "                                                                  train_label,\n",
    "                                                                  test_size=0.2,\n",
    "                                                                  shuffle=True,\n",
    "                                                                  stratify=train_label,\n",
    "                                                                  random_state=1234)"
   ]
  },
  {
   "cell_type": "code",
   "execution_count": 88,
   "id": "d7c2549a",
   "metadata": {},
   "outputs": [],
   "source": [
    "vocab_size = len(okt_tokenizer.word_index)  # 어휘 사전의 크기입니다\n",
    "word_vector_dim = 64  # 단어 하나를 표현하는 임베딩 벡터의 차원수입니다. \n",
    "batch_size = 256\n",
    "dropout_rate = 0.2"
   ]
  },
  {
   "cell_type": "code",
   "execution_count": 89,
   "id": "94314e2e",
   "metadata": {},
   "outputs": [],
   "source": [
    "okt_model = BiLSTModel(vocab_size, word_vector_dim, dropout_rate)"
   ]
  },
  {
   "cell_type": "code",
   "execution_count": 90,
   "id": "13d35d0b",
   "metadata": {},
   "outputs": [
    {
     "name": "stdout",
     "output_type": "stream",
     "text": [
      "Epoch 1/10\n",
      "416/416 [==============================] - 11s 16ms/step - loss: 0.4139 - accuracy: 0.8035 - val_loss: 0.3483 - val_accuracy: 0.8456\n",
      "Epoch 2/10\n",
      "416/416 [==============================] - 6s 14ms/step - loss: 0.2901 - accuracy: 0.8793 - val_loss: 0.3448 - val_accuracy: 0.8496\n",
      "Epoch 3/10\n",
      "416/416 [==============================] - 6s 14ms/step - loss: 0.2404 - accuracy: 0.9026 - val_loss: 0.3738 - val_accuracy: 0.8468\n",
      "Epoch 4/10\n",
      "416/416 [==============================] - 6s 14ms/step - loss: 0.1956 - accuracy: 0.9224 - val_loss: 0.3997 - val_accuracy: 0.8432\n",
      "Restoring model weights from the end of the best epoch.\n",
      "Epoch 00004: early stopping\n"
     ]
    }
   ],
   "source": [
    "# 모델 빌드\n",
    "okt_model.build(input_shape=(None, 80))\n",
    "                   \n",
    "# 모델 컴파일\n",
    "okt_model.compile(optimizer='adam', loss='binary_crossentropy', metrics=['accuracy'])\n",
    "                   \n",
    "es = EarlyStopping(monitor='val_loss', patience=2, verbose=1, restore_best_weights=True)\n",
    "                   \n",
    "epochs=10\n",
    "\n",
    "okt_model_history = okt_model.fit(okt_x_train,\n",
    "                                    okt_y_train,\n",
    "                                    epochs=epochs,\n",
    "                                    batch_size=batch_size,\n",
    "                                    validation_data=(okt_x_val, okt_y_val),\n",
    "                                    verbose=1,\n",
    "                                    callbacks=[es])"
   ]
  },
  {
   "cell_type": "code",
   "execution_count": 91,
   "id": "bba6759d",
   "metadata": {},
   "outputs": [
    {
     "data": {
      "image/png": "[encoded data removed]",
      "text/plain": [
       "<Figure size 432x288 with 1 Axes>"
      ]
     },
     "metadata": {
      "needs_background": "light"
     },
     "output_type": "display_data"
    }
   ],
   "source": [
    "model_history(okt_model_history)"
   ]
  },
  {
   "cell_type": "code",
   "execution_count": 92,
   "id": "10cf1a50",
   "metadata": {},
   "outputs": [
    {
     "name": "stdout",
     "output_type": "stream",
     "text": [
      "1397/1397 - 6s - loss: 0.3431 - accuracy: 0.8521\n"
     ]
    }
   ],
   "source": [
    "okt_model_results = okt_model.evaluate(test_data,test_label, verbose=2)"
   ]
  },
  {
   "cell_type": "markdown",
   "id": "7cdbddee",
   "metadata": {},
   "source": [
    "# 10. Tokenizer별 성능비교"
   ]
  },
  {
   "cell_type": "code",
   "execution_count": 99,
   "id": "8add921e",
   "metadata": {},
   "outputs": [
    {
     "name": "stdout",
     "output_type": "stream",
     "text": [
      "       Model  Test Loss  Test Accuracy\n",
      "0  unigram15   0.344411       0.851159\n",
      "1  unigram30   0.354696       0.849727\n",
      "2      Mecab   0.346623       0.848429\n",
      "3        Okt   0.343087       0.852121\n"
     ]
    },
    {
     "data": {
      "image/png": "[encoded data removed]",
      "text/plain": [
       "<Figure size 720x432 with 1 Axes>"
      ]
     },
     "metadata": {
      "needs_background": "light"
     },
     "output_type": "display_data"
    }
   ],
   "source": [
    "data = {'Model': ['unigram15', 'unigram30', 'Mecab', 'Okt'],\n",
    "        'Test Loss': [bilstm15_results[0], bilstm30_results[0], mecab_model_results[0], okt_model_results[0]],\n",
    "        'Test Accuracy': [bilstm15_results[1], bilstm30_results[1], mecab_model_results[1], okt_model_results[1]]}\n",
    "\n",
    "df = pd.DataFrame(data)\n",
    "print(df)\n",
    "\n",
    "# 바차트 그리기\n",
    "\n",
    "colors = ['blue', 'green', 'orange', 'red']\n",
    "\n",
    "plt.figure(figsize=(10, 6))\n",
    "bars = plt.bar(df['Model'], df['Test Accuracy'], color=colors)\n",
    "plt.xlabel('Model')\n",
    "plt.ylabel('Test Accuracy')\n",
    "plt.title('Comparison of Test Accuracy among Models')\n",
    "plt.xticks(rotation=45)\n",
    "\n",
    "for bar in bars:\n",
    "    yval = bar.get_height()\n",
    "    plt.text(bar.get_x() + bar.get_width() / 2, yval, round(yval, 4), ha='center', va='bottom')\n",
    "\n",
    "plt.show()"
   ]
  },
  {
   "cell_type": "markdown",
   "id": "1397259a",
   "metadata": {},
   "source": [
    "- 4가지 tokenizer를 비교해보았습니다.\n",
    "- 대체적으로 비슷한 성능을 보였지만, 가장 좋은 성능은 Okt_tokenizer입니다.\n",
    "- Mecab은 4가지 중 가장 낮은 test 성능을 보였습니다."
   ]
  },
  {
   "cell_type": "markdown",
   "id": "833fbc7a",
   "metadata": {},
   "source": [
    "# 전체회고\n",
    "- 생각보다 쉬우면서 어려웠습니다.\n",
    "- 어려웠던 것은 어떻게 하면 함수로 편하게 짤 수 있을까를 많이 고민했던것 같습니다.\n",
    "- 범용적으로 쓰일수 있도록 짜기 위해 고민을 많이 하고 여러번 고치고 짰던것 같습니다.\n",
    "- 또한 이전에 공부했던 내용을 녹여내고자 많은 투자를 하였습니다.\n",
    "- sentenceppiece-bpe는 아무리 기다려도 vocab과 model이 만들어지지 않아 시도하지 못했습니다.\n",
    "- 하지만 훈련시키는 방법은 알았기에 주석처리 해두었습니다.\n",
    "- sentenceppiece-unigram의 성능이 더 좋을 것이라고 생각했는데, Okt의 성능도 나름 좋은 성능을 보이는것 같습니다.\n",
    "- 모델을 짜는 다양한 방법들을 공부하면 더 좋을 것 같습니다.\n",
    "- 앞으로는 해당 과제를 pytorch로 구현하는 연습도 하면 도움이 될 것 같다고 생각합니다."
   ]
  },
  {
   "cell_type": "markdown",
   "id": "72e1dc4c",
   "metadata": {},
   "source": [
    "# 참고자료\n",
    "- https://paul-hyun.github.io/vocab-with-sentencepiece/\n",
    "- https://wikidocs.net/86657\n",
    "- https://wikidocs.net/94748\n",
    "- https://github.com/google/sentencepiece\n",
    "- 이전 수행 노드들"
   ]
  }
 ],
 "metadata": {
  "kernelspec": {
   "display_name": "Python 3 (ipykernel)",
   "language": "python",
   "name": "python3"
  },
  "language_info": {
   "codemirror_mode": {
    "name": "ipython",
    "version": 3
   },
   "file_extension": ".py",
   "mimetype": "text/x-python",
   "name": "python",
   "nbconvert_exporter": "python",
   "pygments_lexer": "ipython3",
   "version": "3.9.7"
  }
 },
 "nbformat": 4,
 "nbformat_minor": 5
}
