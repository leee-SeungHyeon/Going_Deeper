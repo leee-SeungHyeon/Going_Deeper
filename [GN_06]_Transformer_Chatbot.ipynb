{
 "cells": [
  {
   "cell_type": "markdown",
   "id": "7b5eea7a",
   "metadata": {},
   "source": [
    "# 평가 조건\n",
    "1. 챗봇 훈련데이터 전처리 과정이 체계적으로 진행되었는가?\n",
    "    - 챗봇 훈련데이터를 위한 전처리와 augmentation이 적절히 수행되어 3만개 가량의 훈련데이터셋이 구축되었다.\n",
    "2. transformer 모델을 활용한 챗봇 모델이 과적합을 피해 안정적으로 훈련되었는가?\n",
    "    - 과적합을 피할 수 있는 하이퍼파라미터 셋이 적절히 제시되었다.\n",
    "3. 챗봇이 사용자의 질문에 그럴듯한 형태로 답하는 사례가 있는가?\n",
    "    - 주어진 예문을 포함하여 챗봇에 던진 질문에 적절히 답하는 사례가 제출되었다."
   ]
  },
  {
   "cell_type": "code",
   "execution_count": 1,
   "id": "e54e43fb",
   "metadata": {},
   "outputs": [
    {
     "name": "stdout",
     "output_type": "stream",
     "text": [
      "Requirement already satisfied: gensim==3.8.3 in /opt/conda/lib/python3.9/site-packages (3.8.3)\n",
      "Requirement already satisfied: smart-open>=1.8.1 in /opt/conda/lib/python3.9/site-packages (from gensim==3.8.3) (5.2.1)\n",
      "Requirement already satisfied: scipy>=0.18.1 in /opt/conda/lib/python3.9/site-packages (from gensim==3.8.3) (1.7.1)\n",
      "Requirement already satisfied: six>=1.5.0 in /opt/conda/lib/python3.9/site-packages (from gensim==3.8.3) (1.16.0)\n",
      "Requirement already satisfied: numpy>=1.11.3 in /opt/conda/lib/python3.9/site-packages (from gensim==3.8.3) (1.21.4)\n",
      "\u001b[33mWARNING: Running pip as the 'root' user can result in broken permissions and conflicting behaviour with the system package manager. It is recommended to use a virtual environment instead: https://pip.pypa.io/warnings/venv\u001b[0m\n"
     ]
    }
   ],
   "source": [
    "!pip install --upgrade gensim==3.8.3"
   ]
  },
  {
   "cell_type": "markdown",
   "id": "50bd5c23",
   "metadata": {},
   "source": [
    "# 1. 모듈 임포트"
   ]
  },
  {
   "cell_type": "code",
   "execution_count": 2,
   "id": "428b0ecd",
   "metadata": {},
   "outputs": [
    {
     "name": "stdout",
     "output_type": "stream",
     "text": [
      "3.8.3\n"
     ]
    }
   ],
   "source": [
    "import numpy as np\n",
    "import pandas as pd\n",
    "import tensorflow as tf\n",
    "import nltk\n",
    "import gensim\n",
    "from konlpy.tag import Mecab\n",
    "import sentencepiece as spm\n",
    "from nltk.translate.bleu_score import sentence_bleu\n",
    "from nltk.translate.bleu_score import SmoothingFunction\n",
    "\n",
    "import pickle\n",
    "import re\n",
    "import os\n",
    "import random\n",
    "import math\n",
    "\n",
    "from tqdm.notebook import tqdm\n",
    "import matplotlib.pyplot as plt\n",
    "\n",
    "print(gensim.__version__)"
   ]
  },
  {
   "cell_type": "markdown",
   "id": "0b6dc41b",
   "metadata": {},
   "source": [
    "# 2. 데이터 불러오기\n",
    "데이터는 Q, A, label 3개의 열로 이루어져 있습니다. label 데이터는 필요없으므로 삭제하도록 하겠습니다."
   ]
  },
  {
   "cell_type": "code",
   "execution_count": 3,
   "id": "46adf291",
   "metadata": {},
   "outputs": [
    {
     "data": {
      "text/html": [
       "<div>\n",
       "<style scoped>\n",
       "    .dataframe tbody tr th:only-of-type {\n",
       "        vertical-align: middle;\n",
       "    }\n",
       "\n",
       "    .dataframe tbody tr th {\n",
       "        vertical-align: top;\n",
       "    }\n",
       "\n",
       "    .dataframe thead th {\n",
       "        text-align: right;\n",
       "    }\n",
       "</style>\n",
       "<table border=\"1\" class=\"dataframe\">\n",
       "  <thead>\n",
       "    <tr style=\"text-align: right;\">\n",
       "      <th></th>\n",
       "      <th>Q</th>\n",
       "      <th>A</th>\n",
       "    </tr>\n",
       "  </thead>\n",
       "  <tbody>\n",
       "    <tr>\n",
       "      <th>0</th>\n",
       "      <td>12시 땡!</td>\n",
       "      <td>하루가 또 가네요.</td>\n",
       "    </tr>\n",
       "    <tr>\n",
       "      <th>1</th>\n",
       "      <td>1지망 학교 떨어졌어</td>\n",
       "      <td>위로해 드립니다.</td>\n",
       "    </tr>\n",
       "    <tr>\n",
       "      <th>2</th>\n",
       "      <td>3박4일 놀러가고 싶다</td>\n",
       "      <td>여행은 언제나 좋죠.</td>\n",
       "    </tr>\n",
       "    <tr>\n",
       "      <th>3</th>\n",
       "      <td>3박4일 정도 놀러가고 싶다</td>\n",
       "      <td>여행은 언제나 좋죠.</td>\n",
       "    </tr>\n",
       "    <tr>\n",
       "      <th>4</th>\n",
       "      <td>PPL 심하네</td>\n",
       "      <td>눈살이 찌푸려지죠.</td>\n",
       "    </tr>\n",
       "  </tbody>\n",
       "</table>\n",
       "</div>"
      ],
      "text/plain": [
       "                 Q            A\n",
       "0           12시 땡!   하루가 또 가네요.\n",
       "1      1지망 학교 떨어졌어    위로해 드립니다.\n",
       "2     3박4일 놀러가고 싶다  여행은 언제나 좋죠.\n",
       "3  3박4일 정도 놀러가고 싶다  여행은 언제나 좋죠.\n",
       "4          PPL 심하네   눈살이 찌푸려지죠."
      ]
     },
     "execution_count": 3,
     "metadata": {},
     "output_type": "execute_result"
    }
   ],
   "source": [
    "chatbot_file_path=os.getenv('HOME') + '/aiffel/going_deeper/data/ChatbotData.csv'\n",
    "\n",
    "data = pd.read_csv(chatbot_file_path, encoding = 'utf-8')\n",
    "data.drop(labels='label', axis = 1, inplace = True)\n",
    "data.head()"
   ]
  },
  {
   "cell_type": "code",
   "execution_count": 4,
   "id": "cb7b90ad",
   "metadata": {},
   "outputs": [
    {
     "name": "stdout",
     "output_type": "stream",
     "text": [
      "<class 'pandas.core.frame.DataFrame'>\n",
      "RangeIndex: 11823 entries, 0 to 11822\n",
      "Data columns (total 2 columns):\n",
      " #   Column  Non-Null Count  Dtype \n",
      "---  ------  --------------  ----- \n",
      " 0   Q       11823 non-null  object\n",
      " 1   A       11823 non-null  object\n",
      "dtypes: object(2)\n",
      "memory usage: 184.9+ KB\n"
     ]
    }
   ],
   "source": [
    "data.info()"
   ]
  },
  {
   "cell_type": "code",
   "execution_count": 5,
   "id": "370e43d3",
   "metadata": {},
   "outputs": [
    {
     "name": "stdout",
     "output_type": "stream",
     "text": [
      "데이터 수: 11823\n"
     ]
    }
   ],
   "source": [
    "print('데이터 수:',len(data))"
   ]
  },
  {
   "cell_type": "markdown",
   "id": "936f5cc0",
   "metadata": {},
   "source": [
    "# 3. 데이터 전처리"
   ]
  },
  {
   "cell_type": "markdown",
   "id": "db19856d",
   "metadata": {},
   "source": [
    "## 3-1. 중복 처리"
   ]
  },
  {
   "cell_type": "code",
   "execution_count": 6,
   "id": "5c9ee7d4",
   "metadata": {},
   "outputs": [
    {
     "name": "stdout",
     "output_type": "stream",
     "text": [
      "중복을 제거한 데이터 수: 11750\n"
     ]
    }
   ],
   "source": [
    "data.drop_duplicates(inplace=True)\n",
    "print('중복을 제거한 데이터 수:',len(data))"
   ]
  },
  {
   "cell_type": "markdown",
   "id": "9267b0bf",
   "metadata": {},
   "source": [
    "질문과 답변이 모두 겹치는 73개의 데이터를 제외하고, 11,750개의 데이터를 사용하도록 하겠습니다."
   ]
  },
  {
   "cell_type": "markdown",
   "id": "8c8fe8d6",
   "metadata": {},
   "source": [
    "## 3-2. 단어정제 함수"
   ]
  },
  {
   "cell_type": "code",
   "execution_count": 7,
   "id": "cb496a40",
   "metadata": {},
   "outputs": [],
   "source": [
    "def preprocess_sentence(sentence):\n",
    "    sentence = sentence.lower().strip()\n",
    "\n",
    "    sentence = re.sub(r\"([?.!,])\", r\" \\1 \", sentence) #문장 내의 구둣점옆에 공백 추가\n",
    "    sentence = re.sub(r'[^a-zA-Z가-힣0-9?.!, ]+', r' ', sentence) #영문 알파벳, 한글, 숫자, 구둣점을 제외한 모든 문자를 제거\n",
    "    sentence = re.sub(r'[\" \"]+', \" \", sentence) #연속된 공백을 하나의 공백으로 변환\n",
    "\n",
    "    return sentence"
   ]
  },
  {
   "cell_type": "markdown",
   "id": "3260f277",
   "metadata": {},
   "source": [
    "# 4. 데이터 토큰화"
   ]
  },
  {
   "cell_type": "code",
   "execution_count": 8,
   "id": "57f378c7",
   "metadata": {},
   "outputs": [],
   "source": [
    "def make_corpus(data):\n",
    "    \n",
    "    mecab = Mecab()\n",
    "    \n",
    "    #단어 정제\n",
    "    data['Q'] = data['Q'].apply(preprocess_sentence)\n",
    "    data['A'] = data['A'].apply(preprocess_sentence)\n",
    "    \n",
    "    que_corpus = []\n",
    "    \n",
    "    for i in tqdm(data['Q']):\n",
    "        que_corpus.append(mecab.morphs(i))\n",
    "    \n",
    "    ans_corpus = []\n",
    "    \n",
    "    for i in tqdm(data['A']):\n",
    "        ans_corpus.append(mecab.morphs(i))\n",
    "    \n",
    "    \n",
    "    return que_corpus, ans_corpus"
   ]
  },
  {
   "cell_type": "code",
   "execution_count": 9,
   "id": "75496085",
   "metadata": {},
   "outputs": [
    {
     "data": {
      "application/vnd.jupyter.widget-view+json": {
       "model_id": "d949cd1b632141a0bbfa78a74551bdff",
       "version_major": 2,
       "version_minor": 0
      },
      "text/plain": [
       "  0%|          | 0/11750 [00:00<?, ?it/s]"
      ]
     },
     "metadata": {},
     "output_type": "display_data"
    },
    {
     "data": {
      "application/vnd.jupyter.widget-view+json": {
       "model_id": "2a27f16a40a345ccb1f1d0134c60de22",
       "version_major": 2,
       "version_minor": 0
      },
      "text/plain": [
       "  0%|          | 0/11750 [00:00<?, ?it/s]"
      ]
     },
     "metadata": {},
     "output_type": "display_data"
    }
   ],
   "source": [
    "#토큰화된 데이터\n",
    "que_corpus, ans_corpus = make_corpus(data)"
   ]
  },
  {
   "cell_type": "code",
   "execution_count": 10,
   "id": "2dbe721d",
   "metadata": {},
   "outputs": [
    {
     "data": {
      "text/plain": [
       "[['12', '시', '땡', '!'],\n",
       " ['1', '지망', '학교', '떨어졌', '어'],\n",
       " ['3', '박', '4', '일', '놀', '러', '가', '고', '싶', '다'],\n",
       " ['3', '박', '4', '일', '정도', '놀', '러', '가', '고', '싶', '다'],\n",
       " ['ppl', '심하', '네']]"
      ]
     },
     "metadata": {},
     "output_type": "display_data"
    },
    {
     "data": {
      "text/plain": [
       "[['하루', '가', '또', '가', '네요', '.'],\n",
       " ['위로', '해', '드립니다', '.'],\n",
       " ['여행', '은', '언제나', '좋', '죠', '.'],\n",
       " ['여행', '은', '언제나', '좋', '죠', '.'],\n",
       " ['눈살', '이', '찌푸려', '지', '죠', '.']]"
      ]
     },
     "metadata": {},
     "output_type": "display_data"
    }
   ],
   "source": [
    "#데이터 확인\n",
    "display(que_corpus[:5])\n",
    "display(ans_corpus[:5])"
   ]
  },
  {
   "cell_type": "markdown",
   "id": "6a436c0f",
   "metadata": {},
   "source": [
    "## 4-1. 데이터 길이 확인"
   ]
  },
  {
   "cell_type": "code",
   "execution_count": 11,
   "id": "3b889ff8",
   "metadata": {},
   "outputs": [],
   "source": [
    "def data_lens(data, name):\n",
    "    \n",
    "    print('{} 데이터의 최소 길이 :{}'.format(name, min(len(l) for l in data)))\n",
    "    print('{} 데이터의 최대 길이 :{}'.format(name, max(len(l) for l in data)))\n",
    "    print('{} 데이터의 평균 길이 :{}'.format(name, sum(map(len, data))/len(data)))\n",
    "\n",
    "    plt.hist([len(s) for s in data], bins=50)\n",
    "    plt.xlabel('length of samples')\n",
    "    plt.ylabel('number of samples')\n",
    "    plt.show()"
   ]
  },
  {
   "cell_type": "code",
   "execution_count": 12,
   "id": "fa5757a8",
   "metadata": {},
   "outputs": [
    {
     "name": "stdout",
     "output_type": "stream",
     "text": [
      "질문 데이터의 최소 길이 :1\n",
      "질문 데이터의 최대 길이 :32\n",
      "질문 데이터의 평균 길이 :7.028340425531915\n"
     ]
    },
    {
     "data": {
      "image/png": "[encoded data removed]",
      "text/plain": [
       "<Figure size 432x288 with 1 Axes>"
      ]
     },
     "metadata": {
      "needs_background": "light"
     },
     "output_type": "display_data"
    }
   ],
   "source": [
    "data_lens(que_corpus, '질문')"
   ]
  },
  {
   "cell_type": "code",
   "execution_count": 13,
   "id": "233435f4",
   "metadata": {},
   "outputs": [
    {
     "name": "stdout",
     "output_type": "stream",
     "text": [
      "답변 데이터의 최소 길이 :1\n",
      "답변 데이터의 최대 길이 :40\n",
      "답변 데이터의 평균 길이 :8.376170212765958\n"
     ]
    },
    {
     "data": {
      "image/png": "[encoded data removed]",
      "text/plain": [
       "<Figure size 432x288 with 1 Axes>"
      ]
     },
     "metadata": {
      "needs_background": "light"
     },
     "output_type": "display_data"
    }
   ],
   "source": [
    "data_lens(ans_corpus, '답변')"
   ]
  },
  {
   "cell_type": "markdown",
   "id": "ae6a2fa9",
   "metadata": {},
   "source": [
    "추후 데이터의 길이는 스페셜 토큰을 추가하고, 최대 42로 설정하여 padding을 해주도록 하겠습니다."
   ]
  },
  {
   "cell_type": "markdown",
   "id": "d12b6044",
   "metadata": {},
   "source": [
    "## 4-2. 테스트 데이터 만들기"
   ]
  },
  {
   "cell_type": "code",
   "execution_count": 20,
   "id": "826385b7",
   "metadata": {},
   "outputs": [],
   "source": [
    "#데이터 섞기\n",
    "paired_data = list(zip(que_corpus, ans_corpus))\n",
    "random.shuffle(paired_data)\n",
    "que_corpus1, ans_corpus1 = zip(*paired_data)"
   ]
  },
  {
   "cell_type": "code",
   "execution_count": 21,
   "id": "d0ff63b0",
   "metadata": {},
   "outputs": [
    {
     "data": {
      "text/plain": [
       "[['12', '시', '땡', '!'],\n",
       " ['1', '지망', '학교', '떨어졌', '어'],\n",
       " ['3', '박', '4', '일', '놀', '러', '가', '고', '싶', '다'],\n",
       " ['3', '박', '4', '일', '정도', '놀', '러', '가', '고', '싶', '다'],\n",
       " ['ppl', '심하', '네']]"
      ]
     },
     "metadata": {},
     "output_type": "display_data"
    },
    {
     "data": {
      "text/plain": [
       "[['하루', '가', '또', '가', '네요', '.'],\n",
       " ['위로', '해', '드립니다', '.'],\n",
       " ['여행', '은', '언제나', '좋', '죠', '.'],\n",
       " ['여행', '은', '언제나', '좋', '죠', '.'],\n",
       " ['눈살', '이', '찌푸려', '지', '죠', '.']]"
      ]
     },
     "metadata": {},
     "output_type": "display_data"
    },
    {
     "name": "stdout",
     "output_type": "stream",
     "text": [
      "--------------------------------------------------\n"
     ]
    },
    {
     "data": {
      "text/plain": [
       "(['어제', '밤', '샜', '어'],\n",
       " ['남', '사친', '이랑', '사귀', '는', '거', '가능', '?'],\n",
       " ['너무', '잘', '하', '는', '후배', '가', '들어왔', '어'],\n",
       " ['아무리', '열심히', '해도', '선천', '적', '인', '건', '못', '따라가', '겠', '지', '?'],\n",
       " ['또', '어떻게', '버티', '지', '?'])"
      ]
     },
     "metadata": {},
     "output_type": "display_data"
    },
    {
     "data": {
      "text/plain": [
       "(['건강', '에', '안', '좋', '아요', '.'],\n",
       " ['가능', '해요', '.'],\n",
       " ['배울', '점', '은', '배우', '세요', '.'],\n",
       " ['다른', '걸', '발전', '시켜', '보', '세요', '.'],\n",
       " ['내일', '은', '나', '을', '거', '예요', '.'])"
      ]
     },
     "metadata": {},
     "output_type": "display_data"
    }
   ],
   "source": [
    "#데이터 확인\n",
    "display(que_corpus[:5])\n",
    "display(ans_corpus[:5])\n",
    "print('-'*50)\n",
    "display(que_corpus1[:5])\n",
    "display(ans_corpus1[:5])"
   ]
  },
  {
   "cell_type": "code",
   "execution_count": 22,
   "id": "48934789",
   "metadata": {},
   "outputs": [],
   "source": [
    "train_que_corpus = list(que_corpus1[:-100])\n",
    "test_que_corpus = list(que_corpus1[-100:])"
   ]
  },
  {
   "cell_type": "code",
   "execution_count": 23,
   "id": "cd313c2c",
   "metadata": {},
   "outputs": [],
   "source": [
    "train_ans_corpus = list(ans_corpus1[:-100])\n",
    "test_ans_corpus = list(ans_corpus1[-100:])"
   ]
  },
  {
   "cell_type": "code",
   "execution_count": 24,
   "id": "e938946d",
   "metadata": {},
   "outputs": [
    {
     "name": "stdout",
     "output_type": "stream",
     "text": [
      "질문 훈련 데이터 사이즈: 11650\n",
      "답변 훈련 데이터 사이즈: 11650\n",
      "--------------------------------------------------\n",
      "질문 테스트 데이터 사이즈: 100\n",
      "질문 테스트 데이터 사이즈: 100\n"
     ]
    }
   ],
   "source": [
    "print('질문 훈련 데이터 사이즈:',len(train_que_corpus))\n",
    "print('답변 훈련 데이터 사이즈:',len(train_ans_corpus))\n",
    "print('-'*50)\n",
    "print('질문 테스트 데이터 사이즈:',len(test_que_corpus))\n",
    "print('질문 테스트 데이터 사이즈:',len(test_ans_corpus))"
   ]
  },
  {
   "cell_type": "markdown",
   "id": "ac9c71de",
   "metadata": {},
   "source": [
    "# 5. 데이터 증강"
   ]
  },
  {
   "cell_type": "markdown",
   "id": "c39af957",
   "metadata": {},
   "source": [
    "## 5-1. 한국어 Word2Vec 불러오기\n",
    "한국어로 사전훈련된 Embedding 모델을 불러옵니다."
   ]
  },
  {
   "cell_type": "code",
   "execution_count": 25,
   "id": "df4c2b94",
   "metadata": {},
   "outputs": [],
   "source": [
    "model_path=os.getenv('HOME') + '/data/ko.bin'\n",
    "\n",
    "w2v = gensim.models.Word2Vec.load(model_path)"
   ]
  },
  {
   "cell_type": "code",
   "execution_count": 26,
   "id": "b6774e54",
   "metadata": {},
   "outputs": [
    {
     "name": "stderr",
     "output_type": "stream",
     "text": [
      "/tmp/ipykernel_496/1209007476.py:1: DeprecationWarning: Call to deprecated `most_similar` (Method will be removed in 4.0.0, use self.wv.most_similar() instead).\n",
      "  w2v.most_similar(\"엄마\")\n"
     ]
    },
    {
     "data": {
      "text/plain": [
       "[('아빠', 0.8578546643257141),\n",
       " ('아가씨', 0.7076528072357178),\n",
       " ('하녀', 0.7051166892051697),\n",
       " ('언니', 0.7047619223594666),\n",
       " ('친구', 0.7044110298156738),\n",
       " ('아저씨', 0.7022912502288818),\n",
       " ('강아지', 0.6934334635734558),\n",
       " ('할머니', 0.663257360458374),\n",
       " ('아기', 0.6483575701713562),\n",
       " ('아내', 0.648257851600647)]"
      ]
     },
     "execution_count": 26,
     "metadata": {},
     "output_type": "execute_result"
    }
   ],
   "source": [
    "w2v.most_similar(\"엄마\")"
   ]
  },
  {
   "cell_type": "code",
   "execution_count": 27,
   "id": "88c22996",
   "metadata": {},
   "outputs": [
    {
     "name": "stderr",
     "output_type": "stream",
     "text": [
      "/tmp/ipykernel_496/1041525889.py:1: DeprecationWarning: Call to deprecated `most_similar` (Method will be removed in 4.0.0, use self.wv.most_similar() instead).\n",
      "  w2v.most_similar(\"성공\")\n"
     ]
    },
    {
     "data": {
      "text/plain": [
       "[('실패', 0.6856883764266968),\n",
       " ('대성공', 0.6117161512374878),\n",
       " ('주력', 0.5659711360931396),\n",
       " ('압승', 0.5545106530189514),\n",
       " ('흥행', 0.49906763434410095),\n",
       " ('공헌', 0.4934632182121277),\n",
       " ('성공적', 0.48284801840782166),\n",
       " ('승리', 0.46511217951774597),\n",
       " ('진력', 0.4633210301399231),\n",
       " ('그치', 0.4610019326210022)]"
      ]
     },
     "execution_count": 27,
     "metadata": {},
     "output_type": "execute_result"
    }
   ],
   "source": [
    "w2v.most_similar(\"성공\")"
   ]
  },
  {
   "cell_type": "markdown",
   "id": "6034d449",
   "metadata": {},
   "source": [
    "## 5-2. 데이터 증강 함수\n",
    "- 증강 함수를 구현하였습니다.\n",
    "1. 먼저 토큰화된 단어를 받습니다.\n",
    "2. 그 중 랜덤으로 하나의 단어를 선택합니다.\n",
    "3. threshold를 기준으로 대처어들중 랜덤으로 교체합니다.\n",
    "4. threshold를 넘는 단어가 없다면, 최상위 유사어로 교체합니다.\n",
    "5. 단어장에 없는 단어는 기존에 선택된 단어를 그대로 반영합니다."
   ]
  },
  {
   "cell_type": "code",
   "execution_count": 28,
   "id": "d235c076",
   "metadata": {},
   "outputs": [],
   "source": [
    "def lexical_sub(sentence, word2vec, threshold = None):\n",
    "    mecab = Mecab()\n",
    "    res = \"\"\n",
    "    toks = sentence\n",
    "\n",
    "    try:\n",
    "        _from = random.choice(toks)\n",
    "        similar_words = word2vec.most_similar(_from)\n",
    "\n",
    "        if _from == '.' or _from == '!' or _from == '?':\n",
    "            _to = _from\n",
    "        elif similar_words[0][1] >= threshold:\n",
    "            candidates = [word[0] for word in similar_words if word[1] >= threshold]\n",
    "            _to = random.choice(candidates)\n",
    "        else:\n",
    "            _to = similar_words[0][0]\n",
    "\n",
    "    except:   # 단어장에 없는 단어는 원래 증강 시키려고 했던 단어를 그대로 반영\n",
    "        _to = _from\n",
    "        \n",
    "    for tok in toks:\n",
    "        if tok == _from:\n",
    "            res += _to + \" \"\n",
    "        else:\n",
    "            res += tok + \" \"\n",
    "    \n",
    "    return mecab.morphs(res)"
   ]
  },
  {
   "cell_type": "code",
   "execution_count": 29,
   "id": "28a301b2",
   "metadata": {},
   "outputs": [],
   "source": [
    "def Data_Augmentation(old_data, model, threshold):\n",
    "    new_data = []\n",
    "    \n",
    "    for old_src in tqdm(old_data):\n",
    "        new_src = lexical_sub(old_src, model, threshold=threshold)\n",
    "        new_data.append(new_src)\n",
    "    \n",
    "    return new_data"
   ]
  },
  {
   "cell_type": "code",
   "execution_count": 30,
   "id": "51134112",
   "metadata": {},
   "outputs": [
    {
     "data": {
      "application/vnd.jupyter.widget-view+json": {
       "model_id": "a9d83d82cb4f4c18bc4c9e429f6f9e76",
       "version_major": 2,
       "version_minor": 0
      },
      "text/plain": [
       "  0%|          | 0/11650 [00:00<?, ?it/s]"
      ]
     },
     "metadata": {},
     "output_type": "display_data"
    },
    {
     "name": "stderr",
     "output_type": "stream",
     "text": [
      "/tmp/ipykernel_496/2910868040.py:8: DeprecationWarning: Call to deprecated `most_similar` (Method will be removed in 4.0.0, use self.wv.most_similar() instead).\n",
      "  similar_words = word2vec.most_similar(_from)\n"
     ]
    },
    {
     "data": {
      "application/vnd.jupyter.widget-view+json": {
       "model_id": "4d17c4b8b96d45928527693834c87317",
       "version_major": 2,
       "version_minor": 0
      },
      "text/plain": [
       "  0%|          | 0/11650 [00:00<?, ?it/s]"
      ]
     },
     "metadata": {},
     "output_type": "display_data"
    }
   ],
   "source": [
    "aug_que_data1 = Data_Augmentation(train_que_corpus, w2v, 0.55)\n",
    "aug_ans_data1 = Data_Augmentation(train_ans_corpus, w2v, 0.55)"
   ]
  },
  {
   "cell_type": "code",
   "execution_count": 31,
   "id": "6457b251",
   "metadata": {},
   "outputs": [
    {
     "name": "stdout",
     "output_type": "stream",
     "text": [
      "<기존 데이터>\n"
     ]
    },
    {
     "data": {
      "text/plain": [
       "[['어제', '밤', '샜', '어'],\n",
       " ['남', '사친', '이랑', '사귀', '는', '거', '가능', '?'],\n",
       " ['너무', '잘', '하', '는', '후배', '가', '들어왔', '어'],\n",
       " ['아무리', '열심히', '해도', '선천', '적', '인', '건', '못', '따라가', '겠', '지', '?'],\n",
       " ['또', '어떻게', '버티', '지', '?']]"
      ]
     },
     "metadata": {},
     "output_type": "display_data"
    },
    {
     "data": {
      "text/plain": [
       "[['건강', '에', '안', '좋', '아요', '.'],\n",
       " ['가능', '해요', '.'],\n",
       " ['배울', '점', '은', '배우', '세요', '.'],\n",
       " ['다른', '걸', '발전', '시켜', '보', '세요', '.'],\n",
       " ['내일', '은', '나', '을', '거', '예요', '.']]"
      ]
     },
     "metadata": {},
     "output_type": "display_data"
    },
    {
     "name": "stdout",
     "output_type": "stream",
     "text": [
      "==================================================\n",
      "<증강 데이터>\n"
     ]
    },
    {
     "data": {
      "text/plain": [
       "[['어제', '밤', '샜', '어'],\n",
       " ['남', '사친', '이랑', '사귀', 'ㄴ', '다는', '거', '가능', '?'],\n",
       " ['너무', '잘', '하', '는', '선배', '가', '들어왔', '어'],\n",
       " ['아무리', '열심히', '해도', '선천', '적', '인', '건', '못', '떠나', '겠', '지', '?'],\n",
       " ['또', '언제', '버티', '지', '?']]"
      ]
     },
     "metadata": {},
     "output_type": "display_data"
    },
    {
     "data": {
      "text/plain": [
       "[['건강', '에', '안', '좋', '아요', '.'],\n",
       " ['가능', '해요', '.'],\n",
       " ['배울', '점', '은', '배우', '세요', '.'],\n",
       " ['다른', '걸', '발전', '시켜', '찾아보', '세요', '.'],\n",
       " ['내일', '은', '나', '을', '것', '예요', '.']]"
      ]
     },
     "metadata": {},
     "output_type": "display_data"
    }
   ],
   "source": [
    "print('<기존 데이터>')\n",
    "display(train_que_corpus[:5])\n",
    "display(train_ans_corpus[:5])\n",
    "print('='*50)\n",
    "print('<증강 데이터>')\n",
    "display(aug_que_data1[:5])\n",
    "display(aug_ans_data1[:5])"
   ]
  },
  {
   "cell_type": "code",
   "execution_count": 32,
   "id": "44d68d82",
   "metadata": {},
   "outputs": [
    {
     "data": {
      "application/vnd.jupyter.widget-view+json": {
       "model_id": "12cd6b94ab2b492da40c80f898ed2897",
       "version_major": 2,
       "version_minor": 0
      },
      "text/plain": [
       "  0%|          | 0/11650 [00:00<?, ?it/s]"
      ]
     },
     "metadata": {},
     "output_type": "display_data"
    },
    {
     "name": "stderr",
     "output_type": "stream",
     "text": [
      "/tmp/ipykernel_496/2910868040.py:8: DeprecationWarning: Call to deprecated `most_similar` (Method will be removed in 4.0.0, use self.wv.most_similar() instead).\n",
      "  similar_words = word2vec.most_similar(_from)\n"
     ]
    },
    {
     "data": {
      "application/vnd.jupyter.widget-view+json": {
       "model_id": "2183e7ca9c28430aa9c3dc20bce06627",
       "version_major": 2,
       "version_minor": 0
      },
      "text/plain": [
       "  0%|          | 0/11650 [00:00<?, ?it/s]"
      ]
     },
     "metadata": {},
     "output_type": "display_data"
    }
   ],
   "source": [
    "aug_que_data2 = Data_Augmentation(train_que_corpus, w2v, 0.55)\n",
    "aug_ans_data2 = Data_Augmentation(train_ans_corpus, w2v, 0.55)"
   ]
  },
  {
   "cell_type": "code",
   "execution_count": 33,
   "id": "033640bc",
   "metadata": {},
   "outputs": [
    {
     "name": "stdout",
     "output_type": "stream",
     "text": [
      "<기존 데이터>\n"
     ]
    },
    {
     "data": {
      "text/plain": [
       "[['어제', '밤', '샜', '어'],\n",
       " ['남', '사친', '이랑', '사귀', '는', '거', '가능', '?'],\n",
       " ['너무', '잘', '하', '는', '후배', '가', '들어왔', '어'],\n",
       " ['아무리', '열심히', '해도', '선천', '적', '인', '건', '못', '따라가', '겠', '지', '?'],\n",
       " ['또', '어떻게', '버티', '지', '?']]"
      ]
     },
     "metadata": {},
     "output_type": "display_data"
    },
    {
     "data": {
      "text/plain": [
       "[['건강', '에', '안', '좋', '아요', '.'],\n",
       " ['가능', '해요', '.'],\n",
       " ['배울', '점', '은', '배우', '세요', '.'],\n",
       " ['다른', '걸', '발전', '시켜', '보', '세요', '.'],\n",
       " ['내일', '은', '나', '을', '거', '예요', '.']]"
      ]
     },
     "metadata": {},
     "output_type": "display_data"
    },
    {
     "name": "stdout",
     "output_type": "stream",
     "text": [
      "==================================================\n",
      "<증강 데이터>\n"
     ]
    },
    {
     "data": {
      "text/plain": [
       "[['어제', '밤', '샜', '어서'],\n",
       " ['남', '사친', '이랑', '갈등', '하', '는', '거', '가능', '?'],\n",
       " ['너무', '잘', '하', '는', '교사', '가', '들어왔', '어'],\n",
       " ['아무리', '열심히', '해도', '선천', '적', '인', '건', '못', '따라가', '싶', '지', '?'],\n",
       " ['또', '어떻게', '걸어다니', '지', '?']]"
      ]
     },
     "metadata": {},
     "output_type": "display_data"
    },
    {
     "data": {
      "text/plain": [
       "[['건강', '에', '안', '좋', '아요', '.'],\n",
       " ['사용', '가능', '해요', '.'],\n",
       " ['배울', '점', '은', '익히', '세요', '.'],\n",
       " ['다른', '걸', '발전', '시켜', '보', 'ㅂ시다', '.'],\n",
       " ['내일', '은', '데', '나', '을', '거', '예요', '.']]"
      ]
     },
     "metadata": {},
     "output_type": "display_data"
    }
   ],
   "source": [
    "print('<기존 데이터>')\n",
    "display(train_que_corpus[:5])\n",
    "display(train_ans_corpus[:5])\n",
    "print('='*50)\n",
    "print('<증강 데이터>')\n",
    "display(aug_que_data2[:5])\n",
    "display(aug_ans_data2[:5])"
   ]
  },
  {
   "cell_type": "markdown",
   "id": "a95f63c9",
   "metadata": {},
   "source": [
    "증강은 되었지만, 그렇게 만족스러운 증강이라고는 생각되지 않습니다."
   ]
  },
  {
   "cell_type": "markdown",
   "id": "5738a4d3",
   "metadata": {},
   "source": [
    "# 6. 토크나이저 & 데이터 벡터화"
   ]
  },
  {
   "cell_type": "code",
   "execution_count": 34,
   "id": "e3faa004",
   "metadata": {},
   "outputs": [
    {
     "name": "stdout",
     "output_type": "stream",
     "text": [
      "<질문 데이터>\n",
      "기존데이터: 11650\n",
      "첫번째 증강 데이터: 11650\n",
      "두번째 증강 데이터: 11650\n",
      "==================================================\n",
      "<답변 데이터>\n",
      "기존데이터: 11650\n",
      "첫번째 증강 데이터: 11650\n",
      "두번째 증강 데이터: 11650\n",
      "==================================================\n",
      "총 질문 데이터의 수: 34950\n",
      "총 답변 데이터의 수: 34950\n"
     ]
    }
   ],
   "source": [
    "print('<질문 데이터>')\n",
    "print('기존데이터:',len(train_que_corpus))\n",
    "print('첫번째 증강 데이터:',len(aug_que_data1))\n",
    "print('두번째 증강 데이터:',len(aug_que_data2))\n",
    "print('='*50)\n",
    "print('<답변 데이터>')\n",
    "print('기존데이터:',len(train_ans_corpus))\n",
    "print('첫번째 증강 데이터:',len(aug_ans_data1))\n",
    "print('두번째 증강 데이터:',len(aug_ans_data2))\n",
    "print('='*50)\n",
    "print('총 질문 데이터의 수:',len(train_que_corpus)+len(aug_que_data1)+len(aug_que_data2))\n",
    "print('총 답변 데이터의 수:',len(train_ans_corpus)+len(aug_ans_data1)+len(aug_ans_data2))"
   ]
  },
  {
   "cell_type": "markdown",
   "id": "5ee1ff1c",
   "metadata": {},
   "source": [
    "증강을 통하여 질문, 답변 총 34950개의 데이터를 확보하였습니다.\n",
    "\n",
    "단어 사전을 만들어서 벡터화를 시켜주도록 하겠습니다."
   ]
  },
  {
   "cell_type": "code",
   "execution_count": 35,
   "id": "3589de25",
   "metadata": {},
   "outputs": [],
   "source": [
    "que_data = train_que_corpus + aug_que_data1 + aug_que_data2\n",
    "ans_data = train_ans_corpus + aug_ans_data1 + aug_ans_data2"
   ]
  },
  {
   "cell_type": "code",
   "execution_count": 36,
   "id": "5ca8bf49",
   "metadata": {},
   "outputs": [
    {
     "data": {
      "application/vnd.jupyter.widget-view+json": {
       "model_id": "99500c9c5d6c448292b0ca4d33fcfe1e",
       "version_major": 2,
       "version_minor": 0
      },
      "text/plain": [
       "  0%|          | 0/34950 [00:00<?, ?it/s]"
      ]
     },
     "metadata": {},
     "output_type": "display_data"
    }
   ],
   "source": [
    "tgt_data = []\n",
    "\n",
    "for corpus in tqdm(ans_data):\n",
    "    tgt_data.append([\"<start>\"] + corpus + [\"<end>\"])"
   ]
  },
  {
   "cell_type": "code",
   "execution_count": 37,
   "id": "f8aafe0a",
   "metadata": {},
   "outputs": [
    {
     "data": {
      "text/plain": [
       "[['<start>', '건강', '에', '안', '좋', '아요', '.', '<end>'],\n",
       " ['<start>', '가능', '해요', '.', '<end>'],\n",
       " ['<start>', '배울', '점', '은', '배우', '세요', '.', '<end>']]"
      ]
     },
     "execution_count": 37,
     "metadata": {},
     "output_type": "execute_result"
    }
   ],
   "source": [
    "tgt_data[:3]"
   ]
  },
  {
   "cell_type": "code",
   "execution_count": 38,
   "id": "5013b795",
   "metadata": {},
   "outputs": [],
   "source": [
    "def tokenizer(question_data, answer_data, vocab_size=None):\n",
    "    tokenizer = tf.keras.preprocessing.text.Tokenizer(\n",
    "        filters='',\n",
    "        oov_token=\"<unk>\",\n",
    "        num_words=vocab_size\n",
    "    )\n",
    "    \n",
    "    corpus = question_data + answer_data \n",
    "            \n",
    "    tokenizer.fit_on_texts(corpus)\n",
    "            \n",
    "    index_to_word = {}\n",
    "    word_to_index = {}    \n",
    "    \n",
    "    for word, index in tqdm(tokenizer.word_index.items()):\n",
    "        index_to_word.update({index:word})\n",
    "        word_to_index.update({word:index})    \n",
    "    \n",
    "    return tokenizer, index_to_word, word_to_index"
   ]
  },
  {
   "cell_type": "code",
   "execution_count": 39,
   "id": "caf12b80",
   "metadata": {},
   "outputs": [
    {
     "data": {
      "application/vnd.jupyter.widget-view+json": {
       "model_id": "8e3432a1d36a4734bbf10117461828ae",
       "version_major": 2,
       "version_minor": 0
      },
      "text/plain": [
       "  0%|          | 0/9290 [00:00<?, ?it/s]"
      ]
     },
     "metadata": {},
     "output_type": "display_data"
    }
   ],
   "source": [
    "tokenizer,index_to_word, word_to_index = tokenizer(que_data, tgt_data)"
   ]
  },
  {
   "cell_type": "code",
   "execution_count": 40,
   "id": "47dc03a4",
   "metadata": {},
   "outputs": [],
   "source": [
    "VOCAB_SIZE = len(word_to_index)+1"
   ]
  },
  {
   "cell_type": "markdown",
   "id": "7d44ff77",
   "metadata": {},
   "source": [
    "단어 사전의 수는 총 9291개 입니다."
   ]
  },
  {
   "cell_type": "code",
   "execution_count": 41,
   "id": "5e39e737",
   "metadata": {},
   "outputs": [],
   "source": [
    "def make_corpus(sentences, tokenizer):\n",
    "    tokens = tokenizer.texts_to_sequences(sentences)\n",
    "\n",
    "    return tokens"
   ]
  },
  {
   "cell_type": "code",
   "execution_count": 42,
   "id": "a1daeb67",
   "metadata": {},
   "outputs": [],
   "source": [
    "questions_data = make_corpus(que_data, tokenizer)\n",
    "answers_data = make_corpus(tgt_data, tokenizer)"
   ]
  },
  {
   "cell_type": "code",
   "execution_count": 43,
   "id": "677638be",
   "metadata": {},
   "outputs": [
    {
     "name": "stdout",
     "output_type": "stream",
     "text": [
      "['어제', '밤', '샜', '어']\n",
      "[417, 612, 3770, 11]\n",
      "\n",
      "\n",
      "['<start>', '건강', '에', '안', '좋', '아요', '.', '<end>']\n",
      "[3, 429, 25, 43, 13, 48, 2, 4]\n"
     ]
    }
   ],
   "source": [
    "print(que_data[0])\n",
    "print(questions_data[0])\n",
    "print('\\n')\n",
    "print(tgt_data[0])\n",
    "print(answers_data[0])"
   ]
  },
  {
   "cell_type": "code",
   "execution_count": 44,
   "id": "14a67e32",
   "metadata": {},
   "outputs": [],
   "source": [
    "MAX_LEN = 42\n",
    "questions_ = tf.keras.preprocessing.sequence.pad_sequences(questions_data, maxlen=MAX_LEN, padding='post')\n",
    "answers_ = tf.keras.preprocessing.sequence.pad_sequences(answers_data, maxlen=MAX_LEN, padding='post')"
   ]
  },
  {
   "cell_type": "code",
   "execution_count": 45,
   "id": "58c21adb",
   "metadata": {},
   "outputs": [
    {
     "name": "stdout",
     "output_type": "stream",
     "text": [
      "(34950, 42)\n",
      "(34950, 42)\n"
     ]
    }
   ],
   "source": [
    "print(questions_.shape)\n",
    "print(answers_.shape)"
   ]
  },
  {
   "cell_type": "code",
   "execution_count": 46,
   "id": "3c90fb97",
   "metadata": {},
   "outputs": [
    {
     "data": {
      "text/plain": [
       "0"
      ]
     },
     "execution_count": 46,
     "metadata": {},
     "output_type": "execute_result"
    }
   ],
   "source": [
    "np.isnan(questions_).sum()"
   ]
  },
  {
   "cell_type": "code",
   "execution_count": 47,
   "id": "e9766fea",
   "metadata": {},
   "outputs": [
    {
     "data": {
      "text/plain": [
       "0"
      ]
     },
     "execution_count": 47,
     "metadata": {},
     "output_type": "execute_result"
    }
   ],
   "source": [
    "np.isnan(answers_).sum()"
   ]
  },
  {
   "cell_type": "markdown",
   "id": "6d54cbe5",
   "metadata": {},
   "source": [
    "# 7. 트랜스포머 구현 및 훈련"
   ]
  },
  {
   "cell_type": "markdown",
   "id": "9207e975",
   "metadata": {},
   "source": [
    "## positional_encoding"
   ]
  },
  {
   "cell_type": "code",
   "execution_count": 56,
   "id": "146ed63f",
   "metadata": {},
   "outputs": [],
   "source": [
    "def positional_encoding(pos, d_model):\n",
    "    def cal_angle(position, i):\n",
    "        return position / np.power(10000, (2*(i//2)) / np.float32(d_model))\n",
    "\n",
    "    def get_posi_angle_vec(position):\n",
    "        return [cal_angle(position, i) for i in range(d_model)]\n",
    "\n",
    "    sinusoid_table = np.array([get_posi_angle_vec(pos_i) for pos_i in range(pos)])\n",
    "\n",
    "    sinusoid_table[:, 0::2] = np.sin(sinusoid_table[:, 0::2])\n",
    "    sinusoid_table[:, 1::2] = np.cos(sinusoid_table[:, 1::2])\n",
    "\n",
    "    return sinusoid_table"
   ]
  },
  {
   "cell_type": "markdown",
   "id": "f6da4b02",
   "metadata": {},
   "source": [
    "## MultiHeadAttention"
   ]
  },
  {
   "cell_type": "code",
   "execution_count": 57,
   "id": "1bb7362a",
   "metadata": {},
   "outputs": [],
   "source": [
    "class MultiHeadAttention(tf.keras.layers.Layer):\n",
    "    def __init__(self, d_model, num_heads):\n",
    "        super(MultiHeadAttention, self).__init__()\n",
    "        self.num_heads = num_heads\n",
    "        self.d_model = d_model\n",
    "        \n",
    "        self.depth = d_model // self.num_heads\n",
    "        \n",
    "        self.W_q = tf.keras.layers.Dense(d_model) # Linear Layer\n",
    "        self.W_k = tf.keras.layers.Dense(d_model)\n",
    "        self.W_v = tf.keras.layers.Dense(d_model)\n",
    "        \n",
    "        self.linear = tf.keras.layers.Dense(d_model)\n",
    "\n",
    "    def scaled_dot_product_attention(self, Q, K, V, mask):\n",
    "        d_k = tf.cast(K.shape[-1], tf.float32)\n",
    "\n",
    "        QK = tf.matmul(Q,K, transpose_b = True)\n",
    "        \n",
    "        scaled_qk = QK / tf.math.sqrt(d_k)\n",
    "\n",
    "        if mask is not None: scaled_qk += (mask * -1e9) \n",
    "\n",
    "        attentions = tf.nn.softmax(scaled_qk, axis = -1)\n",
    "        out = tf.matmul(attentions, V)\n",
    "        \n",
    "        \n",
    "        return out, attentions\n",
    "        \n",
    "\n",
    "    def split_heads(self, x):\n",
    "\n",
    "        batch_size = x.shape[0]\n",
    "        split_x = tf.reshape(x, (batch_size, -1, self.num_heads, self.depth))\n",
    "        split_x = tf.transpose(split_x, perm=[0,2,1,3])\n",
    "        \n",
    "        \n",
    "        return split_x\n",
    "\n",
    "    def combine_heads(self, x):\n",
    "        \n",
    "        batch_size = x.shape[0]\n",
    "        combined_x = tf.transpose(x, perm=[0,2,1,3])\n",
    "        combined_x = tf.reshape(combined_x, (batch_size, -1, self.d_model))\n",
    "\n",
    "        return combined_x\n",
    "    \n",
    "\n",
    "    def call(self, Q, K, V, mask):\n",
    "      \n",
    "        WQ = self.W_q(Q)\n",
    "        WK = self.W_k(K)\n",
    "        WV = self.W_v(V)\n",
    "        \n",
    "        WQ_splits = self.split_heads(WQ)\n",
    "        WK_splits = self.split_heads(WK)\n",
    "        WV_splits = self.split_heads(WV)\n",
    "        \n",
    "        out, attention_weights = self.scaled_dot_product_attention(\n",
    "            WQ_splits, WK_splits, WV_splits, mask)\n",
    "        \n",
    "        out = self.combine_heads(out)\n",
    "        out = self.linear(out)\n",
    "\n",
    "        return out, attention_weights"
   ]
  },
  {
   "cell_type": "markdown",
   "id": "d4ac0bc2",
   "metadata": {},
   "source": [
    "## PoswiseFeedForwardNet"
   ]
  },
  {
   "cell_type": "code",
   "execution_count": 58,
   "id": "606645c1",
   "metadata": {},
   "outputs": [],
   "source": [
    "class PoswiseFeedForwardNet(tf.keras.layers.Layer):\n",
    "    def __init__(self, d_model, d_ff):\n",
    "        super(PoswiseFeedForwardNet, self).__init__()\n",
    "        self.w_1 = tf.keras.layers.Dense(d_ff, activation='relu')\n",
    "        self.w_2 = tf.keras.layers.Dense(d_model)\n",
    "\n",
    "    def call(self, x):\n",
    "        out = self.w_1(x)\n",
    "        out = self.w_2(out)\n",
    "            \n",
    "        return out"
   ]
  },
  {
   "cell_type": "markdown",
   "id": "cca72896",
   "metadata": {},
   "source": [
    "## Encoder & Decoder"
   ]
  },
  {
   "cell_type": "code",
   "execution_count": 59,
   "id": "bc0042cb",
   "metadata": {},
   "outputs": [],
   "source": [
    "class EncoderLayer(tf.keras.layers.Layer):\n",
    "    def __init__(self, d_model, n_heads, d_ff, dropout):\n",
    "        super(EncoderLayer, self).__init__()\n",
    "\n",
    "        self.enc_self_attn = MultiHeadAttention(d_model, n_heads)\n",
    "        self.ffn = PoswiseFeedForwardNet(d_model, d_ff)\n",
    "\n",
    "        self.norm_1 = tf.keras.layers.LayerNormalization(epsilon=1e-6)\n",
    "        self.norm_2 = tf.keras.layers.LayerNormalization(epsilon=1e-6)\n",
    "\n",
    "        self.dropout = tf.keras.layers.Dropout(dropout)\n",
    "        \n",
    "    def call(self, x, mask):\n",
    "\n",
    "        \"\"\"\n",
    "        Multi-Head Attention\n",
    "        \"\"\"\n",
    "        residual = x\n",
    "        out = self.norm_1(x)\n",
    "        out, enc_attn = self.enc_self_attn(out, out, out, mask)\n",
    "        out = self.dropout(out)\n",
    "        out += residual\n",
    "        \n",
    "        \"\"\"\n",
    "        Position-Wise Feed Forward Network\n",
    "        \"\"\"\n",
    "        residual = out\n",
    "        out = self.norm_2(out)\n",
    "        out = self.ffn(out)\n",
    "        out = self.dropout(out)\n",
    "        out += residual\n",
    "        \n",
    "        return out, enc_attn\n",
    "    \n",
    "class DecoderLayer(tf.keras.layers.Layer):\n",
    "    def __init__(self, d_model, num_heads, d_ff, dropout):\n",
    "        super(DecoderLayer, self).__init__()\n",
    "\n",
    "        self.dec_self_attn = MultiHeadAttention(d_model, num_heads)\n",
    "        self.enc_dec_attn = MultiHeadAttention(d_model, num_heads)\n",
    "\n",
    "        self.ffn = PoswiseFeedForwardNet(d_model, d_ff)\n",
    "\n",
    "        self.norm_1 = tf.keras.layers.LayerNormalization(epsilon=1e-6)\n",
    "        self.norm_2 = tf.keras.layers.LayerNormalization(epsilon=1e-6)\n",
    "        self.norm_3 = tf.keras.layers.LayerNormalization(epsilon=1e-6)\n",
    "\n",
    "        self.dropout = tf.keras.layers.Dropout(dropout)\n",
    "    \n",
    "    def call(self, x, enc_out, causality_mask, padding_mask):\n",
    "\n",
    "        \"\"\"\n",
    "        Masked Multi-Head Attention\n",
    "        \"\"\"\n",
    "        residual = x\n",
    "        out = self.norm_1(x)\n",
    "        out, dec_attn = self.dec_self_attn(out, out, out, padding_mask)\n",
    "        out = self.dropout(out)\n",
    "        out += residual\n",
    "\n",
    "        \"\"\"\n",
    "        Multi-Head Attention\n",
    "        \"\"\"\n",
    "        residual = out\n",
    "        out = self.norm_2(out)\n",
    "        out, dec_enc_attn = self.enc_dec_attn(out, enc_out, enc_out, causality_mask)\n",
    "        out = self.dropout(out)\n",
    "        out += residual\n",
    "        \n",
    "        \"\"\"\n",
    "        Position-Wise Feed Forward Network\n",
    "        \"\"\"\n",
    "        residual = out\n",
    "        out = self.norm_3(out)\n",
    "        out = self.ffn(out)\n",
    "        out = self.dropout(out)\n",
    "        out += residual\n",
    "\n",
    "        return out, dec_attn, dec_enc_attn"
   ]
  },
  {
   "cell_type": "code",
   "execution_count": 60,
   "id": "4d7d8bae",
   "metadata": {},
   "outputs": [],
   "source": [
    "class Encoder(tf.keras.Model):\n",
    "    def __init__(self,\n",
    "                 n_layers,\n",
    "                 d_model,\n",
    "                 n_heads,\n",
    "                 d_ff,\n",
    "                 dropout):\n",
    "        super(Encoder, self).__init__()\n",
    "        self.n_layers = n_layers\n",
    "        self.enc_layers = [EncoderLayer(d_model, n_heads, d_ff, dropout) \n",
    "                        for _ in range(n_layers)]\n",
    "        \n",
    "    def call(self, x, mask):\n",
    "        out = x\n",
    "    \n",
    "        enc_attns = list()\n",
    "        for i in range(self.n_layers):\n",
    "            out, enc_attn = self.enc_layers[i](out, mask)\n",
    "            enc_attns.append(enc_attn)\n",
    "        \n",
    "        return out, enc_attns"
   ]
  },
  {
   "cell_type": "code",
   "execution_count": 61,
   "id": "54d6bb15",
   "metadata": {},
   "outputs": [],
   "source": [
    "class Decoder(tf.keras.Model):\n",
    "    def __init__(self,\n",
    "                 n_layers,\n",
    "                 d_model,\n",
    "                 n_heads,\n",
    "                 d_ff,\n",
    "                 dropout):\n",
    "        super(Decoder, self).__init__()\n",
    "        self.n_layers = n_layers\n",
    "        self.dec_layers = [DecoderLayer(d_model, n_heads, d_ff, dropout) \n",
    "                            for _ in range(n_layers)]\n",
    "                            \n",
    "                            \n",
    "    def call(self, x, enc_out, causality_mask, padding_mask):\n",
    "        out = x\n",
    "    \n",
    "        dec_attns = list()\n",
    "        dec_enc_attns = list()\n",
    "        for i in range(self.n_layers):\n",
    "            out, dec_attn, dec_enc_attn = \\\n",
    "            self.dec_layers[i](out, enc_out, causality_mask, padding_mask)\n",
    "\n",
    "            dec_attns.append(dec_attn)\n",
    "            dec_enc_attns.append(dec_enc_attn)\n",
    "\n",
    "        return out, dec_attns, dec_enc_attns"
   ]
  },
  {
   "cell_type": "markdown",
   "id": "13d594ea",
   "metadata": {},
   "source": [
    "## Transformer"
   ]
  },
  {
   "cell_type": "code",
   "execution_count": 62,
   "id": "d53f3948",
   "metadata": {},
   "outputs": [],
   "source": [
    "class Transformer(tf.keras.Model):\n",
    "    def __init__(self,\n",
    "                    n_layers,\n",
    "                    d_model,\n",
    "                    n_heads,\n",
    "                    d_ff,\n",
    "                    src_vocab_size,\n",
    "                    tgt_vocab_size,\n",
    "                    pos_len,\n",
    "                    dropout=0.2,\n",
    "                    shared_fc=True,\n",
    "                    shared_emb=False):\n",
    "        super(Transformer, self).__init__()\n",
    "        \n",
    "        self.d_model = tf.cast(d_model, tf.float32)\n",
    "\n",
    "        if shared_emb:\n",
    "            self.enc_emb = self.dec_emb = \\\n",
    "            tf.keras.layers.Embedding(src_vocab_size, d_model)\n",
    "        else:\n",
    "            self.enc_emb = tf.keras.layers.Embedding(src_vocab_size, d_model)\n",
    "            self.dec_emb = tf.keras.layers.Embedding(tgt_vocab_size, d_model)\n",
    "\n",
    "        self.pos_encoding = positional_encoding(pos_len, d_model)\n",
    "        self.do = tf.keras.layers.Dropout(dropout)\n",
    "\n",
    "        self.encoder = Encoder(n_layers, d_model, n_heads, d_ff, dropout)\n",
    "        self.decoder = Decoder(n_layers, d_model, n_heads, d_ff, dropout)\n",
    "\n",
    "        self.fc = tf.keras.layers.Dense(tgt_vocab_size)\n",
    "\n",
    "        self.shared_fc = shared_fc\n",
    "\n",
    "        if shared_fc:\n",
    "            self.fc.set_weights(tf.transpose(self.dec_emb.weights))\n",
    "\n",
    "    def embedding(self, emb, x):\n",
    "        seq_len = x.shape[1]\n",
    "\n",
    "        out = emb(x)\n",
    "\n",
    "        if self.shared_fc: out *= tf.math.sqrt(self.d_model)\n",
    "\n",
    "        out += self.pos_encoding[np.newaxis, ...][:, :seq_len, :]\n",
    "        out = self.do(out)\n",
    "\n",
    "        return out\n",
    "\n",
    "        \n",
    "    def call(self, enc_in, dec_in, enc_mask, dec_enc_mask, dec_mask):\n",
    "        enc_in = self.embedding(self.enc_emb, enc_in)\n",
    "        dec_in = self.embedding(self.dec_emb, dec_in)\n",
    "\n",
    "        enc_out, enc_attns = self.encoder(enc_in, enc_mask)\n",
    "        \n",
    "        dec_out, dec_attns, dec_enc_attns = \\\n",
    "        self.decoder(dec_in, enc_out, dec_enc_mask, dec_mask)\n",
    "        \n",
    "        logits = self.fc(dec_out)\n",
    "        \n",
    "        return logits, enc_attns, dec_attns, dec_enc_attns"
   ]
  },
  {
   "cell_type": "code",
   "execution_count": 63,
   "id": "97a363e4",
   "metadata": {},
   "outputs": [],
   "source": [
    "def generate_padding_mask(seq):\n",
    "    seq = tf.cast(tf.math.equal(seq, 0), tf.float32)\n",
    "    return seq[:, tf.newaxis, tf.newaxis, :]\n",
    "\n",
    "def generate_lookahead_mask(size):\n",
    "    mask = 1 - tf.linalg.band_part(tf.ones((size, size)), -1, 0)\n",
    "    return mask\n",
    "\n",
    "def generate_masks(src, tgt):\n",
    "    enc_mask = generate_padding_mask(src)\n",
    "    dec_enc_mask = generate_padding_mask(src)\n",
    "\n",
    "    dec_lookahead_mask = generate_lookahead_mask(tgt.shape[1])\n",
    "    dec_tgt_padding_mask = generate_padding_mask(tgt)\n",
    "    dec_mask = tf.maximum(dec_tgt_padding_mask, dec_lookahead_mask)\n",
    "\n",
    "    return enc_mask, dec_enc_mask, dec_mask"
   ]
  },
  {
   "cell_type": "markdown",
   "id": "3d3342cc",
   "metadata": {},
   "source": [
    "## 학습 옵티마이저"
   ]
  },
  {
   "cell_type": "code",
   "execution_count": 64,
   "id": "cd976541",
   "metadata": {},
   "outputs": [],
   "source": [
    "transformer = Transformer(\n",
    "    n_layers=2,\n",
    "    d_model=128,\n",
    "    n_heads=8,\n",
    "    d_ff=256,\n",
    "    src_vocab_size=VOCAB_SIZE,\n",
    "    tgt_vocab_size=VOCAB_SIZE,\n",
    "    pos_len=42,\n",
    "    dropout=0.2,\n",
    "    shared_fc=True,\n",
    "    shared_emb=True)\n",
    "\n",
    "d_model = 128"
   ]
  },
  {
   "cell_type": "code",
   "execution_count": 65,
   "id": "35813720",
   "metadata": {},
   "outputs": [],
   "source": [
    "class LearningRateScheduler(tf.keras.optimizers.schedules.LearningRateSchedule):\n",
    "    def __init__(self, d_model, warmup_steps= 1500):\n",
    "        super(LearningRateScheduler, self).__init__()\n",
    "        self.d_model = d_model\n",
    "        self.warmup_steps = warmup_steps\n",
    "    \n",
    "    def __call__(self, step):\n",
    "        arg1 = step ** -0.5\n",
    "        arg2 = step * (self.warmup_steps ** -1.5)\n",
    "        \n",
    "        return (self.d_model ** -0.5) * tf.math.minimum(arg1, arg2)"
   ]
  },
  {
   "cell_type": "code",
   "execution_count": 66,
   "id": "2c54f1bc",
   "metadata": {},
   "outputs": [],
   "source": [
    "learning_rate = LearningRateScheduler(d_model)\n",
    "optimizer = tf.keras.optimizers.Adam(learning_rate,\n",
    "                                     beta_1=0.9,\n",
    "                                     beta_2=0.98, \n",
    "                                     epsilon=1e-9)"
   ]
  },
  {
   "cell_type": "code",
   "execution_count": 67,
   "id": "b95774bd",
   "metadata": {},
   "outputs": [],
   "source": [
    "loss_object = tf.keras.losses.SparseCategoricalCrossentropy(\n",
    "    from_logits=True, reduction='none')\n",
    "\n",
    "def loss_function(real, pred):\n",
    "    mask = tf.math.logical_not(tf.math.equal(real, 0))\n",
    "    loss_ = loss_object(real, pred)\n",
    "\n",
    "    # Masking 되지 않은 입력의 개수로 Scaling하는 과정\n",
    "    mask = tf.cast(mask, dtype=loss_.dtype)\n",
    "    loss_ *= mask\n",
    "\n",
    "    return tf.reduce_sum(loss_)/tf.reduce_sum(mask)"
   ]
  },
  {
   "cell_type": "markdown",
   "id": "f72b57d5",
   "metadata": {},
   "source": [
    "## 학습 함수"
   ]
  },
  {
   "cell_type": "code",
   "execution_count": 68,
   "id": "d4accb7a",
   "metadata": {},
   "outputs": [],
   "source": [
    "@tf.function()\n",
    "def train_step(src, tgt, model, optimizer):\n",
    "    tgt_in = tgt[:, :-1]  # Decoder의 input\n",
    "    gold = tgt[:, 1:]     # Decoder의 output과 비교하기 위해 right shift를 통해 생성한 최종 타겟\n",
    "\n",
    "    enc_mask, dec_enc_mask, dec_mask = generate_masks(src, tgt_in)\n",
    "\n",
    "    with tf.GradientTape() as tape:\n",
    "        predictions, enc_attns, dec_attns, dec_enc_attns = \\\n",
    "        model(src, tgt_in, enc_mask, dec_enc_mask, dec_mask)\n",
    "        loss = loss_function(gold, predictions)\n",
    "\n",
    "    gradients = tape.gradient(loss, model.trainable_variables)    \n",
    "    optimizer.apply_gradients(zip(gradients, model.trainable_variables))\n",
    "\n",
    "    return loss, enc_attns, dec_attns, dec_enc_attns"
   ]
  },
  {
   "cell_type": "code",
   "execution_count": 69,
   "id": "73759a8b",
   "metadata": {},
   "outputs": [
    {
     "data": {
      "application/vnd.jupyter.widget-view+json": {
       "model_id": "47260c078b5f4a1396abb0310403b669",
       "version_major": 2,
       "version_minor": 0
      },
      "text/plain": [
       "  0%|          | 0/547 [00:00<?, ?it/s]"
      ]
     },
     "metadata": {},
     "output_type": "display_data"
    },
    {
     "data": {
      "application/vnd.jupyter.widget-view+json": {
       "model_id": "bb4fa291898349c29f7c558165d45cee",
       "version_major": 2,
       "version_minor": 0
      },
      "text/plain": [
       "  0%|          | 0/547 [00:00<?, ?it/s]"
      ]
     },
     "metadata": {},
     "output_type": "display_data"
    },
    {
     "data": {
      "application/vnd.jupyter.widget-view+json": {
       "model_id": "7ed30cd790aa415cad65f303ed1b14ef",
       "version_major": 2,
       "version_minor": 0
      },
      "text/plain": [
       "  0%|          | 0/547 [00:00<?, ?it/s]"
      ]
     },
     "metadata": {},
     "output_type": "display_data"
    },
    {
     "data": {
      "application/vnd.jupyter.widget-view+json": {
       "model_id": "1af070b79c0b4728a17745d8b7c14888",
       "version_major": 2,
       "version_minor": 0
      },
      "text/plain": [
       "  0%|          | 0/547 [00:00<?, ?it/s]"
      ]
     },
     "metadata": {},
     "output_type": "display_data"
    },
    {
     "data": {
      "application/vnd.jupyter.widget-view+json": {
       "model_id": "de0f3a6660764f60ab39a3a780fca331",
       "version_major": 2,
       "version_minor": 0
      },
      "text/plain": [
       "  0%|          | 0/547 [00:00<?, ?it/s]"
      ]
     },
     "metadata": {},
     "output_type": "display_data"
    },
    {
     "data": {
      "application/vnd.jupyter.widget-view+json": {
       "model_id": "9adaed2c6de34c709facd68db538f9e3",
       "version_major": 2,
       "version_minor": 0
      },
      "text/plain": [
       "  0%|          | 0/547 [00:00<?, ?it/s]"
      ]
     },
     "metadata": {},
     "output_type": "display_data"
    },
    {
     "data": {
      "application/vnd.jupyter.widget-view+json": {
       "model_id": "a6c3d56d93ba4e8baf0dc41e5afb73bb",
       "version_major": 2,
       "version_minor": 0
      },
      "text/plain": [
       "  0%|          | 0/547 [00:00<?, ?it/s]"
      ]
     },
     "metadata": {},
     "output_type": "display_data"
    },
    {
     "data": {
      "application/vnd.jupyter.widget-view+json": {
       "model_id": "836268cb24c046ba8d9ef3496c340b94",
       "version_major": 2,
       "version_minor": 0
      },
      "text/plain": [
       "  0%|          | 0/547 [00:00<?, ?it/s]"
      ]
     },
     "metadata": {},
     "output_type": "display_data"
    },
    {
     "data": {
      "application/vnd.jupyter.widget-view+json": {
       "model_id": "6fc2d93f75414c038634b7b677f60478",
       "version_major": 2,
       "version_minor": 0
      },
      "text/plain": [
       "  0%|          | 0/547 [00:00<?, ?it/s]"
      ]
     },
     "metadata": {},
     "output_type": "display_data"
    },
    {
     "data": {
      "application/vnd.jupyter.widget-view+json": {
       "model_id": "ae37de88744a4d78afaa150cf5cd6a9f",
       "version_major": 2,
       "version_minor": 0
      },
      "text/plain": [
       "  0%|          | 0/547 [00:00<?, ?it/s]"
      ]
     },
     "metadata": {},
     "output_type": "display_data"
    }
   ],
   "source": [
    "BATCH_SIZE = 64\n",
    "EPOCHS = 10\n",
    "\n",
    "for epoch in range(EPOCHS):\n",
    "    total_loss = 0\n",
    "    \n",
    "    idx_list = list(range(0, questions_.shape[0], BATCH_SIZE))\n",
    "    random.shuffle(idx_list)\n",
    "    t = tqdm(idx_list)\n",
    "\n",
    "    for (batch, idx) in enumerate(t):\n",
    "        batch_loss, enc_attns, dec_attns, dec_enc_attns = \\\n",
    "                    train_step(questions_[idx:idx+BATCH_SIZE],\n",
    "                                answers_[idx:idx+BATCH_SIZE],\n",
    "                                transformer,\n",
    "                                optimizer)\n",
    "    \n",
    "#         if not np.isfinite(batch_loss):  # NaN 값인지 확인\n",
    "#             print(f\"NaN value in batch {batch} at index {idx}\")\n",
    "#             # 배치의 데이터 확인\n",
    "#             print(\"Questions batch:\", questions_[idx:idx+BATCH_SIZE])\n",
    "#             print(\"Answers batch:\", answers_[idx:idx+BATCH_SIZE])\n",
    "#             break\n",
    "        \n",
    "        total_loss += batch_loss\n",
    "        \n",
    "        t.set_description_str('Epoch %2d' % (epoch + 1))\n",
    "        t.set_postfix_str('Loss %.4f' % (total_loss / (batch + 1)))\n",
    "    \n",
    "#     if not np.isfinite(total_loss / (batch + 1)):\n",
    "#         break"
   ]
  },
  {
   "attachments": {
    "image.png": {
     "image/png": "[encoded data removed]"
    }
   },
   "cell_type": "markdown",
   "id": "ccfd1056",
   "metadata": {},
   "source": [
    "# 8. 성능 평가하기\n",
    "## 8-1. BLEU Score\n",
    "BLEU(Bilingual Evaluation Understudy)는 기계 번역 성능을 측정하기 위한 평가 지표 중 하나\n",
    "\n",
    "BLEU는 번역된 문장과 사람이 작성한 참조 번역문 사이의 유사성을 측정하여 번역 품질을 평가\n",
    "\n",
    "BLEU 점수는 0부터 1까지의 값으로 나타나며, 높을수록 번역 품질이 더 좋다고 판단\n",
    "\n",
    "![image.png](attachment:image.png)"
   ]
  },
  {
   "cell_type": "code",
   "execution_count": 70,
   "id": "9bbb8ac1",
   "metadata": {},
   "outputs": [],
   "source": [
    "def translate(sentence, model, src_tokenizer, tgt_tokenizer):\n",
    "    mecab = Mecab()\n",
    "    \n",
    "    sentence = mecab.morphs(sentence)\n",
    "    _input = src_tokenizer.texts_to_sequences([sentence])\n",
    "    \n",
    "    sos_idx = tgt_tokenizer.word_index['<start>']\n",
    "    eos_idx = tgt_tokenizer.word_index['<end>']\n",
    "    \n",
    "    padded_tokens = tf.keras.preprocessing.sequence.pad_sequences(_input,\n",
    "                                                           maxlen=MAX_LEN,\n",
    "                                                           padding='post')\n",
    "    ids = []\n",
    "    output = tf.expand_dims([sos_idx], 0)   \n",
    "    for i in range(MAX_LEN):\n",
    "        enc_padding_mask, combined_mask, dec_padding_mask = \\\n",
    "        generate_masks(padded_tokens, output)\n",
    "\n",
    "        predictions, _, _, _ = model(padded_tokens, \n",
    "                                      output,\n",
    "                                      enc_padding_mask,\n",
    "                                      combined_mask,\n",
    "                                      dec_padding_mask)\n",
    "\n",
    "        predicted_id = tf.argmax(tf.math.softmax(predictions, axis=-1)[0, -1]).numpy().item()\n",
    "\n",
    "        if eos_idx == predicted_id:\n",
    "            result = tgt_tokenizer.sequences_to_texts([ids])  \n",
    "            return result\n",
    "\n",
    "        ids.append(predicted_id)\n",
    "        output = tf.concat([output, tf.expand_dims([predicted_id], 0)], axis=-1)\n",
    "\n",
    "    result = tgt_tokenizer.sequences_to_texts([ids])  \n",
    "    return result"
   ]
  },
  {
   "cell_type": "code",
   "execution_count": 72,
   "id": "d8386e2e",
   "metadata": {},
   "outputs": [
    {
     "name": "stdout",
     "output_type": "stream",
     "text": [
      "질문:지루하다, 놀러가고 싶어.   -->   답변:['마음 이 에 따라 얼마 든지 바뀔 수 있 어요 .']\n",
      "질문:오늘 일찍 일어났더니 피곤하다.   -->   답변:['이제 좀 괜찮 아 졌 길 바랍니다 .']\n",
      "질문:간만에 여자친구랑 데이트 하기로 했어.   -->   답변:['도전 은 기분 전환 되 고 많 아요 .']\n",
      "질문:집에 있는다는 소리야.   -->   답변:['자주 내 집 에 요 .']\n"
     ]
    }
   ],
   "source": [
    "examples = ['지루하다, 놀러가고 싶어.',\n",
    "'오늘 일찍 일어났더니 피곤하다.',\n",
    "'간만에 여자친구랑 데이트 하기로 했어.',\n",
    "'집에 있는다는 소리야.']\n",
    "\n",
    "for sentence in examples:\n",
    "    prediction_answers = translate(sentence, transformer, tokenizer, tokenizer)\n",
    "    print('질문:{}   -->   답변:{}'.format(sentence, prediction_answers))"
   ]
  },
  {
   "cell_type": "markdown",
   "id": "c1fa41d1",
   "metadata": {},
   "source": [
    "썩 좋은 답변은 생성해내지 못하는 것으로 생각됩니다."
   ]
  },
  {
   "cell_type": "code",
   "execution_count": 73,
   "id": "e59efc8f",
   "metadata": {},
   "outputs": [
    {
     "data": {
      "text/plain": [
       "['잊 을 수 있 었 을 거 예요 .']"
      ]
     },
     "execution_count": 73,
     "metadata": {},
     "output_type": "execute_result"
    }
   ],
   "source": [
    "translate('힘든 과제였어.', transformer, tokenizer, tokenizer)"
   ]
  },
  {
   "cell_type": "code",
   "execution_count": 75,
   "id": "7fadda19",
   "metadata": {},
   "outputs": [
    {
     "data": {
      "text/plain": [
       "['지금 보다 더 잘 살 거 예요 .']"
      ]
     },
     "execution_count": 75,
     "metadata": {},
     "output_type": "execute_result"
    }
   ],
   "source": [
    "translate('성공하고 싶어.', transformer, tokenizer, tokenizer)"
   ]
  },
  {
   "cell_type": "markdown",
   "id": "f5af63ac",
   "metadata": {},
   "source": [
    "테스트를 해보니, 질문과 관련된 답변은 만들어내는 것으로 생각됩니다."
   ]
  },
  {
   "cell_type": "code",
   "execution_count": 76,
   "id": "742b173d",
   "metadata": {},
   "outputs": [],
   "source": [
    "def restore_sentence(tokens):\n",
    "    sentence = \" \".join(tokens)\n",
    "    return sentence"
   ]
  },
  {
   "cell_type": "code",
   "execution_count": 77,
   "id": "e5a8e80f",
   "metadata": {},
   "outputs": [],
   "source": [
    "def eval_bleu_single(model, src_sentence, tgt_sentence, src_tokenizer, tgt_tokenizer, verbose=True):\n",
    "\n",
    "    reference = restore_sentence(tgt_sentence)\n",
    "    candidate = translate(restore_sentence(src_sentence), model, src_tokenizer, tgt_tokenizer)\n",
    "    candidate = \" \".join(candidate)\n",
    "    \n",
    "    score = sentence_bleu([reference], candidate,\n",
    "                          smoothing_function=SmoothingFunction().method1)\n",
    "\n",
    "    if verbose:\n",
    "        print(\"Source Sentence: \", restore_sentence(src_sentence))\n",
    "        print(\"Model Prediction: \", candidate)\n",
    "        print(\"Real: \", reference)\n",
    "        print(\"Score: %lf\\n\" % score)\n",
    "        \n",
    "    return score"
   ]
  },
  {
   "cell_type": "code",
   "execution_count": 78,
   "id": "9aaa4521",
   "metadata": {},
   "outputs": [
    {
     "name": "stdout",
     "output_type": "stream",
     "text": [
      "Source Sentence:  오늘 도 짝사랑 하 는 여자 땜 에 술 마시 는 중 .\n",
      "Model Prediction:  짝사랑 의 늪 에서 벗어나 세요 .\n",
      "Real:  술 한잔 으로 잊혀질 수 있 다면 얼마나 좋 을까요 .\n",
      "Score: 0.041139\n",
      "\n"
     ]
    },
    {
     "data": {
      "text/plain": [
       "0.04113945566994292"
      ]
     },
     "execution_count": 78,
     "metadata": {},
     "output_type": "execute_result"
    }
   ],
   "source": [
    "test_idx = 7\n",
    "\n",
    "eval_bleu_single(transformer, \n",
    "                 test_que_corpus[test_idx], \n",
    "                 test_ans_corpus[test_idx], \n",
    "                 tokenizer, \n",
    "                 tokenizer)"
   ]
  },
  {
   "cell_type": "code",
   "execution_count": 79,
   "id": "4750de48",
   "metadata": {},
   "outputs": [],
   "source": [
    "def eval_bleu(model, src_sentences, tgt_sentence, src_tokenizer, tgt_tokenizer, verbose=True):\n",
    "    total_score = 0.0\n",
    "    sample_size = len(src_sentences)\n",
    "    \n",
    "    for idx in tqdm(range(sample_size)):\n",
    "        score = eval_bleu_single(model, src_sentences[idx], tgt_sentence[idx], src_tokenizer, tgt_tokenizer, verbose)\n",
    "        if not score: continue\n",
    "        \n",
    "        total_score += score\n",
    "    \n",
    "    print(\"Num of Sample:\", sample_size)\n",
    "    print(\"Total Score:\", total_score / sample_size)"
   ]
  },
  {
   "cell_type": "code",
   "execution_count": 80,
   "id": "d5f27430",
   "metadata": {},
   "outputs": [
    {
     "data": {
      "application/vnd.jupyter.widget-view+json": {
       "model_id": "bb8189d8ae14464688beeb211ee6fc6d",
       "version_major": 2,
       "version_minor": 0
      },
      "text/plain": [
       "  0%|          | 0/100 [00:00<?, ?it/s]"
      ]
     },
     "metadata": {},
     "output_type": "display_data"
    },
    {
     "name": "stdout",
     "output_type": "stream",
     "text": [
      "Num of Sample: 100\n",
      "Total Score: 0.1828275210876303\n"
     ]
    }
   ],
   "source": [
    "eval_bleu(transformer, test_que_corpus, test_ans_corpus, tokenizer, tokenizer, verbose=False)"
   ]
  },
  {
   "cell_type": "markdown",
   "id": "7ee1e7d9",
   "metadata": {},
   "source": [
    "테스트 데이터의 BLEU Score의 평균 점수는 약 18점입니다."
   ]
  },
  {
   "cell_type": "markdown",
   "id": "430bde6b",
   "metadata": {},
   "source": [
    "## 8-2. Beam Search Decoder를 통하여 답변 만들기"
   ]
  },
  {
   "cell_type": "code",
   "execution_count": 81,
   "id": "46b09f2f",
   "metadata": {},
   "outputs": [],
   "source": [
    "def calc_prob(src_ids, tgt_ids, model):\n",
    "    enc_padding_mask, combined_mask, dec_padding_mask = \\\n",
    "    generate_masks(src_ids, tgt_ids)\n",
    "\n",
    "    predictions, enc_attns, dec_attns, dec_enc_attns =\\\n",
    "    model(src_ids, \n",
    "            tgt_ids,\n",
    "            enc_padding_mask,\n",
    "            combined_mask,\n",
    "            dec_padding_mask)\n",
    "    \n",
    "    return tf.math.softmax(predictions, axis=-1)"
   ]
  },
  {
   "cell_type": "code",
   "execution_count": 82,
   "id": "44982554",
   "metadata": {},
   "outputs": [],
   "source": [
    "def beam_search_decoder(sentence, \n",
    "                        src_len,\n",
    "                        tgt_len,\n",
    "                        model,\n",
    "                        src_tokenizer,\n",
    "                        tgt_tokenizer,\n",
    "                        beam_size):\n",
    "    sentence = restore_sentence(sentence)\n",
    "    \n",
    "    tokens = src_tokenizer.texts_to_sequences(sentence)\n",
    "    \n",
    "    src_in = tf.keras.preprocessing.sequence.pad_sequences(tokens,\n",
    "                                                            maxlen=src_len,\n",
    "                                                            padding='post')\n",
    "    \n",
    "    sos_idx = tgt_tokenizer.word_index['<start>']\n",
    "    eos_idx = tgt_tokenizer.word_index['<end>']\n",
    "\n",
    "    pred_cache = np.zeros((beam_size * beam_size, tgt_len), dtype=np.int64)\n",
    "    pred_tmp = np.zeros((beam_size, tgt_len), dtype=np.int64)\n",
    "\n",
    "    eos_flag = np.zeros((beam_size, ), dtype=np.int64)\n",
    "    scores = np.ones((beam_size, ))\n",
    "\n",
    "    pred_tmp[:, 0] = sos_idx\n",
    "\n",
    "    dec_in = tf.expand_dims(pred_tmp[0, :1], 0)\n",
    "    prob = calc_prob(src_in, dec_in, model)[0, -1].numpy()\n",
    "\n",
    "    for seq_pos in range(1, tgt_len):\n",
    "        score_cache = np.ones((beam_size * beam_size, ))\n",
    "\n",
    "        # init\n",
    "        for branch_idx in range(beam_size):\n",
    "            cache_pos = branch_idx*beam_size\n",
    "\n",
    "            score_cache[cache_pos:cache_pos+beam_size] = scores[branch_idx]\n",
    "            pred_cache[cache_pos:cache_pos+beam_size, :seq_pos] = \\\n",
    "            pred_tmp[branch_idx, :seq_pos]\n",
    "\n",
    "        for branch_idx in range(beam_size):\n",
    "            cache_pos = branch_idx*beam_size\n",
    "\n",
    "            if seq_pos != 1:   # 모든 Branch를 로 시작하는 경우를 방지\n",
    "                dec_in = pred_cache[branch_idx, :seq_pos]\n",
    "                dec_in = tf.expand_dims(dec_in, 0)\n",
    "\n",
    "                prob = calc_prob(src_in, dec_in, model)[0, -1].numpy()\n",
    "\n",
    "            for beam_idx in range(beam_size):\n",
    "                max_idx = np.argmax(prob)\n",
    "\n",
    "                score_cache[cache_pos+beam_idx] *= prob[max_idx]\n",
    "                pred_cache[cache_pos+beam_idx, seq_pos] = max_idx\n",
    "\n",
    "                prob[max_idx] = -1\n",
    "\n",
    "        for beam_idx in range(beam_size):\n",
    "            if eos_flag[beam_idx] == -1: continue\n",
    "\n",
    "            max_idx = np.argmax(score_cache)\n",
    "            prediction = pred_cache[max_idx, :seq_pos+1]\n",
    "\n",
    "            pred_tmp[beam_idx, :seq_pos+1] = prediction\n",
    "            scores[beam_idx] = score_cache[max_idx]\n",
    "            score_cache[max_idx] = -1\n",
    "\n",
    "            if prediction[-1] == eos_idx:\n",
    "                eos_flag[beam_idx] = -1\n",
    "\n",
    "    pred = []\n",
    "    for long_pred in pred_tmp:\n",
    "        zero_idx = long_pred.tolist().index(eos_idx)\n",
    "        short_pred = long_pred[:zero_idx+1]\n",
    "        pred.append(short_pred)\n",
    "    return pred"
   ]
  },
  {
   "cell_type": "code",
   "execution_count": 83,
   "id": "b3ee94bc",
   "metadata": {},
   "outputs": [],
   "source": [
    "def calculate_bleu(reference, candidate, weights=[0.25, 0.25, 0.25, 0.25]):\n",
    "    \n",
    "    reference = restore_sentence(reference)\n",
    "    candidate = \" \".join(candidate)\n",
    "    \n",
    "    return sentence_bleu([reference],\n",
    "                            candidate,\n",
    "                            weights=weights,\n",
    "                            smoothing_function=SmoothingFunction().method1)"
   ]
  },
  {
   "cell_type": "code",
   "execution_count": 84,
   "id": "3826ed27",
   "metadata": {},
   "outputs": [],
   "source": [
    "def beam_bleu(reference, ids, tokenizer):\n",
    "    reference = restore_sentence(reference)\n",
    "\n",
    "    total_score = 0.0\n",
    "    \n",
    "    print('질문:', restore_sentence(test_que_corpus[test_idx]))\n",
    "    print('\\n')\n",
    "    for _id in ids:\n",
    "        candidate = tokenizer.sequences_to_texts([_id.tolist()])\n",
    "        score = calculate_bleu(reference, candidate)\n",
    "\n",
    "        print(\"Reference:\", reference)\n",
    "        print(\"Candidate:\", candidate)\n",
    "        print(\"BLEU:\", calculate_bleu(reference, candidate))\n",
    "\n",
    "        total_score += score\n",
    "        \n",
    "    return total_score / len(ids)"
   ]
  },
  {
   "cell_type": "code",
   "execution_count": 97,
   "id": "b1b3f2ff",
   "metadata": {},
   "outputs": [
    {
     "name": "stdout",
     "output_type": "stream",
     "text": [
      "질문: 내 가 썸 깼 는데 다시 연락 하 고 싶 어 .\n",
      "\n",
      "\n",
      "Reference: 감정 에 확신 이 있 다면 연락 해 보 세요 .\n",
      "Candidate: ['<start> 괜한 기대 세요 . <end>']\n",
      "BLEU: 0.01011174839966176\n",
      "Reference: 감정 에 확신 이 있 다면 연락 해 보 세요 .\n",
      "Candidate: ['<start> 너무 기대 세요 . <end>']\n",
      "BLEU: 0.01011174839966176\n",
      "Reference: 감정 에 확신 이 있 다면 연락 해 보 세요 .\n",
      "Candidate: ['<start> 괜한 기대 는 . <end>']\n",
      "BLEU: 0.006823096835908585\n",
      "Reference: 감정 에 확신 이 있 다면 연락 해 보 세요 .\n",
      "Candidate: ['<start> 너무 기대 는 . <end>']\n",
      "BLEU: 0.006823096835908585\n",
      "Reference: 감정 에 확신 이 있 다면 연락 해 보 세요 .\n",
      "Candidate: ['<start> 바라 기대 세요 . <end>']\n",
      "BLEU: 0.01011174839966176\n",
      "\n",
      "\n",
      "0.008796287774160489\n"
     ]
    }
   ],
   "source": [
    "test_idx = 33\n",
    "ids = \\\n",
    "beam_search_decoder(test_que_corpus[test_idx],\n",
    "                    MAX_LEN,\n",
    "                    MAX_LEN,\n",
    "                    transformer,\n",
    "                    tokenizer,\n",
    "                    tokenizer,\n",
    "                    beam_size=5)\n",
    "\n",
    "bleu = beam_bleu(test_ans_corpus[test_idx], ids, tokenizer)\n",
    "print('\\n')\n",
    "print(bleu)"
   ]
  },
  {
   "cell_type": "markdown",
   "id": "1f504c32",
   "metadata": {},
   "source": [
    "# 9. 결과\n",
    "\n",
    "|하이퍼파라미터| value|\n",
    "|--------|----------|\n",
    "|n_layers|2|\n",
    "|d_model|128|\n",
    "|n_heads|8|\n",
    "|d_ff|256|\n",
    "|vocab_size|9291|\n",
    "|pos_len|42|\n",
    "|dropout|0.2|\n",
    "|BATCH_SIZE|64|\n",
    "|EPOCHS|10|\n",
    "\n",
    "\n",
    "|  No  | 질문 | 답변 |생성된 답변|\n",
    "|------|------|------|------|\n",
    "|1|지루하다, 놀러가고 싶어.|잠깐 쉬 어도 돼요 .|'마음 이 에 따라 얼마 든지 바뀔 수 있 어요 .'|\n",
    "|2|오늘 일찍 일어났더니 피곤하다.|맛난 거 드세요 .|__이제 좀 괜찮 아 졌 길 바랍니다 .__|\n",
    "|3|간만에 여자친구랑 데이트 하기로 했어. |떨리 겠 죠 .|도전 은 기분 전환 되 고 많 아요 .|\n",
    "|4|집에 있는다는 소리야.|좋 아 하 면 그럴 수 있 어요 .|자주 내 집 에 요 .|\n",
    "|5|힘든 과제였어|-|잊 을 수 있 었 을 거 예요 .|\n",
    "|6|성공하고 싶어.|-|__지금 보다 더 잘 살 거 예요 .__|\n",
    "|7|오늘 도 짝사랑 하 는 여자 땜 에 술 마시 는 중 .|술 한잔 으로 잊혀질 수 있 다면 얼마나 좋 을까요 .|__짝사랑 의 늪 에서 벗어나 세요 .__|\n",
    "|8|내 가 썸 깼 는데 다시 연락 하 고 싶 어 .|감정 에 확신 이 있 다면 연락 해 보 세요 .|__괜한 기대 세요 .__|\n",
    "\n",
    "\n",
    "챗봇은 질문이 들어왔을때, 질문에 관련된 답변을 잘해내는 것이 중요합니다. 생성된 답변을 보면 생각보다 질문에 관련된 답변을 잘 만들어낸것을 확인할 수 있습니다."
   ]
  },
  {
   "attachments": {
    "image-2.png": {
     "image/png": "[encoded data removed]"
    },
    "image.png": {
     "image/png": "[encoded data removed]"
    }
   },
   "cell_type": "markdown",
   "id": "54013af7",
   "metadata": {},
   "source": [
    "# 전체 회고\n",
    "\n",
    "- 전체적으로 쉬우면서도 어려웠던 과제였던것 같습니다.\n",
    "- 위의 표를 보면 질문에 관련된 답변을 잘 생성해낸 것을 확인할 수 있습니다.\n",
    "- BLEU Score를 통하여 성능평가를 해보았지만 점수가 낮은 것을 확인할 수 있습니다. 하지만 챗봇의 경우는 BLEU Score로 평가하는것이 의미가 없다고 생각됩니다. 챗봇에는 답변이란것이 정해져있는것이 아니고 질문과 얼마나 관련된 대답을 할 수 있냐가 중요하기 때문입니다.\n",
    "\n",
    "- 이번과제에서는 증강을 통하여 데이터를 늘려주었는데, 역시 증강의 품질을 좋지 못했다고 생각이 됩니다.\n",
    "- 증강은 품질이 좋았다면, 생성해낸 답변의 퀄리티도 올릴 수 있을거라 생각합니다.\n",
    "\n",
    "- 또한 이번 과제는 훈련시 loss값이 nan이 되는 trouble이 발생하였습니다.\n",
    "\n",
    "\n",
    "- ![image.png](attachment:image.png)\n",
    "\n",
    "\n",
    "- 해당 trouble이 발생하는 이유는 크게 6가지로 확인할 수 있습니다.\n",
    "    1. input data에 nan이 존재\n",
    "    2. 데이터 타입 문제\n",
    "    3. learningrate가 너무 높은 문제\n",
    "    4. optimizer 문제\n",
    "    5. 특성 스케일 방법 문제\n",
    "    6. 데이터와 outsize가 불일치\n",
    "    \n",
    "- 1~6번까지 하나씩 확인해봤지만, 해결하지 못했었습니다. 하지만 vocab_size + 1을 통하여 문제를 해결하였습니다.\n",
    "- 이는 패딩(padding) 토큰에 관련된 문제라고 생각됩니다.\n",
    "- 일반적으로 데이터를 전처리할 때, 입력 시퀀스와 출력 시퀀스의 길이를 일정하게 맞추기 위해 패딩 토큰을 사용합니다. 패딩 토큰은 단어가 아니기 때문에 별도의 토큰 인덱스를 할당하는데, 이 인덱스가 일반적인 단어의 범위와 중복될 가능성이 있습니다.\n",
    "- 패딩 토큰을 위한 별도의 토큰 인덱스를 추가 할당한 것으로 해당 문제를 해결할 수 있었습니다.\n",
    "\n",
    "\n",
    "- ![image-2.png](attachment:image-2.png)\n",
    "\n",
    "\n",
    "- 아래의 코드는 훈련 loss nan 발생시 확인할 수 있는 코드를 정리해두었습니다.\n",
    "\n",
    "- 기존의 계획은 한국어 Word2Vec모델과 Korea wordnet의 증강 결과를 비교하면서 진행해보고자 하였는데, 이슈 발생으로 시간을 너무 허비해서 그러지 못했습니다.\n",
    "- 추후에 한국어 Word2Vec모델과 Korea wordnet의 증강 결과를 비교하고자 합니다."
   ]
  },
  {
   "cell_type": "markdown",
   "id": "77ed7eaf",
   "metadata": {},
   "source": [
    "# 참고 자료\n",
    "- 이전 노드\n",
    "- https://bigdaheta.tistory.com/68\n",
    "- https://velog.io/@seolini43/%ED%8C%8C%EC%9D%B4%EC%8D%ACTransformer%EB%A1%9C-%EC%98%A4%ED%94%BC%EC%8A%A4-%EC%B1%97%EB%B4%87-%EB%A7%8C%EB%93%A4%EA%B8%B0-%EC%BD%94%EB%93%9C"
   ]
  },
  {
   "cell_type": "markdown",
   "id": "338bed27",
   "metadata": {},
   "source": [
    "#### 훈련 loss nan 발생시 확인할 수 있는 코드"
   ]
  },
  {
   "cell_type": "code",
   "execution_count": null,
   "id": "51155777",
   "metadata": {},
   "outputs": [],
   "source": [
    "batch_idx = 544\n",
    "data_idx = 34816\n",
    "\n",
    "questions_batch = questions_[batch_idx * BATCH_SIZE: (batch_idx + 1) * BATCH_SIZE]\n",
    "answers_batch = answers_[batch_idx * BATCH_SIZE: (batch_idx + 1) * BATCH_SIZE]\n",
    "\n",
    "question_data = questions_batch[data_idx % BATCH_SIZE]\n",
    "answer_data = answers_batch[data_idx % BATCH_SIZE]\n",
    "\n",
    "print(\"Question:\", question_data)\n",
    "print(\"Answer:\", answer_data)"
   ]
  },
  {
   "cell_type": "code",
   "execution_count": null,
   "id": "8e1bcaa9",
   "metadata": {},
   "outputs": [],
   "source": [
    "def decode_tokens(token_ids, tokenizer):\n",
    "    # 토큰 ID를 텍스트로 변환\n",
    "    tokens = tokenizer.sequences_to_texts(token_ids)\n",
    "    \n",
    "    # 특수 토큰 및 패딩 제거\n",
    "    tokens = [token for token in tokens if token != '[PAD]']\n",
    "    \n",
    "    # 텍스트로 변환\n",
    "    text = tokenizer.sequences_to_texts(tokens)\n",
    "    \n",
    "    return text\n",
    "\n",
    "# 디코딩된 토큰을 원래의 텍스트로 변환\n",
    "decoded_question = decode_tokens(questions_[0], tokenizer)\n",
    "decoded_answer = decode_tokens(answers_[0], tokenizer)\n",
    "\n",
    "# 결과 출력\n",
    "print(\"Decoded Question:\", decoded_question)\n",
    "print(\"Decoded Answer:\", decoded_answer)"
   ]
  },
  {
   "cell_type": "code",
   "execution_count": null,
   "id": "51fde25c",
   "metadata": {},
   "outputs": [],
   "source": [
    "# 데이터 확인을 위한 코드\n",
    "def check_data(questions_batch, answers_batch):\n",
    "    # NumPy 배열을 Pandas DataFrame으로 변환\n",
    "    questions_df = pd.DataFrame(questions_batch)\n",
    "    answers_df = pd.DataFrame(answers_batch)\n",
    "\n",
    "    # 데이터 형태 확인\n",
    "    print(\"Questions shape:\", questions_df.shape)\n",
    "    print(\"Answers shape:\", answers_df.shape)\n",
    "\n",
    "    # NaN 값 확인\n",
    "    print(\"NaN values in Questions:\", questions_df.isnull().sum().sum())\n",
    "    print(\"NaN values in Answers:\", answers_df.isnull().sum().sum())\n",
    "\n",
    "    # NaN 값을 포함한 행 출력\n",
    "    nan_rows_questions = questions_df[questions_df.isnull().any(axis=1)]\n",
    "    nan_rows_answers = answers_df[answers_df.isnull().any(axis=1)]\n",
    "\n",
    "    print(\"\\nQuestions with NaN values:\")\n",
    "    print(nan_rows_questions)\n",
    "    print(\"\\nAnswers with NaN values:\")\n",
    "    print(nan_rows_answers)\n",
    "\n",
    "# 데이터 확인\n",
    "check_data(questions_, answers_)"
   ]
  },
  {
   "cell_type": "markdown",
   "id": "84911997",
   "metadata": {},
   "source": [
    "### wordnet 불러오는 방법"
   ]
  },
  {
   "cell_type": "code",
   "execution_count": null,
   "id": "4a3e2ccd",
   "metadata": {},
   "outputs": [],
   "source": [
    "wordnet_path=os.getenv('HOME') + '/aiffel/going_deeper/data/wordnet.pickle'\n",
    "with open(wordnet_path, \"rb\") as f:\n",
    "    wordnet = pickle.load(f)"
   ]
  }
 ],
 "metadata": {
  "kernelspec": {
   "display_name": "Python 3 (ipykernel)",
   "language": "python",
   "name": "python3"
  },
  "language_info": {
   "codemirror_mode": {
    "name": "ipython",
    "version": 3
   },
   "file_extension": ".py",
   "mimetype": "text/x-python",
   "name": "python",
   "nbconvert_exporter": "python",
   "pygments_lexer": "ipython3",
   "version": "3.9.7"
  }
 },
 "nbformat": 4,
 "nbformat_minor": 5
}
